{
 "cells": [
  {
   "cell_type": "markdown",
   "metadata": {},
   "source": [
    "# フロー\n",
    "1. 変数の定義\n",
    "1. 過去のCSVファイルからデータをロードする\n",
    "1. 前処理モジュールの定義（当日の上昇率、過去からの上昇率、下降率）\n",
    "1. CSVロードして、並び替え、必要な日付からにする\n",
    "1. 前処理部分(現在の値と、過去のからの上昇率、下降率を記したDFを作成)\n",
    "1. 前処理データの保存"
   ]
  },
  {
   "cell_type": "code",
   "execution_count": 20,
   "metadata": {},
   "outputs": [],
   "source": [
    "import pandas as pd\n",
    "import datetime\n",
    "import pickle\n",
    "\n",
    "class Make_data():\n",
    "    \n",
    "    pram_predict_day = 3  # 1日後の予測をする\n",
    "    pd.set_option('display.max_columns', 100)\n",
    "    \n",
    "    def load(self):\n",
    "        df = pd.read_pickle('data/stock.pkl')\n",
    "        \n",
    "        # MultiIndex であればフラット化\n",
    "        if isinstance(df.columns, pd.MultiIndex):\n",
    "            df.columns = df.columns.get_level_values(0)\n",
    "        # 列がタプルで構成されている場合、その最初の要素を採用してフラット化\n",
    "        elif all(isinstance(col, tuple) for col in df.columns):\n",
    "            df.columns = [col[0] for col in df.columns]\n",
    "        \n",
    "        # 重複列を削除\n",
    "        df = df.loc[:, ~df.columns.duplicated()]\n",
    "        \n",
    "        # 列名を出力して確認\n",
    "        print(\"Columns after load:\", df.columns.tolist())\n",
    "        \n",
    "        return df\n",
    "    \n",
    "    def Deviation_value(self, df_tmp, x):\n",
    "        std = df_tmp.std()['Open']\n",
    "        mean = df_tmp.mean()['Open']\n",
    "        deviation = (mean - x) * 10 / std + 50\n",
    "        return deviation\n",
    "\n",
    "    def main(self, start_date):\n",
    "        if start_date == \"\":\n",
    "            start_date = '2000-01-01'\n",
    "        else:\n",
    "            self.start_date = start_date\n",
    "\n",
    "        df = self.load()\n",
    "\n",
    "        # 再度重複列を削除（念のため）\n",
    "        df = df.loc[:, ~df.columns.duplicated()]\n",
    "\n",
    "        # 必要な列が存在するか確認\n",
    "        required_columns = ['Date', 'Close', 'Open', 'dow_compare']\n",
    "        for col in required_columns:\n",
    "            if col not in df.columns:\n",
    "                raise KeyError(f\"必要な列 '{col}' がデータに存在しません。列名を確認してください。\")\n",
    "\n",
    "        df = df[df['Date'] >= start_date]\n",
    "        df = df.reset_index(drop=True)\n",
    "        df_len = len(df)\n",
    "\n",
    "        index_date  = df.columns.get_loc('Date')\n",
    "        index_close = df.columns.get_loc('Close')\n",
    "        index_open  = df.columns.get_loc('Open')\n",
    "        index_dow   = df.columns.get_loc('dow_compare')\n",
    "\n",
    "        # 日毎の90日前からの下落率を90日間計算\n",
    "        columns = [\"day+\" + str(x+1) for x in range(90)]\n",
    "        for i, col_name in enumerate(columns):\n",
    "            df[col_name] = df['Open'].pct_change(periods=(i+1)) * 100\n",
    "\n",
    "        # 偏差値の計算\n",
    "        for i in range(df_len):\n",
    "            day0_open = df.iloc[i, index_open]\n",
    "            if i > 90:\n",
    "                df_tail = df.iloc[i-90:i, :]\n",
    "                Deviation30 = self.Deviation_value(df_tail.tail(30), day0_open)\n",
    "                Deviation60 = self.Deviation_value(df_tail.tail(60), day0_open)\n",
    "                Deviation90 = self.Deviation_value(df_tail.tail(90), day0_open)\n",
    "            if i % 100 == 0:\n",
    "                print(\"進捗: {:.1%}\".format(i/df_len), end=\" \")\n",
    "\n",
    "        # 結果の計算\n",
    "        df['result_1day'] = df['Close'].pct_change(periods=-1*self.pram_predict_day) * 100 * (-1)\n",
    "        df['result_1day'] = df['result_1day'].apply(lambda x: 1 if x < 0 else 0)\n",
    "\n",
    "        df['result_3day'] = df['Close'].pct_change(periods=-3*self.pram_predict_day) * 100 * (-1)\n",
    "        df['result_3day'] = df['result_3day'].apply(lambda x: 1 if x < 0 else 0)\n",
    "\n",
    "        df['result_5day'] = df['Close'].pct_change(periods=-5*self.pram_predict_day) * 100 * (-1)\n",
    "        df['result_5day'] = df['result_5day'].apply(lambda x: 1 if x < 0 else 0)\n",
    "\n",
    "        df['result_10day'] = df['Close'].pct_change(periods=-10*self.pram_predict_day) * 100 * (-1)\n",
    "        df['result_10day'] = df['result_10day'].apply(lambda x: 1 if x < 0 else 0)\n",
    "\n",
    "        df['result_20day'] = df['Close'].pct_change(periods=-20*self.pram_predict_day) * 100 * (-1)\n",
    "        df['result_20day'] = df['result_20day'].apply(lambda x: 1 if x < 0 else 0)\n",
    "\n",
    "        df['result_30day'] = df['Close'].pct_change(periods=-30*self.pram_predict_day) * 100 * (-1)\n",
    "        df['result_30day'] = df['result_30day'].apply(lambda x: 1 if x < 0 else 0)\n",
    "\n",
    "        df['result_1day_open'] = df['Open'].pct_change(periods=-1*self.pram_predict_day) * 100 * (-1)\n",
    "        df['result_1day_open'] = df['result_1day_open'].apply(lambda x: 1 if x < 0 else 0)\n",
    "\n",
    "        df['result_3day_open'] = df['Open'].pct_change(periods=-3*self.pram_predict_day) * 100 * (-1)\n",
    "        df['result_3day_open'] = df['result_3day_open'].apply(lambda x: 1 if x < 0 else 0)\n",
    "\n",
    "        df['result_5day_open'] = df['Open'].pct_change(periods=-5*self.pram_predict_day) * 100 * (-1)\n",
    "        df['result_5day_open'] = df['result_5day_open'].apply(lambda x: 1 if x < 0 else 0)\n",
    "\n",
    "        df['result_10day_open'] = df['Open'].pct_change(periods=-10*self.pram_predict_day) * 100 * (-1)\n",
    "        df['result_10day_open'] = df['result_10day_open'].apply(lambda x: 1 if x < 0 else 0)\n",
    "\n",
    "        df['result_20day_open'] = df['Open'].pct_change(periods=-20*self.pram_predict_day) * 100 * (-1)\n",
    "        df['result_20day_open'] = df['result_20day_open'].apply(lambda x: 1 if x < 0 else 0)\n",
    "\n",
    "        df['result_30day_open'] = df['Open'].pct_change(periods=-30*self.pram_predict_day) * 100 * (-1)\n",
    "        df['result_30day_open'] = df['result_30day_open'].apply(lambda x: 1 if x < 0 else 0)\n",
    "\n",
    "        df = df.dropna()\n",
    "\n",
    "        if start_date <= '2000-01-01': \n",
    "            df.to_pickle('data/stock_preprocessing_20201017.pkl')\n",
    "            print(\"【完了】データ保存\")\n"
   ]
  },
  {
   "cell_type": "code",
   "execution_count": 21,
   "metadata": {},
   "outputs": [
    {
     "data": {
      "text/html": [
       "<div>\n",
       "<style scoped>\n",
       "    .dataframe tbody tr th:only-of-type {\n",
       "        vertical-align: middle;\n",
       "    }\n",
       "\n",
       "    .dataframe tbody tr th {\n",
       "        vertical-align: top;\n",
       "    }\n",
       "\n",
       "    .dataframe thead th {\n",
       "        text-align: right;\n",
       "    }\n",
       "</style>\n",
       "<table border=\"1\" class=\"dataframe\">\n",
       "  <thead>\n",
       "    <tr style=\"text-align: right;\">\n",
       "      <th></th>\n",
       "      <th>price</th>\n",
       "      <th>result</th>\n",
       "    </tr>\n",
       "  </thead>\n",
       "  <tbody>\n",
       "  </tbody>\n",
       "</table>\n",
       "</div>"
      ],
      "text/plain": [
       "Empty DataFrame\n",
       "Columns: [price, result]\n",
       "Index: []"
      ]
     },
     "execution_count": 21,
     "metadata": {},
     "output_type": "execute_result"
    }
   ],
   "source": [
    "df_test = pd.DataFrame({'price':  range(120, 110,1)})\n",
    "pram_predict_day=1                   # 1日後の予測をする\n",
    "df_test['result']=df_test['price'].pct_change(periods=-1*pram_predict_day)*100*(-1)#デフォルトは1で1行前\n",
    "df_test.tail(3)"
   ]
  },
  {
   "cell_type": "code",
   "execution_count": 22,
   "metadata": {},
   "outputs": [
    {
     "name": "stdout",
     "output_type": "stream",
     "text": [
      "Columns after load: ['Date', 'Open', 'Close', 'dow_compare']\n",
      "進捗: 0.0% 進捗: 1.7% 進捗: 3.4% 進捗: 5.1% 進捗: 6.8% 進捗: 8.4% 進捗: 10.1% 進捗: 11.8% 進捗: 13.5% 進捗: 15.2% 進捗: 16.9% 進捗: 18.6% 進捗: 20.3% 進捗: 22.0% 進捗: 23.6% 進捗: 25.3% 進捗: 27.0% 進捗: 28.7% 進捗: 30.4% 進捗: 32.1% 進捗: 33.8% 進捗: 35.5% 進捗: 37.2% 進捗: 38.9% 進捗: 40.5% 進捗: 42.2% 進捗: 43.9% 進捗: 45.6% 進捗: 47.3% 進捗: 49.0% 進捗: 50.7% 進捗: 52.4% 進捗: 54.1% 進捗: 55.7% 進捗: 57.4% 進捗: 59.1% 進捗: 60.8% 進捗: 62.5% 進捗: 64.2% 進捗: 65.9% 進捗: 67.6% 進捗: 69.3% 進捗: 70.9% 進捗: 72.6% 進捗: 74.3% 進捗: 76.0% 進捗: 77.7% 進捗: 79.4% 進捗: 81.1% 進捗: 82.8% 進捗: 84.5% 進捗: 86.1% 進捗: 87.8% 進捗: 89.5% 進捗: 91.2% 進捗: 92.9% 進捗: 94.6% 進捗: 96.3% 進捗: 98.0% 進捗: 99.7% "
     ]
    },
    {
     "name": "stderr",
     "output_type": "stream",
     "text": [
      "/var/folders/bh/r3p0802x4c3_5hc0jkwmdw640000gp/T/ipykernel_38361/866976058.py:101: PerformanceWarning: DataFrame is highly fragmented.  This is usually the result of calling `frame.insert` many times, which has poor performance.  Consider joining all columns at once using pd.concat(axis=1) instead. To get a de-fragmented frame, use `newframe = frame.copy()`\n",
      "  df['result_5day_open'] = df['Open'].pct_change(periods=-5*self.pram_predict_day) * 100 * (-1)\n",
      "/var/folders/bh/r3p0802x4c3_5hc0jkwmdw640000gp/T/ipykernel_38361/866976058.py:104: PerformanceWarning: DataFrame is highly fragmented.  This is usually the result of calling `frame.insert` many times, which has poor performance.  Consider joining all columns at once using pd.concat(axis=1) instead. To get a de-fragmented frame, use `newframe = frame.copy()`\n",
      "  df['result_10day_open'] = df['Open'].pct_change(periods=-10*self.pram_predict_day) * 100 * (-1)\n",
      "/var/folders/bh/r3p0802x4c3_5hc0jkwmdw640000gp/T/ipykernel_38361/866976058.py:107: PerformanceWarning: DataFrame is highly fragmented.  This is usually the result of calling `frame.insert` many times, which has poor performance.  Consider joining all columns at once using pd.concat(axis=1) instead. To get a de-fragmented frame, use `newframe = frame.copy()`\n",
      "  df['result_20day_open'] = df['Open'].pct_change(periods=-20*self.pram_predict_day) * 100 * (-1)\n",
      "/var/folders/bh/r3p0802x4c3_5hc0jkwmdw640000gp/T/ipykernel_38361/866976058.py:110: PerformanceWarning: DataFrame is highly fragmented.  This is usually the result of calling `frame.insert` many times, which has poor performance.  Consider joining all columns at once using pd.concat(axis=1) instead. To get a de-fragmented frame, use `newframe = frame.copy()`\n",
      "  df['result_30day_open'] = df['Open'].pct_change(periods=-30*self.pram_predict_day) * 100 * (-1)\n"
     ]
    },
    {
     "name": "stdout",
     "output_type": "stream",
     "text": [
      "【完了】データ保存\n",
      "CPU times: user 1min 6s, sys: 1.37 s, total: 1min 7s\n",
      "Wall time: 1min 12s\n"
     ]
    }
   ],
   "source": [
    "%%time\n",
    "start_date=\"2020-09-01\"\n",
    "m=Make_data()\n",
    "m.main(\"\")"
   ]
  },
  {
   "cell_type": "code",
   "execution_count": null,
   "metadata": {},
   "outputs": [],
   "source": []
  }
 ],
 "metadata": {
  "kernelspec": {
   "display_name": "Python 3",
   "language": "python",
   "name": "python3"
  },
  "language_info": {
   "codemirror_mode": {
    "name": "ipython",
    "version": 3
   },
   "file_extension": ".py",
   "mimetype": "text/x-python",
   "name": "python",
   "nbconvert_exporter": "python",
   "pygments_lexer": "ipython3",
   "version": "3.9.6"
  }
 },
 "nbformat": 4,
 "nbformat_minor": 4
}
