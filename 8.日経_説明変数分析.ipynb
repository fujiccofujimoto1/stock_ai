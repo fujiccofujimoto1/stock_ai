{
 "cells": [
  {
   "cell_type": "markdown",
   "metadata": {},
   "source": [
    "## Program Flow\n",
    "\n",
    "1. モジュールインポート"
   ]
  },
  {
   "cell_type": "markdown",
   "metadata": {},
   "source": [
    "# モジュールインポート"
   ]
  },
  {
   "cell_type": "code",
   "execution_count": 1,
   "metadata": {},
   "outputs": [],
   "source": [
    "# scikitlearnのアルゴリズムのロード\n",
    "from sklearn.ensemble import RandomForestClassifier\n",
    "from sklearn.linear_model import LogisticRegression\n",
    "from sklearn.svm import SVC\n",
    "from sklearn.tree import DecisionTreeClassifier\n",
    "from sklearn.neural_network import MLPClassifier\n",
    "from sklearn.naive_bayes import GaussianNB\n",
    "from sklearn.ensemble import AdaBoostClassifier \n",
    "from sklearn.model_selection import StratifiedKFold\n",
    "\n",
    "#import autosklearn.classification\n",
    "\n",
    "# scikit learnのテストデータの読み込み\n",
    "from sklearn.model_selection import train_test_split\n",
    "\n",
    "# scikit learnの精度測定ツールの読み込み\n",
    "from sklearn.metrics import accuracy_score\n",
    "from sklearn.metrics import confusion_matrix \n",
    "\n",
    "#トレーニングデータと正解ラベルに分割\n",
    "from sklearn.preprocessing import StandardScaler\n",
    "from sklearn.preprocessing import MinMaxScaler\n",
    "\n",
    "# pandas(pd) とNumpy(np)のモジュール\n",
    "import numpy as np\n",
    "import pandas as pd\n",
    "import sys,os,random\n",
    "import warnings\n",
    "warnings.filterwarnings('ignore')\n",
    "\n",
    "from collections import defaultdict\n",
    "from matplotlib import pyplot as plt"
   ]
  },
  {
   "cell_type": "markdown",
   "metadata": {},
   "source": [
    "# 変数定義"
   ]
  },
  {
   "cell_type": "code",
   "execution_count": 2,
   "metadata": {},
   "outputs": [],
   "source": [
    "# 0.97 は5000万ぐらい儲かった\n",
    "# pram_traing_rate=0.97   #トレーニングデータとテストデータの比率\n",
    "\n",
    "pram_traing_rate=0.9  #トレーニングデータとテストデータの比率"
   ]
  },
  {
   "cell_type": "markdown",
   "metadata": {},
   "source": [
    "# 前処理済みファイルのロード"
   ]
  },
  {
   "cell_type": "code",
   "execution_count": 2,
   "metadata": {},
   "outputs": [],
   "source": [
    "# 乱数のシード固定\n",
    "np.random.seed(0)\n",
    "random.seed(0)\n",
    "# データフレームの表示件数の設定\n",
    "pd.set_option('display.max_columns', 100)\n",
    "\n",
    "# データロード\n",
    "#df = pd.read_csv('data/stock_preprocessing_2values.csv', index_col=None)\n",
    "df = pd.read_pickle('data/stock_preprocessing.pkl')\n",
    "\n",
    "\n",
    "y_loc_s=df.columns.get_loc('label_up')\n",
    "y_loc_e=df.columns.get_loc('label_down')\n",
    "df.tail(3)\n",
    "\n",
    "\n",
    "# 前後のデータのカット\n",
    "df3=df.loc[30:(len(df)-30)]\n",
    "df2_num=df3.as_matrix()   #numpyへ変換\n",
    "\n",
    "fx_len=len(df3)"
   ]
  },
  {
   "cell_type": "markdown",
   "metadata": {},
   "source": [
    "## データの分割\n"
   ]
  },
  {
   "cell_type": "code",
   "execution_count": 4,
   "metadata": {},
   "outputs": [
    {
     "name": "stdout",
     "output_type": "stream",
     "text": [
      "訓練データ  :2000-02-17T00:00:00.000000000〜2018-04-09T00:00:00.000000000 (4298, 45)\n",
      "テストデータ:2018-04-10T00:00:00.000000000〜2020-04-20T00:00:00.000000000 (478, 45)\n"
     ]
    }
   ],
   "source": [
    "train, test = train_test_split(df3, train_size=pram_traing_rate,shuffle=False)\n",
    "\n",
    "print(\"訓練データ  :{}〜{}\".format(train.head(1)['Date'].values[0],train.tail(1)['Date'].values[0]),train.shape)\n",
    "print(\"テストデータ:{}〜{}\".format(test.head(1)['Date'].values[0],test.tail(1)['Date'].values[0]),test.shape)\n",
    "\n"
   ]
  },
  {
   "cell_type": "code",
   "execution_count": 5,
   "metadata": {},
   "outputs": [
    {
     "name": "stdout",
     "output_type": "stream",
     "text": [
      "トレーニングデータ (4298, 39)\n",
      "トレーニングデータ (4298, 2)\n",
      "　 　 テストデータ (478, 39)\n",
      "　 　 テストデータ (478, 2)\n"
     ]
    }
   ],
   "source": [
    "\n",
    "#トレーニングデータと正解ラベルに分割\n",
    "# 説明変数\n",
    "trainX,testX=train.iloc[:,3:y_loc_s],test.iloc[:,3:y_loc_s]\n",
    "# 正解データ\n",
    "trainY,testY=train.iloc[:,y_loc_s:y_loc_e+1],test.iloc[:,y_loc_s:y_loc_e+1]\n",
    "\n",
    "#display(testX)\n",
    "#Numpy形式に変換\n",
    "trainX,testX=trainX.as_matrix(),testX.as_matrix()\n",
    "trainY,testY=trainY.as_matrix(),testY.as_matrix()\n",
    "\n",
    "#データサンプル数の確認\n",
    "print(\"トレーニングデータ\",trainX.shape)\n",
    "print(\"トレーニングデータ\",trainY.shape)\n",
    "print(\"　 　 テストデータ\",testX.shape)\n",
    "print(\"　 　 テストデータ\",testY.shape)"
   ]
  },
  {
   "cell_type": "markdown",
   "metadata": {},
   "source": [
    "# sckit-learnの準備\n"
   ]
  },
  {
   "cell_type": "code",
   "execution_count": 6,
   "metadata": {},
   "outputs": [],
   "source": [
    "# ワンホットからカテゴリ変数へ\n",
    "testY2 =np.argmax(testY,axis=1)\n",
    "trainY2=np.argmax(trainY,axis=1)"
   ]
  },
  {
   "cell_type": "code",
   "execution_count": 7,
   "metadata": {},
   "outputs": [],
   "source": [
    "names = [\n",
    "       \"AdaBoostClassifier\"\n",
    "        ]\n",
    "\n",
    "# Initializing Classifiers\n",
    "classifiers = [\n",
    "    AdaBoostClassifier()\n",
    "]"
   ]
  },
  {
   "cell_type": "code",
   "execution_count": 8,
   "metadata": {},
   "outputs": [
    {
     "name": "stdout",
     "output_type": "stream",
     "text": [
      "分類器:AdaBoostClassifier , 精度:49.58%\n"
     ]
    }
   ],
   "source": [
    "columns=['name','accuracy']\n",
    "df_acc=pd.DataFrame(data=None,columns=columns)\n",
    "\n",
    "for classifier, name in zip(classifiers, names):\n",
    "    \n",
    "    #　該当分類器にて、学習\n",
    "    classifier.fit(trainX ,trainY2)\n",
    " \n",
    "    #　分類器の正答率を求める\n",
    "    pre=classifier.predict(testX)\n",
    "    ac_score=accuracy_score(testY2,pre)\n",
    "    print('分類器:{:} , 精度:{:.2%}'.format(name,ac_score))\n",
    "\n",
    "    # 結果をデータフレームに入れる\n",
    "    s=pd.Series(data=[name,ac_score],index=columns)\n",
    "    df_acc=df_acc.append(s,ignore_index=True)"
   ]
  },
  {
   "cell_type": "code",
   "execution_count": 9,
   "metadata": {},
   "outputs": [
    {
     "data": {
      "text/plain": [
       "AdaBoostClassifier(algorithm='SAMME.R', base_estimator=None, learning_rate=1.0,\n",
       "                   n_estimators=50, random_state=None)"
      ]
     },
     "execution_count": 9,
     "metadata": {},
     "output_type": "execute_result"
    }
   ],
   "source": [
    "classifier=classifiers[df_acc[df_acc['accuracy']==df_acc['accuracy'].max()].index[0]]\n",
    "classifier.fit(trainX ,trainY2)"
   ]
  },
  {
   "cell_type": "code",
   "execution_count": null,
   "metadata": {
    "collapsed": true,
    "jupyter": {
     "outputs_hidden": true
    }
   },
   "outputs": [],
   "source": []
  },
  {
   "cell_type": "code",
   "execution_count": 10,
   "metadata": {},
   "outputs": [],
   "source": [
    "\n",
    "def permuted(df):\n",
    "    \"\"\"特定のカラムをシャッフルしたデータフレームを返す\"\"\"\n",
    "    for column_name in df.columns:\n",
    "        permuted_df = df.copy()\n",
    "        permuted_df[column_name] = np.random.permutation(permuted_df[column_name])\n",
    "        yield column_name, permuted_df\n",
    "\n",
    "\n",
    "def pimp(clf, X, y, cv=None, eval_func=accuracy_score):\n",
    "    \"\"\"PIMP (Permutation IMPortance) を計算する\"\"\"\n",
    "    base_scores = []\n",
    "    permuted_scores = defaultdict(list)\n",
    "\n",
    "    if cv is None:\n",
    "        cv = StratifiedKFold(n_splits=5, shuffle=True, random_state=42)\n",
    "\n",
    "    for train_index, test_index in cv.split(X, y):\n",
    "        # 学習用データと検証用データに分割する\n",
    "        X_train, y_train = X.iloc[train_index], y.iloc[train_index]\n",
    "        X_test, y_test = X.iloc[test_index], y.iloc[test_index]\n",
    "\n",
    "        # 学習用データでモデルを学習する\n",
    "        clf.fit(X_train, y_train)\n",
    "\n",
    "        # まずは何もシャッフルしていないときのスコアを計算する\n",
    "        y_pred_base = clf.predict(X_test)\n",
    "        base_score = eval_func(y_test, y_pred_base)\n",
    "        base_scores.append(base_score)\n",
    "\n",
    "        # 特定のカラムをシャッフルした状態で推論したときのスコアを計算する\n",
    "        permuted_X_test_gen = permuted(X_test)\n",
    "        for column_name, permuted_X_test in permuted_X_test_gen:\n",
    "            y_pred_permuted = clf.predict(permuted_X_test)\n",
    "            permuted_score = eval_func(y_test, y_pred_permuted)\n",
    "            permuted_scores[column_name].append(permuted_score)\n",
    "\n",
    "    # 基本のスコアとシャッフルしたときのスコアを返す\n",
    "    np_base_score = np.array(base_scores)\n",
    "    dict_permuted_score = {name: np.array(scores) for name, scores in permuted_scores.items()}\n",
    "    return np_base_score, dict_permuted_score\n",
    "\n",
    "\n",
    "def score_difference_statistics(base, permuted):\n",
    "    \"\"\"シャッフルしたときのスコアに関する統計量 (平均・標準偏差) を返す\"\"\"\n",
    "    mean_base_score = base.mean()\n",
    "    for column_name, scores in permuted.items():\n",
    "        score_differences = scores - mean_base_score\n",
    "        yield column_name, score_differences.mean(), score_differences.std()\n"
   ]
  },
  {
   "cell_type": "markdown",
   "metadata": {},
   "source": [
    "# 重要度の分析"
   ]
  },
  {
   "cell_type": "code",
   "execution_count": 11,
   "metadata": {},
   "outputs": [],
   "source": [
    "\n",
    "# Iris データセットを読み込む\n",
    "X=df3.iloc[:,3:y_loc_s]\n",
    "y=pd.Series(np.argmax(df3.iloc[:,y_loc_s:y_loc_e+1].as_matrix(),axis=1))\n",
    "\n",
    "# 計測に使うモデルを用意する\n",
    "clf = RandomForestClassifier(n_estimators=100)\n",
    "\n",
    "# Permutation Importance を計測する\n",
    "base_score, permuted_scores = pimp(clf, X, y)\n",
    "\n",
    "# 計測結果から統計量を計算する\n",
    "diff_stats = list(score_difference_statistics(base_score, permuted_scores))\n",
    "\n",
    "# カラム名、ベーススコアとの差、95% 信頼区間を取り出す\n",
    "sorted_diff_stats = sorted(diff_stats, key=lambda x: x[1])\n",
    "column_names = [name for name, _, _ in sorted_diff_stats]\n",
    "diff_means = [diff_mean for _, diff_mean, _ in sorted_diff_stats]\n",
    "diff_stds_95 = [diff_std * 1.96 for _, _, diff_std in sorted_diff_stats]"
   ]
  },
  {
   "cell_type": "code",
   "execution_count": null,
   "metadata": {
    "collapsed": true,
    "jupyter": {
     "outputs_hidden": true
    }
   },
   "outputs": [],
   "source": []
  },
  {
   "cell_type": "markdown",
   "metadata": {},
   "source": [
    "# どの説明変数が聞いているのか"
   ]
  },
  {
   "cell_type": "code",
   "execution_count": 12,
   "metadata": {},
   "outputs": [
    {
     "data": {
      "image/png": "[encoded data removed]",
      "text/plain": [
       "<Figure size 1440x720 with 1 Axes>"
      ]
     },
     "metadata": {
      "needs_background": "light"
     },
     "output_type": "display_data"
    }
   ],
   "source": [
    "# グラフにプロットする\n",
    "\n",
    "plt.figure(figsize=(20,10))\n",
    "\n",
    "plt.plot(column_names, diff_means, marker='o', color='r')\n",
    "plt.errorbar(column_names, \n",
    "             diff_means,\n",
    "             #yerr=diff_stds_95,\n",
    "             ecolor='g',\n",
    "             #rotation=90,\n",
    "             capsize=4)\n",
    "\n",
    "plt.xticks(column_names,rotation=90)\n",
    "\n",
    "plt.title('Permutation Importance')\n",
    "plt.grid()\n",
    "plt.xlabel('column')\n",
    "plt.ylabel('difference')\n",
    "plt.show()"
   ]
  },
  {
   "cell_type": "code",
   "execution_count": 27,
   "metadata": {},
   "outputs": [
    {
     "data": {
      "text/html": [
       "<div>\n",
       "<style scoped>\n",
       "    .dataframe tbody tr th:only-of-type {\n",
       "        vertical-align: middle;\n",
       "    }\n",
       "\n",
       "    .dataframe tbody tr th {\n",
       "        vertical-align: top;\n",
       "    }\n",
       "\n",
       "    .dataframe thead th {\n",
       "        text-align: right;\n",
       "    }\n",
       "</style>\n",
       "<table border=\"1\" class=\"dataframe\">\n",
       "  <thead>\n",
       "    <tr style=\"text-align: right;\">\n",
       "      <th></th>\n",
       "      <th>0</th>\n",
       "    </tr>\n",
       "  </thead>\n",
       "  <tbody>\n",
       "    <tr>\n",
       "      <td>dow_compare</td>\n",
       "      <td>-0.008375</td>\n",
       "    </tr>\n",
       "    <tr>\n",
       "      <td>day+1</td>\n",
       "      <td>-0.006698</td>\n",
       "    </tr>\n",
       "    <tr>\n",
       "      <td>day+22</td>\n",
       "      <td>-0.006488</td>\n",
       "    </tr>\n",
       "    <tr>\n",
       "      <td>day+4</td>\n",
       "      <td>-0.005441</td>\n",
       "    </tr>\n",
       "    <tr>\n",
       "      <td>day+15</td>\n",
       "      <td>-0.005439</td>\n",
       "    </tr>\n",
       "    <tr>\n",
       "      <td>day+29</td>\n",
       "      <td>-0.003976</td>\n",
       "    </tr>\n",
       "    <tr>\n",
       "      <td>day+28</td>\n",
       "      <td>-0.003769</td>\n",
       "    </tr>\n",
       "    <tr>\n",
       "      <td>day+5</td>\n",
       "      <td>-0.003557</td>\n",
       "    </tr>\n",
       "    <tr>\n",
       "      <td>day+13</td>\n",
       "      <td>-0.003141</td>\n",
       "    </tr>\n",
       "    <tr>\n",
       "      <td>day+21</td>\n",
       "      <td>-0.002930</td>\n",
       "    </tr>\n",
       "    <tr>\n",
       "      <td>day+26</td>\n",
       "      <td>-0.002511</td>\n",
       "    </tr>\n",
       "    <tr>\n",
       "      <td>day+7</td>\n",
       "      <td>-0.002095</td>\n",
       "    </tr>\n",
       "    <tr>\n",
       "      <td>day+24</td>\n",
       "      <td>-0.002092</td>\n",
       "    </tr>\n",
       "    <tr>\n",
       "      <td>weekday_4.0</td>\n",
       "      <td>-0.001674</td>\n",
       "    </tr>\n",
       "    <tr>\n",
       "      <td>day+11</td>\n",
       "      <td>-0.001259</td>\n",
       "    </tr>\n",
       "    <tr>\n",
       "      <td>day+27</td>\n",
       "      <td>-0.001258</td>\n",
       "    </tr>\n",
       "    <tr>\n",
       "      <td>weekday_0.0</td>\n",
       "      <td>-0.001255</td>\n",
       "    </tr>\n",
       "    <tr>\n",
       "      <td>std-60</td>\n",
       "      <td>-0.000837</td>\n",
       "    </tr>\n",
       "    <tr>\n",
       "      <td>std-30</td>\n",
       "      <td>-0.000836</td>\n",
       "    </tr>\n",
       "    <tr>\n",
       "      <td>day+10</td>\n",
       "      <td>-0.000627</td>\n",
       "    </tr>\n",
       "    <tr>\n",
       "      <td>day+17</td>\n",
       "      <td>-0.000627</td>\n",
       "    </tr>\n",
       "    <tr>\n",
       "      <td>weekday_2.0</td>\n",
       "      <td>-0.000419</td>\n",
       "    </tr>\n",
       "    <tr>\n",
       "      <td>weekday_1.0</td>\n",
       "      <td>-0.000209</td>\n",
       "    </tr>\n",
       "    <tr>\n",
       "      <td>std-90</td>\n",
       "      <td>0.000214</td>\n",
       "    </tr>\n",
       "    <tr>\n",
       "      <td>weekday_3.0</td>\n",
       "      <td>0.000419</td>\n",
       "    </tr>\n",
       "    <tr>\n",
       "      <td>day+18</td>\n",
       "      <td>0.000630</td>\n",
       "    </tr>\n",
       "    <tr>\n",
       "      <td>day+16</td>\n",
       "      <td>0.000838</td>\n",
       "    </tr>\n",
       "    <tr>\n",
       "      <td>day+8</td>\n",
       "      <td>0.000840</td>\n",
       "    </tr>\n",
       "    <tr>\n",
       "      <td>day+6</td>\n",
       "      <td>0.001888</td>\n",
       "    </tr>\n",
       "    <tr>\n",
       "      <td>day+12</td>\n",
       "      <td>0.002092</td>\n",
       "    </tr>\n",
       "    <tr>\n",
       "      <td>day+19</td>\n",
       "      <td>0.002095</td>\n",
       "    </tr>\n",
       "    <tr>\n",
       "      <td>day+30</td>\n",
       "      <td>0.002512</td>\n",
       "    </tr>\n",
       "    <tr>\n",
       "      <td>day+2</td>\n",
       "      <td>0.003352</td>\n",
       "    </tr>\n",
       "    <tr>\n",
       "      <td>day+20</td>\n",
       "      <td>0.003980</td>\n",
       "    </tr>\n",
       "    <tr>\n",
       "      <td>day+25</td>\n",
       "      <td>0.003981</td>\n",
       "    </tr>\n",
       "    <tr>\n",
       "      <td>day+23</td>\n",
       "      <td>0.004814</td>\n",
       "    </tr>\n",
       "    <tr>\n",
       "      <td>day+3</td>\n",
       "      <td>0.005029</td>\n",
       "    </tr>\n",
       "    <tr>\n",
       "      <td>day+14</td>\n",
       "      <td>0.005443</td>\n",
       "    </tr>\n",
       "    <tr>\n",
       "      <td>day+9</td>\n",
       "      <td>0.005863</td>\n",
       "    </tr>\n",
       "  </tbody>\n",
       "</table>\n",
       "</div>"
      ],
      "text/plain": [
       "                    0\n",
       "dow_compare -0.008375\n",
       "day+1       -0.006698\n",
       "day+22      -0.006488\n",
       "day+4       -0.005441\n",
       "day+15      -0.005439\n",
       "day+29      -0.003976\n",
       "day+28      -0.003769\n",
       "day+5       -0.003557\n",
       "day+13      -0.003141\n",
       "day+21      -0.002930\n",
       "day+26      -0.002511\n",
       "day+7       -0.002095\n",
       "day+24      -0.002092\n",
       "weekday_4.0 -0.001674\n",
       "day+11      -0.001259\n",
       "day+27      -0.001258\n",
       "weekday_0.0 -0.001255\n",
       "std-60      -0.000837\n",
       "std-30      -0.000836\n",
       "day+10      -0.000627\n",
       "day+17      -0.000627\n",
       "weekday_2.0 -0.000419\n",
       "weekday_1.0 -0.000209\n",
       "std-90       0.000214\n",
       "weekday_3.0  0.000419\n",
       "day+18       0.000630\n",
       "day+16       0.000838\n",
       "day+8        0.000840\n",
       "day+6        0.001888\n",
       "day+12       0.002092\n",
       "day+19       0.002095\n",
       "day+30       0.002512\n",
       "day+2        0.003352\n",
       "day+20       0.003980\n",
       "day+25       0.003981\n",
       "day+23       0.004814\n",
       "day+3        0.005029\n",
       "day+14       0.005443\n",
       "day+9        0.005863"
      ]
     },
     "execution_count": 27,
     "metadata": {},
     "output_type": "execute_result"
    }
   ],
   "source": [
    "\n",
    "pd.DataFrame(diff_means,index=column_names)\n"
   ]
  },
  {
   "cell_type": "code",
   "execution_count": 18,
   "metadata": {},
   "outputs": [
    {
     "data": {
      "text/plain": [
       "[-0.00837542991084137,\n",
       " -0.006698284737891236,\n",
       " -0.006488203465574227,\n",
       " -0.005440644921027793,\n",
       " -0.0054393305439330185,\n",
       " -0.003975552586036879,\n",
       " -0.003768757256456834,\n",
       " -0.003556923481346741,\n",
       " -0.0031411421936953345,\n",
       " -0.0029301846699817725,\n",
       " -0.0025106793138951035,\n",
       " -0.002095117089092802,\n",
       " -0.002092488334903242,\n",
       " -0.0016742973559113583,\n",
       " -0.0012587351311090789,\n",
       " -0.0012576398168634207,\n",
       " -0.001255230125522966,\n",
       " -0.0008370391465311155,\n",
       " -0.0008355057065871808,\n",
       " -0.0006267388113649242,\n",
       " -0.0006267388113649242,\n",
       " -0.00041862910469010474,\n",
       " -0.00020898595807131715,\n",
       " 0.00021358627790317718,\n",
       " 0.00041862910469017136,\n",
       " 0.0006304628798002643,\n",
       " 0.0008376963350785859,\n",
       " 0.0008403250892681568,\n",
       " 0.0018881026966637293,\n",
       " 0.0020924883349033307,\n",
       " 0.0020948980262437524,\n",
       " 0.0025119936909899997,\n",
       " 0.003351880654559858,\n",
       " 0.0039801529058687505,\n",
       " 0.003980591031566993,\n",
       " 0.00481412517251204,\n",
       " 0.00502880676466082,\n",
       " 0.005443273675217475,\n",
       " 0.0058632171570023985]"
      ]
     },
     "execution_count": 18,
     "metadata": {},
     "output_type": "execute_result"
    }
   ],
   "source": [
    "diff_means"
   ]
  },
  {
   "cell_type": "code",
   "execution_count": null,
   "metadata": {},
   "outputs": [],
   "source": []
  }
 ],
 "metadata": {
  "kernelspec": {
   "display_name": "Python 3",
   "language": "python",
   "name": "python3"
  },
  "language_info": {
   "codemirror_mode": {
    "name": "ipython",
    "version": 3
   },
   "file_extension": ".py",
   "mimetype": "text/x-python",
   "name": "python",
   "nbconvert_exporter": "python",
   "pygments_lexer": "ipython3",
   "version": "3.7.4"
  }
 },
 "nbformat": 4,
 "nbformat_minor": 4
}
