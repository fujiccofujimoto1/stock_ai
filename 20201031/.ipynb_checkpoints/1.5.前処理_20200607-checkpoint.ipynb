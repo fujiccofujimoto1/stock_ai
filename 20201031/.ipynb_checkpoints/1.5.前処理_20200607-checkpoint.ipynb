{
 "cells": [
  {
   "cell_type": "markdown",
   "metadata": {},
   "source": [
    "# フロー\n",
    "1. 変数の定義\n",
    "1. 過去のCSVファイルからデータをロードする\n",
    "1. 前処理モジュールの定義（当日の上昇率、過去からの上昇率、下降率）\n",
    "1. CSVロードして、並び替え、必要な日付からにする\n",
    "1. 前処理部分(現在の値と、過去のからの上昇率、下降率を記したDFを作成)\n",
    "1. 前処理データの保存"
   ]
  },
  {
   "cell_type": "markdown",
   "metadata": {},
   "source": [
    "# 必要モジュール"
   ]
  },
  {
   "cell_type": "code",
   "execution_count": 1,
   "metadata": {},
   "outputs": [],
   "source": [
    "# 変数の定義\n",
    "import pandas as pd\n",
    "import pandas_profiling as pdp\n",
    "import datetime\n",
    "import pickle"
   ]
  },
  {
   "cell_type": "markdown",
   "metadata": {},
   "source": [
    "# 変数の定義\n"
   ]
  },
  {
   "cell_type": "code",
   "execution_count": 2,
   "metadata": {},
   "outputs": [],
   "source": [
    "pram_predict_day=7                   # 1日後の予測をする\n",
    "pram_predict_plus_percent= 0.00001             # 0.0001%で上昇率、下降の設定\n",
    "pram_predict_minus_percent=0.00001             # 0.0001%で上昇率、下降の設定\n",
    "pd.set_option('display.max_columns', 100)\n",
    "\n",
    "YEAR=\"\"\n",
    "start_date='2000-01-01'             #元データを2000年からにする"
   ]
  },
  {
   "cell_type": "markdown",
   "metadata": {},
   "source": [
    "# 過去のCSVファイルからデータをロードする\n"
   ]
  },
  {
   "cell_type": "code",
   "execution_count": 3,
   "metadata": {},
   "outputs": [],
   "source": [
    "# 過去のCSVファイルからデータをロードする\n",
    "class load_csv:\n",
    "    import pandas as pd\n",
    "    \n",
    "    def load(self):\n",
    "        df = pd.read_pickle('data/stock.pkl')\n",
    "        print (\"配列長さ:\",len(df))\n",
    "        return df"
   ]
  },
  {
   "cell_type": "markdown",
   "metadata": {},
   "source": [
    "# 前処理モジュールの定義（当日の上昇率、過去からの上昇率、下降率）\n"
   ]
  },
  {
   "cell_type": "code",
   "execution_count": 4,
   "metadata": {},
   "outputs": [],
   "source": [
    "# 偏差値\n",
    "def Deviation_value(df_tmp,x):\n",
    "    std=df_tmp.std()['Open']\n",
    "\n",
    "    mean=df_tmp.mean()['Open']\n",
    "    \n",
    "    #display(df_tmp.shape,mean,std)\n",
    "    #display(df_tmp)\n",
    "    deviation=(mean-x)*10/std+50\n",
    "\n",
    "    return deviation\n"
   ]
  },
  {
   "cell_type": "code",
   "execution_count": 5,
   "metadata": {},
   "outputs": [],
   "source": [
    "# 前処理モジュールの定義（当日の上昇率、過去からの上昇率、下降率）\n",
    "\n",
    "\n",
    "def result(day0,xday):          #day0 当日の上昇率(close/open)の結果を返す\n",
    "    rate=0  #上昇率\n",
    "    if ((i-xday)>=0 and data_len>(i-xday)): \n",
    "        rate= ((df_fx.iloc[i,close_index]/df_fx.iloc[i,open_index])-1)*100\n",
    "    return rate\n",
    "\n",
    "def persent(day0,xday):         #　当日のopen価格と、過去のと比較して上昇率(当日open/過去open)を返す\n",
    "    rate=0  #上昇率\n",
    "    if ((i-xday)>=0 and data_len>(i-xday)):        \n",
    "        rate= ((df_fx.iloc[i,open_index]/df_fx.iloc[i-xday,open_index])-1)*100\n",
    "    return rate"
   ]
  },
  {
   "cell_type": "markdown",
   "metadata": {},
   "source": [
    "# CSVロードして、並び替え、必要な日付からにする\n"
   ]
  },
  {
   "cell_type": "code",
   "execution_count": 6,
   "metadata": {},
   "outputs": [
    {
     "name": "stdout",
     "output_type": "stream",
     "text": [
      "配列長さ: 4899\n",
      "<class 'pandas.core.frame.DataFrame'>\n",
      "RangeIndex: 4899 entries, 0 to 4898\n",
      "Data columns (total 4 columns):\n",
      "Date           4899 non-null datetime64[ns]\n",
      "Open           4899 non-null float64\n",
      "Close          4899 non-null float64\n",
      "dow_compare    4899 non-null float64\n",
      "dtypes: datetime64[ns](1), float64(3)\n",
      "memory usage: 153.2 KB\n"
     ]
    }
   ],
   "source": [
    "LOAD_CSV=load_csv()\n",
    "df_fx=LOAD_CSV.load()\n",
    "#df_fx=df_fx.sort_values(by='Date')\n",
    "\n",
    "df_fx=df_fx[(df_fx['Date']>=start_date )]\n",
    "df_fx = df_fx.reset_index(drop=True)\n",
    "data_len=len(df_fx)\n",
    "\n",
    "df_fx.tail(10)\n",
    "df_fx.info()"
   ]
  },
  {
   "cell_type": "code",
   "execution_count": 7,
   "metadata": {},
   "outputs": [],
   "source": [
    "df=pd.DataFrame(data=None, index=None, columns=None, dtype=None, copy=False)\n",
    "df = pd.DataFrame(index=['Date'], columns=[\n",
    "\"Date\" ,\"Close\",\"Open\",\n",
    "\"day+1\" ,\"day+2\" ,\"day+3\",\n",
    "\"day+4\" ,\"day+5\" ,\"day+6\",\n",
    "\"day+7\" ,\"day+8\" ,\"day+9\",\n",
    "\"day+10\",\"day+11\",\"day+12\",\n",
    "\"day+13\",\"day+14\",\"day+15\",\n",
    "\"day+16\",\"day+17\",\"day+18\",\n",
    "\"day+19\",\"day+20\",\"day+21\",\n",
    "\"day+22\",\"day+23\",\"day+24\",\n",
    "\"day+25\",\"day+26\",\"day+27\",\n",
    "\"day+28\",\"day+29\",\"day+30\",\n",
    "    \n",
    "\"std-30\",\"std-60\",\"std-90\",\n",
    "    \n",
    "\"dow_compare\",\n",
    "\"label_up\"    ,\"label_down\",\n",
    "])"
   ]
  },
  {
   "cell_type": "code",
   "execution_count": 8,
   "metadata": {},
   "outputs": [
    {
     "data": {
      "text/html": [
       "<div>\n",
       "<style scoped>\n",
       "    .dataframe tbody tr th:only-of-type {\n",
       "        vertical-align: middle;\n",
       "    }\n",
       "\n",
       "    .dataframe tbody tr th {\n",
       "        vertical-align: top;\n",
       "    }\n",
       "\n",
       "    .dataframe thead th {\n",
       "        text-align: right;\n",
       "    }\n",
       "</style>\n",
       "<table border=\"1\" class=\"dataframe\">\n",
       "  <thead>\n",
       "    <tr style=\"text-align: right;\">\n",
       "      <th></th>\n",
       "      <th>Date</th>\n",
       "      <th>Open</th>\n",
       "      <th>Close</th>\n",
       "      <th>dow_compare</th>\n",
       "    </tr>\n",
       "  </thead>\n",
       "  <tbody>\n",
       "    <tr>\n",
       "      <td>0</td>\n",
       "      <td>2000-01-04</td>\n",
       "      <td>18937.449219</td>\n",
       "      <td>19002.859375</td>\n",
       "      <td>0.987451</td>\n",
       "    </tr>\n",
       "    <tr>\n",
       "      <td>1</td>\n",
       "      <td>2000-01-05</td>\n",
       "      <td>19003.509766</td>\n",
       "      <td>18542.550781</td>\n",
       "      <td>0.969002</td>\n",
       "    </tr>\n",
       "    <tr>\n",
       "      <td>2</td>\n",
       "      <td>2000-01-06</td>\n",
       "      <td>18574.009766</td>\n",
       "      <td>18168.269531</td>\n",
       "      <td>1.012128</td>\n",
       "    </tr>\n",
       "    <tr>\n",
       "      <td>3</td>\n",
       "      <td>2000-01-07</td>\n",
       "      <td>18194.050781</td>\n",
       "      <td>18193.410156</td>\n",
       "      <td>1.012588</td>\n",
       "    </tr>\n",
       "    <tr>\n",
       "      <td>4</td>\n",
       "      <td>2000-01-11</td>\n",
       "      <td>18246.099609</td>\n",
       "      <td>18850.919922</td>\n",
       "      <td>1.003444</td>\n",
       "    </tr>\n",
       "    <tr>\n",
       "      <td>5</td>\n",
       "      <td>2000-01-12</td>\n",
       "      <td>18780.169922</td>\n",
       "      <td>18677.419922</td>\n",
       "      <td>0.995039</td>\n",
       "    </tr>\n",
       "    <tr>\n",
       "      <td>6</td>\n",
       "      <td>2000-01-13</td>\n",
       "      <td>18667.179688</td>\n",
       "      <td>18833.289062</td>\n",
       "      <td>1.003856</td>\n",
       "    </tr>\n",
       "    <tr>\n",
       "      <td>7</td>\n",
       "      <td>2000-01-14</td>\n",
       "      <td>18882.990234</td>\n",
       "      <td>18956.550781</td>\n",
       "      <td>1.002093</td>\n",
       "    </tr>\n",
       "  </tbody>\n",
       "</table>\n",
       "</div>"
      ],
      "text/plain": [
       "        Date          Open         Close  dow_compare\n",
       "0 2000-01-04  18937.449219  19002.859375     0.987451\n",
       "1 2000-01-05  19003.509766  18542.550781     0.969002\n",
       "2 2000-01-06  18574.009766  18168.269531     1.012128\n",
       "3 2000-01-07  18194.050781  18193.410156     1.012588\n",
       "4 2000-01-11  18246.099609  18850.919922     1.003444\n",
       "5 2000-01-12  18780.169922  18677.419922     0.995039\n",
       "6 2000-01-13  18667.179688  18833.289062     1.003856\n",
       "7 2000-01-14  18882.990234  18956.550781     1.002093"
      ]
     },
     "execution_count": 8,
     "metadata": {},
     "output_type": "execute_result"
    }
   ],
   "source": [
    "date_index=  df_fx.columns.get_loc('Date')\n",
    "close_index= df_fx.columns.get_loc('Close')\n",
    "open_index=  df_fx.columns.get_loc('Open')\n",
    "\n",
    "dow_compare_index=df_fx.columns.get_loc('dow_compare')\n",
    "\n",
    "\n",
    "df_fx.head(8)"
   ]
  },
  {
   "cell_type": "markdown",
   "metadata": {},
   "source": [
    "# 前処理部分　（現在の値と、過去のからの上昇率、下降率を記したDFを作成）\n",
    "\n"
   ]
  },
  {
   "cell_type": "code",
   "execution_count": null,
   "metadata": {},
   "outputs": [
    {
     "name": "stdout",
     "output_type": "stream",
     "text": [
      "0.0% 2.0% 4.1% 6.1% 8.2% 10.2% 12.2% 14.3% 16.3% 18.4% 20.4% 22.5% 24.5% 26.5% 28.6% 30.6% 32.7% 34.7% 36.7% 38.8% 40.8% 42.9% 44.9% "
     ]
    }
   ],
   "source": [
    "# 前処理部分　（現在の値と、過去のからの上昇率、下降率を記したDFを作成\n",
    "for i in range(data_len) :\n",
    "    Date_day=df_fx.iloc[i,date_index ]\n",
    "\n",
    "    if i%100==0:\n",
    "        print('{0:.1%}'.format(i/data_len),end=\" \")\n",
    "\n",
    "    #当日のOPENの株価\n",
    "    day0         =df_fx.iloc[i,open_index]\n",
    "    day0_open    =df_fx.iloc[i,open_index] \n",
    "    day0_close   =df_fx.iloc[i,close_index] \n",
    "    day0_dow_compare  =df_fx.iloc[i,dow_compare_index] \n",
    "\n",
    "    #その後の結果から正解ラベルを作成\n",
    "    label_up=0     #上昇\n",
    "    label_down=0   #下降\n",
    "\n",
    "    #正解データの計算  (pram_predict_day) 日後に、(pram_predict_persent)％の前後がある\n",
    "    prediction=result(day0_open,pram_predict_day)    \n",
    "\n",
    "    # ３つのらべるの場合\n",
    "    if prediction>= 0 :#     pram_predict_plus_percent:\n",
    "        label_up  =1        #上昇\n",
    "        label_down=0        #下降\n",
    "    else: # prediction<=   -pram_predict_minus_percent:\n",
    "        label_up  =0        #上昇\n",
    "        label_down=1        #下降\n",
    "\n",
    "    Deviation30=Deviation_value(df.tail(30),day0_open)\n",
    "    Deviation60=Deviation_value(df.tail(60),day0_open)\n",
    "    Deviation90=Deviation_value(df.tail(90),day0_open)\n",
    "    \n",
    "    series=pd.Series([Date_day,day0_close,day0_open,\n",
    "                      persent(day0,1),persent(day0,2),persent(day0,3),\n",
    "                      persent(day0,4),persent(day0,5),persent(day0,6),\n",
    "                      persent(day0,7),persent(day0,8),persent(day0,9),\n",
    "                      persent(day0,10),persent(day0,11),persent(day0,12),\n",
    "                      persent(day0,13),persent(day0,14),persent(day0,15),\n",
    "                      persent(day0,16),persent(day0,17),persent(day0,18),\n",
    "                      persent(day0,19),persent(day0,20),persent(day0,21),\n",
    "                      persent(day0,22),persent(day0,23),persent(day0,24),\n",
    "                      persent(day0,25),persent(day0,26),persent(day0,27),\n",
    "                      persent(day0,28),persent(day0,29),persent(day0,30),\n",
    "\n",
    "                      Deviation30,Deviation60,Deviation90,\n",
    "                      day0_dow_compare,\n",
    "                      label_up#,label_none\n",
    "                      ,label_down,\n",
    "                     ]\n",
    "                      ,index=df.columns)\n",
    "    series.append\n",
    "    df=df.append(series,ignore_index = True)\n",
    "    \n",
    "# 曜日の追加\n",
    "df['weekday']=df['Date'].apply(lambda x: x.weekday())\n",
    "df=pd.get_dummies(df,columns=['weekday'])"
   ]
  },
  {
   "cell_type": "markdown",
   "metadata": {},
   "source": [
    "## 移動平均の追加"
   ]
  },
  {
   "cell_type": "code",
   "execution_count": 14,
   "metadata": {},
   "outputs": [],
   "source": [
    "#df['rolling_up5']=df[\"label_up\"].rolling(window=5).mean()\n",
    "#df['rolling_down5']=df[\"label_down\"].rolling(window=5).mean()\n",
    "#df['label_to_pickle']=df[\"label_none\"].rolling(window=5).mean()\n",
    "\n",
    "#df['rolling_up10']=df[\"label_up\"].rolling(window=10).mean()\n",
    "#df['rolling_down10']=df[\"label_down\"].rolling(window=10).mean()\n",
    "\n",
    "#df['label_none10']=df[\"label_none\"].rolling(window=10).mean()"
   ]
  },
  {
   "cell_type": "markdown",
   "metadata": {},
   "source": [
    "# 正解データの後ろにする"
   ]
  },
  {
   "cell_type": "code",
   "execution_count": 15,
   "metadata": {},
   "outputs": [
    {
     "name": "stderr",
     "output_type": "stream",
     "text": [
      "/Users/fujiccofujimoto/.pyenv/versions/Anaconda3-2019.10/lib/python3.7/site-packages/ipykernel_launcher.py:13: FutureWarning: \n",
      ".ix is deprecated. Please use\n",
      ".loc for label based indexing or\n",
      ".iloc for positional indexing\n",
      "\n",
      "See the documentation here:\n",
      "http://pandas.pydata.org/pandas-docs/stable/user_guide/indexing.html#ix-indexer-is-deprecated\n",
      "  del sys.path[0]\n"
     ]
    }
   ],
   "source": [
    "df['result']=df['Close']/df['Open']\n",
    "\n",
    "col = df.columns.tolist() # 列名のリスト\n",
    "col.remove('label_up')\n",
    "col.remove('label_down')\n",
    "col.remove('result')\n",
    "\n",
    "\n",
    "col.append('label_up')\n",
    "col.append('label_down')\n",
    "col.append('result')\n",
    "\n",
    "df = df.ix[:,col]"
   ]
  },
  {
   "cell_type": "markdown",
   "metadata": {},
   "source": [
    "# 前処理データの保存"
   ]
  },
  {
   "cell_type": "code",
   "execution_count": 16,
   "metadata": {},
   "outputs": [],
   "source": [
    "df.to_pickle('data/stock_preprocessing.pkl',)"
   ]
  },
  {
   "cell_type": "code",
   "execution_count": 17,
   "metadata": {},
   "outputs": [
    {
     "data": {
      "text/plain": [
       "Index(['Date', 'Close', 'Open', 'day+1', 'day+2', 'day+3', 'day+4', 'day+5',\n",
       "       'day+6', 'day+7', 'day+8', 'day+9', 'day+10', 'day+11', 'day+12',\n",
       "       'day+13', 'day+14', 'day+15', 'day+16', 'day+17', 'day+18', 'day+19',\n",
       "       'day+20', 'day+21', 'day+22', 'day+23', 'day+24', 'day+25', 'day+26',\n",
       "       'day+27', 'day+28', 'day+29', 'day+30', 'std-30', 'std-60', 'std-90',\n",
       "       'dow_compare', 'weekday_0.0', 'weekday_1.0', 'weekday_2.0',\n",
       "       'weekday_3.0', 'weekday_4.0', 'label_up', 'label_down', 'result'],\n",
       "      dtype='object')"
      ]
     },
     "execution_count": 17,
     "metadata": {},
     "output_type": "execute_result"
    }
   ],
   "source": [
    "df.columns"
   ]
  },
  {
   "cell_type": "code",
   "execution_count": null,
   "metadata": {},
   "outputs": [],
   "source": []
  }
 ],
 "metadata": {
  "kernelspec": {
   "display_name": "Python 3",
   "language": "python",
   "name": "python3"
  },
  "language_info": {
   "codemirror_mode": {
    "name": "ipython",
    "version": 3
   },
   "file_extension": ".py",
   "mimetype": "text/x-python",
   "name": "python",
   "nbconvert_exporter": "python",
   "pygments_lexer": "ipython3",
   "version": "3.7.4"
  }
 },
 "nbformat": 4,
 "nbformat_minor": 4
}
