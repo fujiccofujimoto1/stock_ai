{
 "cells": [
  {
   "cell_type": "markdown",
   "metadata": {},
   "source": [
    "# モジュールインポート"
   ]
  },
  {
   "cell_type": "code",
   "execution_count": 1,
   "metadata": {},
   "outputs": [],
   "source": [
    "# scikitlearnのアルゴリズムのロード\n",
    "from sklearn.ensemble import RandomForestClassifier\n",
    "from sklearn.linear_model import LogisticRegression\n",
    "from sklearn.svm import SVC\n",
    "from sklearn.tree import DecisionTreeClassifier\n",
    "from sklearn.neural_network import MLPClassifier\n",
    "from sklearn.naive_bayes import GaussianNB\n",
    "from sklearn.ensemble import AdaBoostClassifier \n",
    "\n",
    "# scikit learnの精度測定ツールの読み込み\n",
    "from sklearn.model_selection import train_test_split\n",
    "from sklearn.metrics import accuracy_score\n",
    "from sklearn.metrics import confusion_matrix \n",
    "from sklearn.preprocessing import StandardScaler\n",
    "from sklearn.preprocessing import MinMaxScaler\n",
    "\n",
    "# pandas(pd) とNumpy(np)のモジュール\n",
    "import numpy as np\n",
    "import pandas as pd\n",
    "import sys,os,random\n",
    "import warnings\n",
    "import pickle\n",
    "\n",
    "warnings.filterwarnings('ignore')\n",
    "%matplotlib inline"
   ]
  },
  {
   "cell_type": "markdown",
   "metadata": {},
   "source": [
    "# 変数定義"
   ]
  },
  {
   "cell_type": "code",
   "execution_count": 2,
   "metadata": {},
   "outputs": [],
   "source": [
    "pram_traing_rate=0.8  #トレーニングデータとテストデータの比率\n",
    "predict_columns=[\n",
    "#'Date', \n",
    "# 'Close',\n",
    "# 'Open', \n",
    " 'day+1', \n",
    " #'day+2', \n",
    " #'day+3', \n",
    " 'day+4', \n",
    " 'day+5',\n",
    " #'day+6',\n",
    " 'day+7', \n",
    " #'day+8', \n",
    " #'day+9', \n",
    " 'day+10', \n",
    " 'day+11', \n",
    " #'day+12',\n",
    " 'day+13', \n",
    " #'day+14', \n",
    " 'day+15', \n",
    " 'day+16', \n",
    " 'day+17', \n",
    " #'day+18', \n",
    " #'day+19',\n",
    " #'day+20', \n",
    " 'day+21', \n",
    " 'day+22', \n",
    " #'day+23', \n",
    " 'day+24', \n",
    " #'day+25',\n",
    " 'day+26',\n",
    " 'day+27', \n",
    " 'day+28',\n",
    " 'day+29', \n",
    " #'day+30',\n",
    " 'std-30',\n",
    " 'std-60', \n",
    " #'std-90',     \n",
    " 'dow_compare',\n",
    " 'weekday_0.0', \n",
    " 'weekday_1.0', \n",
    " 'weekday_2.0',\n",
    " #'weekday_3.0',\n",
    " 'weekday_4.0', \n",
    "# 'label_up', \n",
    "# 'label_down', \n",
    "# 'result'\n",
    "]"
   ]
  },
  {
   "cell_type": "code",
   "execution_count": null,
   "metadata": {},
   "outputs": [],
   "source": []
  },
  {
   "cell_type": "markdown",
   "metadata": {},
   "source": [
    "# 前処理済みファイルのロード"
   ]
  },
  {
   "cell_type": "code",
   "execution_count": 3,
   "metadata": {},
   "outputs": [
    {
     "data": {
      "text/html": [
       "<div>\n",
       "<style scoped>\n",
       "    .dataframe tbody tr th:only-of-type {\n",
       "        vertical-align: middle;\n",
       "    }\n",
       "\n",
       "    .dataframe tbody tr th {\n",
       "        vertical-align: top;\n",
       "    }\n",
       "\n",
       "    .dataframe thead th {\n",
       "        text-align: right;\n",
       "    }\n",
       "</style>\n",
       "<table border=\"1\" class=\"dataframe\">\n",
       "  <thead>\n",
       "    <tr style=\"text-align: right;\">\n",
       "      <th></th>\n",
       "      <th>Date</th>\n",
       "      <th>Close</th>\n",
       "      <th>Open</th>\n",
       "      <th>day+1</th>\n",
       "      <th>day+2</th>\n",
       "      <th>day+3</th>\n",
       "      <th>day+4</th>\n",
       "      <th>day+5</th>\n",
       "      <th>day+6</th>\n",
       "      <th>day+7</th>\n",
       "      <th>day+8</th>\n",
       "      <th>day+9</th>\n",
       "      <th>day+10</th>\n",
       "      <th>day+11</th>\n",
       "      <th>day+12</th>\n",
       "      <th>day+13</th>\n",
       "      <th>day+14</th>\n",
       "      <th>day+15</th>\n",
       "      <th>day+16</th>\n",
       "      <th>day+17</th>\n",
       "      <th>day+18</th>\n",
       "      <th>day+19</th>\n",
       "      <th>day+20</th>\n",
       "      <th>day+21</th>\n",
       "      <th>day+22</th>\n",
       "      <th>day+23</th>\n",
       "      <th>day+24</th>\n",
       "      <th>day+25</th>\n",
       "      <th>day+26</th>\n",
       "      <th>day+27</th>\n",
       "      <th>day+28</th>\n",
       "      <th>day+29</th>\n",
       "      <th>day+30</th>\n",
       "      <th>std-30</th>\n",
       "      <th>std-60</th>\n",
       "      <th>std-90</th>\n",
       "      <th>dow_compare</th>\n",
       "      <th>weekday_0.0</th>\n",
       "      <th>weekday_1.0</th>\n",
       "      <th>weekday_2.0</th>\n",
       "      <th>weekday_3.0</th>\n",
       "      <th>weekday_4.0</th>\n",
       "      <th>label_up</th>\n",
       "      <th>label_down</th>\n",
       "      <th>result</th>\n",
       "    </tr>\n",
       "  </thead>\n",
       "  <tbody>\n",
       "    <tr>\n",
       "      <td>4897</td>\n",
       "      <td>2020-09-09</td>\n",
       "      <td>23032.539062</td>\n",
       "      <td>22966.890625</td>\n",
       "      <td>-0.771555</td>\n",
       "      <td>-0.70656</td>\n",
       "      <td>-2.37029</td>\n",
       "      <td>-1.26477</td>\n",
       "      <td>-0.531582</td>\n",
       "      <td>-0.778714</td>\n",
       "      <td>-1.14242</td>\n",
       "      <td>-1.47633</td>\n",
       "      <td>-1.24762</td>\n",
       "      <td>-1.18682</td>\n",
       "      <td>0.234325</td>\n",
       "      <td>-0.242669</td>\n",
       "      <td>-0.159495</td>\n",
       "      <td>-0.134965</td>\n",
       "      <td>-0.566765</td>\n",
       "      <td>-0.959874</td>\n",
       "      <td>-1.53074</td>\n",
       "      <td>-0.67667</td>\n",
       "      <td>0.964729</td>\n",
       "      <td>2.05008</td>\n",
       "      <td>2.37638</td>\n",
       "      <td>2.20357</td>\n",
       "      <td>2.16715</td>\n",
       "      <td>2.62358</td>\n",
       "      <td>4.6443</td>\n",
       "      <td>3.14044</td>\n",
       "      <td>2.12391</td>\n",
       "      <td>1.87634</td>\n",
       "      <td>1.01989</td>\n",
       "      <td>2.09345</td>\n",
       "      <td>47.877090</td>\n",
       "      <td>42.866502</td>\n",
       "      <td>42.324006</td>\n",
       "      <td>0.984804</td>\n",
       "      <td>0</td>\n",
       "      <td>0</td>\n",
       "      <td>1</td>\n",
       "      <td>0</td>\n",
       "      <td>0</td>\n",
       "      <td>1</td>\n",
       "      <td>0</td>\n",
       "      <td>1.002858</td>\n",
       "    </tr>\n",
       "    <tr>\n",
       "      <td>4898</td>\n",
       "      <td>2020-09-10</td>\n",
       "      <td>23235.470703</td>\n",
       "      <td>23193.470703</td>\n",
       "      <td>0.986551</td>\n",
       "      <td>0.207384</td>\n",
       "      <td>0.27302</td>\n",
       "      <td>-1.40713</td>\n",
       "      <td>-0.290696</td>\n",
       "      <td>0.449725</td>\n",
       "      <td>0.200155</td>\n",
       "      <td>-0.167138</td>\n",
       "      <td>-0.504346</td>\n",
       "      <td>-0.27338</td>\n",
       "      <td>-0.211978</td>\n",
       "      <td>1.22319</td>\n",
       "      <td>0.741488</td>\n",
       "      <td>0.825483</td>\n",
       "      <td>0.850255</td>\n",
       "      <td>0.414195</td>\n",
       "      <td>0.0172071</td>\n",
       "      <td>-0.559294</td>\n",
       "      <td>0.303206</td>\n",
       "      <td>1.9608</td>\n",
       "      <td>3.05686</td>\n",
       "      <td>3.38637</td>\n",
       "      <td>3.21186</td>\n",
       "      <td>3.17508</td>\n",
       "      <td>3.63601</td>\n",
       "      <td>5.67667</td>\n",
       "      <td>4.15798</td>\n",
       "      <td>3.13141</td>\n",
       "      <td>2.8814</td>\n",
       "      <td>2.0165</td>\n",
       "      <td>42.366502</td>\n",
       "      <td>36.957940</td>\n",
       "      <td>40.453481</td>\n",
       "      <td>1.008255</td>\n",
       "      <td>0</td>\n",
       "      <td>0</td>\n",
       "      <td>0</td>\n",
       "      <td>1</td>\n",
       "      <td>0</td>\n",
       "      <td>1</td>\n",
       "      <td>0</td>\n",
       "      <td>1.001811</td>\n",
       "    </tr>\n",
       "    <tr>\n",
       "      <td>4899</td>\n",
       "      <td>2020-09-11</td>\n",
       "      <td>23406.490234</td>\n",
       "      <td>23114.630859</td>\n",
       "      <td>-0.339923</td>\n",
       "      <td>0.643275</td>\n",
       "      <td>-0.133244</td>\n",
       "      <td>-0.0678307</td>\n",
       "      <td>-1.74227</td>\n",
       "      <td>-0.629631</td>\n",
       "      <td>0.108274</td>\n",
       "      <td>-0.140448</td>\n",
       "      <td>-0.506493</td>\n",
       "      <td>-0.842554</td>\n",
       "      <td>-0.612373</td>\n",
       "      <td>-0.55118</td>\n",
       "      <td>0.879107</td>\n",
       "      <td>0.399045</td>\n",
       "      <td>0.482754</td>\n",
       "      <td>0.507442</td>\n",
       "      <td>0.0728644</td>\n",
       "      <td>-0.322774</td>\n",
       "      <td>-0.897315</td>\n",
       "      <td>-0.0377476</td>\n",
       "      <td>1.61421</td>\n",
       "      <td>2.70654</td>\n",
       "      <td>3.03494</td>\n",
       "      <td>2.86102</td>\n",
       "      <td>2.82437</td>\n",
       "      <td>3.28373</td>\n",
       "      <td>5.31745</td>\n",
       "      <td>3.80392</td>\n",
       "      <td>2.78084</td>\n",
       "      <td>2.53168</td>\n",
       "      <td>44.840899</td>\n",
       "      <td>39.308226</td>\n",
       "      <td>41.262994</td>\n",
       "      <td>0.982588</td>\n",
       "      <td>0</td>\n",
       "      <td>0</td>\n",
       "      <td>0</td>\n",
       "      <td>0</td>\n",
       "      <td>1</td>\n",
       "      <td>1</td>\n",
       "      <td>0</td>\n",
       "      <td>1.012627</td>\n",
       "    </tr>\n",
       "  </tbody>\n",
       "</table>\n",
       "</div>"
      ],
      "text/plain": [
       "           Date         Close          Open     day+1     day+2     day+3  \\\n",
       "4897 2020-09-09  23032.539062  22966.890625 -0.771555  -0.70656  -2.37029   \n",
       "4898 2020-09-10  23235.470703  23193.470703  0.986551  0.207384   0.27302   \n",
       "4899 2020-09-11  23406.490234  23114.630859 -0.339923  0.643275 -0.133244   \n",
       "\n",
       "          day+4     day+5     day+6     day+7     day+8     day+9    day+10  \\\n",
       "4897   -1.26477 -0.531582 -0.778714  -1.14242  -1.47633  -1.24762  -1.18682   \n",
       "4898   -1.40713 -0.290696  0.449725  0.200155 -0.167138 -0.504346  -0.27338   \n",
       "4899 -0.0678307  -1.74227 -0.629631  0.108274 -0.140448 -0.506493 -0.842554   \n",
       "\n",
       "        day+11    day+12    day+13    day+14    day+15    day+16     day+17  \\\n",
       "4897  0.234325 -0.242669 -0.159495 -0.134965 -0.566765 -0.959874   -1.53074   \n",
       "4898 -0.211978   1.22319  0.741488  0.825483  0.850255  0.414195  0.0172071   \n",
       "4899 -0.612373  -0.55118  0.879107  0.399045  0.482754  0.507442  0.0728644   \n",
       "\n",
       "        day+18    day+19     day+20   day+21   day+22   day+23   day+24  \\\n",
       "4897  -0.67667  0.964729    2.05008  2.37638  2.20357  2.16715  2.62358   \n",
       "4898 -0.559294  0.303206     1.9608  3.05686  3.38637  3.21186  3.17508   \n",
       "4899 -0.322774 -0.897315 -0.0377476  1.61421  2.70654  3.03494  2.86102   \n",
       "\n",
       "       day+25   day+26   day+27   day+28   day+29   day+30     std-30  \\\n",
       "4897   4.6443  3.14044  2.12391  1.87634  1.01989  2.09345  47.877090   \n",
       "4898  3.63601  5.67667  4.15798  3.13141   2.8814   2.0165  42.366502   \n",
       "4899  2.82437  3.28373  5.31745  3.80392  2.78084  2.53168  44.840899   \n",
       "\n",
       "         std-60     std-90  dow_compare  weekday_0.0  weekday_1.0  \\\n",
       "4897  42.866502  42.324006     0.984804            0            0   \n",
       "4898  36.957940  40.453481     1.008255            0            0   \n",
       "4899  39.308226  41.262994     0.982588            0            0   \n",
       "\n",
       "      weekday_2.0  weekday_3.0  weekday_4.0 label_up label_down    result  \n",
       "4897            1            0            0        1          0  1.002858  \n",
       "4898            0            1            0        1          0  1.001811  \n",
       "4899            0            0            1        1          0  1.012627  "
      ]
     },
     "metadata": {},
     "output_type": "display_data"
    }
   ],
   "source": [
    "# 乱数のシード固定\n",
    "np.random.seed(0)\n",
    "random.seed(0)\n",
    "# データフレームの表示件数の設定\n",
    "pd.set_option('display.max_columns', 100)\n",
    "\n",
    "# データロード\n",
    "df = pd.read_pickle('data/stock_preprocessing.pkl')\n",
    "\n",
    "\n",
    "y_loc_s=df.columns.get_loc('label_up')\n",
    "y_loc_e=df.columns.get_loc('label_down')\n",
    "display(df.tail(3))\n",
    "\n",
    "# 前後のデータのカット\n",
    "df=df.loc[30:(len(df)-30)]\n",
    "df2_num=df.as_matrix()   #numpyへ変換\n",
    "\n",
    "fx_len=len(df)"
   ]
  },
  {
   "cell_type": "markdown",
   "metadata": {},
   "source": [
    "## データの分割\n"
   ]
  },
  {
   "cell_type": "code",
   "execution_count": 4,
   "metadata": {},
   "outputs": [
    {
     "name": "stdout",
     "output_type": "stream",
     "text": [
      "訓練データ  :2000-02-17T00:00:00.000000000〜2016-06-23T00:00:00.000000000 (3872, 45)\n",
      "テストデータ:2016-06-24T00:00:00.000000000〜2020-07-30T00:00:00.000000000\n"
     ]
    }
   ],
   "source": [
    "train, test = train_test_split(df, train_size=pram_traing_rate,shuffle=False)\n",
    "\n",
    "print(\"訓練データ  :{}〜{}\".format(train.head(1)['Date'].values[0],train.tail(1)['Date'].values[0]),train.shape)\n",
    "print(\"テストデータ:{}〜{}\".format(test.head(1)['Date'].values[0],test.tail(1)['Date'].values[0]))\n",
    "#test.to_pickle(\"data/test.pkl\")"
   ]
  },
  {
   "cell_type": "code",
   "execution_count": 5,
   "metadata": {},
   "outputs": [
    {
     "name": "stdout",
     "output_type": "stream",
     "text": [
      "トレーニングデータ (3872, 24)\n",
      "トレーニングデータ (3872, 2)\n",
      "　 　 テストデータ (969, 24)\n",
      "　 　 テストデータ (969, 2)\n"
     ]
    }
   ],
   "source": [
    "#トレーニングデータと正解ラベルに分割\n",
    "# 説明変数\n",
    "trainX,testX=train[predict_columns],test[predict_columns]\n",
    "\n",
    "# 正解データ\n",
    "trainY,testY=train.iloc[:,y_loc_s:y_loc_e+1],test.iloc[:,y_loc_s:y_loc_e+1]\n",
    "\n",
    "#Numpy形式に変換\n",
    "trainX,testX=trainX.as_matrix(),testX.as_matrix()\n",
    "trainY,testY=trainY.as_matrix(),testY.as_matrix()\n",
    "\n",
    "#データサンプル数の確認\n",
    "print(\"トレーニングデータ\",trainX.shape)\n",
    "print(\"トレーニングデータ\",trainY.shape)\n",
    "print(\"　 　 テストデータ\",testX.shape)\n",
    "print(\"　 　 テストデータ\",testY.shape)\n",
    "#display(\"正解ラベルの数\",df['label_up'].sum(),df['label_none'].sum(),df['label_down'].sum())"
   ]
  },
  {
   "cell_type": "markdown",
   "metadata": {},
   "source": [
    "# sckit-learnの準備\n"
   ]
  },
  {
   "cell_type": "code",
   "execution_count": 6,
   "metadata": {},
   "outputs": [
    {
     "data": {
      "text/plain": [
       "(3872,)"
      ]
     },
     "execution_count": 6,
     "metadata": {},
     "output_type": "execute_result"
    }
   ],
   "source": [
    "# ワンホットからカテゴリ変数へ\n",
    "testY2 =np.argmax(testY,axis=1)\n",
    "trainY2=np.argmax(trainY,axis=1)\n",
    "trainY2.shape"
   ]
  },
  {
   "cell_type": "code",
   "execution_count": 7,
   "metadata": {},
   "outputs": [],
   "source": [
    "names = [\n",
    "         \"Random Forest\", \n",
    "        \"Logistic Regression\", \n",
    "         \"SVM\",\n",
    "         \"Decision Tree\", \n",
    "         \"Neural Net\", \n",
    "         \"Naive Bayes\",\n",
    "         \"AdaBoostClassifier\"\n",
    "        ]\n",
    "\n",
    "# Initializing Classifiers\n",
    "classifiers = [\n",
    "    RandomForestClassifier(random_state=1, n_estimators=100),\n",
    "    LogisticRegression(),\n",
    "    SVC(kernel=\"linear\"),\n",
    "    DecisionTreeClassifier(),\n",
    "    MLPClassifier(),\n",
    "    GaussianNB(),\n",
    "    AdaBoostClassifier()\n",
    "]"
   ]
  },
  {
   "cell_type": "code",
   "execution_count": 8,
   "metadata": {},
   "outputs": [
    {
     "name": "stdout",
     "output_type": "stream",
     "text": [
      "分類器:Random Forest , 精度:50.36%\n",
      "分類器:Logistic Regression , 精度:49.74%\n",
      "分類器:SVM , 精度:50.88%\n",
      "分類器:Decision Tree , 精度:49.95%\n",
      "分類器:Neural Net , 精度:48.30%\n",
      "分類器:Naive Bayes , 精度:50.26%\n",
      "分類器:AdaBoostClassifier , 精度:50.26%\n"
     ]
    }
   ],
   "source": [
    "columns=['name','accuracy']\n",
    "df_acc=pd.DataFrame(data=None,columns=columns)\n",
    "\n",
    "for classifier, name in zip(classifiers, names):\n",
    "    \n",
    "    #　該当分類器にて、学習\n",
    "    classifier.fit(trainX ,trainY2)\n",
    " \n",
    "    #　分類器の正答率を求める\n",
    "    pre=classifier.predict(testX)\n",
    "    ac_score=accuracy_score(testY2,pre)\n",
    "    print('分類器:{:} , 精度:{:.2%}'.format(name,ac_score))\n",
    "\n",
    "    # 結果をデータフレームに入れる\n",
    "    s=pd.Series(data=[name,ac_score],index=columns)\n",
    "    df_acc=df_acc.append(s,ignore_index=True)"
   ]
  },
  {
   "cell_type": "code",
   "execution_count": 9,
   "metadata": {},
   "outputs": [
    {
     "data": {
      "text/plain": [
       "<matplotlib.axes._subplots.AxesSubplot at 0x1224d98d0>"
      ]
     },
     "execution_count": 9,
     "metadata": {},
     "output_type": "execute_result"
    },
    {
     "data": {
      "image/png": "[encoded data removed]",
      "text/plain": [
       "<Figure size 432x288 with 1 Axes>"
      ]
     },
     "metadata": {
      "needs_background": "light"
     },
     "output_type": "display_data"
    }
   ],
   "source": [
    "# データフレームの順番を分類器の精度順に表示\n",
    "df_acc=df_acc.sort_values(by=['accuracy'],ascending=True)\n",
    "# データフレームのラッパAPIからmatplotのapiをコールして、グラフを作成\n",
    "df_acc.plot.barh(x='name',y='accuracy',legend=False)"
   ]
  },
  {
   "cell_type": "markdown",
   "metadata": {},
   "source": [
    "# モデルの保存"
   ]
  },
  {
   "cell_type": "code",
   "execution_count": 10,
   "metadata": {},
   "outputs": [],
   "source": [
    "classifier=classifiers[\n",
    "df_acc[df_acc['accuracy']==df_acc['accuracy'].max()].index[0]\n",
    "]\n",
    "classifier.fit(trainX ,trainY2)\n",
    "\n",
    "# モデルを保存する\n",
    "filename = 'model/sk-learn_model.sav'\n",
    "pickle.dump(classifier, open(filename, 'wb'))\n",
    "\n",
    "# ラベルデータ\n",
    "f = open('./model/predict_columns.txt', 'w')\n",
    "for x in predict_columns:\n",
    "    f.write(str(x) + \"\\n\")\n",
    "f.close()\n",
    "\n",
    "# テストデータ\n",
    "test.to_pickle(\"data/df_test.pkl\")"
   ]
  },
  {
   "cell_type": "markdown",
   "metadata": {},
   "source": [
    "# confusion_matrix"
   ]
  },
  {
   "cell_type": "code",
   "execution_count": 11,
   "metadata": {},
   "outputs": [
    {
     "name": "stdout",
     "output_type": "stream",
     "text": [
      "0.label_up   475\n",
      "2.label_down 494\n",
      "confusion matrix:\n",
      "[[ 26 449]\n",
      " [ 27 467]]\n",
      "\n",
      "classification report:\n",
      "              precision    recall  f1-score   support\n",
      "\n",
      "           0       0.49      0.05      0.10       475\n",
      "           1       0.51      0.95      0.66       494\n",
      "\n",
      "    accuracy                           0.51       969\n",
      "   macro avg       0.50      0.50      0.38       969\n",
      "weighted avg       0.50      0.51      0.39       969\n",
      "\n"
     ]
    }
   ],
   "source": [
    "from sklearn import metrics\n",
    "print(\"0.label_up  \",test[test['label_up']==1].shape[0])\n",
    "print(\"2.label_down\",test[test['label_down']==1].shape[0])\n",
    "\n",
    "predict_y=classifier.predict(testX)\n",
    "print(\"confusion matrix:\")\n",
    "print(metrics.confusion_matrix( testY2,predict_y))\n",
    "print()\n",
    "print(\"classification report:\")\n",
    "target_names = ['up','down']\n",
    "\n",
    "print(metrics.classification_report(testY2,predict_y))"
   ]
  },
  {
   "cell_type": "code",
   "execution_count": null,
   "metadata": {},
   "outputs": [],
   "source": []
  },
  {
   "cell_type": "code",
   "execution_count": null,
   "metadata": {},
   "outputs": [],
   "source": []
  }
 ],
 "metadata": {
  "kernelspec": {
   "display_name": "Python 3",
   "language": "python",
   "name": "python3"
  },
  "language_info": {
   "codemirror_mode": {
    "name": "ipython",
    "version": 3
   },
   "file_extension": ".py",
   "mimetype": "text/x-python",
   "name": "python",
   "nbconvert_exporter": "python",
   "pygments_lexer": "ipython3",
   "version": "3.7.4"
  }
 },
 "nbformat": 4,
 "nbformat_minor": 4
}
