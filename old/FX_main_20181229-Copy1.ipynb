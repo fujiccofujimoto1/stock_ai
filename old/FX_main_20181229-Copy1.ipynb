{
 "cells": [
  {
   "cell_type": "markdown",
   "metadata": {},
   "source": [
    "# TODO\n",
    "1. 全体\n",
    " 1.  openとcloseの時間を調べる  \n",
    " 1. 変数表の作成　\n",
    " 1. 設計の作成　\n",
    "1. AI\n",
    " 1. 済)chie2 による特徴量を選択\n",
    " 1. 済)Sckit-learn のmodelで比較\n",
    " 1. 済)Confution matrix\n",
    " 1. pipline にて比較\n",
    " 1. １０月分の前処理と、OANDA API v20\n",
    " \n",
    "1. UI\n",
    " 1. UIの検討\n",
    " \n",
    "\n",
    "API化\n",
    "http://www.algo-fx-blog.com/oanda-api-v20-open-account/"
   ]
  },
  {
   "cell_type": "markdown",
   "metadata": {},
   "source": [
    "## Program Flow\n",
    "\n",
    "1. モジュールインポート\n"
   ]
  },
  {
   "cell_type": "code",
   "execution_count": 102,
   "metadata": {},
   "outputs": [],
   "source": [
    "# 変数定義\n",
    "pram_predict_days=     [-5,-3,-2,-1]   #予想日(-1,-2,-3,-5日後)\n",
    "pram_predict_percents= [0.5,1,2,3]   #数日後の何パーセント上昇するかを当てる(+0.5,1,2,3%)\n",
    "pram_buymodes=         [\"buy\",\"\"]  # 購入モードの変更　buyの場合は、買ったらその日にすぐに売る\n",
    "pram_predict_day=1                 #予測は当日\n",
    "pram_predict_percent=0.3\n",
    "pram_traing_rate=0.5       #トレーニングデータとテストデータの比率\n",
    "\n",
    "\n",
    "pram_epoch=30\n",
    "model_name=\"TEST\"               #保存するモデルファイル名\n",
    "pram_buymode=\"\" \n",
    "\n",
    "YEAR=\"\""
   ]
  },
  {
   "cell_type": "code",
   "execution_count": 103,
   "metadata": {},
   "outputs": [
    {
     "data": {
      "text/html": [
       "<div>\n",
       "<style scoped>\n",
       "    .dataframe tbody tr th:only-of-type {\n",
       "        vertical-align: middle;\n",
       "    }\n",
       "\n",
       "    .dataframe tbody tr th {\n",
       "        vertical-align: top;\n",
       "    }\n",
       "\n",
       "    .dataframe thead th {\n",
       "        text-align: right;\n",
       "    }\n",
       "</style>\n",
       "<table border=\"1\" class=\"dataframe\">\n",
       "  <thead>\n",
       "    <tr style=\"text-align: right;\">\n",
       "      <th></th>\n",
       "      <th>Date</th>\n",
       "      <th>Close</th>\n",
       "      <th>Open</th>\n",
       "      <th>day+1</th>\n",
       "      <th>day+2</th>\n",
       "      <th>day+3</th>\n",
       "      <th>day+4</th>\n",
       "      <th>day+5</th>\n",
       "      <th>day+6</th>\n",
       "      <th>day+7</th>\n",
       "      <th>day+8</th>\n",
       "      <th>day+9</th>\n",
       "      <th>day+10</th>\n",
       "      <th>day+11</th>\n",
       "      <th>day+12</th>\n",
       "      <th>day+13</th>\n",
       "      <th>day+14</th>\n",
       "      <th>day+15</th>\n",
       "      <th>day+16</th>\n",
       "      <th>day+17</th>\n",
       "      <th>day+18</th>\n",
       "      <th>day+19</th>\n",
       "      <th>day+20</th>\n",
       "      <th>day+21</th>\n",
       "      <th>day+22</th>\n",
       "      <th>day+23</th>\n",
       "      <th>day+24</th>\n",
       "      <th>day+25</th>\n",
       "      <th>day+26</th>\n",
       "      <th>day+27</th>\n",
       "      <th>day+28</th>\n",
       "      <th>day+29</th>\n",
       "      <th>day+30</th>\n",
       "      <th>day-1</th>\n",
       "      <th>day-2</th>\n",
       "      <th>day-3</th>\n",
       "      <th>day-4</th>\n",
       "      <th>day-5</th>\n",
       "      <th>day-6</th>\n",
       "      <th>day-7</th>\n",
       "      <th>day-8</th>\n",
       "      <th>day-9</th>\n",
       "      <th>day-10</th>\n",
       "      <th>day-11</th>\n",
       "      <th>day-12</th>\n",
       "      <th>day-13</th>\n",
       "      <th>day-14</th>\n",
       "      <th>day-15</th>\n",
       "      <th>day-16</th>\n",
       "      <th>day-17</th>\n",
       "      <th>day-18</th>\n",
       "      <th>day-19</th>\n",
       "      <th>day-20</th>\n",
       "      <th>day-21</th>\n",
       "      <th>day-22</th>\n",
       "      <th>day-23</th>\n",
       "      <th>day-24</th>\n",
       "      <th>day-25</th>\n",
       "      <th>day-26</th>\n",
       "      <th>day-27</th>\n",
       "      <th>day-28</th>\n",
       "      <th>day-29</th>\n",
       "      <th>day-30</th>\n",
       "      <th>label_up</th>\n",
       "      <th>label_none</th>\n",
       "      <th>label_down</th>\n",
       "      <th>label2_up</th>\n",
       "      <th>label2_down</th>\n",
       "    </tr>\n",
       "  </thead>\n",
       "  <tbody>\n",
       "    <tr>\n",
       "      <th>4710</th>\n",
       "      <td>2018年08月31日</td>\n",
       "      <td>7.5616</td>\n",
       "      <td>7.5369</td>\n",
       "      <td>0.0</td>\n",
       "      <td>0.0</td>\n",
       "      <td>0.0</td>\n",
       "      <td>0.0</td>\n",
       "      <td>0.0</td>\n",
       "      <td>0.0</td>\n",
       "      <td>0.0</td>\n",
       "      <td>0.0</td>\n",
       "      <td>0.0</td>\n",
       "      <td>0.0</td>\n",
       "      <td>0.15814</td>\n",
       "      <td>0.003981</td>\n",
       "      <td>0.0</td>\n",
       "      <td>0.0</td>\n",
       "      <td>0.0</td>\n",
       "      <td>0.0</td>\n",
       "      <td>0.0</td>\n",
       "      <td>0.0</td>\n",
       "      <td>0.0</td>\n",
       "      <td>0.0</td>\n",
       "      <td>0.0</td>\n",
       "      <td>0.0</td>\n",
       "      <td>0.0</td>\n",
       "      <td>0.0</td>\n",
       "      <td>0.0</td>\n",
       "      <td>0.0</td>\n",
       "      <td>0.0</td>\n",
       "      <td>0.0</td>\n",
       "      <td>0.0</td>\n",
       "      <td>0.0</td>\n",
       "      <td>-3.11098</td>\n",
       "      <td>-3.620205</td>\n",
       "      <td>-3.832953</td>\n",
       "      <td>-3.76296</td>\n",
       "      <td>-3.373077</td>\n",
       "      <td>-2.383142</td>\n",
       "      <td>-3.451059</td>\n",
       "      <td>-1.594203</td>\n",
       "      <td>-0.605317</td>\n",
       "      <td>-0.154996</td>\n",
       "      <td>0.0</td>\n",
       "      <td>0.0</td>\n",
       "      <td>-0.804159</td>\n",
       "      <td>-3.430028</td>\n",
       "      <td>-1.846667</td>\n",
       "      <td>-3.998319</td>\n",
       "      <td>-4.232529</td>\n",
       "      <td>-6.996631</td>\n",
       "      <td>-9.082246</td>\n",
       "      <td>-9.785263</td>\n",
       "      <td>-9.028473</td>\n",
       "      <td>-9.670654</td>\n",
       "      <td>-9.629496</td>\n",
       "      <td>-9.242089</td>\n",
       "      <td>-10.724566</td>\n",
       "      <td>-10.594306</td>\n",
       "      <td>-10.650481</td>\n",
       "      <td>-10.226907</td>\n",
       "      <td>-10.381688</td>\n",
       "      <td>-10.263249</td>\n",
       "      <td>0.0</td>\n",
       "      <td>1.0</td>\n",
       "      <td>0.0</td>\n",
       "      <td>1.0</td>\n",
       "      <td>0.0</td>\n",
       "    </tr>\n",
       "  </tbody>\n",
       "</table>\n",
       "</div>"
      ],
      "text/plain": [
       "             Date   Close    Open  day+1  day+2  day+3  day+4  day+5  day+6  \\\n",
       "4710  2018年08月31日  7.5616  7.5369    0.0    0.0    0.0    0.0    0.0    0.0   \n",
       "\n",
       "      day+7  day+8  day+9  day+10   day+11    day+12  day+13  day+14  day+15  \\\n",
       "4710    0.0    0.0    0.0     0.0  0.15814  0.003981     0.0     0.0     0.0   \n",
       "\n",
       "      day+16  day+17  day+18  day+19  day+20  day+21  day+22  day+23  day+24  \\\n",
       "4710     0.0     0.0     0.0     0.0     0.0     0.0     0.0     0.0     0.0   \n",
       "\n",
       "      day+25  day+26  day+27  day+28  day+29  day+30    day-1     day-2  \\\n",
       "4710     0.0     0.0     0.0     0.0     0.0     0.0 -3.11098 -3.620205   \n",
       "\n",
       "         day-3    day-4     day-5     day-6     day-7     day-8     day-9  \\\n",
       "4710 -3.832953 -3.76296 -3.373077 -2.383142 -3.451059 -1.594203 -0.605317   \n",
       "\n",
       "        day-10  day-11  day-12    day-13    day-14    day-15    day-16  \\\n",
       "4710 -0.154996     0.0     0.0 -0.804159 -3.430028 -1.846667 -3.998319   \n",
       "\n",
       "        day-17    day-18    day-19    day-20    day-21    day-22    day-23  \\\n",
       "4710 -4.232529 -6.996631 -9.082246 -9.785263 -9.028473 -9.670654 -9.629496   \n",
       "\n",
       "        day-24     day-25     day-26     day-27     day-28     day-29  \\\n",
       "4710 -9.242089 -10.724566 -10.594306 -10.650481 -10.226907 -10.381688   \n",
       "\n",
       "         day-30  label_up  label_none  label_down  label2_up  label2_down  \n",
       "4710 -10.263249       0.0         1.0         0.0        1.0          0.0  "
      ]
     },
     "execution_count": 103,
     "metadata": {},
     "output_type": "execute_result"
    }
   ],
   "source": [
    "import numpy as np\n",
    "import pandas as pd\n",
    "pd.set_option('display.max_columns', 100)\n",
    "\n",
    "# データのロード\n",
    "df = pd.read_csv('data/fx.csv', index_col=None)\n",
    "df[df['Date']=='2018年08月31日']"
   ]
  },
  {
   "cell_type": "code",
   "execution_count": 104,
   "metadata": {},
   "outputs": [],
   "source": [
    "y_loc=df.columns.get_loc('label2_up')\n",
    "\n",
    "#df.iloc[:,y_loc:]\n",
    "\n"
   ]
  },
  {
   "cell_type": "code",
   "execution_count": 105,
   "metadata": {},
   "outputs": [
    {
     "name": "stdout",
     "output_type": "stream",
     "text": [
      "トレーニングデータ (2338, 60)\n",
      "　 　 テストデータ (2338, 60)\n"
     ]
    }
   ],
   "source": [
    "from sklearn.preprocessing import StandardScaler\n",
    "from sklearn.preprocessing import MinMaxScaler\n",
    "from sklearn.model_selection import train_test_split\n",
    "import warnings\n",
    "warnings.filterwarnings('ignore')\n",
    "\n",
    "# 前後のデータのカット\n",
    "df=df.loc[30:(len(df)-30)]\n",
    "fx_len=len(df)\n",
    "df2_num=df.as_matrix()   #numpyへ変換\n",
    "\n",
    "# データの分割\n",
    "train, test = train_test_split(df3, train_size=pram_traing_rate,shuffle=False)\n",
    "\n",
    "#トレーニングデータと正解ラベルに分割\n",
    "trainX,testX=train.iloc[:,3:63],test.iloc[:,3:63]\n",
    "\n",
    "y_loc=df.columns.get_loc('label2_up')\n",
    "#trainY,testY=train.iloc[:,63:],test.iloc[:,63:]\n",
    "trainY,testY=train.iloc[:,y_loc:],test.iloc[:,y_loc:]\n",
    "\n",
    "\n",
    "#Numpy形式に変換\n",
    "trainX,testX=trainX.as_matrix(),testX.as_matrix()\n",
    "trainY,testY=trainY.as_matrix(),testY.as_matrix()\n",
    "\n",
    "#データサンプル数の確認\n",
    "\n",
    "print(\"トレーニングデータ\",trainX.shape)\n",
    "print(\"　 　 テストデータ\",testX.shape)"
   ]
  },
  {
   "cell_type": "code",
   "execution_count": 109,
   "metadata": {},
   "outputs": [
    {
     "data": {
      "text/plain": [
       "2"
      ]
     },
     "execution_count": 109,
     "metadata": {},
     "output_type": "execute_result"
    }
   ],
   "source": [
    "trainY.shape[1]"
   ]
  },
  {
   "cell_type": "code",
   "execution_count": 110,
   "metadata": {},
   "outputs": [
    {
     "name": "stdout",
     "output_type": "stream",
     "text": [
      "データ数 2338\n",
      "_________________________________________________________________\n",
      "Layer (type)                 Output Shape              Param #   \n",
      "=================================================================\n",
      "dense_13 (Dense)             (None, 30)                1830      \n",
      "_________________________________________________________________\n",
      "dropout_9 (Dropout)          (None, 30)                0         \n",
      "_________________________________________________________________\n",
      "dense_14 (Dense)             (None, 20)                620       \n",
      "_________________________________________________________________\n",
      "dropout_10 (Dropout)         (None, 20)                0         \n",
      "_________________________________________________________________\n",
      "dense_15 (Dense)             (None, 2)                 42        \n",
      "=================================================================\n",
      "Total params: 2,492\n",
      "Trainable params: 2,492\n",
      "Non-trainable params: 0\n",
      "_________________________________________________________________\n"
     ]
    }
   ],
   "source": [
    "    import sys\n",
    "    import numpy as np\n",
    "\n",
    "    from keras.models import Sequential\n",
    "    from keras.optimizers import RMSprop\n",
    "    from keras.callbacks import EarlyStopping,CSVLogger\n",
    "    from keras import callbacks\n",
    "    from keras.layers import Dense, Dropout, Activation\n",
    "    from keras.models import Sequential\n",
    "    from keras.layers import Dense, Dropout, Activation\n",
    "    from keras.optimizers import SGD\n",
    "\n",
    "    print(\"データ数\",len(trainY))\n",
    "    model= Sequential()\n",
    "    model.add(Dense(30,activation='relu',input_shape=(trainX.shape[1],)))      \n",
    "    model.add(Dropout(0.5))\n",
    "    model.add(Dense(20, activation='relu'))\n",
    "    model.add(Dropout(0.5))\n",
    "    #model.add(Dense(10, activation='relu'))\n",
    "    #model.add(Dropout(0.5))\n",
    "    model.add(Dense(trainY.shape[1],activation='softmax'))\n",
    "    model.summary()\n",
    "    model.compile(loss=\"categorical_crossentropy\", optimizer=\"Adam\", metrics=[\"accuracy\"])\n",
    "\n",
    "\n",
    "    es_cb = callbacks.EarlyStopping(monitor='val_loss', patience=10, verbose=0, mode='auto')\n",
    "    tb_cb = callbacks.TensorBoard(log_dir='./logs/', histogram_freq=1)  \n",
    "    \n",
    "    cbks = [tb_cb,es_cb]\n",
    "    cbks = [tb_cb]\n"
   ]
  },
  {
   "cell_type": "code",
   "execution_count": 111,
   "metadata": {},
   "outputs": [
    {
     "name": "stdout",
     "output_type": "stream",
     "text": [
      "2338/2338 [==============================] - 0s 25us/step\n",
      "Test loass 0.726684248630974\n",
      "Test accuract 56.7579127459367 %\n"
     ]
    }
   ],
   "source": [
    "    # 学習処理\n",
    "    pram_epoch=200\n",
    "    history = model.fit(trainX,trainY,\n",
    "                       batch_size=100,\n",
    "                       epochs=pram_epoch,\n",
    "                       verbose=0,\n",
    "                       validation_data=(testX,testY),\n",
    "                       #callbacks=cbks\n",
    "                       )\n",
    "        \n",
    "    \n",
    "\n",
    "    #学習の評価\n",
    "    score=model.evaluate(testX,testY,verbose=1)\n",
    "\n",
    "    print('Test loass',score[0])\n",
    "    print('Test accuract',score[1]*100,\"%\")\n",
    "\n",
    "    #backend.clear_session\n",
    "    #model.save_weights((model_name+'.hdf5').strip())\n",
    "    #print(\"保存\",(model_name+'.hdf5').strip())"
   ]
  },
  {
   "cell_type": "code",
   "execution_count": 112,
   "metadata": {},
   "outputs": [
    {
     "data": {
      "image/png": "[encoded data removed]",
      "text/plain": [
       "<matplotlib.figure.Figure at 0x11db61d68>"
      ]
     },
     "metadata": {},
     "output_type": "display_data"
    },
    {
     "data": {
      "image/png": "[encoded data removed]",
      "text/plain": [
       "<matplotlib.figure.Figure at 0x10c01d630>"
      ]
     },
     "metadata": {},
     "output_type": "display_data"
    }
   ],
   "source": [
    "import matplotlib.pyplot as plt\n",
    "%matplotlib inline\n",
    "\n",
    "#Accuracy\n",
    "plt.plot(history.history['acc'])\n",
    "plt.plot(history.history['val_acc'])\n",
    "plt.title('model accuracy')\n",
    "plt.ylabel('accuracy')\n",
    "plt.xlabel('epoch')\n",
    "plt.legend(['train', 'test'], loc='upper left')\n",
    "plt.show()\n",
    "\n",
    "#loss\n",
    "plt.plot(history.history['loss'])\n",
    "plt.plot(history.history['val_loss'])\n",
    "plt.title('model loss')\n",
    "plt.ylabel('loss')\n",
    "plt.xlabel('epoch')\n",
    "plt.legend(['train', 'test'], loc='upper left')\n",
    "plt.show()"
   ]
  },
  {
   "cell_type": "markdown",
   "metadata": {},
   "source": [
    "# confution matrix"
   ]
  },
  {
   "cell_type": "code",
   "execution_count": 115,
   "metadata": {},
   "outputs": [
    {
     "name": "stdout",
     "output_type": "stream",
     "text": [
      "confusion matrix:\n",
      "[[1297   50]\n",
      " [ 961   30]]\n",
      "\n",
      "classification report:\n",
      "             precision    recall  f1-score   support\n",
      "\n",
      "        0.0       0.57      0.96      0.72      1347\n",
      "        1.0       0.38      0.03      0.06       991\n",
      "\n",
      "avg / total       0.49      0.57      0.44      2338\n",
      "\n",
      "label_up 836\n",
      "label_none 936\n",
      "label_down 566\n"
     ]
    }
   ],
   "source": [
    "from sklearn import metrics\n",
    "testYY=np.empty(0)\n",
    "for i in testY:\n",
    "    testYY=np.append(testYY,np.argmax(i))\n",
    "predict_y=model.predict_classes(testX)\n",
    "print(\"confusion matrix:\")\n",
    "print(metrics.confusion_matrix( testYY,predict_y))\n",
    "\n",
    "\n",
    "print()\n",
    "print(\"classification report:\")\n",
    "target_names = ['up','none','down']\n",
    "print(metrics.classification_report(testYY,predict_y))\n",
    "\n",
    "metrics.classification_report\n",
    "print(\"label_up\",test[test['label_up']==1].shape[0])\n",
    "print(\"label_none\",test[test['label_none']==1].shape[0])\n",
    "print(\"label_down\",test[test['label_down']==1].shape[0])"
   ]
  },
  {
   "cell_type": "code",
   "execution_count": 114,
   "metadata": {},
   "outputs": [
    {
     "ename": "NameError",
     "evalue": "name 'df_num' is not defined",
     "output_type": "error",
     "traceback": [
      "\u001b[0;31m---------------------------------------------------------------------------\u001b[0m",
      "\u001b[0;31mNameError\u001b[0m                                 Traceback (most recent call last)",
      "\u001b[0;32m<ipython-input-114-e3a599e32442>\u001b[0m in \u001b[0;36m<module>\u001b[0;34m()\u001b[0m\n\u001b[1;32m      9\u001b[0m \u001b[0mBUY\u001b[0m\u001b[0;34m=\u001b[0m\u001b[0;36m0\u001b[0m\u001b[0;34m\u001b[0m\u001b[0m\n\u001b[1;32m     10\u001b[0m \u001b[0mresulst_out\u001b[0m\u001b[0;34m=\u001b[0m\u001b[0;34m\"\"\u001b[0m\u001b[0;34m\u001b[0m\u001b[0m\n\u001b[0;32m---> 11\u001b[0;31m \u001b[0mLEN\u001b[0m\u001b[0;34m=\u001b[0m\u001b[0mlen\u001b[0m\u001b[0;34m(\u001b[0m\u001b[0mdf_num\u001b[0m\u001b[0;34m)\u001b[0m\u001b[0;34m\u001b[0m\u001b[0m\n\u001b[0m\u001b[1;32m     12\u001b[0m \u001b[0mGRAPH_X\u001b[0m\u001b[0;34m=\u001b[0m\u001b[0;34m[\u001b[0m\u001b[0;34m]\u001b[0m\u001b[0;34m\u001b[0m\u001b[0m\n\u001b[1;32m     13\u001b[0m \u001b[0mGRAPH_Y\u001b[0m\u001b[0;34m=\u001b[0m\u001b[0;34m[\u001b[0m\u001b[0;34m]\u001b[0m\u001b[0;34m\u001b[0m\u001b[0m\n",
      "\u001b[0;31mNameError\u001b[0m: name 'df_num' is not defined"
     ]
    }
   ],
   "source": [
    "close_index=df.columns.get_loc('Close')\n",
    "open_index=df.columns.get_loc('Open')\n",
    "date_index=df.columns.get_loc('Date')\n",
    "\n",
    "pram_buymode=\"BUY\"\n",
    "flag,BUY=0,0\n",
    "MONEY=1000000\n",
    "BUY_MONEY=1000000\n",
    "BUY=0\n",
    "resulst_out=\"\"\n",
    "LEN=len(df_num)\n",
    "GRAPH_X=[]\n",
    "GRAPH_Y=[]\n",
    "\n",
    "start=len(trainX)\n",
    "end=len(df2_num)-1\n",
    "print(\"start:\",df2_num[start,0],\"〜end:\",df2_num[end,0])\n",
    "\n",
    "standard=1000000/df2_num[start,1]  \n",
    "DATE=\"\"\n",
    "result_out=\"\"\n",
    "\n",
    "df_sim = pd.DataFrame( columns=['Date', 'Open', 'Close', 'Up', 'money','result','predict','正誤','利益率'] )"
   ]
  },
  {
   "cell_type": "code",
   "execution_count": null,
   "metadata": {},
   "outputs": [],
   "source": [
    "for i in range(start,end): \n",
    "        PRE=df2_num[i,np.array([\n",
    "            \n",
    "                               3,4,5,\n",
    "                               6,7,8,\n",
    "                               9,10,11,\n",
    "                               12,13,14,\n",
    "                               15,16,17,\n",
    "                               18,19,20,\n",
    "                               21,22,23,\n",
    "                               24,25,26,\n",
    "                               27,28,29,\n",
    "                               30,31,32,\n",
    "\n",
    "                               33,34,35,\n",
    "                               36,37,38,\n",
    "                               39,40,41,\n",
    "                               42,43,44,\n",
    "                               45,46,47,\n",
    "                               48,49,50,\n",
    "                               51,52,53,\n",
    "                               54,55,56,\n",
    "                               57,58,59,\n",
    "                               60,61,62,\n",
    "                               ])]\n",
    "        \n",
    "        #予測のコマンド\n",
    "        PRE2 = model.predict_proba(np.resize(PRE,(1,trainX.shape[1])),verbose=0)\n",
    "        PRE2=PRE2[0]\n",
    "        \n",
    "        profit_rate=0\n",
    "        DATE2=df2_num[i,date_index]\n",
    "        if DATE != DATE2[:7]:       #月初の定点観測\n",
    "            DATE=DATE2[:7]\n",
    "            print()\n",
    "            resulst_out=resulst_out+\"\\n\"\n",
    "            if DATE2[5:7]==\"01\":\n",
    "                print(\"--------------------------------------------------------------------\")\n",
    "                resulst_out=resulst_out+\"--------------------------------------------------------------------\"+\"\\n\"\n",
    "            STRING=df2_num[i,0]+\":資金\"+\"{:,}\".format(int(MONEY))+\"(基準\"+\"{:,}\".format(int(standard*df2_num[i,1])).strip()+\")\"\n",
    "            print(STRING.strip(),end=\"\")\n",
    "            result_out=result_out+STRING.strip()+\"\\n\"\n",
    "\n",
    "\n",
    "\n",
    "        if pram_buymode==\"\":\n",
    "\n",
    "            # 買うシグナルにて、現金(BUY=0)から保持(BUY=1)。売るシグナルにて、保持(BUY=1)から現金(BUY=0)。\n",
    "            #label_up     0  #label_none   1  #label_down   2\n",
    "            \n",
    "            if PRE2[0]>PRE2[1] and PRE2[0]>PRE2[2] and BUY==0:\n",
    "                STRING=\"買\"+DATE2[8:10]+\"d\"\n",
    "                print(\"\",STRING.strip(),end=\"\")\n",
    "                result_out=result_out+STRING.strip()\n",
    "                \n",
    "\n",
    "                BUY=1\n",
    "                BUY_MONEY=df2_num[i,1] #df2.iloc[i,1]    \n",
    "\n",
    "\n",
    "\n",
    "            if PRE2[2]>PRE2[1] and PRE2[2]>PRE2[0] and BUY==1:\n",
    "                STRING=\"売\"+DATE2[8:10]+\"d(\"+\"{:.1f}\".format(int(df2_num[i,1]/BUY_MONEY*100-100))+\"%)\"\n",
    "                print(\"\",STRING.strip(),end=\"\")\n",
    "                result_out=result_out+STRING.strip()\n",
    "\n",
    "                BUY=0\n",
    "                #MONEY=df2_num[i,1]/df2_num[i,2]*MONEY\n",
    "                MONEY=df2_num[i,1]/BUY_MONEY*MONEY\n",
    "        else:\n",
    "            # BUY_modeの場合\n",
    "            # 1. Open時に、AIが売り(buy)と買い(sell)かを選択\n",
    "            # 2. close時に、その反対を行い、利益確定をする。\n",
    "            #label_up     0  #label_none   1  #label_down   2\n",
    "\n",
    "            PREDICT    =\"None\"\n",
    "            \n",
    "            \n",
    "            #  売り予測の場合\n",
    "            if PRE2[2]>0.4:\n",
    "            #if PRE2[0,0]>PRE2[0,1] and PRE2[0,0]>PRE2[0,2] :\n",
    "                PREDICT=\"sell\"\n",
    "                #print(\"売:\",end=\" \")\n",
    "                profit_rate=df2_num[i,open_index]/df2_num[i, close_index]\n",
    "                MONEY=(profit_rate)*MONEY\n",
    "                \n",
    "    \n",
    "\n",
    "            #  買い予測の場合\n",
    "            #elif PRE2[0,2]>PRE2[0,1] and PRE2[0,2]>PRE2[0,0] :\n",
    "            if PRE2[0]>0.4:\n",
    "                PREDICT=\"buy\"\n",
    "                #print(\"買\",end=\" \")\n",
    "                profit_rate=df2_num[i,close_index]/df2_num[i,open_index]\n",
    "                MONEY=(profit_rate)*MONEY\n",
    "\n",
    "            \n",
    "            \n",
    "\n",
    "        if df2_num[i,63]==1:\n",
    "            Y_result=\"buy\"\n",
    "        elif df2_num[i,65]==1:\n",
    "            Y_result=\"sell\"\n",
    "        else:\n",
    "            Y_result=\"None\"\n",
    "            \n",
    "        seigo=\"×\"    \n",
    "        if Y_result==PREDICT:\n",
    "            seigo=\"●\"\n",
    "        \n",
    "        if profit_rate!=0:\n",
    "            profit_rate=100*(profit_rate-1)\n",
    "        \n",
    "        s1 = pd.Series([df2_num[i,0],                 #日付\n",
    "                        round(df2_num[i,open_index], 2),        #OPEN\n",
    "                        round(df2_num[i,close_index],2),        #Close\n",
    "                        round((df2_num[i,close_index]/df2_num[i,open_index]-1)*100,2),  #アップ率\n",
    "                        round(MONEY),\n",
    "                        Y_result,PREDICT,seigo,\n",
    "                        round(profit_rate,2)],                     #予測\n",
    "               index=df_sim.columns)\n",
    "        df_sim=df_sim.append(s1,ignore_index=True)"
   ]
  },
  {
   "cell_type": "code",
   "execution_count": 28,
   "metadata": {},
   "outputs": [],
   "source": [
    "# ファイルの保存\n",
    "df_sim\n",
    "df_sim.to_csv('data/simulation.csv',index=False)"
   ]
  },
  {
   "cell_type": "code",
   "execution_count": 29,
   "metadata": {},
   "outputs": [
    {
     "name": "stdout",
     "output_type": "stream",
     "text": [
      "● (910, 9)\n",
      "X (1427, 9)\n"
     ]
    }
   ],
   "source": [
    "print(\"●\",df_sim[df_sim['正誤']==\"●\"].shape)\n",
    "print(\"X\",df_sim[df_sim['正誤']==\"×\"].shape)"
   ]
  },
  {
   "cell_type": "code",
   "execution_count": 12,
   "metadata": {},
   "outputs": [
    {
     "data": {
      "text/plain": [
       "利益率    186.2\n",
       "dtype: float64"
      ]
     },
     "execution_count": 12,
     "metadata": {},
     "output_type": "execute_result"
    }
   ],
   "source": [
    "df_sim[['利益率']].sum()\n"
   ]
  },
  {
   "cell_type": "markdown",
   "metadata": {},
   "source": [
    "# 年毎の利益率の計算\n"
   ]
  },
  {
   "cell_type": "code",
   "execution_count": 48,
   "metadata": {},
   "outputs": [
    {
     "name": "stdout",
     "output_type": "stream",
     "text": [
      "2001年の利益率0.00%\n",
      "2002年の利益率0.00%\n",
      "2003年の利益率0.00%\n",
      "2004年の利益率0.00%\n",
      "2005年の利益率0.00%\n",
      "2006年の利益率0.00%\n",
      "2007年の利益率0.00%\n",
      "2008年の利益率0.00%\n",
      "2009年の利益率13.20%\n",
      "2010年の利益率28.39%\n",
      "2011年の利益率28.88%\n",
      "2012年の利益率12.71%\n",
      "2013年の利益率64.22%\n",
      "2014年の利益率14.92%\n",
      "2015年の利益率-1.89%\n",
      "2016年の利益率28.34%\n",
      "2017年の利益率3.27%\n",
      "2018年の利益率-5.84%\n"
     ]
    }
   ],
   "source": [
    "for i in range(1,19):\n",
    "    YEAR=str(i+2000)\n",
    "    start=YEAR+\"年01月01日\"\n",
    "    end=YEAR+\"年12月31日\"\n",
    "\n",
    "    tmp=df_sim.query(\"Date >= @start and Date <= @end \")\n",
    "    \n",
    "    print(\"{:}年の利益率{:.2f}%\".format(YEAR,tmp[['利益率']].sum()[0]))"
   ]
  },
  {
   "cell_type": "code",
   "execution_count": 56,
   "metadata": {},
   "outputs": [
    {
     "name": "stdout",
     "output_type": "stream",
     "text": [
      "buy 1051\n",
      "sell 18\n"
     ]
    }
   ],
   "source": [
    "print(\"buy\",df_sim[df_sim['predict']=='buy'].shape[0])\n",
    "print(\"sell\",df_sim[df_sim['predict']=='sell'].shape[0])"
   ]
  },
  {
   "cell_type": "code",
   "execution_count": 61,
   "metadata": {},
   "outputs": [
    {
     "name": "stdout",
     "output_type": "stream",
     "text": [
      "buy 836\n",
      "sell 566\n"
     ]
    }
   ],
   "source": [
    "print('buy',df_sim[df_sim['result']=='buy'].shape[0])\n",
    "print('sell',df_sim[df_sim['result']=='sell'].shape[0])\n"
   ]
  },
  {
   "cell_type": "code",
   "execution_count": null,
   "metadata": {},
   "outputs": [],
   "source": []
  }
 ],
 "metadata": {
  "kernelspec": {
   "display_name": "Python 3",
   "language": "python",
   "name": "python3"
  },
  "language_info": {
   "codemirror_mode": {
    "name": "ipython",
    "version": 3
   },
   "file_extension": ".py",
   "mimetype": "text/x-python",
   "name": "python",
   "nbconvert_exporter": "python",
   "pygments_lexer": "ipython3",
   "version": "3.5.2"
  }
 },
 "nbformat": 4,
 "nbformat_minor": 2
}
