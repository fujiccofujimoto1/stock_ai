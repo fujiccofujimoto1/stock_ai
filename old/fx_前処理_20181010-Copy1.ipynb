{
 "cells": [
  {
   "cell_type": "markdown",
   "metadata": {},
   "source": [
    "1. データの取得場所\n",
    " 1.  https://currencylayer.com/signup/free\n",
    " 1.  https://info.finance.yahoo.co.jp/fx/detail/?code=ZARJPY=FX\n",
    " 1.  http://www.algo-fx-blog.com/fx-api-complete-guide-for-python-users/\n",
    " 1.  CSVは下記サイトのからダウンロード\n",
    "     https://stooq.com/q/d/?s=zarjpy\n",
    "1. 前処理のメモ\n",
    "  1. 当日の結果は、close/openの比率で判断する\n",
    "  1. 過去の結果は、過去のオープン/当日のオープンで計算する\n",
    " "
   ]
  },
  {
   "cell_type": "code",
   "execution_count": 1,
   "metadata": {
    "collapsed": true
   },
   "outputs": [],
   "source": [
    "import pandas as pd\n",
    "\n",
    "pram_predict_days=     [-5,-3,-2,-1]   #予想日(-1,-2,-3,-5日後)\n",
    "pram_predict_percents= [0.5,1,2,3]   #数日後の何パーセント上昇するかを当てる(+0.5,1,2,3%)\n",
    "pram_predict_day=1\n",
    "pram_predict_percent=0.5\n",
    "YEAR=\"\"\n",
    "\n",
    "start_date='2000-01-01'             #元データを2000年からにする"
   ]
  },
  {
   "cell_type": "code",
   "execution_count": 2,
   "metadata": {
    "collapsed": true
   },
   "outputs": [],
   "source": [
    "class load_csv:\n",
    "    import pandas as pd\n",
    "    \n",
    "    def load(self):\n",
    "        df_fx=pd.read_csv('data/zarjpy_d.csv')\n",
    "        \n",
    "        #df_fx=df_fx.ix[:,['日付け','終値','始値']]\n",
    "        #df_fx.rename(columns={'Date':'日付け','Open':'始値','Close':'終値'},inplace=True)\n",
    "\n",
    "        df_fx_len=len(df_fx)                #長さ\n",
    "        print (\"配列長さ:\",df_fx_len)\n",
    "        df_fx.head(1)\n",
    "        return df_fx"
   ]
  },
  {
   "cell_type": "code",
   "execution_count": 3,
   "metadata": {},
   "outputs": [],
   "source": [
    "def result(day0,xday):     #day0 当日の株価の上昇率の結果を返す\n",
    "    rate=0  #上昇率\n",
    "    if ((i-xday)>=0 and data_len>(i-xday)): \n",
    "        \n",
    "        rate= ((df_fx.iloc[i,close_index]/df_fx.iloc[i,open_index])-1)*100\n",
    "        \n",
    "    return rate\n",
    "\n",
    "\n",
    "def persent(day0,xday):     #day0 当日の株価\n",
    "    rate=0  #上昇率\n",
    "    if ((i-xday)>=0 and data_len>(i-xday)):        \n",
    "        rate= ((df_fx.iloc[i,open_index]/df_fx.iloc[i-xday,open_index])-1)*100\n",
    "        if rate <0:\n",
    "            rate=0\n",
    "        #rate=np.log10(rate)\n",
    "    return rate\n",
    "\n",
    "def persent_minus(day0,xday):     #day0 当日の株価\n",
    "    rate=0  #上昇率\n",
    "    if ((i-xday)>=0 and data_len>(i-xday)):        \n",
    "        rate= ((df_fx.iloc[i,open_index]/df_fx.iloc[i-xday,open_index])-1)*100\n",
    "        if rate>0:\n",
    "            rate=0\n",
    "        #rate=np.log10(rate)\n",
    "    return rate"
   ]
  },
  {
   "cell_type": "code",
   "execution_count": 4,
   "metadata": {},
   "outputs": [
    {
     "name": "stdout",
     "output_type": "stream",
     "text": [
      "配列長さ: 7479\n"
     ]
    },
    {
     "data": {
      "text/html": [
       "<div>\n",
       "<style scoped>\n",
       "    .dataframe tbody tr th:only-of-type {\n",
       "        vertical-align: middle;\n",
       "    }\n",
       "\n",
       "    .dataframe tbody tr th {\n",
       "        vertical-align: top;\n",
       "    }\n",
       "\n",
       "    .dataframe thead th {\n",
       "        text-align: right;\n",
       "    }\n",
       "</style>\n",
       "<table border=\"1\" class=\"dataframe\">\n",
       "  <thead>\n",
       "    <tr style=\"text-align: right;\">\n",
       "      <th></th>\n",
       "      <th>Date</th>\n",
       "      <th>Open</th>\n",
       "      <th>High</th>\n",
       "      <th>Low</th>\n",
       "      <th>Close</th>\n",
       "    </tr>\n",
       "  </thead>\n",
       "  <tbody>\n",
       "    <tr>\n",
       "      <th>0</th>\n",
       "      <td>2000-01-03</td>\n",
       "      <td>16.638</td>\n",
       "      <td>16.638</td>\n",
       "      <td>16.638</td>\n",
       "      <td>16.638</td>\n",
       "    </tr>\n",
       "    <tr>\n",
       "      <th>1</th>\n",
       "      <td>2000-01-04</td>\n",
       "      <td>16.899</td>\n",
       "      <td>16.899</td>\n",
       "      <td>16.899</td>\n",
       "      <td>16.899</td>\n",
       "    </tr>\n",
       "    <tr>\n",
       "      <th>2</th>\n",
       "      <td>2000-01-05</td>\n",
       "      <td>17.008</td>\n",
       "      <td>17.008</td>\n",
       "      <td>17.008</td>\n",
       "      <td>17.008</td>\n",
       "    </tr>\n",
       "    <tr>\n",
       "      <th>3</th>\n",
       "      <td>2000-01-06</td>\n",
       "      <td>17.211</td>\n",
       "      <td>17.211</td>\n",
       "      <td>17.211</td>\n",
       "      <td>17.211</td>\n",
       "    </tr>\n",
       "    <tr>\n",
       "      <th>4</th>\n",
       "      <td>2000-01-07</td>\n",
       "      <td>17.368</td>\n",
       "      <td>17.368</td>\n",
       "      <td>17.368</td>\n",
       "      <td>17.368</td>\n",
       "    </tr>\n",
       "  </tbody>\n",
       "</table>\n",
       "</div>"
      ],
      "text/plain": [
       "         Date    Open    High     Low   Close\n",
       "0  2000-01-03  16.638  16.638  16.638  16.638\n",
       "1  2000-01-04  16.899  16.899  16.899  16.899\n",
       "2  2000-01-05  17.008  17.008  17.008  17.008\n",
       "3  2000-01-06  17.211  17.211  17.211  17.211\n",
       "4  2000-01-07  17.368  17.368  17.368  17.368"
      ]
     },
     "execution_count": 4,
     "metadata": {},
     "output_type": "execute_result"
    }
   ],
   "source": [
    "LOAD_CSV=load_csv()\n",
    "df_fx=LOAD_CSV.load()\n",
    "df_fx=df_fx.sort_values(by='Date')\n",
    "\n",
    "df_fx=df_fx[(df_fx['Date']>start_date )]\n",
    "\n",
    "\n",
    "df_fx = df_fx.reset_index(drop=True)\n",
    "data_len=len(df_fx)\n",
    "\n",
    "df_fx.head()"
   ]
  },
  {
   "cell_type": "code",
   "execution_count": null,
   "metadata": {},
   "outputs": [],
   "source": []
  },
  {
   "cell_type": "code",
   "execution_count": 5,
   "metadata": {},
   "outputs": [
    {
     "data": {
      "text/html": [
       "<div>\n",
       "<style scoped>\n",
       "    .dataframe tbody tr th:only-of-type {\n",
       "        vertical-align: middle;\n",
       "    }\n",
       "\n",
       "    .dataframe tbody tr th {\n",
       "        vertical-align: top;\n",
       "    }\n",
       "\n",
       "    .dataframe thead th {\n",
       "        text-align: right;\n",
       "    }\n",
       "</style>\n",
       "<table border=\"1\" class=\"dataframe\">\n",
       "  <thead>\n",
       "    <tr style=\"text-align: right;\">\n",
       "      <th></th>\n",
       "      <th>Date</th>\n",
       "      <th>Open</th>\n",
       "      <th>High</th>\n",
       "      <th>Low</th>\n",
       "      <th>Close</th>\n",
       "    </tr>\n",
       "  </thead>\n",
       "  <tbody>\n",
       "    <tr>\n",
       "      <th>4730</th>\n",
       "      <td>2018-08-01</td>\n",
       "      <td>8.4524</td>\n",
       "      <td>8.50297</td>\n",
       "      <td>8.37862</td>\n",
       "      <td>8.45373</td>\n",
       "    </tr>\n",
       "  </tbody>\n",
       "</table>\n",
       "</div>"
      ],
      "text/plain": [
       "            Date    Open     High      Low    Close\n",
       "4730  2018-08-01  8.4524  8.50297  8.37862  8.45373"
      ]
     },
     "execution_count": 5,
     "metadata": {},
     "output_type": "execute_result"
    }
   ],
   "source": [
    "df_fx[df_fx['Date']=='2018-08-01']"
   ]
  },
  {
   "cell_type": "code",
   "execution_count": null,
   "metadata": {},
   "outputs": [],
   "source": []
  },
  {
   "cell_type": "code",
   "execution_count": 6,
   "metadata": {},
   "outputs": [],
   "source": [
    "df=pd.DataFrame(data=None, index=None, columns=None, dtype=None, copy=False)\n",
    "df = pd.DataFrame(index=['Date'], columns=[\n",
    "\"Date\" ,\"Close\",\"Open\",\n",
    "\"day+1\" ,\"day+2\" ,\"day+3\",\n",
    "\"day+4\" ,\"day+5\" ,\"day+6\",\n",
    "\"day+7\" ,\"day+8\" ,\"day+9\",\n",
    "\"day+10\",\"day+11\",\"day+12\",\n",
    "\"day+13\",\"day+14\",\"day+15\",\n",
    "\"day+16\",\"day+17\",\"day+18\",\n",
    "\"day+19\",\"day+20\",\"day+21\",\n",
    "\"day+22\",\"day+23\",\"day+24\",\n",
    "\"day+25\",\"day+26\",\"day+27\",\n",
    "\"day+28\",\"day+29\",\"day+30\",\n",
    "\n",
    "\"day-1\" ,\"day-2\" ,\"day-3\",\n",
    "\"day-4\" ,\"day-5\" ,\"day-6\",\n",
    "\"day-7\" ,\"day-8\" ,\"day-9\",\n",
    "\"day-10\",\"day-11\",\"day-12\",\n",
    "\"day-13\",\"day-14\",\"day-15\",\n",
    "\"day-16\",\"day-17\",\"day-18\",\n",
    "\"day-19\",\"day-20\",\"day-21\",\n",
    "\"day-22\",\"day-23\",\"day-24\",\n",
    "\"day-25\",\"day-26\",\"day-27\",\n",
    "\"day-28\",\"day-29\",\"day-30\",\n",
    "\n",
    "\"label_up\",\"label_none\",\"label_down\",\n",
    "\"label2_up\",\"label2_down\"\n",
    "\n",
    "])"
   ]
  },
  {
   "cell_type": "code",
   "execution_count": 7,
   "metadata": {},
   "outputs": [],
   "source": [
    "close_index=df_fx.columns.get_loc('Close')\n",
    "open_index=df_fx.columns.get_loc('Open')\n",
    "date_index=df_fx.columns.get_loc('Date')\n",
    "\n"
   ]
  },
  {
   "cell_type": "code",
   "execution_count": null,
   "metadata": {
    "collapsed": true
   },
   "outputs": [
    {
     "name": "stdout",
     "output_type": "stream",
     "text": [
      "0.0% 2.1% 4.1% 6.2% 8.3% 10.3% 12.4% 14.5% 16.5% 18.6% 20.7% 22.7% 24.8% 26.9% 28.9% 31.0% 33.1% 35.1% 37.2% 39.3% 41.3% 43.4% 45.5% 47.5% 49.6% 51.7% 53.7% 55.8% 57.9% 59.9% 62.0% 64.1% 66.1% 68.2% 70.3% 72.3% 74.4% 76.5% 78.5% 80.6% 82.7% "
     ]
    }
   ],
   "source": [
    "    for i in range(data_len) :\n",
    "        Date_day=df_fx.iloc[i,date_index ]\n",
    "        \n",
    "        if i%100==0:\n",
    "            print('{0:.1%}'.format(i/data_len),end=\" \")\n",
    "        \n",
    "        #当日のOPENの株価\n",
    "        day0         =df_fx.iloc[i,open_index]\n",
    "        day0_open    =df_fx.iloc[i,open_index] \n",
    "        day0_close   =df_fx.iloc[i,close_index] \n",
    "        \n",
    "        #その後の結果から正解ラベルを作成\n",
    "        label_up=0     #上昇\n",
    "        label_none=0   #変化少ない\n",
    "        label_down=0   #下降\n",
    "        label2_up=0    #上昇\n",
    "        label2_down=0   #下降\n",
    "        \n",
    "        #正解データの計算  (pram_predict_day) 日後に、(pram_predict_persent)％の前後がある\n",
    "        prediction=result(day0,pram_predict_day)    \n",
    "      \n",
    "        # ３つのらべるの場合\n",
    "        if prediction>=pram_predict_percent:\n",
    "            label_up=1          #上昇\n",
    "            label_none=0        #そのまま\n",
    "            label_down=0        #下降\n",
    "        elif prediction<=(-1*pram_predict_percent):\n",
    "            label_up=0          #上昇\n",
    "            label_none=0        #そのまま\n",
    "            label_down=1        #下降\n",
    "        else:\n",
    "            label_up=0          #上昇\n",
    "            label_none=1        #そのまま\n",
    "            label_down=0        #下降\n",
    "            \n",
    "            \n",
    "        # 2つのらべるの場合\n",
    "        if prediction>=0:\n",
    "            label2_up=1          #上昇\n",
    "            label2_down=0        #下降\n",
    "        else:\n",
    "            label2_up=0          #上昇\n",
    "            label2_down=1        #下降\n",
    "     \n",
    "            \n",
    "            \n",
    "        series=pd.Series([Date_day,day0_close,day0_open,\n",
    "                          \n",
    "                          persent(day0,1),persent(day0,2),persent(day0,3),\n",
    "                          persent(day0,4),persent(day0,5),persent(day0,6),\n",
    "                          persent(day0,7),persent(day0,8),persent(day0,9),\n",
    "                          persent(day0,10),persent(day0,11),persent(day0,12),\n",
    "                          persent(day0,13),persent(day0,14),persent(day0,15),\n",
    "                          persent(day0,16),persent(day0,17),persent(day0,18),\n",
    "                          persent(day0,19),persent(day0,20),persent(day0,21),\n",
    "                          persent(day0,22),persent(day0,23),persent(day0,24),\n",
    "                          persent(day0,25),persent(day0,26),persent(day0,27),\n",
    "                          persent(day0,28),persent(day0,29),persent(day0,30),\n",
    "\n",
    "                          persent_minus(day0,1),persent_minus(day0,2),persent_minus(day0,3),\n",
    "                          persent_minus(day0,4),persent_minus(day0,5),persent_minus(day0,6),\n",
    "                          persent_minus(day0,7),persent_minus(day0,8),persent_minus(day0,9),\n",
    "                          persent_minus(day0,10),persent_minus(day0,11),persent_minus(day0,12),\n",
    "                          persent_minus(day0,13),persent_minus(day0,14),persent_minus(day0,15),\n",
    "                          persent_minus(day0,16),persent_minus(day0,17),persent_minus(day0,18),\n",
    "                          persent_minus(day0,19),persent_minus(day0,20),persent_minus(day0,21),\n",
    "                          persent_minus(day0,22),persent_minus(day0,23),persent_minus(day0,24),\n",
    "                          persent_minus(day0,25),persent_minus(day0,26),persent_minus(day0,27),\n",
    "                          persent_minus(day0,28),persent_minus(day0,29),persent_minus(day0,30),\n",
    "                          label_up,label_none,label_down,\n",
    "                          label2_up,label2_down\n",
    "                         ]\n",
    "                          ,index=df.columns)\n",
    "        series.append\n",
    "        df=df.append(series,ignore_index = True)\n",
    "\n",
    "#前処理データの保存\n",
    "df.to_csv('data/fx.csv',index=False)"
   ]
  },
  {
   "cell_type": "code",
   "execution_count": null,
   "metadata": {},
   "outputs": [],
   "source": [
    "df[df['Date']=='2018-08-31']"
   ]
  },
  {
   "cell_type": "code",
   "execution_count": null,
   "metadata": {},
   "outputs": [],
   "source": [
    "df"
   ]
  },
  {
   "cell_type": "code",
   "execution_count": null,
   "metadata": {},
   "outputs": [],
   "source": []
  },
  {
   "cell_type": "code",
   "execution_count": null,
   "metadata": {},
   "outputs": [],
   "source": []
  }
 ],
 "metadata": {
  "kernelspec": {
   "display_name": "Python 3",
   "language": "python",
   "name": "python3"
  },
  "language_info": {
   "codemirror_mode": {
    "name": "ipython",
    "version": 3
   },
   "file_extension": ".py",
   "mimetype": "text/x-python",
   "name": "python",
   "nbconvert_exporter": "python",
   "pygments_lexer": "ipython3",
   "version": "3.5.2"
  }
 },
 "nbformat": 4,
 "nbformat_minor": 2
}
