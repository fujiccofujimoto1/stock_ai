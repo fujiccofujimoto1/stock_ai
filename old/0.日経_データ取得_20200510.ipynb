{
 "cells": [
  {
   "cell_type": "markdown",
   "metadata": {},
   "source": [
    "プログラムの流れ\n",
    "1. 2000年からの履歴を取得\n",
    "1. 最新のFX情報を取得して、Dataframeに保存\n",
    "1. データフレームの結合\n",
    "1. ファイルの保存"
   ]
  },
  {
   "cell_type": "code",
   "execution_count": 1,
   "metadata": {},
   "outputs": [],
   "source": [
    "import matplotlib.pyplot as plt\n",
    "import pandas as pd"
   ]
  },
  {
   "cell_type": "markdown",
   "metadata": {},
   "source": [
    "# 日経平均の取得\n",
    "\n",
    "#### https://jp.investing.com/indices/japan-ni225-historical-data"
   ]
  },
  {
   "cell_type": "code",
   "execution_count": 2,
   "metadata": {},
   "outputs": [],
   "source": [
    "def nikkei_csv():\n",
    "    df_history = pd.read_csv('stockdata/日経平均株価 過去データ.csv')#,encoding='cp932') \n",
    "    print(df_history.shape)\n",
    "    #display(df_history)\n",
    "    #df_history=df_history.drop(index=(df_history.shape[0]-1))\n",
    "    df_history=df_history[['日付け','終値','始値']]\n",
    "    df_history.rename(columns={'日付け':'Date','始値':'Open','終値':'Close'},inplace=True)\n",
    "\n",
    "    df_history = df_history.sort_values('Date')\n",
    "\n",
    "    print (\"配列長さ:\",len(df_history))\n",
    "\n",
    "    # 日付の変換　年月\n",
    "    df_history['Date'] = pd.to_datetime(df_history['Date'], format = '%Y年%m月%d日')\n",
    "    df_history.reset_index(drop=True, inplace=True)\n",
    "    \n",
    "    return df_history"
   ]
  },
  {
   "cell_type": "code",
   "execution_count": 3,
   "metadata": {},
   "outputs": [
    {
     "name": "stdout",
     "output_type": "stream",
     "text": [
      "(4762, 7)\n",
      "配列長さ: 4762\n"
     ]
    },
    {
     "data": {
      "text/html": [
       "<div>\n",
       "<style scoped>\n",
       "    .dataframe tbody tr th:only-of-type {\n",
       "        vertical-align: middle;\n",
       "    }\n",
       "\n",
       "    .dataframe tbody tr th {\n",
       "        vertical-align: top;\n",
       "    }\n",
       "\n",
       "    .dataframe thead th {\n",
       "        text-align: right;\n",
       "    }\n",
       "</style>\n",
       "<table border=\"1\" class=\"dataframe\">\n",
       "  <thead>\n",
       "    <tr style=\"text-align: right;\">\n",
       "      <th></th>\n",
       "      <th>Date</th>\n",
       "      <th>Close</th>\n",
       "      <th>Open</th>\n",
       "    </tr>\n",
       "  </thead>\n",
       "  <tbody>\n",
       "    <tr>\n",
       "      <td>0</td>\n",
       "      <td>2001-01-05</td>\n",
       "      <td>13,867.61</td>\n",
       "      <td>13,763.22</td>\n",
       "    </tr>\n",
       "    <tr>\n",
       "      <td>1</td>\n",
       "      <td>2001-01-09</td>\n",
       "      <td>13,610.51</td>\n",
       "      <td>13,732.85</td>\n",
       "    </tr>\n",
       "    <tr>\n",
       "      <td>2</td>\n",
       "      <td>2001-01-10</td>\n",
       "      <td>13,432.65</td>\n",
       "      <td>13,593.16</td>\n",
       "    </tr>\n",
       "    <tr>\n",
       "      <td>3</td>\n",
       "      <td>2001-01-11</td>\n",
       "      <td>13,201.07</td>\n",
       "      <td>13,433.09</td>\n",
       "    </tr>\n",
       "    <tr>\n",
       "      <td>4</td>\n",
       "      <td>2001-01-12</td>\n",
       "      <td>13,347.74</td>\n",
       "      <td>13,246.20</td>\n",
       "    </tr>\n",
       "  </tbody>\n",
       "</table>\n",
       "</div>"
      ],
      "text/plain": [
       "        Date      Close       Open\n",
       "0 2001-01-05  13,867.61  13,763.22\n",
       "1 2001-01-09  13,610.51  13,732.85\n",
       "2 2001-01-10  13,432.65  13,593.16\n",
       "3 2001-01-11  13,201.07  13,433.09\n",
       "4 2001-01-12  13,347.74  13,246.20"
      ]
     },
     "execution_count": 3,
     "metadata": {},
     "output_type": "execute_result"
    }
   ],
   "source": [
    "df_nikkei=nikkei_csv()\n",
    "df_nikkei.head()"
   ]
  },
  {
   "cell_type": "markdown",
   "metadata": {},
   "source": [
    "# ダウ平均の取得\n",
    "### https://jp.investing.com/indices/us-30-historical-data\n"
   ]
  },
  {
   "cell_type": "code",
   "execution_count": 4,
   "metadata": {},
   "outputs": [
    {
     "name": "stdout",
     "output_type": "stream",
     "text": [
      "配列長さ: 3356\n"
     ]
    },
    {
     "data": {
      "text/html": [
       "<div>\n",
       "<style scoped>\n",
       "    .dataframe tbody tr th:only-of-type {\n",
       "        vertical-align: middle;\n",
       "    }\n",
       "\n",
       "    .dataframe tbody tr th {\n",
       "        vertical-align: top;\n",
       "    }\n",
       "\n",
       "    .dataframe thead th {\n",
       "        text-align: right;\n",
       "    }\n",
       "</style>\n",
       "<table border=\"1\" class=\"dataframe\">\n",
       "  <thead>\n",
       "    <tr style=\"text-align: right;\">\n",
       "      <th></th>\n",
       "      <th>Date</th>\n",
       "      <th>dow_compare</th>\n",
       "    </tr>\n",
       "  </thead>\n",
       "  <tbody>\n",
       "    <tr>\n",
       "      <td>0</td>\n",
       "      <td>2020-05-05</td>\n",
       "      <td>0.56</td>\n",
       "    </tr>\n",
       "    <tr>\n",
       "      <td>1</td>\n",
       "      <td>2020-05-04</td>\n",
       "      <td>0.11</td>\n",
       "    </tr>\n",
       "    <tr>\n",
       "      <td>2</td>\n",
       "      <td>2020-05-01</td>\n",
       "      <td>-2.55</td>\n",
       "    </tr>\n",
       "    <tr>\n",
       "      <td>3</td>\n",
       "      <td>2020-04-30</td>\n",
       "      <td>-1.17</td>\n",
       "    </tr>\n",
       "    <tr>\n",
       "      <td>4</td>\n",
       "      <td>2020-04-29</td>\n",
       "      <td>2.21</td>\n",
       "    </tr>\n",
       "  </tbody>\n",
       "</table>\n",
       "</div>"
      ],
      "text/plain": [
       "        Date dow_compare\n",
       "0 2020-05-05        0.56\n",
       "1 2020-05-04        0.11\n",
       "2 2020-05-01       -2.55\n",
       "3 2020-04-30       -1.17\n",
       "4 2020-04-29        2.21"
      ]
     },
     "metadata": {},
     "output_type": "display_data"
    },
    {
     "data": {
      "text/html": [
       "<div>\n",
       "<style scoped>\n",
       "    .dataframe tbody tr th:only-of-type {\n",
       "        vertical-align: middle;\n",
       "    }\n",
       "\n",
       "    .dataframe tbody tr th {\n",
       "        vertical-align: top;\n",
       "    }\n",
       "\n",
       "    .dataframe thead th {\n",
       "        text-align: right;\n",
       "    }\n",
       "</style>\n",
       "<table border=\"1\" class=\"dataframe\">\n",
       "  <thead>\n",
       "    <tr style=\"text-align: right;\">\n",
       "      <th></th>\n",
       "      <th>Date</th>\n",
       "      <th>dow_compare</th>\n",
       "    </tr>\n",
       "  </thead>\n",
       "  <tbody>\n",
       "    <tr>\n",
       "      <td>3351</td>\n",
       "      <td>2007-01-10</td>\n",
       "      <td>0.21</td>\n",
       "    </tr>\n",
       "    <tr>\n",
       "      <td>3352</td>\n",
       "      <td>2007-01-09</td>\n",
       "      <td>-0.06</td>\n",
       "    </tr>\n",
       "    <tr>\n",
       "      <td>3353</td>\n",
       "      <td>2007-01-08</td>\n",
       "      <td>0.21</td>\n",
       "    </tr>\n",
       "    <tr>\n",
       "      <td>3354</td>\n",
       "      <td>2007-01-05</td>\n",
       "      <td>-0.66</td>\n",
       "    </tr>\n",
       "    <tr>\n",
       "      <td>3355</td>\n",
       "      <td>2007-01-04</td>\n",
       "      <td>0.05</td>\n",
       "    </tr>\n",
       "  </tbody>\n",
       "</table>\n",
       "</div>"
      ],
      "text/plain": [
       "           Date dow_compare\n",
       "3351 2007-01-10        0.21\n",
       "3352 2007-01-09       -0.06\n",
       "3353 2007-01-08        0.21\n",
       "3354 2007-01-05       -0.66\n",
       "3355 2007-01-04        0.05"
      ]
     },
     "metadata": {},
     "output_type": "display_data"
    }
   ],
   "source": [
    "def dow_csv():\n",
    "    df_history = pd.read_csv('stockdata/NYダウ平均株価 過去データ.csv')#,encoding='cp932')      \n",
    "\n",
    "    df_history=df_history[['日付け','前日比%']]\n",
    "    df_history.rename(columns={'日付け':'Date','前日比%':'dow_compare'},inplace=True)\n",
    "    print (\"配列長さ:\",len(df_history))\n",
    "\n",
    "    # 日付の変換　年月→\n",
    "    df_history['Date'] = pd.to_datetime(df_history['Date'], format = '%Y年%m月%d日')\n",
    "    df_history.reset_index(drop=True, inplace=True)\n",
    "    df_history['dow_compare']=df_history['dow_compare'].str.replace(\"%\",\"\")\n",
    "\n",
    "    return df_history\n",
    "\n",
    "\n",
    "df_dow=dow_csv()\n",
    "display(df_dow.head())\n",
    "display(df_dow.tail())\n"
   ]
  },
  {
   "cell_type": "markdown",
   "metadata": {},
   "source": [
    "# 結合"
   ]
  },
  {
   "cell_type": "code",
   "execution_count": 5,
   "metadata": {},
   "outputs": [],
   "source": [
    "df=pd.merge(df_nikkei,df_dow,how='inner')"
   ]
  },
  {
   "cell_type": "markdown",
   "metadata": {},
   "source": [
    "# ファイルの保存 "
   ]
  },
  {
   "cell_type": "code",
   "execution_count": 6,
   "metadata": {},
   "outputs": [],
   "source": [
    "# ファイルの保存\n",
    "df.to_csv('data/stock.csv',index=False)"
   ]
  },
  {
   "cell_type": "code",
   "execution_count": 7,
   "metadata": {},
   "outputs": [
    {
     "data": {
      "text/html": [
       "<div>\n",
       "<style scoped>\n",
       "    .dataframe tbody tr th:only-of-type {\n",
       "        vertical-align: middle;\n",
       "    }\n",
       "\n",
       "    .dataframe tbody tr th {\n",
       "        vertical-align: top;\n",
       "    }\n",
       "\n",
       "    .dataframe thead th {\n",
       "        text-align: right;\n",
       "    }\n",
       "</style>\n",
       "<table border=\"1\" class=\"dataframe\">\n",
       "  <thead>\n",
       "    <tr style=\"text-align: right;\">\n",
       "      <th></th>\n",
       "      <th>Date</th>\n",
       "      <th>Close</th>\n",
       "      <th>Open</th>\n",
       "      <th>dow_compare</th>\n",
       "    </tr>\n",
       "  </thead>\n",
       "  <tbody>\n",
       "    <tr>\n",
       "      <td>0</td>\n",
       "      <td>2007-01-04</td>\n",
       "      <td>17,353.67</td>\n",
       "      <td>17,322.50</td>\n",
       "      <td>0.05</td>\n",
       "    </tr>\n",
       "    <tr>\n",
       "      <td>1</td>\n",
       "      <td>2007-01-05</td>\n",
       "      <td>17,091.59</td>\n",
       "      <td>17,315.54</td>\n",
       "      <td>-0.66</td>\n",
       "    </tr>\n",
       "    <tr>\n",
       "      <td>2</td>\n",
       "      <td>2007-01-09</td>\n",
       "      <td>17,237.77</td>\n",
       "      <td>17,018.89</td>\n",
       "      <td>-0.06</td>\n",
       "    </tr>\n",
       "    <tr>\n",
       "      <td>3</td>\n",
       "      <td>2007-01-10</td>\n",
       "      <td>16,942.40</td>\n",
       "      <td>17,192.42</td>\n",
       "      <td>0.21</td>\n",
       "    </tr>\n",
       "    <tr>\n",
       "      <td>4</td>\n",
       "      <td>2007-01-11</td>\n",
       "      <td>16,838.17</td>\n",
       "      <td>16,958.57</td>\n",
       "      <td>0.59</td>\n",
       "    </tr>\n",
       "    <tr>\n",
       "      <td>...</td>\n",
       "      <td>...</td>\n",
       "      <td>...</td>\n",
       "      <td>...</td>\n",
       "      <td>...</td>\n",
       "    </tr>\n",
       "    <tr>\n",
       "      <td>3147</td>\n",
       "      <td>2020-04-24</td>\n",
       "      <td>19,262.00</td>\n",
       "      <td>19,331.86</td>\n",
       "      <td>1.11</td>\n",
       "    </tr>\n",
       "    <tr>\n",
       "      <td>3148</td>\n",
       "      <td>2020-04-27</td>\n",
       "      <td>19,783.22</td>\n",
       "      <td>19,410.84</td>\n",
       "      <td>1.51</td>\n",
       "    </tr>\n",
       "    <tr>\n",
       "      <td>3149</td>\n",
       "      <td>2020-04-28</td>\n",
       "      <td>19,771.19</td>\n",
       "      <td>19,776.18</td>\n",
       "      <td>-0.13</td>\n",
       "    </tr>\n",
       "    <tr>\n",
       "      <td>3150</td>\n",
       "      <td>2020-04-30</td>\n",
       "      <td>20,193.69</td>\n",
       "      <td>20,105.68</td>\n",
       "      <td>-1.17</td>\n",
       "    </tr>\n",
       "    <tr>\n",
       "      <td>3151</td>\n",
       "      <td>2020-05-01</td>\n",
       "      <td>19,619.35</td>\n",
       "      <td>19,991.97</td>\n",
       "      <td>-2.55</td>\n",
       "    </tr>\n",
       "  </tbody>\n",
       "</table>\n",
       "<p>3152 rows × 4 columns</p>\n",
       "</div>"
      ],
      "text/plain": [
       "           Date      Close       Open dow_compare\n",
       "0    2007-01-04  17,353.67  17,322.50        0.05\n",
       "1    2007-01-05  17,091.59  17,315.54       -0.66\n",
       "2    2007-01-09  17,237.77  17,018.89       -0.06\n",
       "3    2007-01-10  16,942.40  17,192.42        0.21\n",
       "4    2007-01-11  16,838.17  16,958.57        0.59\n",
       "...         ...        ...        ...         ...\n",
       "3147 2020-04-24  19,262.00  19,331.86        1.11\n",
       "3148 2020-04-27  19,783.22  19,410.84        1.51\n",
       "3149 2020-04-28  19,771.19  19,776.18       -0.13\n",
       "3150 2020-04-30  20,193.69  20,105.68       -1.17\n",
       "3151 2020-05-01  19,619.35  19,991.97       -2.55\n",
       "\n",
       "[3152 rows x 4 columns]"
      ]
     },
     "execution_count": 7,
     "metadata": {},
     "output_type": "execute_result"
    }
   ],
   "source": [
    "df"
   ]
  },
  {
   "cell_type": "code",
   "execution_count": null,
   "metadata": {},
   "outputs": [],
   "source": []
  },
  {
   "cell_type": "code",
   "execution_count": null,
   "metadata": {},
   "outputs": [],
   "source": []
  },
  {
   "cell_type": "code",
   "execution_count": null,
   "metadata": {},
   "outputs": [],
   "source": []
  },
  {
   "cell_type": "code",
   "execution_count": null,
   "metadata": {},
   "outputs": [],
   "source": []
  }
 ],
 "metadata": {
  "kernelspec": {
   "display_name": "Python 3",
   "language": "python",
   "name": "python3"
  },
  "language_info": {
   "codemirror_mode": {
    "name": "ipython",
    "version": 3
   },
   "file_extension": ".py",
   "mimetype": "text/x-python",
   "name": "python",
   "nbconvert_exporter": "python",
   "pygments_lexer": "ipython3",
   "version": "3.7.4"
  }
 },
 "nbformat": 4,
 "nbformat_minor": 4
}
