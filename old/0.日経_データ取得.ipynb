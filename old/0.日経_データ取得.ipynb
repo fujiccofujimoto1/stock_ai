{
 "cells": [
  {
   "cell_type": "markdown",
   "metadata": {},
   "source": [
    "プログラムの流れ\n",
    "1. 2000年からの履歴を取得\n",
    "1. 最新のFX情報を取得して、Dataframeに保存\n",
    "1. データフレームの結合\n",
    "1. ファイルの保存"
   ]
  },
  {
   "cell_type": "code",
   "execution_count": 5,
   "metadata": {},
   "outputs": [],
   "source": [
    "import matplotlib.pyplot as plt\n",
    "import pandas as pd"
   ]
  },
  {
   "cell_type": "markdown",
   "metadata": {},
   "source": [
    "# 日経平均の取得\n",
    "\n",
    "#### https://jp.investing.com/indices/japan-ni225-historical-data"
   ]
  },
  {
   "cell_type": "code",
   "execution_count": 6,
   "metadata": {},
   "outputs": [],
   "source": [
    "def nikkei_csv():\n",
    "    df_history = pd.read_csv('stockdata/日経平均株価 過去データ.csv')#,encoding='cp932') \n",
    "    print(df_history.shape)\n",
    "    #display(df_history)\n",
    "    #df_history=df_history.drop(index=(df_history.shape[0]-1))\n",
    "    df_history=df_history[['日付け','終値','始値']]\n",
    "    df_history.rename(columns={'日付け':'Date','始値':'Open','終値':'Close'},inplace=True)\n",
    "\n",
    "    df_history = df_history.sort_values('Date')\n",
    "\n",
    "    print (\"配列長さ:\",len(df_history))\n",
    "\n",
    "    # 日付の変換　年月\n",
    "    df_history['Date'] = pd.to_datetime(df_history['Date'], format = '%Y年%m月%d日')\n",
    "    df_history.reset_index(drop=True, inplace=True)\n",
    "    \n",
    "    \n",
    "    df_history['Open']=df_history['Open'].str.replace(\",\",\"\")\n",
    "    df_history['Close']=df_history['Close'].str.replace(\",\",\"\")\n",
    "\n",
    "    \n",
    "    return df_history"
   ]
  },
  {
   "cell_type": "code",
   "execution_count": 7,
   "metadata": {},
   "outputs": [
    {
     "name": "stdout",
     "output_type": "stream",
     "text": [
      "(4774, 7)\n",
      "配列長さ: 4774\n"
     ]
    },
    {
     "data": {
      "text/html": [
       "<div>\n",
       "<style scoped>\n",
       "    .dataframe tbody tr th:only-of-type {\n",
       "        vertical-align: middle;\n",
       "    }\n",
       "\n",
       "    .dataframe tbody tr th {\n",
       "        vertical-align: top;\n",
       "    }\n",
       "\n",
       "    .dataframe thead th {\n",
       "        text-align: right;\n",
       "    }\n",
       "</style>\n",
       "<table border=\"1\" class=\"dataframe\">\n",
       "  <thead>\n",
       "    <tr style=\"text-align: right;\">\n",
       "      <th></th>\n",
       "      <th>Date</th>\n",
       "      <th>Close</th>\n",
       "      <th>Open</th>\n",
       "    </tr>\n",
       "  </thead>\n",
       "  <tbody>\n",
       "    <tr>\n",
       "      <td>0</td>\n",
       "      <td>2001-01-05</td>\n",
       "      <td>13867.61</td>\n",
       "      <td>13763.22</td>\n",
       "    </tr>\n",
       "    <tr>\n",
       "      <td>1</td>\n",
       "      <td>2001-01-09</td>\n",
       "      <td>13610.51</td>\n",
       "      <td>13732.85</td>\n",
       "    </tr>\n",
       "    <tr>\n",
       "      <td>2</td>\n",
       "      <td>2001-01-10</td>\n",
       "      <td>13432.65</td>\n",
       "      <td>13593.16</td>\n",
       "    </tr>\n",
       "  </tbody>\n",
       "</table>\n",
       "</div>"
      ],
      "text/plain": [
       "        Date     Close      Open\n",
       "0 2001-01-05  13867.61  13763.22\n",
       "1 2001-01-09  13610.51  13732.85\n",
       "2 2001-01-10  13432.65  13593.16"
      ]
     },
     "metadata": {},
     "output_type": "display_data"
    },
    {
     "data": {
      "text/html": [
       "<div>\n",
       "<style scoped>\n",
       "    .dataframe tbody tr th:only-of-type {\n",
       "        vertical-align: middle;\n",
       "    }\n",
       "\n",
       "    .dataframe tbody tr th {\n",
       "        vertical-align: top;\n",
       "    }\n",
       "\n",
       "    .dataframe thead th {\n",
       "        text-align: right;\n",
       "    }\n",
       "</style>\n",
       "<table border=\"1\" class=\"dataframe\">\n",
       "  <thead>\n",
       "    <tr style=\"text-align: right;\">\n",
       "      <th></th>\n",
       "      <th>Date</th>\n",
       "      <th>Close</th>\n",
       "      <th>Open</th>\n",
       "    </tr>\n",
       "  </thead>\n",
       "  <tbody>\n",
       "    <tr>\n",
       "      <td>4771</td>\n",
       "      <td>2020-05-20</td>\n",
       "      <td>20595.15</td>\n",
       "      <td>20454.49</td>\n",
       "    </tr>\n",
       "    <tr>\n",
       "      <td>4772</td>\n",
       "      <td>2020-05-21</td>\n",
       "      <td>20552.31</td>\n",
       "      <td>20692.59</td>\n",
       "    </tr>\n",
       "    <tr>\n",
       "      <td>4773</td>\n",
       "      <td>2020-05-22</td>\n",
       "      <td>20388.16</td>\n",
       "      <td>20583.95</td>\n",
       "    </tr>\n",
       "  </tbody>\n",
       "</table>\n",
       "</div>"
      ],
      "text/plain": [
       "           Date     Close      Open\n",
       "4771 2020-05-20  20595.15  20454.49\n",
       "4772 2020-05-21  20552.31  20692.59\n",
       "4773 2020-05-22  20388.16  20583.95"
      ]
     },
     "metadata": {},
     "output_type": "display_data"
    }
   ],
   "source": [
    "df_nikkei=nikkei_csv()\n",
    "display(df_nikkei.head(3))\n",
    "display(df_nikkei.tail(3))\n",
    "\n"
   ]
  },
  {
   "cell_type": "markdown",
   "metadata": {},
   "source": [
    "# ダウ平均の取得\n",
    "### https://jp.investing.com/indices/us-30-historical-data\n"
   ]
  },
  {
   "cell_type": "code",
   "execution_count": 8,
   "metadata": {},
   "outputs": [
    {
     "name": "stdout",
     "output_type": "stream",
     "text": [
      "配列長さ: 3369\n"
     ]
    },
    {
     "data": {
      "text/html": [
       "<div>\n",
       "<style scoped>\n",
       "    .dataframe tbody tr th:only-of-type {\n",
       "        vertical-align: middle;\n",
       "    }\n",
       "\n",
       "    .dataframe tbody tr th {\n",
       "        vertical-align: top;\n",
       "    }\n",
       "\n",
       "    .dataframe thead th {\n",
       "        text-align: right;\n",
       "    }\n",
       "</style>\n",
       "<table border=\"1\" class=\"dataframe\">\n",
       "  <thead>\n",
       "    <tr style=\"text-align: right;\">\n",
       "      <th></th>\n",
       "      <th>Date</th>\n",
       "      <th>dow_compare</th>\n",
       "    </tr>\n",
       "  </thead>\n",
       "  <tbody>\n",
       "    <tr>\n",
       "      <td>0</td>\n",
       "      <td>2020-05-22</td>\n",
       "      <td>-0.04</td>\n",
       "    </tr>\n",
       "    <tr>\n",
       "      <td>1</td>\n",
       "      <td>2020-05-21</td>\n",
       "      <td>-0.41</td>\n",
       "    </tr>\n",
       "    <tr>\n",
       "      <td>2</td>\n",
       "      <td>2020-05-20</td>\n",
       "      <td>1.52</td>\n",
       "    </tr>\n",
       "  </tbody>\n",
       "</table>\n",
       "</div>"
      ],
      "text/plain": [
       "        Date dow_compare\n",
       "0 2020-05-22       -0.04\n",
       "1 2020-05-21       -0.41\n",
       "2 2020-05-20        1.52"
      ]
     },
     "metadata": {},
     "output_type": "display_data"
    },
    {
     "data": {
      "text/html": [
       "<div>\n",
       "<style scoped>\n",
       "    .dataframe tbody tr th:only-of-type {\n",
       "        vertical-align: middle;\n",
       "    }\n",
       "\n",
       "    .dataframe tbody tr th {\n",
       "        vertical-align: top;\n",
       "    }\n",
       "\n",
       "    .dataframe thead th {\n",
       "        text-align: right;\n",
       "    }\n",
       "</style>\n",
       "<table border=\"1\" class=\"dataframe\">\n",
       "  <thead>\n",
       "    <tr style=\"text-align: right;\">\n",
       "      <th></th>\n",
       "      <th>Date</th>\n",
       "      <th>dow_compare</th>\n",
       "    </tr>\n",
       "  </thead>\n",
       "  <tbody>\n",
       "    <tr>\n",
       "      <td>3366</td>\n",
       "      <td>2007-01-08</td>\n",
       "      <td>0.21</td>\n",
       "    </tr>\n",
       "    <tr>\n",
       "      <td>3367</td>\n",
       "      <td>2007-01-05</td>\n",
       "      <td>-0.66</td>\n",
       "    </tr>\n",
       "    <tr>\n",
       "      <td>3368</td>\n",
       "      <td>2007-01-04</td>\n",
       "      <td>0.05</td>\n",
       "    </tr>\n",
       "  </tbody>\n",
       "</table>\n",
       "</div>"
      ],
      "text/plain": [
       "           Date dow_compare\n",
       "3366 2007-01-08        0.21\n",
       "3367 2007-01-05       -0.66\n",
       "3368 2007-01-04        0.05"
      ]
     },
     "metadata": {},
     "output_type": "display_data"
    }
   ],
   "source": [
    "def dow_csv():\n",
    "    df_history = pd.read_csv('stockdata/NYダウ平均株価 過去データ.csv')#,encoding='cp932')      \n",
    "\n",
    "    df_history=df_history[['日付け','前日比%']]\n",
    "    df_history.rename(columns={'日付け':'Date','前日比%':'dow_compare'},inplace=True)\n",
    "    print (\"配列長さ:\",len(df_history))\n",
    "\n",
    "    # 日付の変換　年月→\n",
    "    df_history['Date'] = pd.to_datetime(df_history['Date'], format = '%Y年%m月%d日')\n",
    "    df_history.reset_index(drop=True, inplace=True)\n",
    "    df_history['dow_compare']=df_history['dow_compare'].str.replace(\"%\",\"\")\n",
    "    \n",
    "    \n",
    "    \n",
    "\n",
    "    return df_history\n",
    "\n",
    "\n",
    "df_dow=dow_csv()\n",
    "display(df_dow.head(3))\n",
    "display(df_dow.tail(3))\n"
   ]
  },
  {
   "cell_type": "markdown",
   "metadata": {},
   "source": [
    "# 結合"
   ]
  },
  {
   "cell_type": "code",
   "execution_count": 9,
   "metadata": {},
   "outputs": [
    {
     "name": "stdout",
     "output_type": "stream",
     "text": [
      "<class 'pandas.core.frame.DataFrame'>\n",
      "Int64Index: 3164 entries, 0 to 3163\n",
      "Data columns (total 4 columns):\n",
      "Date           3164 non-null datetime64[ns]\n",
      "Close          3164 non-null float64\n",
      "Open           3164 non-null float64\n",
      "dow_compare    3164 non-null object\n",
      "dtypes: datetime64[ns](1), float64(2), object(1)\n",
      "memory usage: 123.6+ KB\n"
     ]
    }
   ],
   "source": [
    "df=pd.merge(df_nikkei,df_dow,how='inner')\n",
    "df['Close']=df['Close'].astype('float')\n",
    "df['Open']=df['Open'].astype('float')\n",
    "df.info()"
   ]
  },
  {
   "cell_type": "markdown",
   "metadata": {},
   "source": [
    "# ファイルの保存 "
   ]
  },
  {
   "cell_type": "code",
   "execution_count": 10,
   "metadata": {},
   "outputs": [],
   "source": [
    "# ファイルの保存\n",
    "df.to_csv('data/stock.csv',index=False)"
   ]
  },
  {
   "cell_type": "code",
   "execution_count": 11,
   "metadata": {},
   "outputs": [
    {
     "data": {
      "text/html": [
       "<div>\n",
       "<style scoped>\n",
       "    .dataframe tbody tr th:only-of-type {\n",
       "        vertical-align: middle;\n",
       "    }\n",
       "\n",
       "    .dataframe tbody tr th {\n",
       "        vertical-align: top;\n",
       "    }\n",
       "\n",
       "    .dataframe thead th {\n",
       "        text-align: right;\n",
       "    }\n",
       "</style>\n",
       "<table border=\"1\" class=\"dataframe\">\n",
       "  <thead>\n",
       "    <tr style=\"text-align: right;\">\n",
       "      <th></th>\n",
       "      <th>Date</th>\n",
       "      <th>Close</th>\n",
       "      <th>Open</th>\n",
       "      <th>dow_compare</th>\n",
       "    </tr>\n",
       "  </thead>\n",
       "  <tbody>\n",
       "    <tr>\n",
       "      <td>0</td>\n",
       "      <td>2007-01-04</td>\n",
       "      <td>17353.67</td>\n",
       "      <td>17322.50</td>\n",
       "      <td>0.05</td>\n",
       "    </tr>\n",
       "    <tr>\n",
       "      <td>1</td>\n",
       "      <td>2007-01-05</td>\n",
       "      <td>17091.59</td>\n",
       "      <td>17315.54</td>\n",
       "      <td>-0.66</td>\n",
       "    </tr>\n",
       "    <tr>\n",
       "      <td>2</td>\n",
       "      <td>2007-01-09</td>\n",
       "      <td>17237.77</td>\n",
       "      <td>17018.89</td>\n",
       "      <td>-0.06</td>\n",
       "    </tr>\n",
       "    <tr>\n",
       "      <td>3</td>\n",
       "      <td>2007-01-10</td>\n",
       "      <td>16942.40</td>\n",
       "      <td>17192.42</td>\n",
       "      <td>0.21</td>\n",
       "    </tr>\n",
       "    <tr>\n",
       "      <td>4</td>\n",
       "      <td>2007-01-11</td>\n",
       "      <td>16838.17</td>\n",
       "      <td>16958.57</td>\n",
       "      <td>0.59</td>\n",
       "    </tr>\n",
       "    <tr>\n",
       "      <td>...</td>\n",
       "      <td>...</td>\n",
       "      <td>...</td>\n",
       "      <td>...</td>\n",
       "      <td>...</td>\n",
       "    </tr>\n",
       "    <tr>\n",
       "      <td>3159</td>\n",
       "      <td>2020-05-18</td>\n",
       "      <td>20133.73</td>\n",
       "      <td>20097.62</td>\n",
       "      <td>3.85</td>\n",
       "    </tr>\n",
       "    <tr>\n",
       "      <td>3160</td>\n",
       "      <td>2020-05-19</td>\n",
       "      <td>20433.45</td>\n",
       "      <td>20469.52</td>\n",
       "      <td>-1.59</td>\n",
       "    </tr>\n",
       "    <tr>\n",
       "      <td>3161</td>\n",
       "      <td>2020-05-20</td>\n",
       "      <td>20595.15</td>\n",
       "      <td>20454.49</td>\n",
       "      <td>1.52</td>\n",
       "    </tr>\n",
       "    <tr>\n",
       "      <td>3162</td>\n",
       "      <td>2020-05-21</td>\n",
       "      <td>20552.31</td>\n",
       "      <td>20692.59</td>\n",
       "      <td>-0.41</td>\n",
       "    </tr>\n",
       "    <tr>\n",
       "      <td>3163</td>\n",
       "      <td>2020-05-22</td>\n",
       "      <td>20388.16</td>\n",
       "      <td>20583.95</td>\n",
       "      <td>-0.04</td>\n",
       "    </tr>\n",
       "  </tbody>\n",
       "</table>\n",
       "<p>3164 rows × 4 columns</p>\n",
       "</div>"
      ],
      "text/plain": [
       "           Date     Close      Open dow_compare\n",
       "0    2007-01-04  17353.67  17322.50        0.05\n",
       "1    2007-01-05  17091.59  17315.54       -0.66\n",
       "2    2007-01-09  17237.77  17018.89       -0.06\n",
       "3    2007-01-10  16942.40  17192.42        0.21\n",
       "4    2007-01-11  16838.17  16958.57        0.59\n",
       "...         ...       ...       ...         ...\n",
       "3159 2020-05-18  20133.73  20097.62        3.85\n",
       "3160 2020-05-19  20433.45  20469.52       -1.59\n",
       "3161 2020-05-20  20595.15  20454.49        1.52\n",
       "3162 2020-05-21  20552.31  20692.59       -0.41\n",
       "3163 2020-05-22  20388.16  20583.95       -0.04\n",
       "\n",
       "[3164 rows x 4 columns]"
      ]
     },
     "execution_count": 11,
     "metadata": {},
     "output_type": "execute_result"
    }
   ],
   "source": [
    "df"
   ]
  },
  {
   "cell_type": "code",
   "execution_count": null,
   "metadata": {},
   "outputs": [],
   "source": []
  },
  {
   "cell_type": "code",
   "execution_count": null,
   "metadata": {},
   "outputs": [],
   "source": []
  },
  {
   "cell_type": "code",
   "execution_count": null,
   "metadata": {},
   "outputs": [],
   "source": []
  }
 ],
 "metadata": {
  "kernelspec": {
   "display_name": "Python 3",
   "language": "python",
   "name": "python3"
  },
  "language_info": {
   "codemirror_mode": {
    "name": "ipython",
    "version": 3
   },
   "file_extension": ".py",
   "mimetype": "text/x-python",
   "name": "python",
   "nbconvert_exporter": "python",
   "pygments_lexer": "ipython3",
   "version": "3.7.4"
  }
 },
 "nbformat": 4,
 "nbformat_minor": 4
}
