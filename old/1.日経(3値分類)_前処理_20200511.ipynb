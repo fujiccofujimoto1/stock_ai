{
 "cells": [
  {
   "cell_type": "markdown",
   "metadata": {},
   "source": [
    "# メモ Todo \n",
    "## 下がる、下がらないのベルーヌーイ分布で確率をだす。\n",
    "## poisson分布"
   ]
  },
  {
   "cell_type": "markdown",
   "metadata": {},
   "source": [
    "# フロー\n",
    "1. 変数の定義\n",
    "1. 過去のCSVファイルからデータをロードする\n",
    "1. 前処理モジュールの定義（当日の上昇率、過去からの上昇率、下降率）\n",
    "1. CSVロードして、並び替え、必要な日付からにする\n",
    "1. 前処理部分(現在の値と、過去のからの上昇率、下降率を記したDFを作成)\n",
    "1. 前処理データの保存"
   ]
  },
  {
   "cell_type": "markdown",
   "metadata": {},
   "source": [
    "# 変数の定義\n"
   ]
  },
  {
   "cell_type": "code",
   "execution_count": 16,
   "metadata": {},
   "outputs": [],
   "source": [
    "# 変数の定義\n",
    "import pandas as pd\n",
    "import pandas_profiling as pdp\n",
    "\n",
    "pram_predict_day=1                   # 1日後の予測をする\n",
    "#pram_predict_plus_percent=0.70            # 70%で上昇率、下降の設定\n",
    "#pram_predict_minus_percent=0.20           # 40%で上昇率、下降の設定\n",
    "pram_predict_plus_percent=0.40             # 40%で上昇率、下降の設定\n",
    "pram_predict_minus_percent=0.40            # 40%で上昇率、下降の設定\n",
    "pd.set_option('display.max_columns', 100)\n",
    "\n",
    "\n",
    "YEAR=\"\"\n",
    "start_date='2000-01-29'             #元データを2000年からにする"
   ]
  },
  {
   "cell_type": "markdown",
   "metadata": {},
   "source": [
    "# 過去のCSVファイルからデータをロードする\n"
   ]
  },
  {
   "cell_type": "code",
   "execution_count": 17,
   "metadata": {},
   "outputs": [],
   "source": [
    "# 過去のCSVファイルからデータをロードする\n",
    "\n",
    "class load_csv:\n",
    "    #CSVは右記サイトのからダウンロード https://stooq.com/q/d/?s=zarjpy\n",
    "    import pandas as pd\n",
    "    \n",
    "    def load(self):\n",
    "        #df_fx=pd.read_csv('data/zarjpy_d.csv')\n",
    "        df_fx=pd.read_csv('data/stock.csv')\n",
    "        \n",
    "        #df.to_csv('data/stock.csv',index=False)\n",
    "        df_fx=df_fx.ix[:,['Date','Open','Close',\"dow_compare\"]]\n",
    "        \n",
    "        print (\"配列長さ:\",len(df_fx))\n",
    "        return df_fx"
   ]
  },
  {
   "cell_type": "markdown",
   "metadata": {},
   "source": [
    "# 前処理モジュールの定義（当日の上昇率、過去からの上昇率、下降率）\n"
   ]
  },
  {
   "cell_type": "code",
   "execution_count": 18,
   "metadata": {},
   "outputs": [],
   "source": [
    "# 偏差値\n",
    "def Deviation_value(df_tmp,x):\n",
    "    std=df_tmp.std()['Open']\n",
    "\n",
    "    mean=df_tmp.mean()['Open']\n",
    "    deviation=(mean-x)*10/std+50\n",
    "\n",
    "    return deviation\n"
   ]
  },
  {
   "cell_type": "code",
   "execution_count": 19,
   "metadata": {},
   "outputs": [],
   "source": [
    "# 前処理モジュールの定義（当日の上昇率、過去からの上昇率、下降率）\n",
    "\n",
    "\n",
    "def result(day0,xday):          #day0 当日の上昇率(close/open)の結果を返す\n",
    "    rate=0  #上昇率\n",
    "    if ((i-xday)>=0 and data_len>(i-xday)): \n",
    "        rate= ((df_fx.iloc[i,close_index]/df_fx.iloc[i,open_index])-1)*100\n",
    "    return rate\n",
    "\n",
    "def persent(day0,xday):         #　当日のopen価格と、過去のと比較して上昇率(当日open/過去open)を返す\n",
    "    rate=0  #上昇率\n",
    "    if ((i-xday)>=0 and data_len>(i-xday)):        \n",
    "        rate= ((df_fx.iloc[i,open_index]/df_fx.iloc[i-xday,open_index])-1)*100\n",
    "        if rate <0:\n",
    "            rate=0\n",
    "        #rate=np.log10(rate)\n",
    "    return rate\n",
    "\n",
    "def persent_minus(day0,xday):   #　当日のopen価格と、過去のと比較して下降率(-当日open/過去open)を返す\n",
    "    rate=0  #上昇率\n",
    "    if ((i-xday)>=0 and data_len>(i-xday)):        \n",
    "        rate= ((df_fx.iloc[i,open_index]/df_fx.iloc[i-xday,open_index])-1)*100\n",
    "        if rate>0:\n",
    "            rate=0\n",
    "        #rate=np.log10(rate)\n",
    "    return rate"
   ]
  },
  {
   "cell_type": "markdown",
   "metadata": {},
   "source": [
    "# CSVロードして、並び替え、必要な日付からにする\n"
   ]
  },
  {
   "cell_type": "code",
   "execution_count": 20,
   "metadata": {},
   "outputs": [
    {
     "name": "stdout",
     "output_type": "stream",
     "text": [
      "配列長さ: 4826\n",
      "<class 'pandas.core.frame.DataFrame'>\n",
      "RangeIndex: 4809 entries, 0 to 4808\n",
      "Data columns (total 4 columns):\n",
      "Date           4809 non-null object\n",
      "Open           4809 non-null float64\n",
      "Close          4809 non-null float64\n",
      "dow_compare    4809 non-null float64\n",
      "dtypes: float64(3), object(1)\n",
      "memory usage: 150.4+ KB\n"
     ]
    },
    {
     "name": "stderr",
     "output_type": "stream",
     "text": [
      "/Users/fujiccofujimoto/.pyenv/versions/Anaconda3-2019.10/lib/python3.7/site-packages/ipykernel_launcher.py:12: FutureWarning: \n",
      ".ix is deprecated. Please use\n",
      ".loc for label based indexing or\n",
      ".iloc for positional indexing\n",
      "\n",
      "See the documentation here:\n",
      "http://pandas.pydata.org/pandas-docs/stable/user_guide/indexing.html#ix-indexer-is-deprecated\n",
      "  if sys.path[0] == '':\n"
     ]
    }
   ],
   "source": [
    "LOAD_CSV=load_csv()\n",
    "df_fx=LOAD_CSV.load()\n",
    "#df_fx=df_fx.sort_values(by='Date')\n",
    "\n",
    "df_fx=df_fx[(df_fx['Date']>=start_date )]\n",
    "df_fx = df_fx.reset_index(drop=True)\n",
    "data_len=len(df_fx)\n",
    "\n",
    "df_fx.tail(10)\n",
    "df_fx.info()"
   ]
  },
  {
   "cell_type": "code",
   "execution_count": 21,
   "metadata": {},
   "outputs": [],
   "source": [
    "df=pd.DataFrame(data=None, index=None, columns=None, dtype=None, copy=False)\n",
    "df = pd.DataFrame(index=['Date'], columns=[\n",
    "\"Date\" ,\"Close\",\"Open\",\n",
    "\"day+1\" ,\"day+2\" ,\"day+3\",\n",
    "\"day+4\" ,\"day+5\" ,\"day+6\",\n",
    "\"day+7\" ,\"day+8\" ,\"day+9\",\n",
    "\"day+10\",\"day+11\",\"day+12\",\n",
    "\"day+13\",\"day+14\",\"day+15\",\n",
    "\"day+16\",\"day+17\",\"day+18\",\n",
    "\"day+19\",\"day+20\",\"day+21\",\n",
    "\"day+22\",\"day+23\",\"day+24\",\n",
    "\"day+25\",\"day+26\",\"day+27\",\n",
    "\"day+28\",\"day+29\",\"day+30\",\n",
    "\n",
    "\"day-1\" ,\"day-2\" ,\"day-3\",\n",
    "\"day-4\" ,\"day-5\" ,\"day-6\",\n",
    "\"day-7\" ,\"day-8\" ,\"day-9\",\n",
    "\"day-10\",\"day-11\",\"day-12\",\n",
    "\"day-13\",\"day-14\",\"day-15\",\n",
    "\"day-16\",\"day-17\",\"day-18\",\n",
    "\"day-19\",\"day-20\",\"day-21\",\n",
    "\"day-22\",\"day-23\",\"day-24\",\n",
    "\"day-25\",\"day-26\",\"day-27\",\n",
    "\"day-28\",\"day-29\",\"day-30\",\n",
    "    \n",
    "\"std-30\",\"std-60\",\"std-90\",\n",
    "    \n",
    "\"dow_compare\",\n",
    "\"label_up\",\"label_none\",\"label_down\",\n",
    "#\"label2_up\",\"label2_down\"\n",
    "])"
   ]
  },
  {
   "cell_type": "code",
   "execution_count": 22,
   "metadata": {},
   "outputs": [
    {
     "data": {
      "text/html": [
       "<div>\n",
       "<style scoped>\n",
       "    .dataframe tbody tr th:only-of-type {\n",
       "        vertical-align: middle;\n",
       "    }\n",
       "\n",
       "    .dataframe tbody tr th {\n",
       "        vertical-align: top;\n",
       "    }\n",
       "\n",
       "    .dataframe thead th {\n",
       "        text-align: right;\n",
       "    }\n",
       "</style>\n",
       "<table border=\"1\" class=\"dataframe\">\n",
       "  <thead>\n",
       "    <tr style=\"text-align: right;\">\n",
       "      <th></th>\n",
       "      <th>Date</th>\n",
       "      <th>Open</th>\n",
       "      <th>Close</th>\n",
       "      <th>dow_compare</th>\n",
       "    </tr>\n",
       "  </thead>\n",
       "  <tbody>\n",
       "    <tr>\n",
       "      <td>0</td>\n",
       "      <td>2000-01-31</td>\n",
       "      <td>19375.109375</td>\n",
       "      <td>19539.699219</td>\n",
       "      <td>1.019073</td>\n",
       "    </tr>\n",
       "    <tr>\n",
       "      <td>1</td>\n",
       "      <td>2000-02-01</td>\n",
       "      <td>19536.679688</td>\n",
       "      <td>19423.380859</td>\n",
       "      <td>1.009445</td>\n",
       "    </tr>\n",
       "    <tr>\n",
       "      <td>2</td>\n",
       "      <td>2000-02-02</td>\n",
       "      <td>19522.330078</td>\n",
       "      <td>19578.910156</td>\n",
       "      <td>0.996880</td>\n",
       "    </tr>\n",
       "    <tr>\n",
       "      <td>3</td>\n",
       "      <td>2000-02-03</td>\n",
       "      <td>19648.349609</td>\n",
       "      <td>19786.419922</td>\n",
       "      <td>1.000269</td>\n",
       "    </tr>\n",
       "    <tr>\n",
       "      <td>4</td>\n",
       "      <td>2000-02-04</td>\n",
       "      <td>19866.189453</td>\n",
       "      <td>19763.130859</td>\n",
       "      <td>0.995409</td>\n",
       "    </tr>\n",
       "    <tr>\n",
       "      <td>5</td>\n",
       "      <td>2000-02-07</td>\n",
       "      <td>19832.759766</td>\n",
       "      <td>19945.429688</td>\n",
       "      <td>0.994512</td>\n",
       "    </tr>\n",
       "    <tr>\n",
       "      <td>6</td>\n",
       "      <td>2000-02-08</td>\n",
       "      <td>19955.300781</td>\n",
       "      <td>19868.880859</td>\n",
       "      <td>1.004892</td>\n",
       "    </tr>\n",
       "    <tr>\n",
       "      <td>7</td>\n",
       "      <td>2000-02-09</td>\n",
       "      <td>19930.410156</td>\n",
       "      <td>20007.769531</td>\n",
       "      <td>0.977198</td>\n",
       "    </tr>\n",
       "  </tbody>\n",
       "</table>\n",
       "</div>"
      ],
      "text/plain": [
       "         Date          Open         Close  dow_compare\n",
       "0  2000-01-31  19375.109375  19539.699219     1.019073\n",
       "1  2000-02-01  19536.679688  19423.380859     1.009445\n",
       "2  2000-02-02  19522.330078  19578.910156     0.996880\n",
       "3  2000-02-03  19648.349609  19786.419922     1.000269\n",
       "4  2000-02-04  19866.189453  19763.130859     0.995409\n",
       "5  2000-02-07  19832.759766  19945.429688     0.994512\n",
       "6  2000-02-08  19955.300781  19868.880859     1.004892\n",
       "7  2000-02-09  19930.410156  20007.769531     0.977198"
      ]
     },
     "execution_count": 22,
     "metadata": {},
     "output_type": "execute_result"
    }
   ],
   "source": [
    "date_index=  df_fx.columns.get_loc('Date')\n",
    "close_index= df_fx.columns.get_loc('Close')\n",
    "open_index=  df_fx.columns.get_loc('Open')\n",
    "\n",
    "dow_compare_index=df_fx.columns.get_loc('dow_compare')\n",
    "\n",
    "\n",
    "df_fx.head(8)"
   ]
  },
  {
   "cell_type": "markdown",
   "metadata": {},
   "source": [
    "# 前処理部分　（現在の値と、過去のからの上昇率、下降率を記したDFを作成）\n",
    "\n"
   ]
  },
  {
   "cell_type": "code",
   "execution_count": 23,
   "metadata": {},
   "outputs": [
    {
     "name": "stdout",
     "output_type": "stream",
     "text": [
      "0.0% 2.1% 4.2% 6.2% 8.3% 10.4% 12.5% 14.6% 16.6% 18.7% 20.8% 22.9% 25.0% 27.0% 29.1% 31.2% 33.3% 35.4% 37.4% 39.5% 41.6% 43.7% 45.7% 47.8% 49.9% 52.0% 54.1% 56.1% 58.2% 60.3% 62.4% 64.5% 66.5% 68.6% 70.7% 72.8% 74.9% 76.9% 79.0% 81.1% 83.2% 85.3% 87.3% 89.4% 91.5% 93.6% 95.7% 97.7% 99.8% "
     ]
    }
   ],
   "source": [
    "# 前処理部分　（現在の値と、過去のからの上昇率、下降率を記したDFを作成\n",
    "for i in range(data_len) :\n",
    "    Date_day=df_fx.iloc[i,date_index ]\n",
    "\n",
    "    if i%100==0:\n",
    "        print('{0:.1%}'.format(i/data_len),end=\" \")\n",
    "\n",
    "    #当日のOPENの株価\n",
    "    day0         =df_fx.iloc[i,open_index]\n",
    "    day0_open    =df_fx.iloc[i,open_index] \n",
    "    day0_close   =df_fx.iloc[i,close_index] \n",
    "    day0_dow_compare  =df_fx.iloc[i,dow_compare_index] \n",
    "\n",
    "    #その後の結果から正解ラベルを作成\n",
    "    label_up=0     #上昇\n",
    "    label_none=0   #変化少ない\n",
    "    label_down=0   #下降\n",
    "\n",
    "    #正解データの計算  (pram_predict_day) 日後に、(pram_predict_persent)％の前後がある\n",
    "    prediction=result(day0_open,pram_predict_day)    \n",
    "\n",
    "    # ３つのらべるの場合\n",
    "    if prediction>=      pram_predict_plus_percent:\n",
    "        label_up  =1        #上昇\n",
    "        label_none=0        #そのまま\n",
    "        label_down=0        #下降\n",
    "    elif prediction<=   -pram_predict_minus_percent:\n",
    "        label_up  =0        #上昇\n",
    "        label_none=0        #そのまま\n",
    "        label_down=1        #下降\n",
    "    else:\n",
    "        \n",
    "        label_up  =0        #上昇\n",
    "        label_none=1        #そのまま\n",
    "        label_down=0        #下降\n",
    "    \n",
    "    Deviation30=Deviation_value(df.tail(30),day0_open)\n",
    "    Deviation60=Deviation_value(df.tail(60),day0_open)\n",
    "    Deviation90=Deviation_value(df.tail(90),day0_open)\n",
    "    \n",
    "    series=pd.Series([Date_day,day0_close,day0_open,\n",
    "                      persent(day0,1),persent(day0,2),persent(day0,3),\n",
    "                      persent(day0,4),persent(day0,5),persent(day0,6),\n",
    "                      persent(day0,7),persent(day0,8),persent(day0,9),\n",
    "                      persent(day0,10),persent(day0,11),persent(day0,12),\n",
    "                      persent(day0,13),persent(day0,14),persent(day0,15),\n",
    "                      persent(day0,16),persent(day0,17),persent(day0,18),\n",
    "                      persent(day0,19),persent(day0,20),persent(day0,21),\n",
    "                      persent(day0,22),persent(day0,23),persent(day0,24),\n",
    "                      persent(day0,25),persent(day0,26),persent(day0,27),\n",
    "                      persent(day0,28),persent(day0,29),persent(day0,30),\n",
    "\n",
    "                      persent_minus(day0,1),persent_minus(day0,2),persent_minus(day0,3),\n",
    "                      persent_minus(day0,4),persent_minus(day0,5),persent_minus(day0,6),\n",
    "                      persent_minus(day0,7),persent_minus(day0,8),persent_minus(day0,9),\n",
    "                      persent_minus(day0,10),persent_minus(day0,11),persent_minus(day0,12),\n",
    "                      persent_minus(day0,13),persent_minus(day0,14),persent_minus(day0,15),\n",
    "                      persent_minus(day0,16),persent_minus(day0,17),persent_minus(day0,18),\n",
    "                      persent_minus(day0,19),persent_minus(day0,20),persent_minus(day0,21),\n",
    "                      persent_minus(day0,22),persent_minus(day0,23),persent_minus(day0,24),\n",
    "                      persent_minus(day0,25),persent_minus(day0,26),persent_minus(day0,27),\n",
    "                      persent_minus(day0,28),persent_minus(day0,29),persent_minus(day0,30),\n",
    "                      \n",
    "                      Deviation30,Deviation60,Deviation90,\n",
    "                      day0_dow_compare,\n",
    "                      label_up,label_none,label_down,\n",
    "                     ]\n",
    "                      ,index=df.columns)\n",
    "    series.append\n",
    "    df=df.append(series,ignore_index = True)"
   ]
  },
  {
   "cell_type": "markdown",
   "metadata": {},
   "source": [
    "## 移動平均の追加"
   ]
  },
  {
   "cell_type": "code",
   "execution_count": 31,
   "metadata": {},
   "outputs": [],
   "source": [
    "df['rolling_up5']=df[\"label_up\"].rolling(window=5).mean()\n",
    "df['rolling_down5']=df[\"label_down\"].rolling(window=5).mean()\n",
    "df['label_none5']=df[\"label_none\"].rolling(window=5).mean()\n",
    "\n",
    "df['rolling_up10']=df[\"label_up\"].rolling(window=10).mean()\n",
    "df['rolling_down10']=df[\"label_down\"].rolling(window=10).mean()\n",
    "df['label_none10']=df[\"label_none\"].rolling(window=10).mean()"
   ]
  },
  {
   "cell_type": "code",
   "execution_count": 32,
   "metadata": {},
   "outputs": [],
   "source": [
    "df['restult']=df['Close']/df['Open']"
   ]
  },
  {
   "cell_type": "code",
   "execution_count": null,
   "metadata": {},
   "outputs": [],
   "source": []
  },
  {
   "cell_type": "code",
   "execution_count": null,
   "metadata": {},
   "outputs": [],
   "source": []
  },
  {
   "cell_type": "markdown",
   "metadata": {},
   "source": [
    "# 前処理データの保存"
   ]
  },
  {
   "cell_type": "code",
   "execution_count": 33,
   "metadata": {},
   "outputs": [],
   "source": [
    "df.to_csv('data/stock_preprocessing.csv',index=False)"
   ]
  },
  {
   "cell_type": "code",
   "execution_count": 34,
   "metadata": {},
   "outputs": [],
   "source": [
    "#df=pd.read_csv('data/fx_preprocessing.csv')\n",
    "#df"
   ]
  },
  {
   "cell_type": "raw",
   "metadata": {},
   "source": [
    "# up 0.60の場合\n",
    "# down 0.25の場合\n",
    "'''\n",
    "print(df[df['label_up']==1].shape)\n",
    "print(df[df['label_none']==1].shape)\n",
    "print(df[df['label_down']==1].shape)\n",
    "\n",
    "(1717, 68)\n",
    "(1593, 68)\n",
    "(1491, 68)\n",
    "'''"
   ]
  },
  {
   "cell_type": "code",
   "execution_count": 35,
   "metadata": {},
   "outputs": [
    {
     "data": {
      "image/png": "[encoded data removed]",
      "text/plain": [
       "<Figure size 432x288 with 1 Axes>"
      ]
     },
     "metadata": {
      "needs_background": "light"
     },
     "output_type": "display_data"
    }
   ],
   "source": [
    "import numpy as np,matplotlib.pyplot as plt,math\n",
    "# lam= 一定時間のくる確率 / k  = 一定時間\n",
    "for lam in range(1,21,4):\n",
    "    plt.ylim((0,0.4))\n",
    "    po,x=[],[]    \n",
    "    for k in range(0,30,1):\n",
    "        po.append(np.exp(-lam)*lam**k/math.factorial(k))     \n",
    "        x.append(k)\n",
    "    plt.plot(x,po,label=\"λ={}\".format(lam))\n",
    "plt.xlabel(\"k\")\n",
    "plt.legend(loc=\"best\")    #凡例を表示\n",
    "plt.ylabel(\"P(X=k)\")\n",
    "plt.title(\"poisson distribution\")\n",
    "plt.show()"
   ]
  },
  {
   "cell_type": "code",
   "execution_count": 36,
   "metadata": {},
   "outputs": [
    {
     "data": {
      "text/plain": [
       "0            NaN\n",
       "1            NaN\n",
       "2            NaN\n",
       "3            NaN\n",
       "4            NaN\n",
       "          ...   \n",
       "4805    0.366667\n",
       "4806    0.400000\n",
       "4807    0.400000\n",
       "4808    0.400000\n",
       "4809    0.400000\n",
       "Name: label_none, Length: 4810, dtype: float64"
      ]
     },
     "execution_count": 36,
     "metadata": {},
     "output_type": "execute_result"
    }
   ],
   "source": [
    "df[\"label_none\"].rolling(window=30).mean()\n"
   ]
  },
  {
   "cell_type": "code",
   "execution_count": 37,
   "metadata": {},
   "outputs": [],
   "source": [
    "#df[\"label_up\"].rolling(window=30).mean()\n",
    "\n",
    "#df[\"label_down\"].rolling(window=30).mean()\n",
    "lam=df[\"label_none\"].rolling(window=30).mean()\n",
    "\n",
    "po=np.exp(-lam)*lam"
   ]
  },
  {
   "cell_type": "code",
   "execution_count": null,
   "metadata": {},
   "outputs": [],
   "source": []
  },
  {
   "cell_type": "code",
   "execution_count": null,
   "metadata": {},
   "outputs": [],
   "source": []
  }
 ],
 "metadata": {
  "kernelspec": {
   "display_name": "Python 3",
   "language": "python",
   "name": "python3"
  },
  "language_info": {
   "codemirror_mode": {
    "name": "ipython",
    "version": 3
   },
   "file_extension": ".py",
   "mimetype": "text/x-python",
   "name": "python",
   "nbconvert_exporter": "python",
   "pygments_lexer": "ipython3",
   "version": "3.7.4"
  }
 },
 "nbformat": 4,
 "nbformat_minor": 4
}
