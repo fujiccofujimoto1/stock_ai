{
 "cells": [
  {
   "cell_type": "markdown",
   "metadata": {},
   "source": [
    "## Program Flow\n",
    "\n",
    "1. モジュールインポート\n"
   ]
  },
  {
   "cell_type": "code",
   "execution_count": 1,
   "metadata": {},
   "outputs": [
    {
     "ename": "ImportError",
     "evalue": "cannot import name 'fetch_mldata' from 'sklearn.datasets' (/Users/fujiccofujimoto/.pyenv/versions/Anaconda3-2019.10/lib/python3.7/site-packages/sklearn/datasets/__init__.py)",
     "output_type": "error",
     "traceback": [
      "\u001b[0;31m---------------------------------------------------------------------------\u001b[0m",
      "\u001b[0;31mImportError\u001b[0m                               Traceback (most recent call last)",
      "\u001b[0;32m<ipython-input-1-b62a780bff57>\u001b[0m in \u001b[0;36m<module>\u001b[0;34m\u001b[0m\n\u001b[1;32m      1\u001b[0m \u001b[0;31m# scikit learnのテストデータの読み込み\u001b[0m\u001b[0;34m\u001b[0m\u001b[0;34m\u001b[0m\u001b[0;34m\u001b[0m\u001b[0m\n\u001b[0;32m----> 2\u001b[0;31m \u001b[0;32mfrom\u001b[0m \u001b[0msklearn\u001b[0m\u001b[0;34m.\u001b[0m\u001b[0mdatasets\u001b[0m \u001b[0;32mimport\u001b[0m \u001b[0mfetch_mldata\u001b[0m\u001b[0;34m\u001b[0m\u001b[0;34m\u001b[0m\u001b[0m\n\u001b[0m\u001b[1;32m      3\u001b[0m \u001b[0;32mfrom\u001b[0m \u001b[0msklearn\u001b[0m\u001b[0;34m.\u001b[0m\u001b[0mmodel_selection\u001b[0m \u001b[0;32mimport\u001b[0m \u001b[0mtrain_test_split\u001b[0m\u001b[0;34m\u001b[0m\u001b[0;34m\u001b[0m\u001b[0m\n\u001b[1;32m      4\u001b[0m \u001b[0;34m\u001b[0m\u001b[0m\n\u001b[1;32m      5\u001b[0m \u001b[0;31m# scikit learnの分類器であるSupport Vector Machineの読み込み\u001b[0m\u001b[0;34m\u001b[0m\u001b[0;34m\u001b[0m\u001b[0;34m\u001b[0m\u001b[0m\n",
      "\u001b[0;31mImportError\u001b[0m: cannot import name 'fetch_mldata' from 'sklearn.datasets' (/Users/fujiccofujimoto/.pyenv/versions/Anaconda3-2019.10/lib/python3.7/site-packages/sklearn/datasets/__init__.py)"
     ]
    }
   ],
   "source": [
    "# scikit learnのテストデータの読み込み\n",
    "from sklearn.datasets import fetch_mldata\n",
    "from sklearn.model_selection import train_test_split\n",
    "\n",
    "# scikit learnの分類器であるSupport Vector Machineの読み込み\n",
    "from sklearn.svm import LinearSVC as Classifier \n",
    "\n",
    "# scikit learnの精度測定ツールの読み込み\n",
    "from sklearn.metrics import accuracy_score\n",
    "from sklearn.metrics import confusion_matrix \n",
    "\n",
    "# pandas(pd) とNumpy(np)のモジュール\n",
    "import numpy as np\n",
    "import pandas as pd\n",
    "import sys,os,random\n",
    "import warnings"
   ]
  },
  {
   "cell_type": "markdown",
   "metadata": {},
   "source": [
    "# 変数定義"
   ]
  },
  {
   "cell_type": "code",
   "execution_count": null,
   "metadata": {},
   "outputs": [],
   "source": [
    "pram_traing_rate=0.8     #トレーニングデータとテストデータの比率"
   ]
  },
  {
   "cell_type": "markdown",
   "metadata": {},
   "source": [
    "# 前処理済みファイルのロード"
   ]
  },
  {
   "cell_type": "code",
   "execution_count": null,
   "metadata": {},
   "outputs": [],
   "source": [
    "# 乱数のシード固定\n",
    "np.random.seed(0)\n",
    "random.seed(0)\n",
    "# データフレームの表示件数の設定\n",
    "pd.set_option('display.max_columns', 100)\n",
    "\n",
    "# データロード\n",
    "df = pd.read_csv('data/fx_preprocessing.csv', index_col=None)\n",
    "\n",
    "#df[df['Date']=='2018-12-31']\n",
    "df.tail()\n",
    "df.head()\n",
    "\n",
    "\n",
    "y_loc_s=df.columns.get_loc('label_up')\n",
    "y_loc_e=df.columns.get_loc('label_down')\n",
    "df.tail(3)"
   ]
  },
  {
   "cell_type": "code",
   "execution_count": null,
   "metadata": {},
   "outputs": [],
   "source": [
    "#トレーニングデータと正解ラベルに分割\n",
    "from sklearn.preprocessing import StandardScaler\n",
    "from sklearn.preprocessing import MinMaxScaler\n",
    "from sklearn.model_selection import train_test_split\n",
    "warnings.filterwarnings('ignore')\n",
    "\n",
    "# 前後のデータのカット\n",
    "df3=df.loc[30:(len(df)-30)]\n",
    "fx_len=len(df3)\n",
    "\n",
    "\n",
    "# label数を揃える\n",
    "min_labels=[df3[df3['label_up']==1].shape[0],\n",
    "     df3[df3['label_none']==1].shape[0],\n",
    "     df3[df3['label_down']==1].shape[0]]\n",
    "\n",
    "min_sample=min(min_labels)\n",
    "\n",
    "\n",
    "# サンプル後再度結合\n",
    "df3=pd.concat([\n",
    "    df3[df3['label_up']==1].sample(n=min_sample)\n",
    "    ,df3[df3['label_down']==1].sample(n=min_sample)\n",
    "    ,df3[df3['label_none']==1].sample(n=min_sample)\n",
    "    ])\n",
    "\n",
    "print(df3[df3['label_up']==1].shape)\n",
    "print(df3[df3['label_none']==1].shape)\n",
    "print(df3[df3['label_down']==1].shape)"
   ]
  },
  {
   "cell_type": "code",
   "execution_count": null,
   "metadata": {},
   "outputs": [],
   "source": [
    "# データの分割\n",
    "train, test = train_test_split(df3, train_size=pram_traing_rate,shuffle=False)\n",
    "\n",
    "#トレーニングデータと正解ラベルに分割\n",
    "trainX,testX=train.iloc[:,3:y_loc_s],test.iloc[:,3:y_loc_s]\n",
    "trainY,testY=train.iloc[:,y_loc_s:y_loc_e+1],test.iloc[:,y_loc_s:y_loc_e+1]\n",
    "\n",
    "\n",
    "#Numpy形式に変換\n",
    "trainX,testX=trainX.as_matrix(),testX.as_matrix()\n",
    "trainY,testY=trainY.as_matrix(),testY.as_matrix()\n",
    "\n",
    "#データサンプル数の確認\n",
    "print(\"トレーニングデータ\",trainX.shape)\n",
    "print(\"トレーニングデータ\",trainY.shape)\n",
    "print(\"　 　 テストデータ\",testX.shape)\n",
    "print(\"　 　 テストデータ\",testY.shape)"
   ]
  },
  {
   "cell_type": "markdown",
   "metadata": {},
   "source": [
    "# sckit-learnの準備\n"
   ]
  },
  {
   "cell_type": "code",
   "execution_count": null,
   "metadata": {},
   "outputs": [],
   "source": [
    "testY2 =np.argmax(testY,axis=1)\n",
    "trainY2=np.argmax(trainY,axis=1)\n"
   ]
  },
  {
   "cell_type": "code",
   "execution_count": null,
   "metadata": {},
   "outputs": [],
   "source": [
    "from sklearn.ensemble import RandomForestClassifier\n",
    "from sklearn.linear_model import LogisticRegression\n",
    "from sklearn.svm import SVC\n",
    "from sklearn.tree import DecisionTreeClassifier\n",
    "from sklearn.neural_network import MLPClassifier\n",
    "from sklearn.naive_bayes import GaussianNB\n",
    "from sklearn.ensemble import AdaBoostClassifier "
   ]
  },
  {
   "cell_type": "code",
   "execution_count": null,
   "metadata": {},
   "outputs": [],
   "source": [
    "names = [\n",
    "         \"Random Forest\", \n",
    "        \"Logistic Regression\", \n",
    "         \"SVM\",\n",
    "         \"Decision Tree\", \n",
    "         \"Neural Net\", \n",
    "         \"Naive Bayes\",\n",
    "         \"AdaBoostClassifier\"\n",
    "        ]\n",
    "\n",
    "# Initializing Classifiers\n",
    "classifiers = [\n",
    "    RandomForestClassifier(random_state=1, n_estimators=100),\n",
    "    LogisticRegression(),\n",
    "    SVC(kernel=\"linear\"),\n",
    "    DecisionTreeClassifier(),\n",
    "    MLPClassifier(),\n",
    "    GaussianNB(),\n",
    "    AdaBoostClassifier()\n",
    "]"
   ]
  },
  {
   "cell_type": "code",
   "execution_count": null,
   "metadata": {},
   "outputs": [],
   "source": [
    "columns=['name','accuracy']\n",
    "df_acc=pd.DataFrame(data=None,columns=columns)\n",
    "\n",
    "for classifier, name in zip(classifiers, names):\n",
    "    \n",
    "    #　該当分類器にて、学習\n",
    "    classifier.fit(trainX ,trainY2)\n",
    " \n",
    "    #　分類器の正答率を求める\n",
    "    pre=classifier.predict(testX)\n",
    "    ac_score=accuracy_score(testY2,pre)\n",
    "    print('分類器:{:} , 精度:{:.2%}'.format(name,ac_score))\n",
    "\n",
    "    # 結果をデータフレームに入れる\n",
    "    s=pd.Series(data=[name,ac_score],index=columns)\n",
    "    df_acc=df_acc.append(s,ignore_index=True)"
   ]
  },
  {
   "cell_type": "code",
   "execution_count": null,
   "metadata": {},
   "outputs": [],
   "source": [
    "%matplotlib inline\n",
    "# データフレームの順番を分類器の精度順に表示\n",
    "df_acc=df_acc.sort_values(by=['accuracy'],ascending=True)\n",
    "\n",
    "# データフレームのラッパAPIからmatplotのapiをコールして、グラフを作成\n",
    "df_acc.plot.barh(x='name',y='accuracy',legend=False)"
   ]
  },
  {
   "cell_type": "code",
   "execution_count": null,
   "metadata": {},
   "outputs": [],
   "source": [
    "classifier=classifiers[\n",
    "df_acc[df_acc['accuracy']==df_acc['accuracy'].max()].index[0]\n",
    "]\n",
    "classifier.fit(trainX ,trainY2)\n",
    " "
   ]
  },
  {
   "cell_type": "markdown",
   "metadata": {},
   "source": [
    "# confusion_matrix"
   ]
  },
  {
   "cell_type": "code",
   "execution_count": null,
   "metadata": {},
   "outputs": [],
   "source": [
    "from sklearn import metrics\n",
    "print(\"0.label_up  \",test[test['label_up']==1].shape[0])\n",
    "print(\"1.label_none\",test[test['label_none']==1].shape[0])\n",
    "print(\"2.label_down\",test[test['label_down']==1].shape[0])\n",
    "\n",
    "predict_y=classifier.predict(testX)\n",
    "print(\"confusion matrix:\")\n",
    "print(metrics.confusion_matrix( testY2,predict_y))\n",
    "print()\n",
    "print(\"classification report:\")\n",
    "target_names = ['up','none','down']\n",
    "print(metrics.classification_report(testY2,predict_y))"
   ]
  },
  {
   "cell_type": "markdown",
   "metadata": {},
   "source": [
    "# シミュレーション"
   ]
  },
  {
   "cell_type": "code",
   "execution_count": null,
   "metadata": {},
   "outputs": [],
   "source": []
  },
  {
   "cell_type": "code",
   "execution_count": null,
   "metadata": {},
   "outputs": [],
   "source": [
    "close_index=df.columns.get_loc('Close')\n",
    "open_index=df.columns.get_loc('Open')\n",
    "date_index=df.columns.get_loc('Date')\n",
    "\n",
    "MONEY=1000000\n",
    "LEN=len(df2_num)\n",
    "\n",
    "start=len(trainX)\n",
    "end=len(df2_num)-1\n",
    "print(\"start:\",df2_num[start,0],\"〜end:\",df2_num[end,0])\n",
    "\n",
    "standard=1000000/df2_num[start,1]  \n",
    "DATE=\"\"\n",
    "result_out=\"\"\n",
    "df_sim = pd.DataFrame( columns=['Date', 'Open', 'Close', 'Up', 'money','基準価格','result','predict','正誤','利益率'] )"
   ]
  },
  {
   "cell_type": "code",
   "execution_count": null,
   "metadata": {},
   "outputs": [],
   "source": [
    "for i in range(start,end): \n",
    "        PRE=df2_num[i,np.array([\n",
    "                               3,4,5,\n",
    "                               6,7,8,\n",
    "                               9,10,11,\n",
    "                               12,13,14,\n",
    "                               15,16,17,\n",
    "                               18,19,20,\n",
    "                               21,22,23,\n",
    "                               24,25,26,\n",
    "                               27,28,29,\n",
    "                               30,31,32,\n",
    "\n",
    "                               33,34,35,\n",
    "                               36,37,38,\n",
    "                               39,40,41,\n",
    "                               42,43,44,\n",
    "                               45,46,47,\n",
    "                               48,49,50,\n",
    "                               51,52,53,\n",
    "                               54,55,56,\n",
    "                               57,58,59,\n",
    "                               60,61,62,\n",
    "                               ])]\n",
    "        \n",
    "        #予測のコマンド\n",
    "        PRE2 = classifier.predict_proba(np.resize(PRE,(1,trainX.shape[1])))\n",
    "        PRE2=PRE2[0]\n",
    "        \n",
    "        profit_rate=0\n",
    "        DATE2=df2_num[i,date_index]\n",
    "        if DATE != DATE2[:7]:       #月初の定点観測\n",
    "            DATE=DATE2[:7]\n",
    "            print()\n",
    "            result_out=result_out+\"\\n\"\n",
    "            if DATE2[5:7]==\"01\":\n",
    "                print(\"--------------------------------------------------------------------\")\n",
    "                result_out=result_out+\"--------------------------------------------------------------------\"+\"\\n\"\n",
    "            STRING=df2_num[i,0]+\":資金\"+\"{:,}\".format(int(MONEY))+\"(基準\"+\"{:,}\".format(int(standard*df2_num[i,1])).strip()+\")\"\n",
    "            print(STRING.strip(),end=\"\")\n",
    "            result_out=result_out+STRING.strip()+\"\\n\"\n",
    "\n",
    "\n",
    "\n",
    "        PREDICT    =\"None\"\n",
    "        #  売り予測の場合\n",
    "        if PRE2[2]>0.5:\n",
    "            PREDICT=\"sell\"\n",
    "            #print(\"売:\",end=\" \")\n",
    "            profit_rate=df2_num[i,open_index]/df2_num[i, close_index]\n",
    "            MONEY=(profit_rate)*MONEY\n",
    "\n",
    "        #  買い予測の場合\n",
    "        if PRE2[0]>0.5:\n",
    "            PREDICT=\"buy\"\n",
    "            #print(\"買\",end=\" \")\n",
    "            profit_rate=df2_num[i,close_index]/df2_num[i,open_index]\n",
    "            MONEY=(profit_rate)*MONEY\n",
    "\n",
    "        if df2_num[i,63]==1:\n",
    "            Y_result=\"buy\"\n",
    "        elif df2_num[i,65]==1:\n",
    "            Y_result=\"sell\"\n",
    "        else:\n",
    "            Y_result=\"None\"\n",
    "            \n",
    "        seigo=\"×\"    \n",
    "        if Y_result==PREDICT:\n",
    "            seigo=\"●\"\n",
    "        \n",
    "        if profit_rate!=0:\n",
    "            profit_rate=100*(profit_rate-1)\n",
    "        \n",
    "        s1 = pd.Series([df2_num[i,0],                 #日付\n",
    "                        round(df2_num[i,open_index], 2),        #OPEN\n",
    "                        round(df2_num[i,close_index],2),        #Close\n",
    "                        round((df2_num[i,close_index]/df2_num[i,open_index]-1)*100,2),  #アップ率\n",
    "                        round(MONEY),\n",
    "                        int(standard*df2_num[i,1]),                 #基準価格\n",
    "                        Y_result,PREDICT,seigo,\n",
    "                        round(profit_rate,2)],                     #予測\n",
    "               index=df_sim.columns)\n",
    "        df_sim=df_sim.append(s1,ignore_index=True)\n",
    "        "
   ]
  },
  {
   "cell_type": "code",
   "execution_count": null,
   "metadata": {},
   "outputs": [],
   "source": [
    "df_sim[(\n",
    "    df_sim['Date'].str.contains('01-01') |\n",
    "    df_sim['Date'].str.contains('04-01') |\n",
    "    df_sim['Date'].str.contains('07-01') |\n",
    "    df_sim['Date'].str.contains('10-01') \n",
    ")]"
   ]
  },
  {
   "cell_type": "code",
   "execution_count": null,
   "metadata": {},
   "outputs": [],
   "source": [
    "import matplotlib.pyplot as plt\n",
    "%matplotlib inline\n",
    "\n",
    "df_sim.plot(x='Date',y='money',title='Money/Date')"
   ]
  },
  {
   "cell_type": "code",
   "execution_count": null,
   "metadata": {},
   "outputs": [],
   "source": [
    "print(\"●\",df_sim[df_sim['正誤']==\"●\"].shape)\n",
    "print(\"X\",df_sim[df_sim['正誤']==\"×\"].shape)\n",
    "\n",
    "for i in range(7,19):\n",
    "    YEAR=str(i+2000)\n",
    "    start=YEAR+\"-01-01\"\n",
    "    end=YEAR+\"-12-31\"\n",
    "\n",
    "    tmp=df_sim.query(\"Date >= @start and Date <= @end \")\n",
    "    \n",
    "    print(\"{:}年の利益率{:.2f}%\".format(YEAR,tmp[['利益率']].sum()[0]))"
   ]
  },
  {
   "cell_type": "markdown",
   "metadata": {},
   "source": [
    "# 特徴選択"
   ]
  },
  {
   "cell_type": "code",
   "execution_count": null,
   "metadata": {},
   "outputs": [],
   "source": [
    "from sklearn.feature_selection import SelectKBest\n",
    "from sklearn.feature_selection import chi2\n",
    "\n",
    "skb=SelectKBest(chi2,k=10)\n",
    "\n",
    "skb.fit(trainX,trainY2)\n",
    "trainX_new=skb.transform(trainX)"
   ]
  },
  {
   "cell_type": "code",
   "execution_count": null,
   "metadata": {},
   "outputs": [],
   "source": [
    "import warnings\n",
    "warnings.filterwarnings('ignore')\n",
    "\n",
    "from sklearn.model_selection import StratifiedKFold\n",
    "model = SVC(kernel='linear', random_state=None)\n",
    "k_range=np.arange(1,20)\n",
    "scores=[]\n",
    "std=[]\n",
    "\n",
    "clf = XGBClassifier()\n",
    "#clf = SVC(kernel='linear', random_state=None)\n",
    "\n",
    "\n",
    "\n",
    "for k in k_range:\n",
    "    ss= StratifiedKFold(n_splits  =5,\n",
    "                       shuffle    =True,\n",
    "                      random_state=2)\n",
    "    score=[]\n",
    "    \n",
    "    for train_index, val_index in ss.split(trainX,trainY2):\n",
    "        \n",
    "        X_train2,X_val =trainX[train_index],trainX[val_index]\n",
    "        y_train2,y_val =trainY2[train_index],trainY2[val_index]\n",
    "        \n",
    "        skb=SelectKBest(chi2,k=k)\n",
    "        skb.fit(X_train2,y_train2)\n",
    "        \n",
    "        X_new_train2=skb.transform(X_train2)\n",
    "        X_new_val   =skb.transform(X_val)\n",
    "        \n",
    "        clf.fit(X_new_train2,y_train2)\n",
    "        score.append(clf.score(X_new_val,y_val))\n",
    "    scores.append(np.array(score).mean())\n",
    "    std.append(np.array(score).std())"
   ]
  },
  {
   "cell_type": "code",
   "execution_count": null,
   "metadata": {},
   "outputs": [],
   "source": [
    "import matplotlib.pyplot as plt\n",
    "%matplotlib inline\n",
    "\n",
    "plt.plot(k_range,scores)\n",
    "plt.errorbar(k_range,scores,yerr=std)\n",
    "plt.ylabel(\"accuracy\")\n",
    "plt.xlim(0,20)"
   ]
  },
  {
   "cell_type": "markdown",
   "metadata": {},
   "source": [
    "# どの説明変数が聞いているのか"
   ]
  },
  {
   "cell_type": "code",
   "execution_count": null,
   "metadata": {},
   "outputs": [],
   "source": [
    "import warnings\n",
    "warnings.filterwarnings('ignore')\n",
    "k=5\n",
    "\n",
    "clf = XGBClassifier()\n",
    "Label=train.iloc[:,3:63]\n",
    "\n",
    "skb=SelectKBest(chi2,k=k)\n",
    "X=skb.fit(trainX,trainY2)\n",
    "\n",
    "for i in range (skb.get_support().shape[0]):\n",
    "\n",
    "    if skb.get_support()[i]== True:\n",
    "        print(skb.get_support()[i],end=\" \")\n",
    "        print(Label.columns[int(i)])"
   ]
  },
  {
   "cell_type": "code",
   "execution_count": null,
   "metadata": {},
   "outputs": [],
   "source": []
  },
  {
   "cell_type": "code",
   "execution_count": null,
   "metadata": {},
   "outputs": [],
   "source": []
  }
 ],
 "metadata": {
  "kernelspec": {
   "display_name": "Python 3",
   "language": "python",
   "name": "python3"
  },
  "language_info": {
   "codemirror_mode": {
    "name": "ipython",
    "version": 3
   },
   "file_extension": ".py",
   "mimetype": "text/x-python",
   "name": "python",
   "nbconvert_exporter": "python",
   "pygments_lexer": "ipython3",
   "version": "3.7.4"
  }
 },
 "nbformat": 4,
 "nbformat_minor": 4
}
