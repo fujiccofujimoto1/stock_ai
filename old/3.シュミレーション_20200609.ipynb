{
 "cells": [
  {
   "cell_type": "markdown",
   "metadata": {},
   "source": [
    "# モジュールインポート"
   ]
  },
  {
   "cell_type": "code",
   "execution_count": 1,
   "metadata": {},
   "outputs": [],
   "source": [
    "# scikitlearnのアルゴリズムのロード\n",
    "from sklearn.ensemble import RandomForestClassifier\n",
    "from sklearn.linear_model import LogisticRegression\n",
    "from sklearn.svm import SVC\n",
    "from sklearn.tree import DecisionTreeClassifier\n",
    "from sklearn.neural_network import MLPClassifier\n",
    "from sklearn.naive_bayes import GaussianNB\n",
    "from sklearn.ensemble import AdaBoostClassifier \n",
    "\n",
    "# scikit learnのテストデータの読み込み\n",
    "from sklearn.model_selection import train_test_split\n",
    "\n",
    "# scikit learnの精度測定ツールの読み込み\n",
    "from sklearn.metrics import accuracy_score\n",
    "from sklearn.metrics import confusion_matrix \n",
    "\n",
    "#トレーニングデータと正解ラベルに分割\n",
    "from sklearn.preprocessing import StandardScaler\n",
    "from sklearn.preprocessing import MinMaxScaler\n",
    "\n",
    "# pandas(pd) とNumpy(np)のモジュール\n",
    "import numpy as np\n",
    "import pandas as pd\n",
    "import sys,os,random\n",
    "import warnings\n",
    "import pickle\n",
    "\n",
    "warnings.filterwarnings('ignore')\n",
    "%matplotlib inline"
   ]
  },
  {
   "cell_type": "markdown",
   "metadata": {},
   "source": [
    "# 変数定義"
   ]
  },
  {
   "cell_type": "code",
   "execution_count": 2,
   "metadata": {},
   "outputs": [],
   "source": [
    "pram_traing_rate=0.6  #トレーニングデータとテストデータの比率"
   ]
  },
  {
   "cell_type": "markdown",
   "metadata": {},
   "source": [
    "# 前処理済みファイルのロード"
   ]
  },
  {
   "cell_type": "code",
   "execution_count": 3,
   "metadata": {},
   "outputs": [
    {
     "data": {
      "text/html": [
       "<div>\n",
       "<style scoped>\n",
       "    .dataframe tbody tr th:only-of-type {\n",
       "        vertical-align: middle;\n",
       "    }\n",
       "\n",
       "    .dataframe tbody tr th {\n",
       "        vertical-align: top;\n",
       "    }\n",
       "\n",
       "    .dataframe thead th {\n",
       "        text-align: right;\n",
       "    }\n",
       "</style>\n",
       "<table border=\"1\" class=\"dataframe\">\n",
       "  <thead>\n",
       "    <tr style=\"text-align: right;\">\n",
       "      <th></th>\n",
       "      <th>Date</th>\n",
       "      <th>Close</th>\n",
       "      <th>Open</th>\n",
       "      <th>day+1</th>\n",
       "      <th>day+2</th>\n",
       "      <th>day+3</th>\n",
       "      <th>day+4</th>\n",
       "      <th>day+5</th>\n",
       "      <th>day+6</th>\n",
       "      <th>day+7</th>\n",
       "      <th>day+8</th>\n",
       "      <th>day+9</th>\n",
       "      <th>day+10</th>\n",
       "      <th>day+11</th>\n",
       "      <th>day+12</th>\n",
       "      <th>day+13</th>\n",
       "      <th>day+14</th>\n",
       "      <th>day+15</th>\n",
       "      <th>day+16</th>\n",
       "      <th>day+17</th>\n",
       "      <th>day+18</th>\n",
       "      <th>day+19</th>\n",
       "      <th>day+20</th>\n",
       "      <th>day+21</th>\n",
       "      <th>day+22</th>\n",
       "      <th>day+23</th>\n",
       "      <th>day+24</th>\n",
       "      <th>day+25</th>\n",
       "      <th>day+26</th>\n",
       "      <th>day+27</th>\n",
       "      <th>day+28</th>\n",
       "      <th>day+29</th>\n",
       "      <th>day+30</th>\n",
       "      <th>day-1</th>\n",
       "      <th>day-2</th>\n",
       "      <th>day-3</th>\n",
       "      <th>day-4</th>\n",
       "      <th>day-5</th>\n",
       "      <th>day-6</th>\n",
       "      <th>day-7</th>\n",
       "      <th>day-8</th>\n",
       "      <th>day-9</th>\n",
       "      <th>day-10</th>\n",
       "      <th>day-11</th>\n",
       "      <th>day-12</th>\n",
       "      <th>day-13</th>\n",
       "      <th>day-14</th>\n",
       "      <th>day-15</th>\n",
       "      <th>day-16</th>\n",
       "      <th>day-17</th>\n",
       "      <th>day-18</th>\n",
       "      <th>day-19</th>\n",
       "      <th>day-20</th>\n",
       "      <th>day-21</th>\n",
       "      <th>day-22</th>\n",
       "      <th>day-23</th>\n",
       "      <th>day-24</th>\n",
       "      <th>day-25</th>\n",
       "      <th>day-26</th>\n",
       "      <th>day-27</th>\n",
       "      <th>day-28</th>\n",
       "      <th>day-29</th>\n",
       "      <th>day-30</th>\n",
       "      <th>std-30</th>\n",
       "      <th>std-60</th>\n",
       "      <th>std-90</th>\n",
       "      <th>dow_compare</th>\n",
       "      <th>weekday_0.0</th>\n",
       "      <th>weekday_1.0</th>\n",
       "      <th>weekday_2.0</th>\n",
       "      <th>weekday_3.0</th>\n",
       "      <th>weekday_4.0</th>\n",
       "      <th>label_up</th>\n",
       "      <th>label_down</th>\n",
       "      <th>result</th>\n",
       "    </tr>\n",
       "  </thead>\n",
       "  <tbody>\n",
       "    <tr>\n",
       "      <td>4832</td>\n",
       "      <td>2020-06-03</td>\n",
       "      <td>22613.759766</td>\n",
       "      <td>22649.009766</td>\n",
       "      <td>2.13519</td>\n",
       "      <td>3.36873</td>\n",
       "      <td>3.85819</td>\n",
       "      <td>4.79394</td>\n",
       "      <td>6.58703</td>\n",
       "      <td>9.66232</td>\n",
       "      <td>10.0324</td>\n",
       "      <td>9.45469</td>\n",
       "      <td>10.7288</td>\n",
       "      <td>10.6475</td>\n",
       "      <td>12.695</td>\n",
       "      <td>12.4032</td>\n",
       "      <td>12.4551</td>\n",
       "      <td>12.4527</td>\n",
       "      <td>10.9526</td>\n",
       "      <td>11.3864</td>\n",
       "      <td>13.4033</td>\n",
       "      <td>16.3366</td>\n",
       "      <td>13.2905</td>\n",
       "      <td>12.6498</td>\n",
       "      <td>14.5267</td>\n",
       "      <td>16.6823</td>\n",
       "      <td>17.159</td>\n",
       "      <td>17.2732</td>\n",
       "      <td>18.5242</td>\n",
       "      <td>16.269</td>\n",
       "      <td>15.0289</td>\n",
       "      <td>15.6987</td>\n",
       "      <td>17.2837</td>\n",
       "      <td>15.6196</td>\n",
       "      <td>0</td>\n",
       "      <td>0</td>\n",
       "      <td>0</td>\n",
       "      <td>0</td>\n",
       "      <td>0</td>\n",
       "      <td>0</td>\n",
       "      <td>0</td>\n",
       "      <td>0</td>\n",
       "      <td>0</td>\n",
       "      <td>0</td>\n",
       "      <td>0</td>\n",
       "      <td>0</td>\n",
       "      <td>0</td>\n",
       "      <td>0</td>\n",
       "      <td>0</td>\n",
       "      <td>0</td>\n",
       "      <td>0</td>\n",
       "      <td>0</td>\n",
       "      <td>0</td>\n",
       "      <td>0</td>\n",
       "      <td>0</td>\n",
       "      <td>0</td>\n",
       "      <td>0</td>\n",
       "      <td>0</td>\n",
       "      <td>0</td>\n",
       "      <td>0</td>\n",
       "      <td>0</td>\n",
       "      <td>0</td>\n",
       "      <td>0</td>\n",
       "      <td>0</td>\n",
       "      <td>20.767310</td>\n",
       "      <td>26.493455</td>\n",
       "      <td>41.608388</td>\n",
       "      <td>1.006259</td>\n",
       "      <td>0</td>\n",
       "      <td>0</td>\n",
       "      <td>1</td>\n",
       "      <td>0</td>\n",
       "      <td>0</td>\n",
       "      <td>0</td>\n",
       "      <td>1</td>\n",
       "      <td>0.998444</td>\n",
       "    </tr>\n",
       "    <tr>\n",
       "      <td>4833</td>\n",
       "      <td>2020-06-04</td>\n",
       "      <td>22695.740234</td>\n",
       "      <td>22885.140625</td>\n",
       "      <td>1.04257</td>\n",
       "      <td>3.20002</td>\n",
       "      <td>4.44642</td>\n",
       "      <td>4.94098</td>\n",
       "      <td>5.88649</td>\n",
       "      <td>7.69827</td>\n",
       "      <td>10.8056</td>\n",
       "      <td>11.1795</td>\n",
       "      <td>10.5958</td>\n",
       "      <td>11.8832</td>\n",
       "      <td>11.8011</td>\n",
       "      <td>13.8699</td>\n",
       "      <td>13.5751</td>\n",
       "      <td>13.6275</td>\n",
       "      <td>13.6251</td>\n",
       "      <td>12.1094</td>\n",
       "      <td>12.5477</td>\n",
       "      <td>14.5856</td>\n",
       "      <td>17.5495</td>\n",
       "      <td>14.4717</td>\n",
       "      <td>13.8243</td>\n",
       "      <td>15.7207</td>\n",
       "      <td>17.8988</td>\n",
       "      <td>18.3804</td>\n",
       "      <td>18.4958</td>\n",
       "      <td>19.7599</td>\n",
       "      <td>17.4812</td>\n",
       "      <td>16.2281</td>\n",
       "      <td>16.905</td>\n",
       "      <td>18.5065</td>\n",
       "      <td>0</td>\n",
       "      <td>0</td>\n",
       "      <td>0</td>\n",
       "      <td>0</td>\n",
       "      <td>0</td>\n",
       "      <td>0</td>\n",
       "      <td>0</td>\n",
       "      <td>0</td>\n",
       "      <td>0</td>\n",
       "      <td>0</td>\n",
       "      <td>0</td>\n",
       "      <td>0</td>\n",
       "      <td>0</td>\n",
       "      <td>0</td>\n",
       "      <td>0</td>\n",
       "      <td>0</td>\n",
       "      <td>0</td>\n",
       "      <td>0</td>\n",
       "      <td>0</td>\n",
       "      <td>0</td>\n",
       "      <td>0</td>\n",
       "      <td>0</td>\n",
       "      <td>0</td>\n",
       "      <td>0</td>\n",
       "      <td>0</td>\n",
       "      <td>0</td>\n",
       "      <td>0</td>\n",
       "      <td>0</td>\n",
       "      <td>0</td>\n",
       "      <td>0</td>\n",
       "      <td>22.488504</td>\n",
       "      <td>25.827536</td>\n",
       "      <td>40.353586</td>\n",
       "      <td>1.014012</td>\n",
       "      <td>0</td>\n",
       "      <td>0</td>\n",
       "      <td>0</td>\n",
       "      <td>1</td>\n",
       "      <td>0</td>\n",
       "      <td>0</td>\n",
       "      <td>1</td>\n",
       "      <td>0.991724</td>\n",
       "    </tr>\n",
       "    <tr>\n",
       "      <td>4834</td>\n",
       "      <td>2020-06-05</td>\n",
       "      <td>22863.730469</td>\n",
       "      <td>22613.080078</td>\n",
       "      <td>0</td>\n",
       "      <td>0</td>\n",
       "      <td>1.97317</td>\n",
       "      <td>3.20475</td>\n",
       "      <td>3.69343</td>\n",
       "      <td>4.6277</td>\n",
       "      <td>6.41795</td>\n",
       "      <td>9.48836</td>\n",
       "      <td>9.85783</td>\n",
       "      <td>9.28105</td>\n",
       "      <td>10.5531</td>\n",
       "      <td>10.472</td>\n",
       "      <td>12.5162</td>\n",
       "      <td>12.2249</td>\n",
       "      <td>12.2767</td>\n",
       "      <td>12.2743</td>\n",
       "      <td>10.7766</td>\n",
       "      <td>11.2097</td>\n",
       "      <td>13.2234</td>\n",
       "      <td>16.152</td>\n",
       "      <td>13.1108</td>\n",
       "      <td>12.4711</td>\n",
       "      <td>14.345</td>\n",
       "      <td>16.4972</td>\n",
       "      <td>16.9731</td>\n",
       "      <td>17.0871</td>\n",
       "      <td>18.3362</td>\n",
       "      <td>16.0846</td>\n",
       "      <td>14.8464</td>\n",
       "      <td>15.5152</td>\n",
       "      <td>-1.18881</td>\n",
       "      <td>-0.158637</td>\n",
       "      <td>0</td>\n",
       "      <td>0</td>\n",
       "      <td>0</td>\n",
       "      <td>0</td>\n",
       "      <td>0</td>\n",
       "      <td>0</td>\n",
       "      <td>0</td>\n",
       "      <td>0</td>\n",
       "      <td>0</td>\n",
       "      <td>0</td>\n",
       "      <td>0</td>\n",
       "      <td>0</td>\n",
       "      <td>0</td>\n",
       "      <td>0</td>\n",
       "      <td>0</td>\n",
       "      <td>0</td>\n",
       "      <td>0</td>\n",
       "      <td>0</td>\n",
       "      <td>0</td>\n",
       "      <td>0</td>\n",
       "      <td>0</td>\n",
       "      <td>0</td>\n",
       "      <td>0</td>\n",
       "      <td>0</td>\n",
       "      <td>0</td>\n",
       "      <td>0</td>\n",
       "      <td>0</td>\n",
       "      <td>0</td>\n",
       "      <td>28.754712</td>\n",
       "      <td>28.625416</td>\n",
       "      <td>41.529356</td>\n",
       "      <td>1.002110</td>\n",
       "      <td>0</td>\n",
       "      <td>0</td>\n",
       "      <td>0</td>\n",
       "      <td>0</td>\n",
       "      <td>1</td>\n",
       "      <td>1</td>\n",
       "      <td>0</td>\n",
       "      <td>1.011084</td>\n",
       "    </tr>\n",
       "  </tbody>\n",
       "</table>\n",
       "</div>"
      ],
      "text/plain": [
       "           Date         Close          Open    day+1    day+2    day+3  \\\n",
       "4832 2020-06-03  22613.759766  22649.009766  2.13519  3.36873  3.85819   \n",
       "4833 2020-06-04  22695.740234  22885.140625  1.04257  3.20002  4.44642   \n",
       "4834 2020-06-05  22863.730469  22613.080078        0        0  1.97317   \n",
       "\n",
       "        day+4    day+5    day+6    day+7    day+8    day+9   day+10   day+11  \\\n",
       "4832  4.79394  6.58703  9.66232  10.0324  9.45469  10.7288  10.6475   12.695   \n",
       "4833  4.94098  5.88649  7.69827  10.8056  11.1795  10.5958  11.8832  11.8011   \n",
       "4834  3.20475  3.69343   4.6277  6.41795  9.48836  9.85783  9.28105  10.5531   \n",
       "\n",
       "       day+12   day+13   day+14   day+15   day+16   day+17   day+18   day+19  \\\n",
       "4832  12.4032  12.4551  12.4527  10.9526  11.3864  13.4033  16.3366  13.2905   \n",
       "4833  13.8699  13.5751  13.6275  13.6251  12.1094  12.5477  14.5856  17.5495   \n",
       "4834   10.472  12.5162  12.2249  12.2767  12.2743  10.7766  11.2097  13.2234   \n",
       "\n",
       "       day+20   day+21   day+22   day+23   day+24   day+25   day+26   day+27  \\\n",
       "4832  12.6498  14.5267  16.6823   17.159  17.2732  18.5242   16.269  15.0289   \n",
       "4833  14.4717  13.8243  15.7207  17.8988  18.3804  18.4958  19.7599  17.4812   \n",
       "4834   16.152  13.1108  12.4711   14.345  16.4972  16.9731  17.0871  18.3362   \n",
       "\n",
       "       day+28   day+29   day+30    day-1     day-2 day-3 day-4 day-5 day-6  \\\n",
       "4832  15.6987  17.2837  15.6196        0         0     0     0     0     0   \n",
       "4833  16.2281   16.905  18.5065        0         0     0     0     0     0   \n",
       "4834  16.0846  14.8464  15.5152 -1.18881 -0.158637     0     0     0     0   \n",
       "\n",
       "     day-7 day-8 day-9 day-10 day-11 day-12 day-13 day-14 day-15 day-16  \\\n",
       "4832     0     0     0      0      0      0      0      0      0      0   \n",
       "4833     0     0     0      0      0      0      0      0      0      0   \n",
       "4834     0     0     0      0      0      0      0      0      0      0   \n",
       "\n",
       "     day-17 day-18 day-19 day-20 day-21 day-22 day-23 day-24 day-25 day-26  \\\n",
       "4832      0      0      0      0      0      0      0      0      0      0   \n",
       "4833      0      0      0      0      0      0      0      0      0      0   \n",
       "4834      0      0      0      0      0      0      0      0      0      0   \n",
       "\n",
       "     day-27 day-28 day-29 day-30     std-30     std-60     std-90  \\\n",
       "4832      0      0      0      0  20.767310  26.493455  41.608388   \n",
       "4833      0      0      0      0  22.488504  25.827536  40.353586   \n",
       "4834      0      0      0      0  28.754712  28.625416  41.529356   \n",
       "\n",
       "      dow_compare  weekday_0.0  weekday_1.0  weekday_2.0  weekday_3.0  \\\n",
       "4832     1.006259            0            0            1            0   \n",
       "4833     1.014012            0            0            0            1   \n",
       "4834     1.002110            0            0            0            0   \n",
       "\n",
       "      weekday_4.0 label_up label_down    result  \n",
       "4832            0        0          1  0.998444  \n",
       "4833            0        0          1  0.991724  \n",
       "4834            1        1          0  1.011084  "
      ]
     },
     "metadata": {},
     "output_type": "display_data"
    }
   ],
   "source": [
    "# 乱数のシード固定\n",
    "np.random.seed(0)\n",
    "random.seed(0)\n",
    "# データフレームの表示件数の設定\n",
    "pd.set_option('display.max_columns', 100)\n",
    "\n",
    "# データロード\n",
    "#df = pd.read_csv('data/stock_preprocessing_2values.csv', index_col=None)\n",
    "df = pd.read_pickle('data/stock_preprocessing.pkl')\n",
    "\n",
    "\n",
    "y_loc_s=df.columns.get_loc('label_up')\n",
    "y_loc_e=df.columns.get_loc('label_down')\n",
    "display(df.tail(3))\n",
    "\n",
    "# 前後のデータのカット\n",
    "df3=df.loc[30:(len(df)-30)]\n",
    "df2_num=df3.as_matrix()   #numpyへ変換\n",
    "\n",
    "fx_len=len(df3)"
   ]
  },
  {
   "cell_type": "markdown",
   "metadata": {},
   "source": [
    "## データの分割\n"
   ]
  },
  {
   "cell_type": "code",
   "execution_count": 4,
   "metadata": {},
   "outputs": [
    {
     "name": "stdout",
     "output_type": "stream",
     "text": [
      "訓練データ  :2000-02-17T00:00:00.000000000〜2012-03-22T00:00:00.000000000 (2865, 75)\n",
      "テストデータ:2012-03-23T00:00:00.000000000〜2020-04-20T00:00:00.000000000\n"
     ]
    }
   ],
   "source": [
    "train, test = train_test_split(df3, train_size=pram_traing_rate,shuffle=False)\n",
    "\n",
    "print(\"訓練データ  :{}〜{}\".format(train.head(1)['Date'].values[0],train.tail(1)['Date'].values[0]),train.shape)\n",
    "print(\"テストデータ:{}〜{}\".format(test.head(1)['Date'].values[0],test.tail(1)['Date'].values[0]))"
   ]
  },
  {
   "cell_type": "code",
   "execution_count": 5,
   "metadata": {},
   "outputs": [
    {
     "data": {
      "text/plain": [
       "Index(['day+1', 'day+2', 'day+3', 'day+4', 'day+5', 'day+6', 'day+7', 'day+8',\n",
       "       'day+9', 'day+10', 'day+11', 'day+12', 'day+13', 'day+14', 'day+15',\n",
       "       'day+16', 'day+17', 'day+18', 'day+19', 'day+20', 'day+21', 'day+22',\n",
       "       'day+23', 'day+24', 'day+25', 'day+26', 'day+27', 'day+28', 'day+29',\n",
       "       'day+30', 'day-1', 'day-2', 'day-3', 'day-4', 'day-5', 'day-6', 'day-7',\n",
       "       'day-8', 'day-9', 'day-10', 'day-11', 'day-12', 'day-13', 'day-14',\n",
       "       'day-15', 'day-16', 'day-17', 'day-18', 'day-19', 'day-20', 'day-21',\n",
       "       'day-22', 'day-23', 'day-24', 'day-25', 'day-26', 'day-27', 'day-28',\n",
       "       'day-29', 'day-30', 'std-30', 'std-60', 'std-90', 'dow_compare',\n",
       "       'weekday_0.0', 'weekday_1.0', 'weekday_2.0', 'weekday_3.0',\n",
       "       'weekday_4.0'],\n",
       "      dtype='object')"
      ]
     },
     "execution_count": 5,
     "metadata": {},
     "output_type": "execute_result"
    }
   ],
   "source": [
    "trainX,testX=train.iloc[:,3:y_loc_s],test.iloc[:,3:y_loc_s]\n",
    "testX.columns"
   ]
  },
  {
   "cell_type": "code",
   "execution_count": 6,
   "metadata": {},
   "outputs": [
    {
     "name": "stdout",
     "output_type": "stream",
     "text": [
      "トレーニングデータ (2865, 69)\n",
      "トレーニングデータ (2865, 2)\n",
      "　 　 テストデータ (1911, 69)\n",
      "　 　 テストデータ (1911, 2)\n"
     ]
    }
   ],
   "source": [
    "#トレーニングデータと正解ラベルに分割\n",
    "# 説明変数\n",
    "trainX,testX=train.iloc[:,3:y_loc_s],test.iloc[:,3:y_loc_s]\n",
    "# 正解データ\n",
    "trainY,testY=train.iloc[:,y_loc_s:y_loc_e+1],test.iloc[:,y_loc_s:y_loc_e+1]\n",
    "\n",
    "#Numpy形式に変換\n",
    "trainX,testX=trainX.as_matrix(),testX.as_matrix()\n",
    "trainY,testY=trainY.as_matrix(),testY.as_matrix()\n",
    "\n",
    "#データサンプル数の確認\n",
    "print(\"トレーニングデータ\",trainX.shape)\n",
    "print(\"トレーニングデータ\",trainY.shape)\n",
    "print(\"　 　 テストデータ\",testX.shape)\n",
    "print(\"　 　 テストデータ\",testY.shape)\n",
    "#display(\"正解ラベルの数\",df['label_up'].sum(),df['label_none'].sum(),df['label_down'].sum())"
   ]
  },
  {
   "cell_type": "markdown",
   "metadata": {},
   "source": [
    "# sckit-learnの準備\n"
   ]
  },
  {
   "cell_type": "code",
   "execution_count": 7,
   "metadata": {},
   "outputs": [
    {
     "data": {
      "text/plain": [
       "(2865,)"
      ]
     },
     "execution_count": 7,
     "metadata": {},
     "output_type": "execute_result"
    }
   ],
   "source": [
    "# ワンホットからカテゴリ変数へ\n",
    "testY2 =np.argmax(testY,axis=1)\n",
    "trainY2=np.argmax(trainY,axis=1)\n",
    "trainY2.shape"
   ]
  },
  {
   "cell_type": "code",
   "execution_count": 8,
   "metadata": {},
   "outputs": [],
   "source": [
    "names = [\n",
    "         \"Random Forest\", \n",
    "        \"Logistic Regression\", \n",
    "         \"SVM\",\n",
    "         \"Decision Tree\", \n",
    "         \"Neural Net\", \n",
    "         \"Naive Bayes\",\n",
    "         \"AdaBoostClassifier\"\n",
    "        ]\n",
    "\n",
    "# Initializing Classifiers\n",
    "classifiers = [\n",
    "    RandomForestClassifier(random_state=1, n_estimators=100),\n",
    "    LogisticRegression(),\n",
    "    SVC(kernel=\"linear\"),\n",
    "    DecisionTreeClassifier(),\n",
    "    MLPClassifier(),\n",
    "    GaussianNB(),\n",
    "    AdaBoostClassifier()\n",
    "]"
   ]
  },
  {
   "cell_type": "code",
   "execution_count": 9,
   "metadata": {},
   "outputs": [
    {
     "name": "stdout",
     "output_type": "stream",
     "text": [
      "分類器:Random Forest , 精度:50.81%\n",
      "分類器:Logistic Regression , 精度:50.03%\n",
      "分類器:SVM , 精度:50.29%\n",
      "分類器:Decision Tree , 精度:49.40%\n",
      "分類器:Neural Net , 精度:50.71%\n",
      "分類器:Naive Bayes , 精度:50.29%\n",
      "分類器:AdaBoostClassifier , 精度:48.67%\n"
     ]
    }
   ],
   "source": [
    "columns=['name','accuracy']\n",
    "df_acc=pd.DataFrame(data=None,columns=columns)\n",
    "\n",
    "for classifier, name in zip(classifiers, names):\n",
    "    \n",
    "    #　該当分類器にて、学習\n",
    "    classifier.fit(trainX ,trainY2)\n",
    " \n",
    "    #　分類器の正答率を求める\n",
    "    pre=classifier.predict(testX)\n",
    "    ac_score=accuracy_score(testY2,pre)\n",
    "    print('分類器:{:} , 精度:{:.2%}'.format(name,ac_score))\n",
    "\n",
    "    # 結果をデータフレームに入れる\n",
    "    s=pd.Series(data=[name,ac_score],index=columns)\n",
    "    df_acc=df_acc.append(s,ignore_index=True)"
   ]
  },
  {
   "cell_type": "code",
   "execution_count": 10,
   "metadata": {},
   "outputs": [
    {
     "data": {
      "text/plain": [
       "<matplotlib.axes._subplots.AxesSubplot at 0x117349310>"
      ]
     },
     "execution_count": 10,
     "metadata": {},
     "output_type": "execute_result"
    },
    {
     "data": {
      "image/png": "[encoded data removed]",
      "text/plain": [
       "<Figure size 432x288 with 1 Axes>"
      ]
     },
     "metadata": {
      "needs_background": "light"
     },
     "output_type": "display_data"
    }
   ],
   "source": [
    "# データフレームの順番を分類器の精度順に表示\n",
    "df_acc=df_acc.sort_values(by=['accuracy'],ascending=True)\n",
    "# データフレームのラッパAPIからmatplotのapiをコールして、グラフを作成\n",
    "df_acc.plot.barh(x='name',y='accuracy',legend=False)"
   ]
  },
  {
   "cell_type": "markdown",
   "metadata": {},
   "source": [
    "# モデルの保存"
   ]
  },
  {
   "cell_type": "code",
   "execution_count": 11,
   "metadata": {},
   "outputs": [],
   "source": [
    "classifier=classifiers[\n",
    "df_acc[df_acc['accuracy']==df_acc['accuracy'].max()].index[0]\n",
    "]\n",
    "classifier.fit(trainX ,trainY2)\n",
    "\n",
    "# モデルを保存する\n",
    "filename = 'model/sk-learn_model.sav'\n",
    "pickle.dump(classifier, open(filename, 'wb'))"
   ]
  },
  {
   "cell_type": "markdown",
   "metadata": {},
   "source": [
    "# confusion_matrix"
   ]
  },
  {
   "cell_type": "code",
   "execution_count": 12,
   "metadata": {},
   "outputs": [
    {
     "name": "stdout",
     "output_type": "stream",
     "text": [
      "0.label_up   951\n",
      "2.label_down 960\n",
      "confusion matrix:\n",
      "[[430 521]\n",
      " [419 541]]\n",
      "\n",
      "classification report:\n",
      "              precision    recall  f1-score   support\n",
      "\n",
      "           0       0.51      0.45      0.48       951\n",
      "           1       0.51      0.56      0.54       960\n",
      "\n",
      "    accuracy                           0.51      1911\n",
      "   macro avg       0.51      0.51      0.51      1911\n",
      "weighted avg       0.51      0.51      0.51      1911\n",
      "\n"
     ]
    }
   ],
   "source": [
    "from sklearn import metrics\n",
    "print(\"0.label_up  \",test[test['label_up']==1].shape[0])\n",
    "#print(\"1.label_none\",test[test['label_none']==1].shape[0])\n",
    "print(\"2.label_down\",test[test['label_down']==1].shape[0])\n",
    "\n",
    "predict_y=classifier.predict(testX)\n",
    "print(\"confusion matrix:\")\n",
    "print(metrics.confusion_matrix( testY2,predict_y))\n",
    "print()\n",
    "print(\"classification report:\")\n",
    "#target_names = ['up','none','down']\n",
    "target_names = ['up','down']\n",
    "\n",
    "print(metrics.classification_report(testY2,predict_y))"
   ]
  },
  {
   "cell_type": "markdown",
   "metadata": {},
   "source": [
    "# シミュレーション"
   ]
  },
  {
   "cell_type": "code",
   "execution_count": 13,
   "metadata": {},
   "outputs": [
    {
     "data": {
      "text/plain": [
       "numpy.datetime64('2000-02-17T00:00:00.000000000')"
      ]
     },
     "execution_count": 13,
     "metadata": {},
     "output_type": "execute_result"
    }
   ],
   "source": [
    "df3['Date'].values[0]"
   ]
  },
  {
   "cell_type": "code",
   "execution_count": 14,
   "metadata": {},
   "outputs": [
    {
     "name": "stdout",
     "output_type": "stream",
     "text": [
      "start: 2012-03-23 00:00:00 〜end: 2020-04-20 00:00:00\n"
     ]
    }
   ],
   "source": [
    "close_index=df.columns.get_loc('Close')\n",
    "open_index=df.columns.get_loc('Open')\n",
    "date_index=df.columns.get_loc('Date')\n",
    "\n",
    "MONEY=1000000\n",
    "LEN=len(df2_num)\n",
    "\n",
    "start=len(df2_num)-len(testX)\n",
    "end=len(df2_num)-1\n",
    "print(\"start:\",df2_num[start,0],\"〜end:\",df2_num[end,0])\n",
    "\n",
    "standard=1000000/df2_num[start,1]  \n",
    "DATE=df3['Date'].values[0]\n",
    "result_out=\"\"\n",
    "df_sim = pd.DataFrame( columns=['Date', 'Open', 'Close', 'Up', 'money','基準価格','result','predict','正誤','利益率'] )"
   ]
  },
  {
   "cell_type": "code",
   "execution_count": 15,
   "metadata": {},
   "outputs": [],
   "source": [
    "# 説明変数\n",
    "y_loc_s=df.columns.get_loc('label_up')\n",
    "y_loc_e=df.columns.get_loc('label_down')\n",
    "df2_num[2].shape\n",
    "df2_num[2]\n",
    "y_loc_up=df3.columns.get_loc('label_up')\n",
    "y_loc_down=df3.columns.get_loc('label_down')\n"
   ]
  },
  {
   "cell_type": "code",
   "execution_count": 16,
   "metadata": {},
   "outputs": [
    {
     "data": {
      "text/plain": [
       "Index(['Date', 'Close', 'Open', 'day+1', 'day+2', 'day+3', 'day+4', 'day+5',\n",
       "       'day+6', 'day+7', 'day+8', 'day+9', 'day+10', 'day+11', 'day+12',\n",
       "       'day+13', 'day+14', 'day+15', 'day+16', 'day+17', 'day+18', 'day+19',\n",
       "       'day+20', 'day+21', 'day+22', 'day+23', 'day+24', 'day+25', 'day+26',\n",
       "       'day+27', 'day+28', 'day+29', 'day+30', 'day-1', 'day-2', 'day-3',\n",
       "       'day-4', 'day-5', 'day-6', 'day-7', 'day-8', 'day-9', 'day-10',\n",
       "       'day-11', 'day-12', 'day-13', 'day-14', 'day-15', 'day-16', 'day-17',\n",
       "       'day-18', 'day-19', 'day-20', 'day-21', 'day-22', 'day-23', 'day-24',\n",
       "       'day-25', 'day-26', 'day-27', 'day-28', 'day-29', 'day-30', 'std-30',\n",
       "       'std-60', 'std-90', 'dow_compare', 'weekday_0.0', 'weekday_1.0',\n",
       "       'weekday_2.0', 'weekday_3.0', 'weekday_4.0', 'label_up', 'label_down',\n",
       "       'result'],\n",
       "      dtype='object')"
      ]
     },
     "execution_count": 16,
     "metadata": {},
     "output_type": "execute_result"
    }
   ],
   "source": [
    "df.columns"
   ]
  },
  {
   "cell_type": "code",
   "execution_count": 17,
   "metadata": {},
   "outputs": [],
   "source": [
    "array_list=np.array([\n",
    "                               3,4,5,\n",
    "                               6,7,8,\n",
    "                               9,10,11,\n",
    "                               12,13,14,\n",
    "                               15,16,17,\n",
    "                               18,19,20,\n",
    "                               21,22,23,\n",
    "                               24,25,26,\n",
    "                               27,28,29,\n",
    "                               30,31,32,\n",
    "                               33,34,35,\n",
    "                               36,37,38,\n",
    "                               39,40,41,\n",
    "                               42,43,44,\n",
    "                               45,46,47,\n",
    "                               48,49,50,\n",
    "                               51,52,53,\n",
    "                               54,55,56,\n",
    "                               57,58,59,\n",
    "                               60,61,62,\n",
    "                               #             63,64,65,\n",
    "                                63,64,\n",
    "\n",
    "                                65\n",
    "                               ])"
   ]
  },
  {
   "cell_type": "code",
   "execution_count": 18,
   "metadata": {},
   "outputs": [],
   "source": [
    "\n",
    "def judgment(PRE2):\n",
    "    arg=np.argmax(PRE2,axis=0)\n",
    "    if PRE2[arg]>0.50:\n",
    "        arg=np.argmax(PRE2,axis=0)\n",
    "    else:\n",
    "        arg=1\n",
    "    print(\"引数\",arg, PRE2[arg],end=\" \")\n",
    "    return arg"
   ]
  },
  {
   "cell_type": "code",
   "execution_count": 19,
   "metadata": {},
   "outputs": [],
   "source": [
    "#DATE2.month_name()\n",
    "#str(pd.to_datetime(DATE).year)+str(pd.to_datetime(DATE).month)\n",
    "\n",
    "\n",
    "#str(df2_num[0,date_index])\n",
    "#df2_num[:,0]=str(df2_num[:,0])\n"
   ]
  },
  {
   "cell_type": "code",
   "execution_count": 32,
   "metadata": {},
   "outputs": [
    {
     "data": {
      "text/plain": [
       "(4776, 63)"
      ]
     },
     "execution_count": 32,
     "metadata": {},
     "output_type": "execute_result"
    }
   ],
   "source": [
    "df2_num[:,array_list].shape"
   ]
  },
  {
   "cell_type": "code",
   "execution_count": 31,
   "metadata": {},
   "outputs": [
    {
     "ename": "ValueError",
     "evalue": "Number of features of the model must match the input. Model n_features is 69 and input n_features is 63 ",
     "output_type": "error",
     "traceback": [
      "\u001b[0;31m---------------------------------------------------------------------------\u001b[0m",
      "\u001b[0;31mValueError\u001b[0m                                Traceback (most recent call last)",
      "\u001b[0;32m<ipython-input-31-21bede53179e>\u001b[0m in \u001b[0;36m<module>\u001b[0;34m\u001b[0m\n\u001b[1;32m      1\u001b[0m \u001b[0;31m#classifier.predict_proba(np.resize(df2_num[:,array_list],(1,trainX.shape[1])))\u001b[0m\u001b[0;34m\u001b[0m\u001b[0;34m\u001b[0m\u001b[0;34m\u001b[0m\u001b[0m\n\u001b[0;32m----> 2\u001b[0;31m \u001b[0mclassifier\u001b[0m\u001b[0;34m.\u001b[0m\u001b[0mpredict_proba\u001b[0m\u001b[0;34m(\u001b[0m\u001b[0mdf2_num\u001b[0m\u001b[0;34m[\u001b[0m\u001b[0;34m:\u001b[0m\u001b[0;34m,\u001b[0m\u001b[0marray_list\u001b[0m\u001b[0;34m]\u001b[0m\u001b[0;34m)\u001b[0m\u001b[0;34m\u001b[0m\u001b[0;34m\u001b[0m\u001b[0m\n\u001b[0m",
      "\u001b[0;32m~/.pyenv/versions/Anaconda3-2019.10/lib/python3.7/site-packages/sklearn/ensemble/_forest.py\u001b[0m in \u001b[0;36mpredict_proba\u001b[0;34m(self, X)\u001b[0m\n\u001b[1;32m    654\u001b[0m         \u001b[0mcheck_is_fitted\u001b[0m\u001b[0;34m(\u001b[0m\u001b[0mself\u001b[0m\u001b[0;34m)\u001b[0m\u001b[0;34m\u001b[0m\u001b[0;34m\u001b[0m\u001b[0m\n\u001b[1;32m    655\u001b[0m         \u001b[0;31m# Check data\u001b[0m\u001b[0;34m\u001b[0m\u001b[0;34m\u001b[0m\u001b[0;34m\u001b[0m\u001b[0m\n\u001b[0;32m--> 656\u001b[0;31m         \u001b[0mX\u001b[0m \u001b[0;34m=\u001b[0m \u001b[0mself\u001b[0m\u001b[0;34m.\u001b[0m\u001b[0m_validate_X_predict\u001b[0m\u001b[0;34m(\u001b[0m\u001b[0mX\u001b[0m\u001b[0;34m)\u001b[0m\u001b[0;34m\u001b[0m\u001b[0;34m\u001b[0m\u001b[0m\n\u001b[0m\u001b[1;32m    657\u001b[0m \u001b[0;34m\u001b[0m\u001b[0m\n\u001b[1;32m    658\u001b[0m         \u001b[0;31m# Assign chunk of trees to jobs\u001b[0m\u001b[0;34m\u001b[0m\u001b[0;34m\u001b[0m\u001b[0;34m\u001b[0m\u001b[0m\n",
      "\u001b[0;32m~/.pyenv/versions/Anaconda3-2019.10/lib/python3.7/site-packages/sklearn/ensemble/_forest.py\u001b[0m in \u001b[0;36m_validate_X_predict\u001b[0;34m(self, X)\u001b[0m\n\u001b[1;32m    410\u001b[0m         \u001b[0mcheck_is_fitted\u001b[0m\u001b[0;34m(\u001b[0m\u001b[0mself\u001b[0m\u001b[0;34m)\u001b[0m\u001b[0;34m\u001b[0m\u001b[0;34m\u001b[0m\u001b[0m\n\u001b[1;32m    411\u001b[0m \u001b[0;34m\u001b[0m\u001b[0m\n\u001b[0;32m--> 412\u001b[0;31m         \u001b[0;32mreturn\u001b[0m \u001b[0mself\u001b[0m\u001b[0;34m.\u001b[0m\u001b[0mestimators_\u001b[0m\u001b[0;34m[\u001b[0m\u001b[0;36m0\u001b[0m\u001b[0;34m]\u001b[0m\u001b[0;34m.\u001b[0m\u001b[0m_validate_X_predict\u001b[0m\u001b[0;34m(\u001b[0m\u001b[0mX\u001b[0m\u001b[0;34m,\u001b[0m \u001b[0mcheck_input\u001b[0m\u001b[0;34m=\u001b[0m\u001b[0;32mTrue\u001b[0m\u001b[0;34m)\u001b[0m\u001b[0;34m\u001b[0m\u001b[0;34m\u001b[0m\u001b[0m\n\u001b[0m\u001b[1;32m    413\u001b[0m \u001b[0;34m\u001b[0m\u001b[0m\n\u001b[1;32m    414\u001b[0m     \u001b[0;34m@\u001b[0m\u001b[0mproperty\u001b[0m\u001b[0;34m\u001b[0m\u001b[0;34m\u001b[0m\u001b[0m\n",
      "\u001b[0;32m~/.pyenv/versions/Anaconda3-2019.10/lib/python3.7/site-packages/sklearn/tree/_classes.py\u001b[0m in \u001b[0;36m_validate_X_predict\u001b[0;34m(self, X, check_input)\u001b[0m\n\u001b[1;32m    389\u001b[0m                              \u001b[0;34m\"match the input. Model n_features is %s and \"\u001b[0m\u001b[0;34m\u001b[0m\u001b[0;34m\u001b[0m\u001b[0m\n\u001b[1;32m    390\u001b[0m                              \u001b[0;34m\"input n_features is %s \"\u001b[0m\u001b[0;34m\u001b[0m\u001b[0;34m\u001b[0m\u001b[0m\n\u001b[0;32m--> 391\u001b[0;31m                              % (self.n_features_, n_features))\n\u001b[0m\u001b[1;32m    392\u001b[0m \u001b[0;34m\u001b[0m\u001b[0m\n\u001b[1;32m    393\u001b[0m         \u001b[0;32mreturn\u001b[0m \u001b[0mX\u001b[0m\u001b[0;34m\u001b[0m\u001b[0;34m\u001b[0m\u001b[0m\n",
      "\u001b[0;31mValueError\u001b[0m: Number of features of the model must match the input. Model n_features is 69 and input n_features is 63 "
     ]
    }
   ],
   "source": [
    "#classifier.predict_proba(np.resize(df2_num[:,array_list],(1,trainX.shape[1])))\n",
    "classifier.predict_proba(df2_num[:,array_list])\n"
   ]
  },
  {
   "cell_type": "code",
   "execution_count": 21,
   "metadata": {},
   "outputs": [
    {
     "name": "stdout",
     "output_type": "stream",
     "text": [
      "\n",
      "2012-03-23 00:00:00:資金1,000,000(基準1,000,000)売 売 売 売 売 売 \n",
      "2012-04-02 00:00:00:資金992,194(基準1,009,828)売 売 売 売 売 売 売 売 売 売 売 売 売 売 売 売 買 売 売 \n",
      "2012-05-01 00:00:00:資金1,027,822(基準934,023)売 売 売 売 売 売 売 売 売 売 売 売 売 買 売 売 売 売 売 売 \n",
      "2012-06-01 00:00:00:資金1,100,603(基準843,058)売 売 売 買 買 売 売 売 売 売 売 買 売 売 売 売 売 売 売 買 売 \n",
      "2012-07-02 00:00:00:資金1,096,352(基準899,316)売 売 買 売 売 売 売 売 売 売 売 売 売 売 売 売 売 売 買 売 \n",
      "2012-08-01 00:00:00:資金1,142,926(基準863,194)売 売 売 買 売 買 売 売 売 売 売 売 売 売 売 売 売 売 売 売 売 売 売 \n",
      "2012-09-03 00:00:00:資金1,129,493(基準877,382)売 売 売 買 売 売 売 買 買 売 売 売 売 売 売 売 売 買 \n",
      "2012-10-01 00:00:00:資金1,126,402(基準878,643)売 売 売 売 売 売 売 売 売 売 売 買 買 売 売 買 売 売 売 売 \n",
      "2012-11-01 00:00:00:資金1,118,431(基準893,662)売 買 売 売 売 売 売 売 売 売 売 買 売 売 売 買 買 売 売 売 売 \n",
      "2012-12-03 00:00:00:資金1,132,734(基準944,734)売 売 売 買 売 売 売 売 売 売 売 売 買 売 売 売 売 売 \n",
      "--------------------------------------------------------------------\n",
      "2013-01-04 00:00:00:資金1,166,737(基準1,067,586)売 売 売 売 買 売 売 売 売 買 買 売 売 買 売 売 買 買 \n",
      "2013-02-01 00:00:00:資金1,223,989(基準1,117,851)買 売 売 買 買 売 買 売 売 売 売 売 売 売 買 売 売 売 \n",
      "2013-03-01 00:00:00:資金1,270,053(基準1,159,308)売 買 売 売 買 売 売 売 売 売 売 売 売 売 売 売 売 売 売 売 \n",
      "2013-04-02 00:00:00:資金1,237,002(基準1,198,967)売 売 売 買 売 売 売 売 売 売 売 買 売 売 売 売 売 売 売 売 \n",
      "2013-05-01 00:00:00:資金1,141,914(基準1,378,354)売 売 買 売 売 売 売 売 売 売 売 売 売 売 売 売 売 売 売 売 \n",
      "2013-06-03 00:00:00:資金1,304,379(基準1,324,662)売 売 売 売 買 買 売 売 売 買 買 買 買 売 売 売 売 売 売 売 \n",
      "2013-07-01 00:00:00:資金1,521,962(基準1,383,662)売 売 売 売 売 売 売 売 売 売 売 売 売 売 売 買 売 売 売 売 売 \n",
      "2013-08-01 00:00:00:資金1,545,530(基準1,398,972)売 買 売 売 売 売 売 売 売 買 売 売 売 売 売 売 買 買 売 売 売 買 \n",
      "2013-09-02 00:00:00:資金1,552,067(基準1,355,736)売 買 買 売 売 売 売 売 売 売 売 売 売 売 売 売 買 売 \n",
      "2013-10-01 00:00:00:資金1,534,873(基準1,446,812)売 売 売 売 売 売 売 買 買 売 売 売 売 売 売 売 売 売 売 売 買 売 \n",
      "2013-11-01 00:00:00:資金1,635,081(基準1,418,530)売 売 売 買 売 売 売 買 売 買 買 売 売 売 売 売 売 売 売 \n",
      "2013-12-02 00:00:00:資金1,553,888(基準1,563,713)売 売 売 売 売 買 売 売 売 売 売 売 売 買 売 買 売 買 売 \n",
      "--------------------------------------------------------------------\n",
      "2014-01-06 00:00:00:資金1,534,923(基準1,589,065)売 売 売 売 売 売 売 買 売 売 売 売 売 売 売 売 売 売 \n",
      "2014-02-03 00:00:00:資金1,592,436(基準1,460,238)売 売 売 買 売 売 買 売 売 売 買 売 売 買 売 売 売 売 \n",
      "2014-03-03 00:00:00:資金1,681,794(基準1,463,544)売 売 売 売 売 売 売 売 売 売 売 買 売 売 売 売 売 売 買 買 \n",
      "2014-04-01 00:00:00:資金1,680,444(基準1,477,504)売 売 売 売 売 売 売 売 売 売 買 売 買 売 売 売 売 売 売 売 \n",
      "2014-05-01 00:00:00:資金1,728,419(基準1,446,853)売 売 売 売 売 売 買 売 売 売 売 売 売 買 買 買 売 売 売 \n",
      "2014-06-02 00:00:00:資金1,760,017(基準1,491,880)売 売 売 売 売 売 売 売 売 売 買 売 売 売 買 売 売 売 売 売 売 \n",
      "2014-07-01 00:00:00:資金1,711,395(基準1,530,864)売 買 売 売 売 売 売 売 売 買 売 売 売 売 売 売 売 売 売 売 売 \n",
      "2014-08-01 00:00:00:資金1,677,117(基準1,550,532)売 売 売 売 売 売 売 売 売 買 売 売 売 売 売 売 売 売 売 売 売 \n",
      "2014-09-01 00:00:00:資金1,729,606(基準1,545,886)売 売 売 売 売 売 売 売 売 売 売 売 売 売 売 売 売 売 売 \n",
      "2014-10-01 00:00:00:資金1,715,724(基準1,606,382)売 売 売 買 売 売 売 売 売 売 売 売 売 買 売 売 買 売 売 売 買 売 \n",
      "2014-11-04 00:00:00:資金1,648,720(基準1,684,315)売 売 買 売 売 売 売 売 売 売 売 売 売 売 売 売 売 \n",
      "2014-12-01 00:00:00:資金1,616,279(基準1,756,994)売 売 買 売 売 売 売 売 売 売 売 売 売 買 買 売 売 売 売 売 \n",
      "--------------------------------------------------------------------\n",
      "2015-01-05 00:00:00:資金1,647,500(基準1,738,876)売 売 売 買 買 売 売 売 売 買 買 売 買 売 買 売 売 売 \n",
      "2015-02-02 00:00:00:資金1,617,545(基準1,753,792)売 売 売 売 売 売 売 買 売 売 売 売 売 売 売 売 売 買 \n",
      "2015-03-02 00:00:00:資金1,624,292(基準1,880,531)売 売 売 売 売 売 売 売 売 買 売 売 売 売 売 売 売 売 売 売 売 買 \n",
      "2015-04-01 00:00:00:資金1,575,738(基準1,901,303)売 売 売 買 売 売 売 売 売 売 売 売 売 買 売 買 売 売 売 売 \n",
      "2015-05-01 00:00:00:資金1,600,328(基準1,950,925)売 売 売 買 売 売 売 売 売 買 買 売 売 売 売 売 売 \n",
      "2015-06-01 00:00:00:資金1,562,183(基準2,054,630)売 売 売 売 売 売 売 売 売 買 売 売 売 売 売 売 売 買 売 売 売 売 \n",
      "2015-07-01 00:00:00:資金1,550,961(基準2,030,602)売 買 売 売 売 売 買 売 買 売 売 売 売 売 売 売 売 売 買 売 売 \n",
      "2015-08-03 00:00:00:資金1,507,409(基準2,052,456)売 売 売 買 売 売 売 売 売 売 売 売 売 売 売 売 買 買 買 買 売 \n",
      "2015-09-01 00:00:00:資金1,610,846(基準1,814,487)売 買 買 売 売 売 買 買 買 売 売 売 売 売 売 売 売 売 \n",
      "2015-10-01 00:00:00:資金1,632,072(基準1,770,211)買 売 買 買 売 売 売 売 売 売 買 売 売 売 売 買 売 売 売 売 売 \n",
      "2015-11-02 00:00:00:資金1,627,121(基準1,866,183)売 売 売 売 買 売 売 売 売 売 買 売 売 売 売 売 売 売 \n",
      "2015-12-01 00:00:00:資金1,604,420(基準1,998,947)売 売 売 売 売 売 売 売 売 売 売 売 買 売 売 売 売 売 売 売 \n",
      "--------------------------------------------------------------------\n",
      "2016-01-05 00:00:00:資金1,659,653(基準1,835,294)売 売 売 売 売 売 売 買 買 買 買 買 買 売 売 売 売 \n",
      "2016-02-01 00:00:00:資金1,603,972(基準1,784,476)買 売 売 売 売 売 売 売 売 買 買 売 売 売 買 売 売 売 売 \n",
      "2016-03-01 00:00:00:資金1,804,014(基準1,606,708)売 買 売 買 売 売 売 買 売 買 売 売 売 売 売 売 売 売 売 売 売 \n",
      "2016-04-01 00:00:00:資金1,896,282(基準1,614,564)売 売 売 売 売 売 売 売 売 買 売 売 売 買 売 売 売 売 売 売 \n",
      "2016-05-02 00:00:00:資金1,968,681(基準1,612,888)売 売 売 売 買 売 買 売 売 売 買 売 売 売 売 売 売 売 \n",
      "2016-06-01 00:00:00:資金1,862,722(基準1,693,630)売 売 売 売 買 売 売 売 売 売 売 売 売 売 売 買 売 買 売 売 買 買 \n",
      "2016-07-01 00:00:00:資金1,687,124(基準1,566,451)売 売 売 売 売 売 買 買 売 売 売 売 売 売 売 売 売 売 売 \n",
      "2016-08-01 00:00:00:資金1,629,402(基準1,661,671)売 売 売 売 売 買 買 売 買 売 売 売 売 売 売 売 売 売 売 売 売 買 \n",
      "2016-09-01 00:00:00:資金1,691,437(基準1,690,744)売 売 買 売 売 売 売 売 売 売 売 売 売 買 売 売 売 売 売 \n",
      "2016-10-03 00:00:00:資金1,633,020(基準1,657,965)売 売 売 売 売 売 売 売 売 売 売 売 売 売 売 売 売 売 売 売 \n",
      "2016-11-01 00:00:00:資金1,572,232(基準1,742,241)売 売 売 売 売 売 売 買 売 売 売 売 売 売 売 買 売 売 売 \n",
      "2016-12-01 00:00:00:資金1,555,319(基準1,849,190)売 売 売 売 売 買 売 買 売 売 売 売 売 売 売 売 売 売 売 売 \n",
      "--------------------------------------------------------------------\n",
      "2017-01-04 00:00:00:資金1,551,853(基準1,957,171)買 買 売 売 売 売 売 売 売 売 売 売 売 買 売 買 売 売 \n",
      "2017-02-01 00:00:00:資金1,572,033(基準1,912,614)売 買 売 売 売 売 売 買 買 売 売 売 売 売 買 売 売 売 売 \n",
      "2017-03-01 00:00:00:資金1,569,677(基準1,937,132)売 買 売 売 売 売 売 売 売 売 売 売 売 売 売 売 売 売 売 売 売 売 \n",
      "2017-04-03 00:00:00:資金1,544,664(基準1,896,148)売 売 売 売 売 売 売 売 売 売 売 売 売 売 買 売 買 売 売 \n",
      "2017-05-01 00:00:00:資金1,577,277(基準1,928,839)売 売 売 売 売 売 売 売 買 売 売 売 売 売 売 売 売 売 売 \n",
      "2017-06-01 00:00:00:資金1,544,245(基準1,983,727)売 買 売 売 売 売 売 売 売 売 売 売 売 買 売 売 売 売 売 売 売 売 \n",
      "2017-07-03 00:00:00:資金1,565,937(基準2,003,282)売 売 売 売 買 売 売 売 売 売 売 売 売 売 売 売 売 売 売 \n",
      "2017-08-01 00:00:00:資金1,584,023(基準1,996,289)売 売 売 売 売 売 売 売 売 売 売 売 売 売 売 売 売 売 売 売 売 売 \n",
      "2017-09-01 00:00:00:資金1,611,147(基準1,966,891)売 売 売 売 売 売 買 売 売 売 売 売 売 売 売 売 売 売 売 \n",
      "2017-10-02 00:00:00:資金1,620,820(基準2,037,740)売 売 売 売 売 売 売 売 売 買 売 売 売 売 買 売 買 売 売 売 売 \n",
      "2017-11-01 00:00:00:資金1,544,080(基準2,239,439)買 売 売 売 売 買 売 売 売 売 売 売 売 売 売 売 売 売 売 売 \n",
      "2017-12-01 00:00:00:資金1,570,094(基準2,279,288)買 売 売 売 売 買 売 売 売 売 売 売 売 売 売 売 売 売 売 売 \n",
      "--------------------------------------------------------------------\n",
      "2018-01-04 00:00:00:資金1,607,348(基準2,347,939)売 売 売 売 売 売 売 売 買 売 売 売 売 売 売 売 売 売 \n",
      "2018-02-01 00:00:00:資金1,603,124(基準2,345,920)売 売 売 売 売 売 売 売 売 売 売 売 売 売 売 買 買 売 \n",
      "2018-03-01 00:00:00:資金1,697,301(基準2,169,958)売 売 売 買 売 売 売 買 売 売 売 売 売 売 売 売 売 売 売 買 売 \n",
      "2018-04-03 00:00:00:資金1,680,504(基準2,126,789)売 買 売 売 売 売 売 売 売 売 売 売 売 売 売 売 売 売 売 \n",
      "2018-05-01 00:00:00:資金1,615,454(基準2,248,224)売 売 売 売 売 売 売 売 売 売 売 売 売 売 売 売 売 売 売 売 \n",
      "2018-06-01 00:00:00:資金1,619,282(基準2,214,594)売 買 売 売 買 売 売 売 売 売 売 売 売 売 売 売 売 売 売 売 売 \n",
      "2018-07-02 00:00:00:資金1,631,484(基準2,178,694)売 売 売 売 売 買 売 売 買 売 売 買 売 売 売 売 売 売 売 売 売 \n",
      "2018-08-01 00:00:00:資金1,639,859(基準2,272,063)売 売 売 売 売 売 売 売 売 売 買 売 買 売 売 売 売 売 売 買 売 売 売 \n",
      "2018-09-03 00:00:00:資金1,593,329(基準2,268,136)売 売 売 売 売 売 買 売 買 売 売 売 売 売 売 売 売 \n",
      "2018-10-01 00:00:00:資金1,546,659(基準2,421,798)売 売 売 売 売 売 売 売 売 売 売 売 売 売 売 売 売 売 売 売 売 買 \n",
      "2018-11-01 00:00:00:資金1,658,942(基準2,166,280)買 売 買 売 売 買 売 売 売 売 売 売 売 売 売 買 売 買 売 買 売 \n",
      "2018-12-03 00:00:00:資金1,553,168(基準2,254,889)売 売 売 売 売 売 売 買 売 売 売 売 売 売 売 売 買 \n",
      "--------------------------------------------------------------------\n",
      "2019-01-04 00:00:00:資金1,682,154(基準1,953,954)売 売 売 買 売 売 売 買 売 売 売 売 売 売 売 売 売 売 \n",
      "2019-02-01 00:00:00:資金1,648,711(基準2,076,457)売 売 売 売 売 売 売 売 売 売 売 売 売 売 売 売 売 売 \n",
      "2019-03-01 00:00:00:資金1,648,047(基準2,157,794)売 売 売 売 売 売 売 買 売 売 売 売 売 売 売 売 売 売 売 売 \n",
      "2019-04-01 00:00:00:資金1,709,072(基準2,148,438)買 買 売 売 売 売 売 売 売 売 買 売 売 売 売 売 売 売 売 \n",
      "2019-05-07 00:00:00:資金1,664,762(基準2,189,860)売 売 売 売 売 売 売 売 売 売 売 売 売 売 売 売 売 売 \n",
      "2019-06-03 00:00:00:資金1,690,335(基準2,038,749)売 売 売 売 売 買 売 売 売 売 売 売 売 売 売 売 売 売 売 売 \n",
      "2019-07-01 00:00:00:資金1,660,673(基準2,170,507)売 売 売 売 売 売 売 売 売 売 売 売 売 買 売 買 売 売 売 売 売 \n",
      "2019-08-01 00:00:00:資金1,646,793(基準2,151,631)売 売 売 売 売 売 買 売 売 売 売 買 売 売 売 売 売 売 売 売 売 \n",
      "2019-09-02 00:00:00:資金1,595,679(基準2,059,656)売 売 買 売 売 売 売 売 売 売 売 売 売 売 売 売 売 売 \n",
      "2019-10-01 00:00:00:資金1,602,901(基準2,186,016)売 売 売 売 売 売 売 売 買 買 買 売 売 売 売 売 売 売 売 売 売 \n",
      "2019-11-01 00:00:00:資金1,593,450(基準2,282,459)売 買 売 売 買 売 売 売 売 売 売 売 売 売 売 買 売 売 売 \n",
      "2019-12-02 00:00:00:資金1,593,138(基準2,350,254)売 売 売 売 売 売 売 売 売 売 売 売 売 売 売 売 売 売 売 売 \n",
      "--------------------------------------------------------------------\n",
      "2020-01-06 00:00:00:資金1,611,439(基準2,317,827)売 売 売 買 買 売 売 売 売 売 売 売 売 売 売 売 売 売 \n",
      "2020-02-03 00:00:00:資金1,625,966(基準2,294,562)売 売 買 買 買 売 売 売 売 売 売 買 売 売 売 売 売 \n",
      "2020-03-02 00:00:00:資金1,659,906(基準2,131,962)買 買 買 買 買 買 買 買 買 売 売 売 買 売 売 買 買 買 売 売 買 \n",
      "2020-04-01 00:00:00:資金1,676,361(基準1,804,471)売 売 売 売 売 売 売 売 売 売 売 売 "
     ]
    }
   ],
   "source": [
    "MONEY=1000000\n",
    "DATE=\"\"\n",
    "for i in range(start,end): \n",
    "        PRE=df2_num[i,array_list]\n",
    "        #予測のコマンド\n",
    "        PRE2 = classifier.predict_proba(np.resize(PRE,(1,trainX.shape[1])))[0]\n",
    "        dision=judgment(PRE2)\n",
    "        \n",
    "        profit_rate=0\n",
    "        DATE2=str(df2_num[i,date_index])\n",
    "         \n",
    "        if DATE != DATE2[:7]:       #月初の定点観測\n",
    "            DATE=DATE2[:7]\n",
    "            #print(DATE,DATE2    )\n",
    "            print()\n",
    "            result_out=result_out+\"\\n\"\n",
    "            if DATE2[5:7]==\"01\":\n",
    "                print(\"--------------------------------------------------------------------\")\n",
    "                result_out=result_out+\"--------------------------------------------------------------------\"+\"\\n\"\n",
    "            #STRING=df2_num[i,0]+\":資金\"+\"{:,}\".format(int(MONEY))+\"(基準\"+\"{:,}\".format(int(standard*df2_num[i,1])).strip()+\")\"\n",
    "            STRING=DATE2+\":資金\"+\"{:,}\".format(int(MONEY))+\"(基準\"+\"{:,}\".format(int(standard*df2_num[i,1])).strip()+\")\"\n",
    "\n",
    "            \n",
    "            print(STRING.strip(),end=\"\")\n",
    "            result_out=result_out+STRING.strip()+\"\\n\"\n",
    "\n",
    "\n",
    "\n",
    "        PREDICT    =\"None\"\n",
    "        \n",
    "        #  買い予測の場合\n",
    "        #if PRE2[0]>0.33:\n",
    "        if dision==0:\n",
    "            PREDICT=\"buy\"\n",
    "            print(\"買\",end=\" \")\n",
    "            profit_rate=df2_num[i,close_index]/df2_num[i,open_index]\n",
    "            MONEY=MONEY*profit_rate\n",
    "\n",
    "        #  売り予測の場合\n",
    "        #if PRE2[2]>0.33:\n",
    "        if dision==1:\n",
    "            PREDICT=\"sell\"\n",
    "            print(\"売\",end=\" \")\n",
    "            profit_rate=df2_num[i,close_index]/df2_num[i,open_index]\n",
    "            MONEY=MONEY/profit_rate\n",
    "\n",
    "\n",
    "            \n",
    "            \n",
    "        if df2_num[i,y_loc_up]==1:\n",
    "            Y_result=\"buy\"\n",
    "        elif df2_num[i,y_loc_down]==1:\n",
    "            Y_result=\"sell\"\n",
    "        else:\n",
    "            Y_result=\"None\"\n",
    "            \n",
    "        # 正誤表の処理\n",
    "        seigo=\"-\"    \n",
    "        #print(\"正誤表\",df2_num[i,66],Y_result,PREDICT)\n",
    "        if Y_result==PREDICT:\n",
    "            seigo=\"●\"\n",
    "        else:\n",
    "            seigo=\"×\"    \n",
    "\n",
    "        \n",
    "        if profit_rate!=0:\n",
    "            profit_rate=100*(profit_rate-1)\n",
    "        \n",
    "        s1 = pd.Series([df2_num[i,0],                 #日付\n",
    "                        round(df2_num[i,open_index], 2),        #OPEN\n",
    "                        round(df2_num[i,close_index],2),        #Close\n",
    "                        round((df2_num[i,close_index]/df2_num[i,open_index]-1)*100,2),  #アップ率\n",
    "                        round(MONEY),\n",
    "                        int(standard*df2_num[i,1]),                 #基準価格\n",
    "                        Y_result,PREDICT,seigo,\n",
    "                        round(profit_rate,2)],                     #予測\n",
    "               index=df_sim.columns)\n",
    "        df_sim=df_sim.append(s1,ignore_index=True)"
   ]
  },
  {
   "cell_type": "code",
   "execution_count": 22,
   "metadata": {},
   "outputs": [
    {
     "ename": "AttributeError",
     "evalue": "Can only use .str accessor with string values!",
     "output_type": "error",
     "traceback": [
      "\u001b[0;31m---------------------------------------------------------------------------\u001b[0m",
      "\u001b[0;31mAttributeError\u001b[0m                            Traceback (most recent call last)",
      "\u001b[0;32m<ipython-input-22-67b3ec762ddf>\u001b[0m in \u001b[0;36m<module>\u001b[0;34m\u001b[0m\n\u001b[1;32m      2\u001b[0m     \u001b[0mdf_sim\u001b[0m\u001b[0;34m[\u001b[0m\u001b[0;34m'Date'\u001b[0m\u001b[0;34m]\u001b[0m\u001b[0;34m.\u001b[0m\u001b[0mstr\u001b[0m\u001b[0;34m.\u001b[0m\u001b[0mcontains\u001b[0m\u001b[0;34m(\u001b[0m\u001b[0;34m'01-01'\u001b[0m\u001b[0;34m)\u001b[0m \u001b[0;34m|\u001b[0m\u001b[0;34m\u001b[0m\u001b[0;34m\u001b[0m\u001b[0m\n\u001b[1;32m      3\u001b[0m     \u001b[0mdf_sim\u001b[0m\u001b[0;34m[\u001b[0m\u001b[0;34m'Date'\u001b[0m\u001b[0;34m]\u001b[0m\u001b[0;34m.\u001b[0m\u001b[0mstr\u001b[0m\u001b[0;34m.\u001b[0m\u001b[0mcontains\u001b[0m\u001b[0;34m(\u001b[0m\u001b[0;34m'04-01'\u001b[0m\u001b[0;34m)\u001b[0m \u001b[0;34m|\u001b[0m\u001b[0;34m\u001b[0m\u001b[0;34m\u001b[0m\u001b[0m\n\u001b[0;32m----> 4\u001b[0;31m     \u001b[0mdf_sim\u001b[0m\u001b[0;34m[\u001b[0m\u001b[0;34m'Date'\u001b[0m\u001b[0;34m]\u001b[0m\u001b[0;34m.\u001b[0m\u001b[0mstr\u001b[0m\u001b[0;34m.\u001b[0m\u001b[0mcontains\u001b[0m\u001b[0;34m(\u001b[0m\u001b[0;34m'07-01'\u001b[0m\u001b[0;34m)\u001b[0m \u001b[0;34m|\u001b[0m\u001b[0;34m\u001b[0m\u001b[0;34m\u001b[0m\u001b[0m\n\u001b[0m\u001b[1;32m      5\u001b[0m     \u001b[0mdf_sim\u001b[0m\u001b[0;34m[\u001b[0m\u001b[0;34m'Date'\u001b[0m\u001b[0;34m]\u001b[0m\u001b[0;34m.\u001b[0m\u001b[0mstr\u001b[0m\u001b[0;34m.\u001b[0m\u001b[0mcontains\u001b[0m\u001b[0;34m(\u001b[0m\u001b[0;34m'10-01'\u001b[0m\u001b[0;34m)\u001b[0m\u001b[0;34m\u001b[0m\u001b[0;34m\u001b[0m\u001b[0m\n\u001b[1;32m      6\u001b[0m )]\n",
      "\u001b[0;32m~/.pyenv/versions/Anaconda3-2019.10/lib/python3.7/site-packages/pandas/core/generic.py\u001b[0m in \u001b[0;36m__getattr__\u001b[0;34m(self, name)\u001b[0m\n\u001b[1;32m   5173\u001b[0m             \u001b[0;32mor\u001b[0m \u001b[0mname\u001b[0m \u001b[0;32min\u001b[0m \u001b[0mself\u001b[0m\u001b[0;34m.\u001b[0m\u001b[0m_accessors\u001b[0m\u001b[0;34m\u001b[0m\u001b[0;34m\u001b[0m\u001b[0m\n\u001b[1;32m   5174\u001b[0m         ):\n\u001b[0;32m-> 5175\u001b[0;31m             \u001b[0;32mreturn\u001b[0m \u001b[0mobject\u001b[0m\u001b[0;34m.\u001b[0m\u001b[0m__getattribute__\u001b[0m\u001b[0;34m(\u001b[0m\u001b[0mself\u001b[0m\u001b[0;34m,\u001b[0m \u001b[0mname\u001b[0m\u001b[0;34m)\u001b[0m\u001b[0;34m\u001b[0m\u001b[0;34m\u001b[0m\u001b[0m\n\u001b[0m\u001b[1;32m   5176\u001b[0m         \u001b[0;32melse\u001b[0m\u001b[0;34m:\u001b[0m\u001b[0;34m\u001b[0m\u001b[0;34m\u001b[0m\u001b[0m\n\u001b[1;32m   5177\u001b[0m             \u001b[0;32mif\u001b[0m \u001b[0mself\u001b[0m\u001b[0;34m.\u001b[0m\u001b[0m_info_axis\u001b[0m\u001b[0;34m.\u001b[0m\u001b[0m_can_hold_identifiers_and_holds_name\u001b[0m\u001b[0;34m(\u001b[0m\u001b[0mname\u001b[0m\u001b[0;34m)\u001b[0m\u001b[0;34m:\u001b[0m\u001b[0;34m\u001b[0m\u001b[0;34m\u001b[0m\u001b[0m\n",
      "\u001b[0;32m~/.pyenv/versions/Anaconda3-2019.10/lib/python3.7/site-packages/pandas/core/accessor.py\u001b[0m in \u001b[0;36m__get__\u001b[0;34m(self, obj, cls)\u001b[0m\n\u001b[1;32m    173\u001b[0m             \u001b[0;31m# we're accessing the attribute of the class, i.e., Dataset.geo\u001b[0m\u001b[0;34m\u001b[0m\u001b[0;34m\u001b[0m\u001b[0;34m\u001b[0m\u001b[0m\n\u001b[1;32m    174\u001b[0m             \u001b[0;32mreturn\u001b[0m \u001b[0mself\u001b[0m\u001b[0;34m.\u001b[0m\u001b[0m_accessor\u001b[0m\u001b[0;34m\u001b[0m\u001b[0;34m\u001b[0m\u001b[0m\n\u001b[0;32m--> 175\u001b[0;31m         \u001b[0maccessor_obj\u001b[0m \u001b[0;34m=\u001b[0m \u001b[0mself\u001b[0m\u001b[0;34m.\u001b[0m\u001b[0m_accessor\u001b[0m\u001b[0;34m(\u001b[0m\u001b[0mobj\u001b[0m\u001b[0;34m)\u001b[0m\u001b[0;34m\u001b[0m\u001b[0;34m\u001b[0m\u001b[0m\n\u001b[0m\u001b[1;32m    176\u001b[0m         \u001b[0;31m# Replace the property with the accessor object. Inspired by:\u001b[0m\u001b[0;34m\u001b[0m\u001b[0;34m\u001b[0m\u001b[0;34m\u001b[0m\u001b[0m\n\u001b[1;32m    177\u001b[0m         \u001b[0;31m# http://www.pydanny.com/cached-property.html\u001b[0m\u001b[0;34m\u001b[0m\u001b[0;34m\u001b[0m\u001b[0;34m\u001b[0m\u001b[0m\n",
      "\u001b[0;32m~/.pyenv/versions/Anaconda3-2019.10/lib/python3.7/site-packages/pandas/core/strings.py\u001b[0m in \u001b[0;36m__init__\u001b[0;34m(self, data)\u001b[0m\n\u001b[1;32m   1915\u001b[0m \u001b[0;34m\u001b[0m\u001b[0m\n\u001b[1;32m   1916\u001b[0m     \u001b[0;32mdef\u001b[0m \u001b[0m__init__\u001b[0m\u001b[0;34m(\u001b[0m\u001b[0mself\u001b[0m\u001b[0;34m,\u001b[0m \u001b[0mdata\u001b[0m\u001b[0;34m)\u001b[0m\u001b[0;34m:\u001b[0m\u001b[0;34m\u001b[0m\u001b[0;34m\u001b[0m\u001b[0m\n\u001b[0;32m-> 1917\u001b[0;31m         \u001b[0mself\u001b[0m\u001b[0;34m.\u001b[0m\u001b[0m_inferred_dtype\u001b[0m \u001b[0;34m=\u001b[0m \u001b[0mself\u001b[0m\u001b[0;34m.\u001b[0m\u001b[0m_validate\u001b[0m\u001b[0;34m(\u001b[0m\u001b[0mdata\u001b[0m\u001b[0;34m)\u001b[0m\u001b[0;34m\u001b[0m\u001b[0;34m\u001b[0m\u001b[0m\n\u001b[0m\u001b[1;32m   1918\u001b[0m         \u001b[0mself\u001b[0m\u001b[0;34m.\u001b[0m\u001b[0m_is_categorical\u001b[0m \u001b[0;34m=\u001b[0m \u001b[0mis_categorical_dtype\u001b[0m\u001b[0;34m(\u001b[0m\u001b[0mdata\u001b[0m\u001b[0;34m)\u001b[0m\u001b[0;34m\u001b[0m\u001b[0;34m\u001b[0m\u001b[0m\n\u001b[1;32m   1919\u001b[0m \u001b[0;34m\u001b[0m\u001b[0m\n",
      "\u001b[0;32m~/.pyenv/versions/Anaconda3-2019.10/lib/python3.7/site-packages/pandas/core/strings.py\u001b[0m in \u001b[0;36m_validate\u001b[0;34m(data)\u001b[0m\n\u001b[1;32m   1965\u001b[0m \u001b[0;34m\u001b[0m\u001b[0m\n\u001b[1;32m   1966\u001b[0m         \u001b[0;32mif\u001b[0m \u001b[0minferred_dtype\u001b[0m \u001b[0;32mnot\u001b[0m \u001b[0;32min\u001b[0m \u001b[0mallowed_types\u001b[0m\u001b[0;34m:\u001b[0m\u001b[0;34m\u001b[0m\u001b[0;34m\u001b[0m\u001b[0m\n\u001b[0;32m-> 1967\u001b[0;31m             \u001b[0;32mraise\u001b[0m \u001b[0mAttributeError\u001b[0m\u001b[0;34m(\u001b[0m\u001b[0;34m\"Can only use .str accessor with string \"\u001b[0m \u001b[0;34m\"values!\"\u001b[0m\u001b[0;34m)\u001b[0m\u001b[0;34m\u001b[0m\u001b[0;34m\u001b[0m\u001b[0m\n\u001b[0m\u001b[1;32m   1968\u001b[0m         \u001b[0;32mreturn\u001b[0m \u001b[0minferred_dtype\u001b[0m\u001b[0;34m\u001b[0m\u001b[0;34m\u001b[0m\u001b[0m\n\u001b[1;32m   1969\u001b[0m \u001b[0;34m\u001b[0m\u001b[0m\n",
      "\u001b[0;31mAttributeError\u001b[0m: Can only use .str accessor with string values!"
     ]
    }
   ],
   "source": [
    "df_sim[(\n",
    "    df_sim['Date'].str.contains('01-01') |\n",
    "    df_sim['Date'].str.contains('04-01') |\n",
    "    df_sim['Date'].str.contains('07-01') |\n",
    "    df_sim['Date'].str.contains('10-01') \n",
    ")]"
   ]
  },
  {
   "cell_type": "code",
   "execution_count": null,
   "metadata": {},
   "outputs": [],
   "source": [
    "import matplotlib.pyplot as plt\n",
    "%matplotlib inline\n",
    "\n",
    "df_sim.plot(x='Date',y='money',title='Money/Date')"
   ]
  },
  {
   "cell_type": "code",
   "execution_count": null,
   "metadata": {},
   "outputs": [],
   "source": [
    "print(\"●\",df_sim[df_sim['正誤']==\"●\"].shape[0],\"回 勝ち\")\n",
    "print(\"X\",df_sim[df_sim['正誤']==\"×\"].shape[0],\"回 負け\")\n",
    "\n",
    "for i in range(7,21):\n",
    "    YEAR=str(i+2000)\n",
    "    start_day=YEAR+\"-01-01\"\n",
    "    end_day=YEAR+\"-12-31\"\n",
    "\n",
    "    tmp=df_sim.query(\"Date >= @start_day and Date <= @end_day \")\n",
    "    \n",
    "    print(\"{:}年の利益率{:.2f}%\".format(YEAR,tmp[['利益率']].sum()[0]))"
   ]
  },
  {
   "cell_type": "code",
   "execution_count": null,
   "metadata": {},
   "outputs": [],
   "source": [
    "\n"
   ]
  },
  {
   "cell_type": "code",
   "execution_count": null,
   "metadata": {},
   "outputs": [],
   "source": []
  }
 ],
 "metadata": {
  "kernelspec": {
   "display_name": "Python 3",
   "language": "python",
   "name": "python3"
  },
  "language_info": {
   "codemirror_mode": {
    "name": "ipython",
    "version": 3
   },
   "file_extension": ".py",
   "mimetype": "text/x-python",
   "name": "python",
   "nbconvert_exporter": "python",
   "pygments_lexer": "ipython3",
   "version": "3.7.4"
  }
 },
 "nbformat": 4,
 "nbformat_minor": 4
}
