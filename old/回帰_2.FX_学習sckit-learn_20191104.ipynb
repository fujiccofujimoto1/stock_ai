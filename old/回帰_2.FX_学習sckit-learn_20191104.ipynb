{
 "cells": [
  {
   "cell_type": "markdown",
   "metadata": {},
   "source": [
    "## Program Flow\n",
    "\n",
    "1. モジュールインポート"
   ]
  },
  {
   "cell_type": "markdown",
   "metadata": {},
   "source": [
    "# モジュールインポート"
   ]
  },
  {
   "cell_type": "code",
   "execution_count": 17,
   "metadata": {},
   "outputs": [],
   "source": [
    "# scikitlearnのアルゴリズムのロード\n",
    "from sklearn.ensemble import RandomForestClassifier\n",
    "from sklearn.linear_model import LogisticRegression\n",
    "from sklearn.svm import SVC\n",
    "\n",
    "\n",
    "# scikit learnのテストデータの読み込み\n",
    "from sklearn.model_selection import train_test_split\n",
    "\n",
    "# scikit learnの精度測定ツールの読み込み\n",
    "from sklearn.metrics import accuracy_score\n",
    "from sklearn.metrics import confusion_matrix \n",
    "\n",
    "#トレーニングデータと正解ラベルに分割\n",
    "from sklearn.preprocessing import StandardScaler\n",
    "from sklearn.preprocessing import MinMaxScaler\n",
    "\n",
    "# pandas(pd) とNumpy(np)のモジュール\n",
    "import numpy as np\n",
    "import pandas as pd\n",
    "import sys,os,random\n",
    "import warnings\n",
    "warnings.filterwarnings('ignore')"
   ]
  },
  {
   "cell_type": "code",
   "execution_count": 18,
   "metadata": {},
   "outputs": [],
   "source": [
    "from sklearn.linear_model import Ridge\n",
    "from sklearn.linear_model import Lasso\n",
    "from sklearn.linear_model import LogisticRegression\n",
    "from sklearn.model_selection import train_test_split"
   ]
  },
  {
   "cell_type": "markdown",
   "metadata": {},
   "source": [
    "# 変数定義"
   ]
  },
  {
   "cell_type": "code",
   "execution_count": 19,
   "metadata": {},
   "outputs": [],
   "source": [
    "# 0.97 は5000万ぐらい儲かった\n",
    "# pram_traing_rate=0.97   #トレーニングデータとテストデータの比率\n",
    "\n",
    "pram_traing_rate=0.5 #トレーニングデータとテストデータの比率"
   ]
  },
  {
   "cell_type": "markdown",
   "metadata": {},
   "source": [
    "# 前処理済みファイルのロード"
   ]
  },
  {
   "cell_type": "code",
   "execution_count": 20,
   "metadata": {},
   "outputs": [
    {
     "data": {
      "text/plain": [
       "Index(['Date', 'Close', 'Open', 'day+1', 'day+2', 'day+3', 'day+4', 'day+5',\n",
       "       'day+6', 'day+7', 'day+8', 'day+9', 'day+10', 'day+11', 'day+12',\n",
       "       'day+13', 'day+14', 'day+15', 'day+16', 'day+17', 'day+18', 'day+19',\n",
       "       'day+20', 'day+21', 'day+22', 'day+23', 'day+24', 'day+25', 'day+26',\n",
       "       'day+27', 'day+28', 'day+29', 'day+30', 'std-30', 'std-60', 'std-90',\n",
       "       'label_up', 'label_none', 'label_down', 'rolling_up5', 'rolling_down5',\n",
       "       'label_none5', 'rolling_up10', 'rolling_down10', 'label_none10',\n",
       "       'restult'],\n",
       "      dtype='object')"
      ]
     },
     "execution_count": 20,
     "metadata": {},
     "output_type": "execute_result"
    }
   ],
   "source": [
    "# 乱数のシード固定\n",
    "np.random.seed(0)\n",
    "random.seed(0)\n",
    "# データフレームの表示件数の設定\n",
    "pd.set_option('display.max_columns', 100)\n",
    "\n",
    "# データロード\n",
    "df = pd.read_csv('data/fx_preprocessing.csv', index_col=None)\n",
    "df.columns"
   ]
  },
  {
   "cell_type": "code",
   "execution_count": 21,
   "metadata": {},
   "outputs": [],
   "source": [
    "\n",
    "y_loc_s=df.columns.get_loc('label_up')\n",
    "y_loc_e=df.columns.get_loc('label_down')\n",
    "df.tail(3)\n",
    "\n",
    "\n",
    "# 前後のデータのカット\n",
    "df3=df.loc[30:(len(df)-30)]\n",
    "df2_num=df3.as_matrix()   #numpyへ変換\n",
    "\n",
    "fx_len=len(df3)"
   ]
  },
  {
   "cell_type": "code",
   "execution_count": 22,
   "metadata": {},
   "outputs": [],
   "source": [
    "# 不均衡データ用\n",
    "def label_ratio(df_tmp):\n",
    "\n",
    "    # label数を揃える\n",
    "    min_labels=[df_tmp[df_tmp['label_up']==1].shape[0],\n",
    "         df_tmp[df_tmp['label_none']==1].shape[0],\n",
    "         df_tmp[df_tmp['label_down']==1].shape[0]]\n",
    "\n",
    "    min_sample=min(min_labels)\n",
    "\n",
    "\n",
    "    # サンプル後再度結合\n",
    "    df_tmp=pd.concat([\n",
    "        df_tmp[df3['label_up']==1].sample(n=min_sample)\n",
    "        ,df_tmp[df_tmp['label_down']==1].sample(n=min_sample)\n",
    "        ,df_tmp[df_tmp['label_none']==1].sample(n=min_sample)\n",
    "        ])\n",
    "\n",
    "    print(df_tmp[df_tmp['label_up']==1].shape)\n",
    "    print(df_tmp[df_tmp['label_none']==1].shape)\n",
    "    print(df_tmp[df_tmp['label_down']==1].shape)\n",
    "    \n",
    "    return df_tmp"
   ]
  },
  {
   "cell_type": "markdown",
   "metadata": {},
   "source": [
    "## データの分割\n"
   ]
  },
  {
   "cell_type": "code",
   "execution_count": 23,
   "metadata": {},
   "outputs": [
    {
     "name": "stdout",
     "output_type": "stream",
     "text": [
      "訓練データ  :2000-10-09〜2010-02-15\n",
      "テストデータ:2010-02-16〜2020-03-23\n"
     ]
    }
   ],
   "source": [
    "train, test = train_test_split(df3, train_size=pram_traing_rate,shuffle=False)\n",
    "\n",
    "print(\"訓練データ  :{}〜{}\".format(train.head(1)['Date'].values[0],train.tail(1)['Date'].values[0]))\n",
    "print(\"テストデータ:{}〜{}\".format(test.head(1)['Date'].values[0],test.tail(1)['Date'].values[0]))"
   ]
  },
  {
   "cell_type": "code",
   "execution_count": 24,
   "metadata": {},
   "outputs": [
    {
     "data": {
      "text/plain": [
       "Index(['Date', 'Close', 'Open', 'day+1', 'day+2', 'day+3', 'day+4', 'day+5',\n",
       "       'day+6', 'day+7', 'day+8', 'day+9', 'day+10', 'day+11', 'day+12',\n",
       "       'day+13', 'day+14', 'day+15', 'day+16', 'day+17', 'day+18', 'day+19',\n",
       "       'day+20', 'day+21', 'day+22', 'day+23', 'day+24', 'day+25', 'day+26',\n",
       "       'day+27', 'day+28', 'day+29', 'day+30', 'std-30', 'std-60', 'std-90',\n",
       "       'label_up', 'label_none', 'label_down', 'rolling_up5', 'rolling_down5',\n",
       "       'label_none5', 'rolling_up10', 'rolling_down10', 'label_none10',\n",
       "       'restult'],\n",
       "      dtype='object')"
      ]
     },
     "execution_count": 24,
     "metadata": {},
     "output_type": "execute_result"
    }
   ],
   "source": [
    "df.columns"
   ]
  },
  {
   "cell_type": "code",
   "execution_count": 25,
   "metadata": {},
   "outputs": [
    {
     "name": "stdout",
     "output_type": "stream",
     "text": [
      "(611, 46)\n",
      "(611, 46)\n",
      "(611, 46)\n",
      "トレーニングデータ (1833, 33)\n",
      "トレーニングデータ (1833,)\n",
      "　 　 テストデータ (2438, 33)\n",
      "　 　 テストデータ (2438,)\n"
     ]
    }
   ],
   "source": [
    "# labelの数を整える\n",
    "train=label_ratio(train)\n",
    "#トレーニングデータと正解ラベルに分割\n",
    "#trainX,testX=train.iloc[:,3:y_loc_s],test.iloc[:,3:y_loc_s]\n",
    "#trainY,testY=train.iloc[:,y_loc_s:y_loc_e+1],test.iloc[:,y_loc_s:y_loc_e+1]\n",
    "\n",
    "# データセットは、３カラムめから正解データのところまで\n",
    "trainX,testX=train.iloc[:,3:y_loc_s],test.iloc[:,3:y_loc_s]\n",
    "\n",
    "# 正解データは、\n",
    "#trainY,testY=train.iloc[:,df.shape[1]-1],test.iloc[:,df.shape[1]-1]\n",
    "trainY,testY=train['restult'],test['restult']\n",
    "\n",
    "\n",
    "#Numpy形式に変換\n",
    "trainX,testX=trainX.as_matrix(),testX.as_matrix()\n",
    "trainY,testY=trainY.as_matrix(),testY.as_matrix()\n",
    "\n",
    "#データサンプル数の確認\n",
    "print(\"トレーニングデータ\",trainX.shape)\n",
    "print(\"トレーニングデータ\",trainY.shape)\n",
    "print(\"　 　 テストデータ\",testX.shape)\n",
    "print(\"　 　 テストデータ\",testY.shape)"
   ]
  },
  {
   "cell_type": "markdown",
   "metadata": {},
   "source": [
    "# sckit-learnの準備\n"
   ]
  },
  {
   "cell_type": "code",
   "execution_count": 26,
   "metadata": {},
   "outputs": [],
   "source": [
    "# ワンホットからカテゴリ変数へ\n",
    "#testY2 =np.argmax(testY,axis=1)\n",
    "#trainY2=np.argmax(trainY,axis=1)\n",
    "\n",
    "testY2 =testY\n",
    "trainY2=trainY\n"
   ]
  },
  {
   "cell_type": "code",
   "execution_count": 27,
   "metadata": {},
   "outputs": [
    {
     "data": {
      "text/plain": [
       "numpy.ndarray"
      ]
     },
     "execution_count": 27,
     "metadata": {},
     "output_type": "execute_result"
    }
   ],
   "source": [
    "type(trainY)"
   ]
  },
  {
   "cell_type": "markdown",
   "metadata": {},
   "source": [
    "# 回帰モデル"
   ]
  },
  {
   "cell_type": "code",
   "execution_count": 28,
   "metadata": {},
   "outputs": [
    {
     "data": {
      "text/plain": [
       "[Ridge(alpha=1.0, copy_X=True, fit_intercept=True, max_iter=None,\n",
       "       normalize=False, random_state=0, solver='auto', tol=0.001),\n",
       " Lasso(alpha=1.0, copy_X=True, fit_intercept=True, max_iter=1000,\n",
       "       normalize=False, positive=False, precompute=False, random_state=0,\n",
       "       selection='cyclic', tol=0.0001, warm_start=False)]"
      ]
     },
     "execution_count": 28,
     "metadata": {},
     "output_type": "execute_result"
    }
   ],
   "source": [
    "from sklearn.linear_model import LogisticRegression\n",
    "from sklearn.svm import LinearSVC\n",
    "# モデルの構築と評価\n",
    "names = [\n",
    "        \"SVC\", \n",
    "        \"ridge\", \n",
    "        \"lasso\",\n",
    "        ]\n",
    "\n",
    "\n",
    "\n",
    "classifiers = [\n",
    "#   LinearRegression(),\n",
    "# LinearSVC(),\n",
    "   Ridge(random_state=0),\n",
    "  Lasso(random_state=0),\n",
    "]\n",
    "classifiers"
   ]
  },
  {
   "cell_type": "code",
   "execution_count": 29,
   "metadata": {},
   "outputs": [
    {
     "data": {
      "text/plain": [
       "array([1.0201795 , 1.00890244, 1.00851466, ..., 1.00299643, 1.0011585 ,\n",
       "       1.00199759])"
      ]
     },
     "execution_count": 29,
     "metadata": {},
     "output_type": "execute_result"
    }
   ],
   "source": [
    "trainY2"
   ]
  },
  {
   "cell_type": "code",
   "execution_count": 30,
   "metadata": {},
   "outputs": [
    {
     "name": "stdout",
     "output_type": "stream",
     "text": [
      "分類器:SVC , 精度:-7.87%\n",
      "分類器:ridge , 精度:-2.33%\n"
     ]
    }
   ],
   "source": [
    "columns=['name','accuracy','mae','r2']\n",
    "df_acc=pd.DataFrame(data=None,columns=columns)\n",
    "\n",
    "from sklearn.metrics import mean_absolute_error\n",
    "\n",
    "from sklearn.metrics import r2_score\n",
    "\n",
    "\n",
    "for classifier, name in zip(classifiers, names):\n",
    "    \n",
    "    #　該当分類器にて、学習\n",
    "    classifier.fit(trainX ,trainY2)\n",
    "    \n",
    " \n",
    "    #　分類器の正答率を求める\n",
    "    pre=classifier.predict(testX)\n",
    "\n",
    "    ac_score=classifier.score(testX,testY2)\n",
    "    mae=mean_absolute_error(testY2, pre)\n",
    "    r2=r2_score(testY2, pre)\n",
    "    \n",
    "    print('分類器:{:} , 精度:{:.2%}'.format(name,ac_score))\n",
    "\n",
    "    # 結果をデータフレームに入れる\n",
    "    s=pd.Series(data=[name,ac_score,mae,r2],index=columns)\n",
    "    df_acc=df_acc.append(s,ignore_index=True)"
   ]
  },
  {
   "cell_type": "markdown",
   "metadata": {},
   "source": [
    "# Light GBM"
   ]
  },
  {
   "cell_type": "code",
   "execution_count": 31,
   "metadata": {},
   "outputs": [
    {
     "name": "stdout",
     "output_type": "stream",
     "text": [
      "[1]\tvalid_0's l2: 0.000131181\n",
      "Training until validation scores don't improve for 10 rounds\n",
      "[2]\tvalid_0's l2: 0.000131208\n",
      "[3]\tvalid_0's l2: 0.000131064\n",
      "[4]\tvalid_0's l2: 0.000130749\n",
      "[5]\tvalid_0's l2: 0.000131013\n",
      "[6]\tvalid_0's l2: 0.000131076\n",
      "[7]\tvalid_0's l2: 0.000131083\n",
      "[8]\tvalid_0's l2: 0.000131175\n",
      "[9]\tvalid_0's l2: 0.00013139\n",
      "[10]\tvalid_0's l2: 0.000131589\n",
      "[11]\tvalid_0's l2: 0.000131646\n",
      "[12]\tvalid_0's l2: 0.000131843\n",
      "[13]\tvalid_0's l2: 0.000131946\n",
      "[14]\tvalid_0's l2: 0.000131937\n",
      "Early stopping, best iteration is:\n",
      "[4]\tvalid_0's l2: 0.000130749\n"
     ]
    }
   ],
   "source": [
    "import lightgbm as lgb\n",
    "train_data_set = lgb.Dataset(trainX ,trainY2)\n",
    "test_data_set = lgb.Dataset(testX , testY2, reference=train_data_set)\n",
    " \n",
    "params = {                                                                                               \n",
    "    'boosting_type': 'gbdt',                                                                             \n",
    "    'objective': 'regression_l2',                                                                           \n",
    "    'metric': 'l2',                                                                             \n",
    "    'num_leaves': 40,                                                                                    \n",
    "    'learning_rate': 0.05,                                                                               \n",
    "    'feature_fraction': 0.9,                                                                             \n",
    "    'bagging_fraction': 0.8,                                                                             \n",
    "    'bagging_freq': 5,   \n",
    "    'lambda_l2': 2,\n",
    "}                                                                                                        \n",
    "                                                                                                         \n",
    "gbm = lgb.train(params,                                                                                  \n",
    "                train_data_set,                                                                               \n",
    "                num_boost_round=200,                                                                      \n",
    "                valid_sets=test_data_set,                                                                     \n",
    "                early_stopping_rounds=10\n",
    "                )   \n",
    "\n",
    "y_pred = gbm.predict(testX, num_iteration=gbm.best_iteration)\n",
    "#print(y_pred)"
   ]
  },
  {
   "cell_type": "code",
   "execution_count": 32,
   "metadata": {},
   "outputs": [
    {
     "name": "stdout",
     "output_type": "stream",
     "text": [
      "分類器:lighGBM , 精度:-2.33%\n"
     ]
    }
   ],
   "source": [
    "name=\"lighGBM\"\n",
    "pre= gbm.predict(testX, num_iteration=gbm.best_iteration)\n",
    "\n",
    "mae=mean_absolute_error(testY2, pre)\n",
    "r2=r2_score(testY2, pre)\n",
    "    \n",
    "print('分類器:{:} , 精度:{:.2%}'.format(name,ac_score))\n",
    "\n",
    "# 結果をデータフレームに入れる\n",
    "s=pd.Series(data=[name,ac_score,mae,r2],index=columns)\n",
    "df_acc=df_acc.append(s,ignore_index=True)"
   ]
  },
  {
   "cell_type": "code",
   "execution_count": 33,
   "metadata": {},
   "outputs": [
    {
     "data": {
      "text/plain": [
       "<matplotlib.axes._subplots.AxesSubplot at 0x11688c390>"
      ]
     },
     "execution_count": 33,
     "metadata": {},
     "output_type": "execute_result"
    },
    {
     "data": {
      "image/png": "[encoded data removed]",
      "text/plain": [
       "<Figure size 432x288 with 1 Axes>"
      ]
     },
     "metadata": {
      "needs_background": "light"
     },
     "output_type": "display_data"
    }
   ],
   "source": [
    "%matplotlib inline\n",
    "# データフレームの順番を分類器の精度順に表示\n",
    "df_acc=df_acc.sort_values(by=['accuracy'],ascending=True)\n",
    "# データフレームのラッパAPIからmatplotのapiをコールして、グラフを作成\n",
    "df_acc.plot.barh(x='name',y='accuracy',legend=False)"
   ]
  },
  {
   "cell_type": "markdown",
   "metadata": {},
   "source": [
    "# confusion_matrix"
   ]
  },
  {
   "cell_type": "markdown",
   "metadata": {},
   "source": [
    "# シミュレーション"
   ]
  },
  {
   "cell_type": "code",
   "execution_count": 34,
   "metadata": {},
   "outputs": [
    {
     "name": "stdout",
     "output_type": "stream",
     "text": [
      "start: 2010-02-16 〜end: 2020-03-23\n"
     ]
    }
   ],
   "source": [
    "close_index=df.columns.get_loc('Close')\n",
    "open_index=df.columns.get_loc('Open')\n",
    "date_index=df.columns.get_loc('Date')\n",
    "\n",
    "MONEY=1000000\n",
    "LEN=len(df2_num)\n",
    "\n",
    "start=len(df2_num)-len(testX)\n",
    "end=len(df2_num)-1\n",
    "print(\"start:\",df2_num[start,0],\"〜end:\",df2_num[end,0])\n",
    "\n",
    "standard=1000000/df2_num[start,1]  \n",
    "DATE=\"\"\n",
    "result_out=\"\"\n",
    "df_sim = pd.DataFrame( columns=['Date', 'Open', 'Close', 'Up', 'money','基準価格','result','predict','正誤','利益率'] )"
   ]
  },
  {
   "cell_type": "code",
   "execution_count": 35,
   "metadata": {},
   "outputs": [
    {
     "data": {
      "text/plain": [
       "'restult'"
      ]
     },
     "execution_count": 35,
     "metadata": {},
     "output_type": "execute_result"
    }
   ],
   "source": [
    "df2_num.shape,df3.columns\n",
    "#df3.shape\n",
    "df3.columns[45]"
   ]
  },
  {
   "cell_type": "code",
   "execution_count": 36,
   "metadata": {},
   "outputs": [
    {
     "name": "stdout",
     "output_type": "stream",
     "text": [
      "\n",
      "2010-02-16:資金1,000,000(基準1,000,000)買買買買買買買売売\n",
      "2010-03-01:資金1,028,393(基準992,004)売買売売買売売売売買売売買買買買売売買売買売買\n",
      "2010-04-01:資金1,002,349(基準1,103,076)買買買買売買買買買買買買買買売売売買買買買売\n",
      "2010-05-03:資金1,053,412(基準1,082,845)買買買売売買買買買買買売買買売売売売買売買\n",
      "2010-06-01:資金1,041,365(基準1,000,951)買買買買買買買買買買買売買買売売売売買売売買\n",
      "2010-07-01:資金1,118,092(基準962,018)買売買買買買買買買買売買売買売買買買売買売売\n",
      "2010-08-02:資金1,201,452(基準1,006,619)売売買買売売売売買売売売買買買買売買売売売買\n",
      "2010-09-01:資金1,240,012(基準984,059)買買買売買売売売売売売買売売売買買買買買買買\n",
      "2010-10-01:資金1,192,126(基準1,020,171)売買売売買売買買買売売売買買買買買買買買買\n",
      "2010-11-01:資金1,148,344(基準979,870)売売買買売買売買売買買買売売売売売買売売売売\n",
      "2010-12-01:資金1,112,575(基準1,019,101)買買売買売売買売売売買買売買売売売買売買買売買\n",
      "--------------------------------------------------------------------\n",
      "2011-01-03:資金1,119,749(基準1,047,863)売買買売買買買買売買買売買売買買買買買買買\n",
      "2011-02-01:資金1,141,518(基準971,008)買買買売買買買買買買買買買買売買買買売売\n",
      "2011-03-01:資金1,155,408(基準994,026)買売買売売買買買売売売買売売売売売買売売買買買\n",
      "2011-04-01:資金1,092,626(基準1,066,412)買買買買買買買買買買買買買買売買売売売売買\n",
      "2011-05-02:資金1,105,197(基準1,045,722)売売売買売買買買買買買買買買買買買売買売買買\n",
      "2011-06-01:資金1,135,672(基準1,005,718)買買買買買売売買売売売買買売売買売買買売売買\n",
      "2011-07-01:資金1,096,672(基準1,020,596)売買売買売買売買買買買売買買買売買売買買売\n",
      "2011-08-01:資金1,090,551(基準975,103)売買売買買売売買売売売買買買買売売売売買買売買\n",
      "2011-09-01:資金1,065,832(基準933,553)買買買売買買買買買買売売買売売売買売売買買売\n",
      "2011-10-03:資金1,114,622(基準785,145)売売売売買売買買買買買売買買買買買買買売売\n",
      "2011-11-01:資金1,113,411(基準822,098)買買売売買売売買買売買買買買買買買売買売売買\n",
      "2011-12-01:資金1,064,703(基準817,136)買売売買買買買売買売買買買買売売売売買売売買\n",
      "--------------------------------------------------------------------\n",
      "2012-01-02:資金1,119,084(基準808,826)買買買買買買売買売売買売売売売買買売買売買買\n",
      "2012-02-01:資金1,090,427(基準841,930)売買買買売買買買買買買買買買買売買買買買買\n",
      "2012-03-01:資金1,158,809(基準923,433)買買売売売買買買買買売買買買売買買買買売買買\n",
      "2012-04-02:資金1,249,344(基準911,300)買買買買売買買売売買買買買買買買買売売売売\n",
      "2012-05-01:資金1,219,602(基準879,937)売買売買買買買買買買買売売売売買買売買売買買売\n",
      "2012-06-01:資金1,098,770(基準772,595)売売買買買買買買買買買買買売売買買売売売買\n",
      "2012-07-02:資金1,148,671(基準827,910)売売買売売売売買買売売買売売売買買買買買売買\n",
      "2012-08-01:資金1,196,913(基準798,315)買買売売売買買買買売売売買売買売買買買買売売買\n",
      "2012-09-03:資金1,148,579(基準792,886)買売売買売売買買買買買買買売買買買売売売\n",
      "2012-10-01:資金1,230,659(基準791,943)買買売売買買売買買買買買買売買買買売売売買買買\n",
      "2012-11-01:資金1,244,502(基準788,009)買売買売売売売買買買売買売売買買買買売買売買\n",
      "2012-12-03:資金1,239,441(基準787,397)売売売売買買売買買買売買買買売買買買買買売\n",
      "--------------------------------------------------------------------\n",
      "2013-01-01:資金1,287,360(基準869,817)買買買買買買売買買買買買買売売買買買売売売買買\n",
      "2013-02-01:資金1,294,880(基準890,856)買売売買買買売売売買買買売買買買売売買買\n",
      "2013-03-01:資金1,337,280(基準875,927)買買売買売売売買買買売売買買売買買買買買買\n",
      "2013-04-01:資金1,327,645(基準862,366)買買売買売買買買買買買売買買買買買買買売買買\n",
      "2013-05-01:資金1,400,655(基準917,120)買売買買売買買売買買売売買売買買売買買買買買売\n",
      "2013-06-03:資金1,367,181(基準861,507)売売売買売売買売売買買買売売売売買買買買\n",
      "2013-07-01:資金1,305,693(基準852,288)買買買売売売買売買買売買売売売買買買売買売買買\n",
      "2013-08-01:資金1,257,926(基準847,972)買売売買買買売売売買買買買買売買買買買買買買\n",
      "2013-09-02:資金1,293,517(基準820,960)買買買売買売買買買買買売買買買買買売売売売\n",
      "2013-10-01:資金1,419,292(基準822,642)買買買売売売売売売買買売買買買買買買買売売売売\n",
      "2013-11-01:資金1,338,791(基準822,948)売買売売買売売買買売売売売売買売売売買買買\n",
      "2013-12-02:資金1,338,395(基準851,311)買買売売売売買買買売売買買買買買買買売買買売\n",
      "--------------------------------------------------------------------\n",
      "2014-01-01:資金1,354,075(基準851,294)売売買売買買買買売買買売買買買買買買買買買買買\n",
      "2014-02-03:資金1,475,314(基準760,750)買売買買買買買買買買売買買売買買売売売売\n",
      "2014-03-03:資金1,476,000(基準791,152)売売売売買売売売売買買売売売買売売売売売買\n",
      "2014-04-01:資金1,387,238(基準832,201)買売買売買買買買売買売売買買買売買買買買売売\n",
      "2014-05-01:資金1,390,150(基準829,295)買売買買買売買買買買売買売売買売売売売買買売\n",
      "2014-06-02:資金1,491,957(基準814,196)買買売売買売売買買買買買買売買売買買売買買\n",
      "2014-07-01:資金1,533,993(基準808,495)買買買買買買売買買買買買買買買売売売売買売売売\n",
      "2014-08-01:資金1,517,186(基準816,618)売買売売売買売買売売売売売売買買買売買売売\n",
      "2014-09-01:資金1,544,502(基準830,629)売買買売買買売買売買買売買買売買買買売買買買\n",
      "2014-10-01:資金1,576,680(基準821,266)売買売買買買買売買買買買買売売買売売売買売買買\n",
      "2014-11-03:資金1,661,689(基準874,933)買買買買売売売買買買買買買買買売買買買買\n",
      "2014-12-01:資金1,731,670(基準915,251)買買売売売買売買買買売買買売売売買売買買買買買\n",
      "--------------------------------------------------------------------\n",
      "2015-01-01:資金1,718,159(基準881,441)売売買買売買買買売買買買売買買買売買買買買売\n",
      "2015-02-02:資金1,783,850(基準868,832)買買買買売買買売売売買買売買買買買売売売\n",
      "2015-03-02:資金1,897,147(基準867,056)売買売買売買買売売買買買買売買買売売買買買買\n",
      "2015-04-01:資金1,934,481(基準848,983)売買買買売売売売売買売売買買買買買売売買売売\n",
      "2015-05-01:資金1,981,203(基準846,663)売売売買買買売売買売売売売買売売売売買買売\n",
      "2015-06-01:資金2,053,188(基準864,592)売買売買買買買買買売買買売売買売売買買買売売\n",
      "2015-07-01:資金2,035,440(基準854,557)売買売買買買買売買売売買売買買売売売買買買買買\n",
      "2015-08-03:資金2,045,515(基準830,808)買買買買買買買買買売買買買買買売売売売買買\n",
      "2015-09-01:資金2,004,442(基準754,293)買売売売売売買買買買買買買買買買買買買買買買\n",
      "2015-10-01:資金1,985,337(基準732,048)買買買買買売売買売売買売売売売売売売買売売買\n",
      "2015-11-02:資金2,118,909(基準744,428)買売売売売買売買買買買売買買買買買売売売買\n",
      "2015-12-01:資金2,189,109(基準723,185)売買買買買買買買売売買買買買買買買買売売売買売\n",
      "--------------------------------------------------------------------\n",
      "2016-01-01:資金1,940,067(基準660,843)買買買買売買買買買買売売売買売売売買買買買\n",
      "2016-02-01:資金1,992,472(基準646,347)買買買売買買買買買売売売売買買買買買売売買\n",
      "2016-03-01:資金1,809,046(基準621,425)買売買売買売売売売売買買売買売売買売買買売売売\n",
      "2016-04-01:資金1,690,447(基準645,803)買買買買買買売売買売売買買売買売買売買買買\n",
      "2016-05-02:資金1,523,249(基準633,287)売買買売売売売買買売売売売買売買買買買売買買\n",
      "2016-06-01:資金1,520,084(基準596,504)買買買買買売売買買売買売買売買売買売買買買買\n",
      "2016-07-01:資金1,817,046(基準598,314)売買売買買売売買買売買売買買買買買買売売買\n",
      "2016-08-01:資金1,550,941(基準624,807)売買買買買売売買買売売買売売買売買買売売買買買\n",
      "2016-09-01:資金1,426,246(基準601,075)買買買売買買買買売買売売買買買売買売売買売売\n",
      "2016-10-03:資金1,407,447(基準635,182)売買売買売売買買売買売売売売売買売売売買買\n",
      "2016-11-01:資金1,320,051(基準650,375)買売買売売買買売買買売売買買買買売売買買買売\n",
      "2016-12-01:資金1,326,604(基準687,260)買売買買買買買買買買買買買買売売売売買売買買\n",
      "--------------------------------------------------------------------\n",
      "2017-01-02:資金1,356,609(基準726,524)売買売売売買売買売売売買買売買買買売売買買売\n",
      "2017-02-01:資金1,323,767(基準714,153)買売買売売買買買買売売買売買売売買買買買\n",
      "2017-03-01:資金1,299,585(基準741,913)売買買売売買売買買売売買売買売売買買買買買買売\n",
      "2017-04-03:資金1,250,560(基準688,076)買売売売売売売買売売売買買買売買売買売売\n",
      "2017-05-01:資金1,245,416(基準708,587)買買買買買売買売買売売買買買売買売買売売売売買\n",
      "2017-06-01:資金1,221,976(基準734,291)売買買買買買買売売買買売売買買買売売売買売買\n",
      "2017-07-03:資金1,182,240(基準728,419)買買買買買売買買買買売買買買買買売買買買買\n",
      "2017-08-01:資金1,155,035(基準706,497)買買買買買買買買買売買買売売買買売売売買売売売\n",
      "2017-09-01:資金1,105,594(基準723,950)売売売売買売買売売売売売買買売売売買買売売\n",
      "2017-10-02:資金1,108,352(基準704,696)買買買売買買買買買買買買買買売売売売買売買買\n",
      "2017-11-01:資金1,134,770(基準689,996)買買買買売買買買買売買買買買買買買買買買買売\n",
      "2017-12-01:資金1,153,523(基準694,975)売売買買売売売買売買売買買買買買買買買買買\n",
      "--------------------------------------------------------------------\n",
      "2018-01-01:資金1,154,271(基準773,674)買買売買買買買買買買買買買買売買買売売買売買売\n",
      "2018-02-01:資金1,143,600(基準784,244)買買買買売売買売売売売売売買買売売買売買\n",
      "2018-03-01:資金1,175,696(基準761,727)買買買売買買買買売買買買売売買買買買買買売買\n",
      "2018-04-02:資金1,160,948(基準759,442)買買買売売売買売売買買売買売売買買売買買買\n",
      "2018-05-01:資金1,206,328(基準737,086)買買買買買買買買買売買売買売買売売買売買売買買売\n",
      "2018-06-01:資金1,207,673(基準733,458)買買売買買売買買売買買買買買買買買買買買買買買買売\n",
      "2018-07-01:資金1,172,534(基準685,705)買買買買買買買買売売売売売売売買買売売売買売売買買売売\n",
      "2018-08-01:資金1,148,958(基準717,764)買売買売売買売買買買買売買売売売売売売買買買買買買買売\n",
      "2018-09-02:資金995,683(基準641,521)売買売売売売買売買買買買買買買買売買売売売売買買\n",
      "2019-07-26:資金1,011,892(基準645,684)売売売買\n",
      "2019-08-01:資金1,010,531(基準621,723)買買売売売売売売売売売売売売売買売売買売買買\n",
      "2019-09-02:資金961,171(基準591,134)売売買買売売売買売買売売売買売売売売売売売\n",
      "2019-10-01:資金929,256(基準596,572)売買買売売売買売売売買売売買買売売買売買買売売\n",
      "2019-11-01:資金941,117(基準610,932)買買売売買売買買売売売売売売買売売売買売売\n",
      "2019-12-02:資金953,041(基準635,828)買売売売売売売買売売売売売売買売売買買買買売\n",
      "--------------------------------------------------------------------\n",
      "2020-01-02:資金908,889(基準654,266)買売買売買売買買買売買買売買買売買買買買買買\n",
      "2020-02-03:資金935,389(基準620,533)買売買買買買買買買買買買売売買買買買買買\n",
      "2020-03-02:資金890,081(基準597,676)売買買買売売売売買買売売売買売"
     ]
    }
   ],
   "source": [
    "for i in range(start,end): \n",
    "        PRE=df2_num[i,np.array([\n",
    "                               3,4,5,    #'day+1', 'day+2', 'day+3',\n",
    "                               6,7,8,    #'day+4', 'day+5','day+6',\n",
    "                               9,10,11,  #'day+7', 'day+8', 'day+9'\n",
    "                               12,13,14, #'day+10', 'day+11', 'day+12'\n",
    "                               15,16,17, #'day+13', 'day+14', 'day+15',\n",
    "                               18,19,20, # 'day+16', 'day+17', 'day+18', \n",
    "                               21,22,23, #'day+19','day+20', 'day+21', \n",
    "                               24,25,26, # 'day+22', 'day+23', 'day+24',\n",
    "                               27,28,29, # 'day+25', 'day+26','day+27', \n",
    "                               30,31,32, #'day+28', 'day+29', 'day+30',\n",
    "\n",
    "                               33,34,35, #'std-30', 'std-60', 'std-90',\n",
    "                           #    36,37,38,\n",
    "                           #    39,40,41,\n",
    "                           #    42,43,44,\n",
    "                           #    45,46,47,\n",
    "                           #    48,49,50,\n",
    "                           #    51,52,53,\n",
    "                           #    54,55,56,\n",
    "                           #    57,58,59,\n",
    "                            #   60,61,62,\n",
    "                            #                63,64,65\n",
    "                               ])]\n",
    "        \n",
    "        #予測のコマンド\n",
    "        #PRE2 = classifier.predict_proba(np.resize(PRE,(1,trainX.shape[1])))\n",
    "        \n",
    "        \n",
    "        pre2= gbm.predict(np.resize(PRE,(1,trainX.shape[1])))\n",
    "        #print(\"ここ\",pre2)\n",
    "        #PRE2=PRE2[0]\n",
    "        \n",
    "        profit_rate=0\n",
    "        DATE2=df2_num[i,date_index]\n",
    "        if DATE != DATE2[:7]:       #月初の定点観測\n",
    "            DATE=DATE2[:7]\n",
    "            print()\n",
    "            result_out=result_out+\"\\n\"\n",
    "            if DATE2[5:7]==\"01\":\n",
    "                print(\"--------------------------------------------------------------------\")\n",
    "                result_out=result_out+\"--------------------------------------------------------------------\"+\"\\n\"\n",
    "            STRING=df2_num[i,0]+\":資金\"+\"{:,}\".format(int(MONEY))+\"(基準\"+\"{:,}\".format(int(standard*df2_num[i,1])).strip()+\")\"\n",
    "            print(STRING.strip(),end=\"\")\n",
    "            result_out=result_out+STRING.strip()+\"\\n\"\n",
    "\n",
    "\n",
    "\n",
    "        PREDICT    =\"None\"\n",
    "        #  売り予測の場合\n",
    "        ##if PRE2[2]>0.5:\n",
    "        #print((1-pre2),end=\" \")\n",
    "        if (1-pre2)<0:\n",
    "            PREDICT=\"sell\"\n",
    "            #print(\"売:\",end=\" \")\n",
    "            profit_rate=df2_num[i,open_index]/df2_num[i, close_index]\n",
    "            MONEY=(profit_rate)*MONEY\n",
    "            print(\"売\",end=\"\")\n",
    "\n",
    "        #  買い予測の場合\n",
    "        #if PRE2[0]>0.5:\n",
    "        if (1-pre2)>0:\n",
    "            print(\"買\",end=\"\")\n",
    "\n",
    "            PREDICT=\"buy\"\n",
    "            profit_rate=df2_num[i,close_index]/df2_num[i,open_index]\n",
    "            MONEY=(profit_rate)*MONEY\n",
    "      \n",
    "        if (1-df2_num[i,45])>0  :\n",
    "            Y_result=\"buy\"\n",
    "        elif (1-df2_num[i,45])<0:\n",
    "            Y_result=\"sell\"\n",
    "        else:\n",
    "            Y_result=\"None\"\n",
    "            \n",
    "        seigo=\"×\"    \n",
    "        if Y_result==PREDICT:\n",
    "            seigo\n",
    "        \n",
    "        \n",
    "        if profit_rate!=0:\n",
    "            profit_rate=100*(profit_rate-1)\n",
    "        \n",
    "        s1 = pd.Series([df2_num[i,0],                 #日付\n",
    "                        round(df2_num[i,open_index], 2),        #OPEN\n",
    "                        round(df2_num[i,close_index],2),        #Close\n",
    "                        round((df2_num[i,close_index]/df2_num[i,open_index]-1)*100,2),  #アップ率\n",
    "                        round(MONEY),\n",
    "                        int(standard*df2_num[i,1]),                 #基準価格\n",
    "                        Y_result,\n",
    "                        PREDICT,seigo,\n",
    "                        round(profit_rate,2)],                     #予測\n",
    "               index=df_sim.columns)\n",
    "        df_sim=df_sim.append(s1,ignore_index=True)\n",
    "        "
   ]
  },
  {
   "cell_type": "code",
   "execution_count": 37,
   "metadata": {},
   "outputs": [
    {
     "data": {
      "text/html": [
       "<div>\n",
       "<style scoped>\n",
       "    .dataframe tbody tr th:only-of-type {\n",
       "        vertical-align: middle;\n",
       "    }\n",
       "\n",
       "    .dataframe tbody tr th {\n",
       "        vertical-align: top;\n",
       "    }\n",
       "\n",
       "    .dataframe thead th {\n",
       "        text-align: right;\n",
       "    }\n",
       "</style>\n",
       "<table border=\"1\" class=\"dataframe\">\n",
       "  <thead>\n",
       "    <tr style=\"text-align: right;\">\n",
       "      <th></th>\n",
       "      <th>Date</th>\n",
       "      <th>Open</th>\n",
       "      <th>Close</th>\n",
       "      <th>Up</th>\n",
       "      <th>money</th>\n",
       "      <th>基準価格</th>\n",
       "      <th>result</th>\n",
       "      <th>predict</th>\n",
       "      <th>正誤</th>\n",
       "      <th>利益率</th>\n",
       "    </tr>\n",
       "  </thead>\n",
       "  <tbody>\n",
       "    <tr>\n",
       "      <td>32</td>\n",
       "      <td>2010-04-01</td>\n",
       "      <td>12.81</td>\n",
       "      <td>12.98</td>\n",
       "      <td>1.33</td>\n",
       "      <td>1015665</td>\n",
       "      <td>1103076</td>\n",
       "      <td>sell</td>\n",
       "      <td>buy</td>\n",
       "      <td>×</td>\n",
       "      <td>1.33</td>\n",
       "    </tr>\n",
       "    <tr>\n",
       "      <td>97</td>\n",
       "      <td>2010-07-01</td>\n",
       "      <td>11.50</td>\n",
       "      <td>11.32</td>\n",
       "      <td>-1.58</td>\n",
       "      <td>1100403</td>\n",
       "      <td>962018</td>\n",
       "      <td>buy</td>\n",
       "      <td>buy</td>\n",
       "      <td>×</td>\n",
       "      <td>-1.58</td>\n",
       "    </tr>\n",
       "    <tr>\n",
       "      <td>163</td>\n",
       "      <td>2010-10-01</td>\n",
       "      <td>11.89</td>\n",
       "      <td>12.01</td>\n",
       "      <td>0.96</td>\n",
       "      <td>1180748</td>\n",
       "      <td>1020171</td>\n",
       "      <td>sell</td>\n",
       "      <td>sell</td>\n",
       "      <td>×</td>\n",
       "      <td>-0.95</td>\n",
       "    </tr>\n",
       "    <tr>\n",
       "      <td>293</td>\n",
       "      <td>2011-04-01</td>\n",
       "      <td>12.28</td>\n",
       "      <td>12.55</td>\n",
       "      <td>2.22</td>\n",
       "      <td>1116922</td>\n",
       "      <td>1066412</td>\n",
       "      <td>sell</td>\n",
       "      <td>buy</td>\n",
       "      <td>×</td>\n",
       "      <td>2.22</td>\n",
       "    </tr>\n",
       "    <tr>\n",
       "      <td>358</td>\n",
       "      <td>2011-07-01</td>\n",
       "      <td>11.90</td>\n",
       "      <td>12.01</td>\n",
       "      <td>0.96</td>\n",
       "      <td>1086273</td>\n",
       "      <td>1020596</td>\n",
       "      <td>sell</td>\n",
       "      <td>sell</td>\n",
       "      <td>×</td>\n",
       "      <td>-0.95</td>\n",
       "    </tr>\n",
       "    <tr>\n",
       "      <td>684</td>\n",
       "      <td>2012-10-01</td>\n",
       "      <td>9.36</td>\n",
       "      <td>9.32</td>\n",
       "      <td>-0.47</td>\n",
       "      <td>1224838</td>\n",
       "      <td>791943</td>\n",
       "      <td>buy</td>\n",
       "      <td>buy</td>\n",
       "      <td>×</td>\n",
       "      <td>-0.47</td>\n",
       "    </tr>\n",
       "    <tr>\n",
       "      <td>750</td>\n",
       "      <td>2013-01-01</td>\n",
       "      <td>10.25</td>\n",
       "      <td>10.24</td>\n",
       "      <td>-0.13</td>\n",
       "      <td>1285715</td>\n",
       "      <td>869817</td>\n",
       "      <td>buy</td>\n",
       "      <td>buy</td>\n",
       "      <td>×</td>\n",
       "      <td>-0.13</td>\n",
       "    </tr>\n",
       "    <tr>\n",
       "      <td>814</td>\n",
       "      <td>2013-04-01</td>\n",
       "      <td>10.19</td>\n",
       "      <td>10.15</td>\n",
       "      <td>-0.36</td>\n",
       "      <td>1322862</td>\n",
       "      <td>862366</td>\n",
       "      <td>buy</td>\n",
       "      <td>buy</td>\n",
       "      <td>×</td>\n",
       "      <td>-0.36</td>\n",
       "    </tr>\n",
       "    <tr>\n",
       "      <td>879</td>\n",
       "      <td>2013-07-01</td>\n",
       "      <td>10.02</td>\n",
       "      <td>10.03</td>\n",
       "      <td>0.14</td>\n",
       "      <td>1307518</td>\n",
       "      <td>852288</td>\n",
       "      <td>sell</td>\n",
       "      <td>buy</td>\n",
       "      <td>×</td>\n",
       "      <td>0.14</td>\n",
       "    </tr>\n",
       "    <tr>\n",
       "      <td>945</td>\n",
       "      <td>2013-10-01</td>\n",
       "      <td>9.78</td>\n",
       "      <td>9.68</td>\n",
       "      <td>-1.05</td>\n",
       "      <td>1404324</td>\n",
       "      <td>822642</td>\n",
       "      <td>buy</td>\n",
       "      <td>buy</td>\n",
       "      <td>×</td>\n",
       "      <td>-1.05</td>\n",
       "    </tr>\n",
       "    <tr>\n",
       "      <td>1011</td>\n",
       "      <td>2014-01-01</td>\n",
       "      <td>10.00</td>\n",
       "      <td>10.02</td>\n",
       "      <td>0.20</td>\n",
       "      <td>1351386</td>\n",
       "      <td>851294</td>\n",
       "      <td>sell</td>\n",
       "      <td>sell</td>\n",
       "      <td>×</td>\n",
       "      <td>-0.20</td>\n",
       "    </tr>\n",
       "    <tr>\n",
       "      <td>1075</td>\n",
       "      <td>2014-04-01</td>\n",
       "      <td>9.79</td>\n",
       "      <td>9.79</td>\n",
       "      <td>0.06</td>\n",
       "      <td>1388103</td>\n",
       "      <td>832201</td>\n",
       "      <td>sell</td>\n",
       "      <td>buy</td>\n",
       "      <td>×</td>\n",
       "      <td>0.06</td>\n",
       "    </tr>\n",
       "    <tr>\n",
       "      <td>1140</td>\n",
       "      <td>2014-07-01</td>\n",
       "      <td>9.52</td>\n",
       "      <td>9.52</td>\n",
       "      <td>-0.06</td>\n",
       "      <td>1533075</td>\n",
       "      <td>808495</td>\n",
       "      <td>buy</td>\n",
       "      <td>buy</td>\n",
       "      <td>×</td>\n",
       "      <td>-0.06</td>\n",
       "    </tr>\n",
       "    <tr>\n",
       "      <td>1206</td>\n",
       "      <td>2014-10-01</td>\n",
       "      <td>9.71</td>\n",
       "      <td>9.67</td>\n",
       "      <td>-0.49</td>\n",
       "      <td>1584511</td>\n",
       "      <td>821266</td>\n",
       "      <td>buy</td>\n",
       "      <td>sell</td>\n",
       "      <td>×</td>\n",
       "      <td>0.50</td>\n",
       "    </tr>\n",
       "    <tr>\n",
       "      <td>1272</td>\n",
       "      <td>2015-01-01</td>\n",
       "      <td>10.34</td>\n",
       "      <td>10.37</td>\n",
       "      <td>0.35</td>\n",
       "      <td>1712230</td>\n",
       "      <td>881441</td>\n",
       "      <td>sell</td>\n",
       "      <td>sell</td>\n",
       "      <td>×</td>\n",
       "      <td>-0.35</td>\n",
       "    </tr>\n",
       "    <tr>\n",
       "      <td>1336</td>\n",
       "      <td>2015-04-01</td>\n",
       "      <td>9.90</td>\n",
       "      <td>9.99</td>\n",
       "      <td>0.96</td>\n",
       "      <td>1916088</td>\n",
       "      <td>848983</td>\n",
       "      <td>sell</td>\n",
       "      <td>sell</td>\n",
       "      <td>×</td>\n",
       "      <td>-0.95</td>\n",
       "    </tr>\n",
       "    <tr>\n",
       "      <td>1401</td>\n",
       "      <td>2015-07-01</td>\n",
       "      <td>10.06</td>\n",
       "      <td>10.06</td>\n",
       "      <td>-0.05</td>\n",
       "      <td>2036493</td>\n",
       "      <td>854557</td>\n",
       "      <td>buy</td>\n",
       "      <td>sell</td>\n",
       "      <td>×</td>\n",
       "      <td>0.05</td>\n",
       "    </tr>\n",
       "    <tr>\n",
       "      <td>1467</td>\n",
       "      <td>2015-10-01</td>\n",
       "      <td>8.64</td>\n",
       "      <td>8.62</td>\n",
       "      <td>-0.28</td>\n",
       "      <td>1979707</td>\n",
       "      <td>732048</td>\n",
       "      <td>buy</td>\n",
       "      <td>buy</td>\n",
       "      <td>×</td>\n",
       "      <td>-0.28</td>\n",
       "    </tr>\n",
       "    <tr>\n",
       "      <td>1533</td>\n",
       "      <td>2016-01-01</td>\n",
       "      <td>7.77</td>\n",
       "      <td>7.78</td>\n",
       "      <td>0.12</td>\n",
       "      <td>1942340</td>\n",
       "      <td>660843</td>\n",
       "      <td>sell</td>\n",
       "      <td>buy</td>\n",
       "      <td>×</td>\n",
       "      <td>0.12</td>\n",
       "    </tr>\n",
       "    <tr>\n",
       "      <td>1598</td>\n",
       "      <td>2016-04-01</td>\n",
       "      <td>7.62</td>\n",
       "      <td>7.60</td>\n",
       "      <td>-0.24</td>\n",
       "      <td>1686342</td>\n",
       "      <td>645803</td>\n",
       "      <td>buy</td>\n",
       "      <td>buy</td>\n",
       "      <td>×</td>\n",
       "      <td>-0.24</td>\n",
       "    </tr>\n",
       "    <tr>\n",
       "      <td>1663</td>\n",
       "      <td>2016-07-01</td>\n",
       "      <td>7.01</td>\n",
       "      <td>7.04</td>\n",
       "      <td>0.39</td>\n",
       "      <td>1809976</td>\n",
       "      <td>598314</td>\n",
       "      <td>sell</td>\n",
       "      <td>sell</td>\n",
       "      <td>×</td>\n",
       "      <td>-0.39</td>\n",
       "    </tr>\n",
       "    <tr>\n",
       "      <td>2054</td>\n",
       "      <td>2018-01-01</td>\n",
       "      <td>9.10</td>\n",
       "      <td>9.11</td>\n",
       "      <td>0.05</td>\n",
       "      <td>1154906</td>\n",
       "      <td>773674</td>\n",
       "      <td>sell</td>\n",
       "      <td>buy</td>\n",
       "      <td>×</td>\n",
       "      <td>0.05</td>\n",
       "    </tr>\n",
       "    <tr>\n",
       "      <td>2189</td>\n",
       "      <td>2018-07-01</td>\n",
       "      <td>8.06</td>\n",
       "      <td>8.07</td>\n",
       "      <td>0.06</td>\n",
       "      <td>1173261</td>\n",
       "      <td>685705</td>\n",
       "      <td>sell</td>\n",
       "      <td>buy</td>\n",
       "      <td>×</td>\n",
       "      <td>0.06</td>\n",
       "    </tr>\n",
       "    <tr>\n",
       "      <td>2314</td>\n",
       "      <td>2019-10-01</td>\n",
       "      <td>7.10</td>\n",
       "      <td>7.02</td>\n",
       "      <td>-1.10</td>\n",
       "      <td>939580</td>\n",
       "      <td>596572</td>\n",
       "      <td>buy</td>\n",
       "      <td>sell</td>\n",
       "      <td>×</td>\n",
       "      <td>1.11</td>\n",
       "    </tr>\n",
       "  </tbody>\n",
       "</table>\n",
       "</div>"
      ],
      "text/plain": [
       "            Date   Open  Close    Up    money     基準価格 result predict 正誤   利益率\n",
       "32    2010-04-01  12.81  12.98  1.33  1015665  1103076   sell     buy  ×  1.33\n",
       "97    2010-07-01  11.50  11.32 -1.58  1100403   962018    buy     buy  × -1.58\n",
       "163   2010-10-01  11.89  12.01  0.96  1180748  1020171   sell    sell  × -0.95\n",
       "293   2011-04-01  12.28  12.55  2.22  1116922  1066412   sell     buy  ×  2.22\n",
       "358   2011-07-01  11.90  12.01  0.96  1086273  1020596   sell    sell  × -0.95\n",
       "684   2012-10-01   9.36   9.32 -0.47  1224838   791943    buy     buy  × -0.47\n",
       "750   2013-01-01  10.25  10.24 -0.13  1285715   869817    buy     buy  × -0.13\n",
       "814   2013-04-01  10.19  10.15 -0.36  1322862   862366    buy     buy  × -0.36\n",
       "879   2013-07-01  10.02  10.03  0.14  1307518   852288   sell     buy  ×  0.14\n",
       "945   2013-10-01   9.78   9.68 -1.05  1404324   822642    buy     buy  × -1.05\n",
       "1011  2014-01-01  10.00  10.02  0.20  1351386   851294   sell    sell  × -0.20\n",
       "1075  2014-04-01   9.79   9.79  0.06  1388103   832201   sell     buy  ×  0.06\n",
       "1140  2014-07-01   9.52   9.52 -0.06  1533075   808495    buy     buy  × -0.06\n",
       "1206  2014-10-01   9.71   9.67 -0.49  1584511   821266    buy    sell  ×  0.50\n",
       "1272  2015-01-01  10.34  10.37  0.35  1712230   881441   sell    sell  × -0.35\n",
       "1336  2015-04-01   9.90   9.99  0.96  1916088   848983   sell    sell  × -0.95\n",
       "1401  2015-07-01  10.06  10.06 -0.05  2036493   854557    buy    sell  ×  0.05\n",
       "1467  2015-10-01   8.64   8.62 -0.28  1979707   732048    buy     buy  × -0.28\n",
       "1533  2016-01-01   7.77   7.78  0.12  1942340   660843   sell     buy  ×  0.12\n",
       "1598  2016-04-01   7.62   7.60 -0.24  1686342   645803    buy     buy  × -0.24\n",
       "1663  2016-07-01   7.01   7.04  0.39  1809976   598314   sell    sell  × -0.39\n",
       "2054  2018-01-01   9.10   9.11  0.05  1154906   773674   sell     buy  ×  0.05\n",
       "2189  2018-07-01   8.06   8.07  0.06  1173261   685705   sell     buy  ×  0.06\n",
       "2314  2019-10-01   7.10   7.02 -1.10   939580   596572    buy    sell  ×  1.11"
      ]
     },
     "execution_count": 37,
     "metadata": {},
     "output_type": "execute_result"
    }
   ],
   "source": [
    "df_sim[(\n",
    "    df_sim['Date'].str.contains('01-01') |\n",
    "    df_sim['Date'].str.contains('04-01') |\n",
    "    df_sim['Date'].str.contains('07-01') |\n",
    "    df_sim['Date'].str.contains('10-01') \n",
    ")]"
   ]
  },
  {
   "cell_type": "code",
   "execution_count": 38,
   "metadata": {},
   "outputs": [
    {
     "data": {
      "text/plain": [
       "<matplotlib.axes._subplots.AxesSubplot at 0x11788e110>"
      ]
     },
     "execution_count": 38,
     "metadata": {},
     "output_type": "execute_result"
    },
    {
     "data": {
      "image/png": "[encoded data removed]",
      "text/plain": [
       "<Figure size 432x288 with 1 Axes>"
      ]
     },
     "metadata": {
      "needs_background": "light"
     },
     "output_type": "display_data"
    }
   ],
   "source": [
    "import matplotlib.pyplot as plt\n",
    "%matplotlib inline\n",
    "\n",
    "df_sim.plot(x='Date',y='money',title='Money/Date')"
   ]
  },
  {
   "cell_type": "code",
   "execution_count": 39,
   "metadata": {},
   "outputs": [
    {
     "name": "stdout",
     "output_type": "stream",
     "text": [
      "● (0, 10)\n",
      "X (2437, 10)\n",
      "2007年の利益率0.00%\n",
      "2008年の利益率0.00%\n",
      "2009年の利益率0.00%\n",
      "2010年の利益率12.89%\n",
      "2011年の利益率2.39%\n",
      "2012年の利益率15.46%\n",
      "2013年の利益率6.88%\n",
      "2014年の利益率24.64%\n",
      "2015年の利益率13.49%\n",
      "2016年の利益率-32.92%\n",
      "2017年の利益率-14.99%\n",
      "2018年の利益率-12.05%\n"
     ]
    }
   ],
   "source": [
    "print(\"●\",df_sim[df_sim['正誤']==\"●\"].shape)\n",
    "print(\"X\",df_sim[df_sim['正誤']==\"×\"].shape)\n",
    "\n",
    "for i in range(7,19):\n",
    "    YEAR=str(i+2000)\n",
    "    start=YEAR+\"-01-01\"\n",
    "    end=YEAR+\"-12-31\"\n",
    "\n",
    "    tmp=df_sim.query(\"Date >= @start and Date <= @end \")\n",
    "    \n",
    "    print(\"{:}年の利益率{:.2f}%\".format(YEAR,tmp[['利益率']].sum()[0]))"
   ]
  },
  {
   "cell_type": "markdown",
   "metadata": {},
   "source": [
    "# 特徴選択"
   ]
  },
  {
   "cell_type": "code",
   "execution_count": null,
   "metadata": {},
   "outputs": [],
   "source": [
    "from sklearn.feature_selection import SelectKBest\n",
    "from sklearn.feature_selection import chi2\n",
    "\n",
    "skb=SelectKBest(chi2,k=10)\n",
    "\n",
    "skb.fit(trainX,trainY2)\n",
    "trainX_new=skb.transform(trainX)"
   ]
  },
  {
   "cell_type": "code",
   "execution_count": null,
   "metadata": {},
   "outputs": [],
   "source": [
    "import warnings\n",
    "warnings.filterwarnings('ignore')\n",
    "\n",
    "from sklearn.model_selection import StratifiedKFold\n",
    "model = SVC(kernel='linear', random_state=None)\n",
    "k_range=np.arange(1,20)\n",
    "scores=[]\n",
    "std=[]\n",
    "\n",
    "#clf = XGBClassifier()\n",
    "classifier = SVC(kernel='linear', random_state=None)\n",
    "\n",
    "\n",
    "\n",
    "for k in k_range:\n",
    "    ss= StratifiedKFold(n_splits  =5,\n",
    "                       shuffle    =True,\n",
    "                      random_state=2)\n",
    "    score=[]\n",
    "    \n",
    "    for train_index, val_index in ss.split(trainX,trainY2):\n",
    "        \n",
    "        X_train2,X_val =trainX[train_index],trainX[val_index]\n",
    "        y_train2,y_val =trainY2[train_index],trainY2[val_index]\n",
    "        \n",
    "        skb=SelectKBest(chi2,k=k)\n",
    "        skb.fit(X_train2,y_train2)\n",
    "        \n",
    "        X_new_train2=skb.transform(X_train2)\n",
    "        X_new_val   =skb.transform(X_val)\n",
    "        \n",
    "        classifier.fit(X_new_train2,y_train2)\n",
    "        score.append(clf.score(X_new_val,y_val))\n",
    "    scores.append(np.array(score).mean())\n",
    "    std.append(np.array(score).std())"
   ]
  },
  {
   "cell_type": "code",
   "execution_count": null,
   "metadata": {},
   "outputs": [],
   "source": [
    "import matplotlib.pyplot as plt\n",
    "%matplotlib inline\n",
    "\n",
    "plt.plot(k_range,scores)\n",
    "plt.errorbar(k_range,scores,yerr=std)\n",
    "plt.ylabel(\"accuracy\")\n",
    "plt.xlim(0,20)"
   ]
  },
  {
   "cell_type": "markdown",
   "metadata": {},
   "source": [
    "# どの説明変数が聞いているのか"
   ]
  },
  {
   "cell_type": "code",
   "execution_count": null,
   "metadata": {},
   "outputs": [],
   "source": []
  }
 ],
 "metadata": {
  "kernelspec": {
   "display_name": "Python 3",
   "language": "python",
   "name": "python3"
  },
  "language_info": {
   "codemirror_mode": {
    "name": "ipython",
    "version": 3
   },
   "file_extension": ".py",
   "mimetype": "text/x-python",
   "name": "python",
   "nbconvert_exporter": "python",
   "pygments_lexer": "ipython3",
   "version": "3.7.4"
  }
 },
 "nbformat": 4,
 "nbformat_minor": 4
}
