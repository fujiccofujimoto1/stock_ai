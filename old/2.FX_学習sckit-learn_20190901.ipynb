{
 "cells": [
  {
   "cell_type": "markdown",
   "metadata": {},
   "source": [
    "## Program Flow\n",
    "\n",
    "1. モジュールインポート"
   ]
  },
  {
   "cell_type": "markdown",
   "metadata": {},
   "source": [
    "# モジュールインポート"
   ]
  },
  {
   "cell_type": "code",
   "execution_count": 41,
   "metadata": {},
   "outputs": [],
   "source": [
    "# scikitlearnのアルゴリズムのロード\n",
    "from sklearn.ensemble import RandomForestClassifier\n",
    "from sklearn.linear_model import LogisticRegression\n",
    "from sklearn.svm import SVC\n",
    "from sklearn.tree import DecisionTreeClassifier\n",
    "from sklearn.neural_network import MLPClassifier\n",
    "from sklearn.naive_bayes import GaussianNB\n",
    "from sklearn.ensemble import AdaBoostClassifier \n",
    "\n",
    "#import autosklearn.classification\n",
    "\n",
    "# scikit learnのテストデータの読み込み\n",
    "from sklearn.datasets import fetch_mldata\n",
    "from sklearn.model_selection import train_test_split\n",
    "\n",
    "# scikit learnの精度測定ツールの読み込み\n",
    "from sklearn.metrics import accuracy_score\n",
    "from sklearn.metrics import confusion_matrix \n",
    "\n",
    "#トレーニングデータと正解ラベルに分割\n",
    "from sklearn.preprocessing import StandardScaler\n",
    "from sklearn.preprocessing import MinMaxScaler\n",
    "\n",
    "# pandas(pd) とNumpy(np)のモジュール\n",
    "import numpy as np\n",
    "import pandas as pd\n",
    "import sys,os,random\n",
    "import warnings\n",
    "warnings.filterwarnings('ignore')"
   ]
  },
  {
   "cell_type": "markdown",
   "metadata": {},
   "source": [
    "# 変数定義"
   ]
  },
  {
   "cell_type": "code",
   "execution_count": 42,
   "metadata": {},
   "outputs": [],
   "source": [
    "# 0.97 は5000万ぐらい儲かった\n",
    "# pram_traing_rate=0.97   #トレーニングデータとテストデータの比率\n",
    "\n",
    "pram_traing_rate=0.7  #トレーニングデータとテストデータの比率"
   ]
  },
  {
   "cell_type": "markdown",
   "metadata": {},
   "source": [
    "# 前処理済みファイルのロード"
   ]
  },
  {
   "cell_type": "code",
   "execution_count": 43,
   "metadata": {},
   "outputs": [],
   "source": [
    "# 乱数のシード固定\n",
    "np.random.seed(0)\n",
    "random.seed(0)\n",
    "# データフレームの表示件数の設定\n",
    "pd.set_option('display.max_columns', 100)\n",
    "\n",
    "# データロード\n",
    "df = pd.read_csv('data/fx_preprocessing.csv', index_col=None)\n",
    "\n",
    "y_loc_s=df.columns.get_loc('label_up')\n",
    "y_loc_e=df.columns.get_loc('label_down')\n",
    "df.tail(3)\n",
    "\n",
    "\n",
    "# 前後のデータのカット\n",
    "df3=df.loc[30:(len(df)-30)]\n",
    "df2_num=df3.as_matrix()   #numpyへ変換\n",
    "\n",
    "fx_len=len(df3)"
   ]
  },
  {
   "cell_type": "code",
   "execution_count": 44,
   "metadata": {},
   "outputs": [],
   "source": [
    "\n",
    "def label_ratio(df_tmp):\n",
    "\n",
    "    # label数を揃える\n",
    "    min_labels=[df_tmp[df_tmp['label_up']==1].shape[0],\n",
    "         df_tmp[df_tmp['label_none']==1].shape[0],\n",
    "         df_tmp[df_tmp['label_down']==1].shape[0]]\n",
    "\n",
    "    min_sample=min(min_labels)\n",
    "\n",
    "\n",
    "    # サンプル後再度結合\n",
    "    df_tmp=pd.concat([\n",
    "        df_tmp[df3['label_up']==1].sample(n=min_sample)\n",
    "        ,df_tmp[df_tmp['label_down']==1].sample(n=min_sample)\n",
    "        ,df_tmp[df_tmp['label_none']==1].sample(n=min_sample)\n",
    "        ])\n",
    "\n",
    "    print(df_tmp[df_tmp['label_up']==1].shape)\n",
    "    print(df_tmp[df_tmp['label_none']==1].shape)\n",
    "    print(df_tmp[df_tmp['label_down']==1].shape)\n",
    "    \n",
    "    return df_tmp\n"
   ]
  },
  {
   "cell_type": "markdown",
   "metadata": {},
   "source": [
    "## データの分割\n"
   ]
  },
  {
   "cell_type": "code",
   "execution_count": 45,
   "metadata": {},
   "outputs": [
    {
     "name": "stdout",
     "output_type": "stream",
     "text": [
      "訓練データ  :2000-10-09〜2013-11-11\n",
      "テストデータ:2013-11-12〜2019-07-22\n"
     ]
    }
   ],
   "source": [
    "train, test = train_test_split(df3, train_size=pram_traing_rate,shuffle=False)\n",
    "\n",
    "print(\"訓練データ  :{}〜{}\".format(train.head(1)['Date'].values[0],train.tail(1)['Date'].values[0]))\n",
    "print(\"テストデータ:{}〜{}\".format(test.head(1)['Date'].values[0],test.tail(1)['Date'].values[0]))"
   ]
  },
  {
   "cell_type": "code",
   "execution_count": 46,
   "metadata": {},
   "outputs": [
    {
     "name": "stdout",
     "output_type": "stream",
     "text": [
      "(10, 77)\n",
      "(10, 77)\n",
      "(10, 77)\n",
      "トレーニングデータ (30, 63)\n",
      "トレーニングデータ (30, 3)\n",
      "　 　 テストデータ (1463, 63)\n",
      "　 　 テストデータ (1463, 3)\n"
     ]
    }
   ],
   "source": [
    "# labelの数を整える\n",
    "train=label_ratio(train)\n",
    "\n",
    "#トレーニングデータと正解ラベルに分割\n",
    "trainX,testX=train.iloc[:,3:y_loc_s],test.iloc[:,3:y_loc_s]\n",
    "trainY,testY=train.iloc[:,y_loc_s:y_loc_e+1],test.iloc[:,y_loc_s:y_loc_e+1]\n",
    "\n",
    "\n",
    "#Numpy形式に変換\n",
    "trainX,testX=trainX.as_matrix(),testX.as_matrix()\n",
    "trainY,testY=trainY.as_matrix(),testY.as_matrix()\n",
    "\n",
    "#データサンプル数の確認\n",
    "print(\"トレーニングデータ\",trainX.shape)\n",
    "print(\"トレーニングデータ\",trainY.shape)\n",
    "print(\"　 　 テストデータ\",testX.shape)\n",
    "print(\"　 　 テストデータ\",testY.shape)"
   ]
  },
  {
   "cell_type": "markdown",
   "metadata": {},
   "source": [
    "# sckit-learnの準備\n"
   ]
  },
  {
   "cell_type": "code",
   "execution_count": 47,
   "metadata": {},
   "outputs": [],
   "source": [
    "# ワンホットからカテゴリ変数へ\n",
    "testY2 =np.argmax(testY,axis=1)\n",
    "trainY2=np.argmax(trainY,axis=1)"
   ]
  },
  {
   "cell_type": "code",
   "execution_count": 48,
   "metadata": {},
   "outputs": [],
   "source": [
    "names = [\n",
    "         \"Random Forest\", \n",
    "        \"Logistic Regression\", \n",
    "         \"SVM\",\n",
    "         \"Decision Tree\", \n",
    "         \"Neural Net\", \n",
    "         \"Naive Bayes\",\n",
    "         \"AdaBoostClassifier\"\n",
    "        ]\n",
    "\n",
    "# Initializing Classifiers\n",
    "classifiers = [\n",
    "    RandomForestClassifier(random_state=1, n_estimators=100),\n",
    "    LogisticRegression(),\n",
    "    SVC(kernel=\"linear\"),\n",
    "    DecisionTreeClassifier(),\n",
    "    MLPClassifier(),\n",
    "    GaussianNB(),\n",
    "    AdaBoostClassifier()\n",
    "]"
   ]
  },
  {
   "cell_type": "code",
   "execution_count": 49,
   "metadata": {},
   "outputs": [
    {
     "name": "stdout",
     "output_type": "stream",
     "text": [
      "分類器:Random Forest , 精度:34.18%\n",
      "分類器:Logistic Regression , 精度:32.40%\n",
      "分類器:SVM , 精度:30.83%\n",
      "分類器:Decision Tree , 精度:32.88%\n",
      "分類器:Neural Net , 精度:31.10%\n",
      "分類器:Naive Bayes , 精度:33.36%\n",
      "分類器:AdaBoostClassifier , 精度:35.06%\n"
     ]
    }
   ],
   "source": [
    "columns=['name','accuracy']\n",
    "df_acc=pd.DataFrame(data=None,columns=columns)\n",
    "\n",
    "for classifier, name in zip(classifiers, names):\n",
    "    \n",
    "    #　該当分類器にて、学習\n",
    "    classifier.fit(trainX ,trainY2)\n",
    " \n",
    "    #　分類器の正答率を求める\n",
    "    pre=classifier.predict(testX)\n",
    "    ac_score=accuracy_score(testY2,pre)\n",
    "    print('分類器:{:} , 精度:{:.2%}'.format(name,ac_score))\n",
    "\n",
    "    # 結果をデータフレームに入れる\n",
    "    s=pd.Series(data=[name,ac_score],index=columns)\n",
    "    df_acc=df_acc.append(s,ignore_index=True)"
   ]
  },
  {
   "cell_type": "code",
   "execution_count": 50,
   "metadata": {},
   "outputs": [
    {
     "data": {
      "text/plain": [
       "<matplotlib.axes._subplots.AxesSubplot at 0x1040c54a8>"
      ]
     },
     "execution_count": 50,
     "metadata": {},
     "output_type": "execute_result"
    },
    {
     "data": {
      "image/png": "[encoded data removed]",
      "text/plain": [
       "<matplotlib.figure.Figure at 0x108fdcfd0>"
      ]
     },
     "metadata": {},
     "output_type": "display_data"
    }
   ],
   "source": [
    "%matplotlib inline\n",
    "# データフレームの順番を分類器の精度順に表示\n",
    "df_acc=df_acc.sort_values(by=['accuracy'],ascending=True)\n",
    "# データフレームのラッパAPIからmatplotのapiをコールして、グラフを作成\n",
    "df_acc.plot.barh(x='name',y='accuracy',legend=False)"
   ]
  },
  {
   "cell_type": "code",
   "execution_count": 51,
   "metadata": {},
   "outputs": [
    {
     "data": {
      "text/plain": [
       "AdaBoostClassifier(algorithm='SAMME.R', base_estimator=None,\n",
       "          learning_rate=1.0, n_estimators=50, random_state=None)"
      ]
     },
     "execution_count": 51,
     "metadata": {},
     "output_type": "execute_result"
    }
   ],
   "source": [
    "classifier=classifiers[\n",
    "df_acc[df_acc['accuracy']==df_acc['accuracy'].max()].index[0]\n",
    "]\n",
    "classifier.fit(trainX ,trainY2)\n",
    " "
   ]
  },
  {
   "cell_type": "markdown",
   "metadata": {},
   "source": [
    "# confusion_matrix"
   ]
  },
  {
   "cell_type": "code",
   "execution_count": 52,
   "metadata": {},
   "outputs": [
    {
     "name": "stdout",
     "output_type": "stream",
     "text": [
      "0.label_up   524\n",
      "1.label_none 19\n",
      "2.label_down 412\n",
      "confusion matrix:\n",
      "[[228 183 113]\n",
      " [231 206  90]\n",
      " [189 144  79]]\n",
      "\n",
      "classification report:\n",
      "             precision    recall  f1-score   support\n",
      "\n",
      "          0       0.35      0.44      0.39       524\n",
      "          1       0.39      0.39      0.39       527\n",
      "          2       0.28      0.19      0.23       412\n",
      "\n",
      "avg / total       0.34      0.35      0.34      1463\n",
      "\n"
     ]
    }
   ],
   "source": [
    "from sklearn import metrics\n",
    "print(\"0.label_up  \",test[test['label_up']==1].shape[0])\n",
    "print(\"1.label_none\",test[test['label_none']==1].shape[0])\n",
    "print(\"2.label_down\",test[test['label_down']==1].shape[0])\n",
    "\n",
    "predict_y=classifier.predict(testX)\n",
    "print(\"confusion matrix:\")\n",
    "print(metrics.confusion_matrix( testY2,predict_y))\n",
    "print()\n",
    "print(\"classification report:\")\n",
    "target_names = ['up','none','down']\n",
    "print(metrics.classification_report(testY2,predict_y))"
   ]
  },
  {
   "cell_type": "markdown",
   "metadata": {},
   "source": [
    "# シミュレーション"
   ]
  },
  {
   "cell_type": "code",
   "execution_count": 53,
   "metadata": {},
   "outputs": [
    {
     "name": "stdout",
     "output_type": "stream",
     "text": [
      "start: 2013-11-12 〜end: 2019-07-22\n"
     ]
    }
   ],
   "source": [
    "close_index=df.columns.get_loc('Close')\n",
    "open_index=df.columns.get_loc('Open')\n",
    "date_index=df.columns.get_loc('Date')\n",
    "\n",
    "MONEY=1000000\n",
    "LEN=len(df2_num)\n",
    "\n",
    "start=len(df2_num)-len(testX)\n",
    "end=len(df2_num)-1\n",
    "print(\"start:\",df2_num[start,0],\"〜end:\",df2_num[end,0])\n",
    "\n",
    "standard=1000000/df2_num[start,1]  \n",
    "DATE=\"\"\n",
    "result_out=\"\"\n",
    "df_sim = pd.DataFrame( columns=['Date', 'Open', 'Close', 'Up', 'money','基準価格','result','predict','正誤','利益率'] )"
   ]
  },
  {
   "cell_type": "code",
   "execution_count": null,
   "metadata": {},
   "outputs": [],
   "source": []
  },
  {
   "cell_type": "code",
   "execution_count": 54,
   "metadata": {},
   "outputs": [
    {
     "name": "stdout",
     "output_type": "stream",
     "text": [
      "\n",
      "2013-11-12:資金1,000,000(基準1,000,000)\n",
      "2013-12-02:資金972,062(基準1,042,755)\n",
      "--------------------------------------------------------------------\n",
      "2014-01-01:資金1,025,685(基準1,042,734)\n",
      "2014-02-03:資金1,039,010(基準931,829)\n",
      "2014-03-03:資金1,038,381(基準969,068)\n",
      "2014-04-01:資金1,065,683(基準1,019,348)\n",
      "2014-05-01:資金1,067,942(基準1,015,788)\n",
      "2014-06-02:資金1,063,836(基準997,293)\n",
      "2014-07-01:資金1,060,092(基準990,310)\n",
      "2014-08-01:資金1,041,783(基準1,000,260)\n",
      "2014-09-01:資金1,041,077(基準1,017,422)\n",
      "2014-10-01:資金1,047,682(基準1,005,953)\n",
      "2014-11-03:資金1,118,924(基準1,071,688)\n",
      "2014-12-01:資金1,176,568(基準1,121,073)\n",
      "--------------------------------------------------------------------\n",
      "2015-01-01:資金1,110,440(基準1,079,661)\n",
      "2015-02-02:資金1,100,047(基準1,064,215)\n",
      "2015-03-02:資金1,085,259(基準1,062,040)\n",
      "2015-04-01:資金1,120,980(基準1,039,903)\n",
      "2015-05-01:資金1,092,245(基準1,037,062)\n",
      "2015-06-01:資金1,099,619(基準1,059,022)\n",
      "2015-07-01:資金1,099,884(基準1,046,730)\n",
      "2015-08-03:資金1,117,306(基準1,017,641)\n",
      "2015-09-01:資金1,078,268(基準923,919)\n",
      "2015-10-01:資金1,033,487(基準896,671)\n",
      "2015-11-02:資金989,570(基準911,835)\n",
      "2015-12-01:資金979,336(基準885,816)\n",
      "--------------------------------------------------------------------\n",
      "2016-01-01:資金927,155(基準809,454)\n",
      "2016-02-01:資金883,858(基準791,698)\n",
      "2016-03-01:資金828,057(基準761,172)\n",
      "2016-04-01:資金809,783(基準791,032)\n",
      "2016-05-02:資金773,122(基準775,702)\n",
      "2016-06-01:資金767,899(基準730,646)\n",
      "2016-07-01:資金665,714(基準732,863)\n",
      "2016-08-01:資金628,502(基準765,315)\n",
      "2016-09-01:資金606,855(基準736,246)\n",
      "2016-10-03:資金582,312(基準778,022)\n",
      "2016-11-01:資金597,863(基準796,632)\n",
      "2016-12-01:資金596,182(基準841,812)\n",
      "--------------------------------------------------------------------\n",
      "2017-01-02:資金623,385(基準889,906)\n",
      "2017-02-01:資金605,107(基準874,752)\n",
      "2017-03-01:資金584,144(基準908,755)\n",
      "2017-04-03:資金564,827(基準842,811)\n",
      "2017-05-01:資金542,878(基準867,935)\n",
      "2017-06-01:資金550,508(基準899,419)\n",
      "2017-07-03:資金525,111(基準892,227)\n",
      "2017-08-01:資金515,708(基準865,375)\n",
      "2017-09-01:資金515,427(基準886,752)\n",
      "2017-10-02:資金516,960(基準863,168)\n",
      "2017-11-01:資金520,250(基準845,163)\n",
      "2017-12-01:資金511,856(基準851,262)\n",
      "--------------------------------------------------------------------\n",
      "2018-01-01:資金560,852(基準947,659)\n",
      "2018-02-01:資金548,895(基準960,606)\n",
      "2018-03-01:資金563,012(基準933,025)\n",
      "2018-04-02:資金573,641(基準930,226)\n",
      "2018-05-01:資金573,377(基準902,843)\n",
      "2018-06-01:資金568,468(基準898,399)\n",
      "2018-07-01:資金557,949(基準839,907)\n",
      "2018-08-01:資金574,631(基準879,176)\n",
      "2018-09-02:資金515,290(基準785,787)\n",
      "2018-11-23:資金521,389(基準845,215)\n",
      "2018-12-03:資金525,904(基準862,804)\n",
      "--------------------------------------------------------------------\n",
      "2019-01-02:資金524,673(基準782,560)\n",
      "2019-02-01:資金547,498(基準855,311)\n",
      "2019-03-01:資金547,442(基準818,155)\n",
      "2019-04-01:資金572,628(基準818,779)\n",
      "2019-05-01:資金586,972(基準800,774)\n",
      "2019-06-03:資金606,836(基準777,877)\n",
      "2019-07-01:資金612,500(基準797,860)"
     ]
    }
   ],
   "source": [
    "for i in range(start,end): \n",
    "        PRE=df2_num[i,np.array([\n",
    "                               3,4,5,\n",
    "                               6,7,8,\n",
    "                               9,10,11,\n",
    "                               12,13,14,\n",
    "                               15,16,17,\n",
    "                               18,19,20,\n",
    "                               21,22,23,\n",
    "                               24,25,26,\n",
    "                               27,28,29,\n",
    "                               30,31,32,\n",
    "\n",
    "                               33,34,35,\n",
    "                               36,37,38,\n",
    "                               39,40,41,\n",
    "                               42,43,44,\n",
    "                               45,46,47,\n",
    "                               48,49,50,\n",
    "                               51,52,53,\n",
    "                               54,55,56,\n",
    "                               57,58,59,\n",
    "                               60,61,62,\n",
    "                                            63,64,65\n",
    "                               ])]\n",
    "        \n",
    "        #予測のコマンド\n",
    "        PRE2 = classifier.predict_proba(np.resize(PRE,(1,trainX.shape[1])))\n",
    "        PRE2=PRE2[0]\n",
    "        \n",
    "        profit_rate=0\n",
    "        DATE2=df2_num[i,date_index]\n",
    "        if DATE != DATE2[:7]:       #月初の定点観測\n",
    "            DATE=DATE2[:7]\n",
    "            print()\n",
    "            result_out=result_out+\"\\n\"\n",
    "            if DATE2[5:7]==\"01\":\n",
    "                print(\"--------------------------------------------------------------------\")\n",
    "                result_out=result_out+\"--------------------------------------------------------------------\"+\"\\n\"\n",
    "            STRING=df2_num[i,0]+\":資金\"+\"{:,}\".format(int(MONEY))+\"(基準\"+\"{:,}\".format(int(standard*df2_num[i,1])).strip()+\")\"\n",
    "            print(STRING.strip(),end=\"\")\n",
    "            result_out=result_out+STRING.strip()+\"\\n\"\n",
    "\n",
    "\n",
    "\n",
    "        PREDICT    =\"None\"\n",
    "        #  売り予測の場合\n",
    "        if PRE2[2]>0.5:\n",
    "            PREDICT=\"sell\"\n",
    "            #print(\"売:\",end=\" \")\n",
    "            profit_rate=df2_num[i,open_index]/df2_num[i, close_index]\n",
    "            MONEY=(profit_rate)*MONEY\n",
    "\n",
    "        #  買い予測の場合\n",
    "        if PRE2[0]>0.5:\n",
    "            PREDICT=\"buy\"\n",
    "            #print(\"買\",end=\" \")\n",
    "            profit_rate=df2_num[i,close_index]/df2_num[i,open_index]\n",
    "            MONEY=(profit_rate)*MONEY\n",
    "\n",
    "        if df2_num[i,63]==1:\n",
    "            Y_result=\"buy\"\n",
    "        elif df2_num[i,65]==1:\n",
    "            Y_result=\"sell\"\n",
    "        else:\n",
    "            Y_result=\"None\"\n",
    "            \n",
    "        seigo=\"×\"    \n",
    "        if Y_result==PREDICT:\n",
    "            seigo=\"●\"\n",
    "        \n",
    "        if profit_rate!=0:\n",
    "            profit_rate=100*(profit_rate-1)\n",
    "        \n",
    "        s1 = pd.Series([df2_num[i,0],                 #日付\n",
    "                        round(df2_num[i,open_index], 2),        #OPEN\n",
    "                        round(df2_num[i,close_index],2),        #Close\n",
    "                        round((df2_num[i,close_index]/df2_num[i,open_index]-1)*100,2),  #アップ率\n",
    "                        round(MONEY),\n",
    "                        int(standard*df2_num[i,1]),                 #基準価格\n",
    "                        Y_result,PREDICT,seigo,\n",
    "                        round(profit_rate,2)],                     #予測\n",
    "               index=df_sim.columns)\n",
    "        df_sim=df_sim.append(s1,ignore_index=True)\n",
    "        "
   ]
  },
  {
   "cell_type": "code",
   "execution_count": 55,
   "metadata": {},
   "outputs": [
    {
     "data": {
      "text/html": [
       "<div>\n",
       "<style scoped>\n",
       "    .dataframe tbody tr th:only-of-type {\n",
       "        vertical-align: middle;\n",
       "    }\n",
       "\n",
       "    .dataframe tbody tr th {\n",
       "        vertical-align: top;\n",
       "    }\n",
       "\n",
       "    .dataframe thead th {\n",
       "        text-align: right;\n",
       "    }\n",
       "</style>\n",
       "<table border=\"1\" class=\"dataframe\">\n",
       "  <thead>\n",
       "    <tr style=\"text-align: right;\">\n",
       "      <th></th>\n",
       "      <th>Date</th>\n",
       "      <th>Open</th>\n",
       "      <th>Close</th>\n",
       "      <th>Up</th>\n",
       "      <th>money</th>\n",
       "      <th>基準価格</th>\n",
       "      <th>result</th>\n",
       "      <th>predict</th>\n",
       "      <th>正誤</th>\n",
       "      <th>利益率</th>\n",
       "    </tr>\n",
       "  </thead>\n",
       "  <tbody>\n",
       "    <tr>\n",
       "      <th>36</th>\n",
       "      <td>2014-01-01</td>\n",
       "      <td>10.00</td>\n",
       "      <td>10.02</td>\n",
       "      <td>0.20</td>\n",
       "      <td>1025686</td>\n",
       "      <td>1042734</td>\n",
       "      <td>None</td>\n",
       "      <td>None</td>\n",
       "      <td>●</td>\n",
       "      <td>0</td>\n",
       "    </tr>\n",
       "    <tr>\n",
       "      <th>100</th>\n",
       "      <td>2014-04-01</td>\n",
       "      <td>9.79</td>\n",
       "      <td>9.79</td>\n",
       "      <td>0.06</td>\n",
       "      <td>1066347</td>\n",
       "      <td>1019348</td>\n",
       "      <td>None</td>\n",
       "      <td>buy</td>\n",
       "      <td>×</td>\n",
       "      <td>0.06</td>\n",
       "    </tr>\n",
       "    <tr>\n",
       "      <th>165</th>\n",
       "      <td>2014-07-01</td>\n",
       "      <td>9.52</td>\n",
       "      <td>9.52</td>\n",
       "      <td>-0.06</td>\n",
       "      <td>1060093</td>\n",
       "      <td>990310</td>\n",
       "      <td>None</td>\n",
       "      <td>None</td>\n",
       "      <td>●</td>\n",
       "      <td>0</td>\n",
       "    </tr>\n",
       "    <tr>\n",
       "      <th>231</th>\n",
       "      <td>2014-10-01</td>\n",
       "      <td>9.71</td>\n",
       "      <td>9.67</td>\n",
       "      <td>-0.49</td>\n",
       "      <td>1047682</td>\n",
       "      <td>1005953</td>\n",
       "      <td>None</td>\n",
       "      <td>None</td>\n",
       "      <td>●</td>\n",
       "      <td>0</td>\n",
       "    </tr>\n",
       "    <tr>\n",
       "      <th>297</th>\n",
       "      <td>2015-01-01</td>\n",
       "      <td>10.34</td>\n",
       "      <td>10.37</td>\n",
       "      <td>0.35</td>\n",
       "      <td>1110441</td>\n",
       "      <td>1079661</td>\n",
       "      <td>None</td>\n",
       "      <td>None</td>\n",
       "      <td>●</td>\n",
       "      <td>0</td>\n",
       "    </tr>\n",
       "    <tr>\n",
       "      <th>361</th>\n",
       "      <td>2015-04-01</td>\n",
       "      <td>9.90</td>\n",
       "      <td>9.99</td>\n",
       "      <td>0.96</td>\n",
       "      <td>1120981</td>\n",
       "      <td>1039903</td>\n",
       "      <td>None</td>\n",
       "      <td>None</td>\n",
       "      <td>●</td>\n",
       "      <td>0</td>\n",
       "    </tr>\n",
       "    <tr>\n",
       "      <th>426</th>\n",
       "      <td>2015-07-01</td>\n",
       "      <td>10.06</td>\n",
       "      <td>10.06</td>\n",
       "      <td>-0.05</td>\n",
       "      <td>1099884</td>\n",
       "      <td>1046730</td>\n",
       "      <td>None</td>\n",
       "      <td>None</td>\n",
       "      <td>●</td>\n",
       "      <td>0</td>\n",
       "    </tr>\n",
       "    <tr>\n",
       "      <th>492</th>\n",
       "      <td>2015-10-01</td>\n",
       "      <td>8.64</td>\n",
       "      <td>8.62</td>\n",
       "      <td>-0.28</td>\n",
       "      <td>1036426</td>\n",
       "      <td>896671</td>\n",
       "      <td>None</td>\n",
       "      <td>sell</td>\n",
       "      <td>×</td>\n",
       "      <td>0.28</td>\n",
       "    </tr>\n",
       "    <tr>\n",
       "      <th>558</th>\n",
       "      <td>2016-01-01</td>\n",
       "      <td>7.77</td>\n",
       "      <td>7.78</td>\n",
       "      <td>0.12</td>\n",
       "      <td>927156</td>\n",
       "      <td>809454</td>\n",
       "      <td>None</td>\n",
       "      <td>None</td>\n",
       "      <td>●</td>\n",
       "      <td>0</td>\n",
       "    </tr>\n",
       "    <tr>\n",
       "      <th>623</th>\n",
       "      <td>2016-04-01</td>\n",
       "      <td>7.62</td>\n",
       "      <td>7.60</td>\n",
       "      <td>-0.24</td>\n",
       "      <td>811754</td>\n",
       "      <td>791032</td>\n",
       "      <td>None</td>\n",
       "      <td>sell</td>\n",
       "      <td>×</td>\n",
       "      <td>0.24</td>\n",
       "    </tr>\n",
       "    <tr>\n",
       "      <th>688</th>\n",
       "      <td>2016-07-01</td>\n",
       "      <td>7.01</td>\n",
       "      <td>7.04</td>\n",
       "      <td>0.39</td>\n",
       "      <td>663124</td>\n",
       "      <td>732863</td>\n",
       "      <td>None</td>\n",
       "      <td>sell</td>\n",
       "      <td>×</td>\n",
       "      <td>-0.39</td>\n",
       "    </tr>\n",
       "    <tr>\n",
       "      <th>1079</th>\n",
       "      <td>2018-01-01</td>\n",
       "      <td>9.10</td>\n",
       "      <td>9.11</td>\n",
       "      <td>0.05</td>\n",
       "      <td>561161</td>\n",
       "      <td>947659</td>\n",
       "      <td>None</td>\n",
       "      <td>buy</td>\n",
       "      <td>×</td>\n",
       "      <td>0.05</td>\n",
       "    </tr>\n",
       "    <tr>\n",
       "      <th>1214</th>\n",
       "      <td>2018-07-01</td>\n",
       "      <td>8.06</td>\n",
       "      <td>8.07</td>\n",
       "      <td>0.06</td>\n",
       "      <td>557604</td>\n",
       "      <td>839907</td>\n",
       "      <td>None</td>\n",
       "      <td>sell</td>\n",
       "      <td>×</td>\n",
       "      <td>-0.06</td>\n",
       "    </tr>\n",
       "    <tr>\n",
       "      <th>1382</th>\n",
       "      <td>2019-04-01</td>\n",
       "      <td>7.72</td>\n",
       "      <td>7.87</td>\n",
       "      <td>1.92</td>\n",
       "      <td>583608</td>\n",
       "      <td>818779</td>\n",
       "      <td>None</td>\n",
       "      <td>buy</td>\n",
       "      <td>×</td>\n",
       "      <td>1.92</td>\n",
       "    </tr>\n",
       "    <tr>\n",
       "      <th>1447</th>\n",
       "      <td>2019-07-01</td>\n",
       "      <td>7.66</td>\n",
       "      <td>7.67</td>\n",
       "      <td>0.05</td>\n",
       "      <td>612820</td>\n",
       "      <td>797860</td>\n",
       "      <td>None</td>\n",
       "      <td>buy</td>\n",
       "      <td>×</td>\n",
       "      <td>0.05</td>\n",
       "    </tr>\n",
       "  </tbody>\n",
       "</table>\n",
       "</div>"
      ],
      "text/plain": [
       "            Date   Open  Close    Up    money     基準価格 result predict 正誤   利益率\n",
       "36    2014-01-01  10.00  10.02  0.20  1025686  1042734   None    None  ●     0\n",
       "100   2014-04-01   9.79   9.79  0.06  1066347  1019348   None     buy  ×  0.06\n",
       "165   2014-07-01   9.52   9.52 -0.06  1060093   990310   None    None  ●     0\n",
       "231   2014-10-01   9.71   9.67 -0.49  1047682  1005953   None    None  ●     0\n",
       "297   2015-01-01  10.34  10.37  0.35  1110441  1079661   None    None  ●     0\n",
       "361   2015-04-01   9.90   9.99  0.96  1120981  1039903   None    None  ●     0\n",
       "426   2015-07-01  10.06  10.06 -0.05  1099884  1046730   None    None  ●     0\n",
       "492   2015-10-01   8.64   8.62 -0.28  1036426   896671   None    sell  ×  0.28\n",
       "558   2016-01-01   7.77   7.78  0.12   927156   809454   None    None  ●     0\n",
       "623   2016-04-01   7.62   7.60 -0.24   811754   791032   None    sell  ×  0.24\n",
       "688   2016-07-01   7.01   7.04  0.39   663124   732863   None    sell  × -0.39\n",
       "1079  2018-01-01   9.10   9.11  0.05   561161   947659   None     buy  ×  0.05\n",
       "1214  2018-07-01   8.06   8.07  0.06   557604   839907   None    sell  × -0.06\n",
       "1382  2019-04-01   7.72   7.87  1.92   583608   818779   None     buy  ×  1.92\n",
       "1447  2019-07-01   7.66   7.67  0.05   612820   797860   None     buy  ×  0.05"
      ]
     },
     "execution_count": 55,
     "metadata": {},
     "output_type": "execute_result"
    }
   ],
   "source": [
    "df_sim[(\n",
    "    df_sim['Date'].str.contains('01-01') |\n",
    "    df_sim['Date'].str.contains('04-01') |\n",
    "    df_sim['Date'].str.contains('07-01') |\n",
    "    df_sim['Date'].str.contains('10-01') \n",
    ")]"
   ]
  },
  {
   "cell_type": "code",
   "execution_count": 33,
   "metadata": {},
   "outputs": [
    {
     "data": {
      "text/plain": [
       "<matplotlib.axes._subplots.AxesSubplot at 0x10c85c908>"
      ]
     },
     "execution_count": 33,
     "metadata": {},
     "output_type": "execute_result"
    },
    {
     "data": {
      "image/png": "[encoded data removed]",
      "text/plain": [
       "<matplotlib.figure.Figure at 0x108fd4b70>"
      ]
     },
     "metadata": {},
     "output_type": "display_data"
    }
   ],
   "source": [
    "import matplotlib.pyplot as plt\n",
    "%matplotlib inline\n",
    "\n",
    "df_sim.plot(x='Date',y='money',title='Money/Date')"
   ]
  },
  {
   "cell_type": "code",
   "execution_count": 34,
   "metadata": {},
   "outputs": [
    {
     "name": "stdout",
     "output_type": "stream",
     "text": [
      "● (604, 10)\n",
      "X (858, 10)\n",
      "2007年の利益率0.00%\n",
      "2008年の利益率0.00%\n",
      "2009年の利益率0.00%\n",
      "2010年の利益率0.00%\n",
      "2011年の利益率0.00%\n",
      "2012年の利益率0.00%\n",
      "2013年の利益率2.63%\n",
      "2014年の利益率8.32%\n",
      "2015年の利益率-17.37%\n",
      "2016年の利益率-37.42%\n",
      "2017年の利益率-9.80%\n",
      "2018年の利益率-6.00%\n"
     ]
    }
   ],
   "source": [
    "print(\"●\",df_sim[df_sim['正誤']==\"●\"].shape)\n",
    "print(\"X\",df_sim[df_sim['正誤']==\"×\"].shape)\n",
    "\n",
    "for i in range(7,19):\n",
    "    YEAR=str(i+2000)\n",
    "    start=YEAR+\"-01-01\"\n",
    "    end=YEAR+\"-12-31\"\n",
    "\n",
    "    tmp=df_sim.query(\"Date >= @start and Date <= @end \")\n",
    "    \n",
    "    print(\"{:}年の利益率{:.2f}%\".format(YEAR,tmp[['利益率']].sum()[0]))"
   ]
  },
  {
   "cell_type": "markdown",
   "metadata": {},
   "source": [
    "# 特徴選択"
   ]
  },
  {
   "cell_type": "code",
   "execution_count": 35,
   "metadata": {},
   "outputs": [
    {
     "ename": "ValueError",
     "evalue": "Input X must be non-negative.",
     "output_type": "error",
     "traceback": [
      "\u001b[0;31m---------------------------------------------------------------------------\u001b[0m",
      "\u001b[0;31mValueError\u001b[0m                                Traceback (most recent call last)",
      "\u001b[0;32m<ipython-input-35-c8d96b1385da>\u001b[0m in \u001b[0;36m<module>\u001b[0;34m()\u001b[0m\n\u001b[1;32m      4\u001b[0m \u001b[0mskb\u001b[0m\u001b[0;34m=\u001b[0m\u001b[0mSelectKBest\u001b[0m\u001b[0;34m(\u001b[0m\u001b[0mchi2\u001b[0m\u001b[0;34m,\u001b[0m\u001b[0mk\u001b[0m\u001b[0;34m=\u001b[0m\u001b[0;36m10\u001b[0m\u001b[0;34m)\u001b[0m\u001b[0;34m\u001b[0m\u001b[0m\n\u001b[1;32m      5\u001b[0m \u001b[0;34m\u001b[0m\u001b[0m\n\u001b[0;32m----> 6\u001b[0;31m \u001b[0mskb\u001b[0m\u001b[0;34m.\u001b[0m\u001b[0mfit\u001b[0m\u001b[0;34m(\u001b[0m\u001b[0mtrainX\u001b[0m\u001b[0;34m,\u001b[0m\u001b[0mtrainY2\u001b[0m\u001b[0;34m)\u001b[0m\u001b[0;34m\u001b[0m\u001b[0m\n\u001b[0m\u001b[1;32m      7\u001b[0m \u001b[0mtrainX_new\u001b[0m\u001b[0;34m=\u001b[0m\u001b[0mskb\u001b[0m\u001b[0;34m.\u001b[0m\u001b[0mtransform\u001b[0m\u001b[0;34m(\u001b[0m\u001b[0mtrainX\u001b[0m\u001b[0;34m)\u001b[0m\u001b[0;34m\u001b[0m\u001b[0m\n",
      "\u001b[0;32m~/.pyenv/versions/3.5.2/lib/python3.5/site-packages/sklearn/feature_selection/univariate_selection.py\u001b[0m in \u001b[0;36mfit\u001b[0;34m(self, X, y)\u001b[0m\n\u001b[1;32m    347\u001b[0m \u001b[0;34m\u001b[0m\u001b[0m\n\u001b[1;32m    348\u001b[0m         \u001b[0mself\u001b[0m\u001b[0;34m.\u001b[0m\u001b[0m_check_params\u001b[0m\u001b[0;34m(\u001b[0m\u001b[0mX\u001b[0m\u001b[0;34m,\u001b[0m \u001b[0my\u001b[0m\u001b[0;34m)\u001b[0m\u001b[0;34m\u001b[0m\u001b[0m\n\u001b[0;32m--> 349\u001b[0;31m         \u001b[0mscore_func_ret\u001b[0m \u001b[0;34m=\u001b[0m \u001b[0mself\u001b[0m\u001b[0;34m.\u001b[0m\u001b[0mscore_func\u001b[0m\u001b[0;34m(\u001b[0m\u001b[0mX\u001b[0m\u001b[0;34m,\u001b[0m \u001b[0my\u001b[0m\u001b[0;34m)\u001b[0m\u001b[0;34m\u001b[0m\u001b[0m\n\u001b[0m\u001b[1;32m    350\u001b[0m         \u001b[0;32mif\u001b[0m \u001b[0misinstance\u001b[0m\u001b[0;34m(\u001b[0m\u001b[0mscore_func_ret\u001b[0m\u001b[0;34m,\u001b[0m \u001b[0;34m(\u001b[0m\u001b[0mlist\u001b[0m\u001b[0;34m,\u001b[0m \u001b[0mtuple\u001b[0m\u001b[0;34m)\u001b[0m\u001b[0;34m)\u001b[0m\u001b[0;34m:\u001b[0m\u001b[0;34m\u001b[0m\u001b[0m\n\u001b[1;32m    351\u001b[0m             \u001b[0mself\u001b[0m\u001b[0;34m.\u001b[0m\u001b[0mscores_\u001b[0m\u001b[0;34m,\u001b[0m \u001b[0mself\u001b[0m\u001b[0;34m.\u001b[0m\u001b[0mpvalues_\u001b[0m \u001b[0;34m=\u001b[0m \u001b[0mscore_func_ret\u001b[0m\u001b[0;34m\u001b[0m\u001b[0m\n",
      "\u001b[0;32m~/.pyenv/versions/3.5.2/lib/python3.5/site-packages/sklearn/feature_selection/univariate_selection.py\u001b[0m in \u001b[0;36mchi2\u001b[0;34m(X, y)\u001b[0m\n\u001b[1;32m    213\u001b[0m     \u001b[0mX\u001b[0m \u001b[0;34m=\u001b[0m \u001b[0mcheck_array\u001b[0m\u001b[0;34m(\u001b[0m\u001b[0mX\u001b[0m\u001b[0;34m,\u001b[0m \u001b[0maccept_sparse\u001b[0m\u001b[0;34m=\u001b[0m\u001b[0;34m'csr'\u001b[0m\u001b[0;34m)\u001b[0m\u001b[0;34m\u001b[0m\u001b[0m\n\u001b[1;32m    214\u001b[0m     \u001b[0;32mif\u001b[0m \u001b[0mnp\u001b[0m\u001b[0;34m.\u001b[0m\u001b[0many\u001b[0m\u001b[0;34m(\u001b[0m\u001b[0;34m(\u001b[0m\u001b[0mX\u001b[0m\u001b[0;34m.\u001b[0m\u001b[0mdata\u001b[0m \u001b[0;32mif\u001b[0m \u001b[0missparse\u001b[0m\u001b[0;34m(\u001b[0m\u001b[0mX\u001b[0m\u001b[0;34m)\u001b[0m \u001b[0;32melse\u001b[0m \u001b[0mX\u001b[0m\u001b[0;34m)\u001b[0m \u001b[0;34m<\u001b[0m \u001b[0;36m0\u001b[0m\u001b[0;34m)\u001b[0m\u001b[0;34m:\u001b[0m\u001b[0;34m\u001b[0m\u001b[0m\n\u001b[0;32m--> 215\u001b[0;31m         \u001b[0;32mraise\u001b[0m \u001b[0mValueError\u001b[0m\u001b[0;34m(\u001b[0m\u001b[0;34m\"Input X must be non-negative.\"\u001b[0m\u001b[0;34m)\u001b[0m\u001b[0;34m\u001b[0m\u001b[0m\n\u001b[0m\u001b[1;32m    216\u001b[0m \u001b[0;34m\u001b[0m\u001b[0m\n\u001b[1;32m    217\u001b[0m     \u001b[0mY\u001b[0m \u001b[0;34m=\u001b[0m \u001b[0mLabelBinarizer\u001b[0m\u001b[0;34m(\u001b[0m\u001b[0;34m)\u001b[0m\u001b[0;34m.\u001b[0m\u001b[0mfit_transform\u001b[0m\u001b[0;34m(\u001b[0m\u001b[0my\u001b[0m\u001b[0;34m)\u001b[0m\u001b[0;34m\u001b[0m\u001b[0m\n",
      "\u001b[0;31mValueError\u001b[0m: Input X must be non-negative."
     ]
    }
   ],
   "source": [
    "from sklearn.feature_selection import SelectKBest\n",
    "from sklearn.feature_selection import chi2\n",
    "\n",
    "skb=SelectKBest(chi2,k=10)\n",
    "\n",
    "skb.fit(trainX,trainY2)\n",
    "trainX_new=skb.transform(trainX)"
   ]
  },
  {
   "cell_type": "code",
   "execution_count": 36,
   "metadata": {},
   "outputs": [
    {
     "ename": "ValueError",
     "evalue": "Input X must be non-negative.",
     "output_type": "error",
     "traceback": [
      "\u001b[0;31m---------------------------------------------------------------------------\u001b[0m",
      "\u001b[0;31mValueError\u001b[0m                                Traceback (most recent call last)",
      "\u001b[0;32m<ipython-input-36-4e4577f0269c>\u001b[0m in \u001b[0;36m<module>\u001b[0;34m()\u001b[0m\n\u001b[1;32m     25\u001b[0m \u001b[0;34m\u001b[0m\u001b[0m\n\u001b[1;32m     26\u001b[0m         \u001b[0mskb\u001b[0m\u001b[0;34m=\u001b[0m\u001b[0mSelectKBest\u001b[0m\u001b[0;34m(\u001b[0m\u001b[0mchi2\u001b[0m\u001b[0;34m,\u001b[0m\u001b[0mk\u001b[0m\u001b[0;34m=\u001b[0m\u001b[0mk\u001b[0m\u001b[0;34m)\u001b[0m\u001b[0;34m\u001b[0m\u001b[0m\n\u001b[0;32m---> 27\u001b[0;31m         \u001b[0mskb\u001b[0m\u001b[0;34m.\u001b[0m\u001b[0mfit\u001b[0m\u001b[0;34m(\u001b[0m\u001b[0mX_train2\u001b[0m\u001b[0;34m,\u001b[0m\u001b[0my_train2\u001b[0m\u001b[0;34m)\u001b[0m\u001b[0;34m\u001b[0m\u001b[0m\n\u001b[0m\u001b[1;32m     28\u001b[0m \u001b[0;34m\u001b[0m\u001b[0m\n\u001b[1;32m     29\u001b[0m         \u001b[0mX_new_train2\u001b[0m\u001b[0;34m=\u001b[0m\u001b[0mskb\u001b[0m\u001b[0;34m.\u001b[0m\u001b[0mtransform\u001b[0m\u001b[0;34m(\u001b[0m\u001b[0mX_train2\u001b[0m\u001b[0;34m)\u001b[0m\u001b[0;34m\u001b[0m\u001b[0m\n",
      "\u001b[0;32m~/.pyenv/versions/3.5.2/lib/python3.5/site-packages/sklearn/feature_selection/univariate_selection.py\u001b[0m in \u001b[0;36mfit\u001b[0;34m(self, X, y)\u001b[0m\n\u001b[1;32m    347\u001b[0m \u001b[0;34m\u001b[0m\u001b[0m\n\u001b[1;32m    348\u001b[0m         \u001b[0mself\u001b[0m\u001b[0;34m.\u001b[0m\u001b[0m_check_params\u001b[0m\u001b[0;34m(\u001b[0m\u001b[0mX\u001b[0m\u001b[0;34m,\u001b[0m \u001b[0my\u001b[0m\u001b[0;34m)\u001b[0m\u001b[0;34m\u001b[0m\u001b[0m\n\u001b[0;32m--> 349\u001b[0;31m         \u001b[0mscore_func_ret\u001b[0m \u001b[0;34m=\u001b[0m \u001b[0mself\u001b[0m\u001b[0;34m.\u001b[0m\u001b[0mscore_func\u001b[0m\u001b[0;34m(\u001b[0m\u001b[0mX\u001b[0m\u001b[0;34m,\u001b[0m \u001b[0my\u001b[0m\u001b[0;34m)\u001b[0m\u001b[0;34m\u001b[0m\u001b[0m\n\u001b[0m\u001b[1;32m    350\u001b[0m         \u001b[0;32mif\u001b[0m \u001b[0misinstance\u001b[0m\u001b[0;34m(\u001b[0m\u001b[0mscore_func_ret\u001b[0m\u001b[0;34m,\u001b[0m \u001b[0;34m(\u001b[0m\u001b[0mlist\u001b[0m\u001b[0;34m,\u001b[0m \u001b[0mtuple\u001b[0m\u001b[0;34m)\u001b[0m\u001b[0;34m)\u001b[0m\u001b[0;34m:\u001b[0m\u001b[0;34m\u001b[0m\u001b[0m\n\u001b[1;32m    351\u001b[0m             \u001b[0mself\u001b[0m\u001b[0;34m.\u001b[0m\u001b[0mscores_\u001b[0m\u001b[0;34m,\u001b[0m \u001b[0mself\u001b[0m\u001b[0;34m.\u001b[0m\u001b[0mpvalues_\u001b[0m \u001b[0;34m=\u001b[0m \u001b[0mscore_func_ret\u001b[0m\u001b[0;34m\u001b[0m\u001b[0m\n",
      "\u001b[0;32m~/.pyenv/versions/3.5.2/lib/python3.5/site-packages/sklearn/feature_selection/univariate_selection.py\u001b[0m in \u001b[0;36mchi2\u001b[0;34m(X, y)\u001b[0m\n\u001b[1;32m    213\u001b[0m     \u001b[0mX\u001b[0m \u001b[0;34m=\u001b[0m \u001b[0mcheck_array\u001b[0m\u001b[0;34m(\u001b[0m\u001b[0mX\u001b[0m\u001b[0;34m,\u001b[0m \u001b[0maccept_sparse\u001b[0m\u001b[0;34m=\u001b[0m\u001b[0;34m'csr'\u001b[0m\u001b[0;34m)\u001b[0m\u001b[0;34m\u001b[0m\u001b[0m\n\u001b[1;32m    214\u001b[0m     \u001b[0;32mif\u001b[0m \u001b[0mnp\u001b[0m\u001b[0;34m.\u001b[0m\u001b[0many\u001b[0m\u001b[0;34m(\u001b[0m\u001b[0;34m(\u001b[0m\u001b[0mX\u001b[0m\u001b[0;34m.\u001b[0m\u001b[0mdata\u001b[0m \u001b[0;32mif\u001b[0m \u001b[0missparse\u001b[0m\u001b[0;34m(\u001b[0m\u001b[0mX\u001b[0m\u001b[0;34m)\u001b[0m \u001b[0;32melse\u001b[0m \u001b[0mX\u001b[0m\u001b[0;34m)\u001b[0m \u001b[0;34m<\u001b[0m \u001b[0;36m0\u001b[0m\u001b[0;34m)\u001b[0m\u001b[0;34m:\u001b[0m\u001b[0;34m\u001b[0m\u001b[0m\n\u001b[0;32m--> 215\u001b[0;31m         \u001b[0;32mraise\u001b[0m \u001b[0mValueError\u001b[0m\u001b[0;34m(\u001b[0m\u001b[0;34m\"Input X must be non-negative.\"\u001b[0m\u001b[0;34m)\u001b[0m\u001b[0;34m\u001b[0m\u001b[0m\n\u001b[0m\u001b[1;32m    216\u001b[0m \u001b[0;34m\u001b[0m\u001b[0m\n\u001b[1;32m    217\u001b[0m     \u001b[0mY\u001b[0m \u001b[0;34m=\u001b[0m \u001b[0mLabelBinarizer\u001b[0m\u001b[0;34m(\u001b[0m\u001b[0;34m)\u001b[0m\u001b[0;34m.\u001b[0m\u001b[0mfit_transform\u001b[0m\u001b[0;34m(\u001b[0m\u001b[0my\u001b[0m\u001b[0;34m)\u001b[0m\u001b[0;34m\u001b[0m\u001b[0m\n",
      "\u001b[0;31mValueError\u001b[0m: Input X must be non-negative."
     ]
    }
   ],
   "source": [
    "import warnings\n",
    "warnings.filterwarnings('ignore')\n",
    "\n",
    "from sklearn.model_selection import StratifiedKFold\n",
    "model = SVC(kernel='linear', random_state=None)\n",
    "k_range=np.arange(1,20)\n",
    "scores=[]\n",
    "std=[]\n",
    "\n",
    "#clf = XGBClassifier()\n",
    "classifier = SVC(kernel='linear', random_state=None)\n",
    "\n",
    "\n",
    "\n",
    "for k in k_range:\n",
    "    ss= StratifiedKFold(n_splits  =5,\n",
    "                       shuffle    =True,\n",
    "                      random_state=2)\n",
    "    score=[]\n",
    "    \n",
    "    for train_index, val_index in ss.split(trainX,trainY2):\n",
    "        \n",
    "        X_train2,X_val =trainX[train_index],trainX[val_index]\n",
    "        y_train2,y_val =trainY2[train_index],trainY2[val_index]\n",
    "        \n",
    "        skb=SelectKBest(chi2,k=k)\n",
    "        skb.fit(X_train2,y_train2)\n",
    "        \n",
    "        X_new_train2=skb.transform(X_train2)\n",
    "        X_new_val   =skb.transform(X_val)\n",
    "        \n",
    "        classifier.fit(X_new_train2,y_train2)\n",
    "        score.append(clf.score(X_new_val,y_val))\n",
    "    scores.append(np.array(score).mean())\n",
    "    std.append(np.array(score).std())"
   ]
  },
  {
   "cell_type": "code",
   "execution_count": 37,
   "metadata": {},
   "outputs": [
    {
     "ename": "ValueError",
     "evalue": "x and y must have same first dimension, but have shapes (19,) and (0,)",
     "output_type": "error",
     "traceback": [
      "\u001b[0;31m---------------------------------------------------------------------------\u001b[0m",
      "\u001b[0;31mValueError\u001b[0m                                Traceback (most recent call last)",
      "\u001b[0;32m<ipython-input-37-281f34de538f>\u001b[0m in \u001b[0;36m<module>\u001b[0;34m()\u001b[0m\n\u001b[1;32m      2\u001b[0m \u001b[0mget_ipython\u001b[0m\u001b[0;34m(\u001b[0m\u001b[0;34m)\u001b[0m\u001b[0;34m.\u001b[0m\u001b[0mmagic\u001b[0m\u001b[0;34m(\u001b[0m\u001b[0;34m'matplotlib inline'\u001b[0m\u001b[0;34m)\u001b[0m\u001b[0;34m\u001b[0m\u001b[0m\n\u001b[1;32m      3\u001b[0m \u001b[0;34m\u001b[0m\u001b[0m\n\u001b[0;32m----> 4\u001b[0;31m \u001b[0mplt\u001b[0m\u001b[0;34m.\u001b[0m\u001b[0mplot\u001b[0m\u001b[0;34m(\u001b[0m\u001b[0mk_range\u001b[0m\u001b[0;34m,\u001b[0m\u001b[0mscores\u001b[0m\u001b[0;34m)\u001b[0m\u001b[0;34m\u001b[0m\u001b[0m\n\u001b[0m\u001b[1;32m      5\u001b[0m \u001b[0mplt\u001b[0m\u001b[0;34m.\u001b[0m\u001b[0merrorbar\u001b[0m\u001b[0;34m(\u001b[0m\u001b[0mk_range\u001b[0m\u001b[0;34m,\u001b[0m\u001b[0mscores\u001b[0m\u001b[0;34m,\u001b[0m\u001b[0myerr\u001b[0m\u001b[0;34m=\u001b[0m\u001b[0mstd\u001b[0m\u001b[0;34m)\u001b[0m\u001b[0;34m\u001b[0m\u001b[0m\n\u001b[1;32m      6\u001b[0m \u001b[0mplt\u001b[0m\u001b[0;34m.\u001b[0m\u001b[0mylabel\u001b[0m\u001b[0;34m(\u001b[0m\u001b[0;34m\"accuracy\"\u001b[0m\u001b[0;34m)\u001b[0m\u001b[0;34m\u001b[0m\u001b[0m\n",
      "\u001b[0;32m~/.pyenv/versions/3.5.2/lib/python3.5/site-packages/matplotlib/pyplot.py\u001b[0m in \u001b[0;36mplot\u001b[0;34m(*args, **kwargs)\u001b[0m\n\u001b[1;32m   3259\u001b[0m                       mplDeprecation)\n\u001b[1;32m   3260\u001b[0m     \u001b[0;32mtry\u001b[0m\u001b[0;34m:\u001b[0m\u001b[0;34m\u001b[0m\u001b[0m\n\u001b[0;32m-> 3261\u001b[0;31m         \u001b[0mret\u001b[0m \u001b[0;34m=\u001b[0m \u001b[0max\u001b[0m\u001b[0;34m.\u001b[0m\u001b[0mplot\u001b[0m\u001b[0;34m(\u001b[0m\u001b[0;34m*\u001b[0m\u001b[0margs\u001b[0m\u001b[0;34m,\u001b[0m \u001b[0;34m**\u001b[0m\u001b[0mkwargs\u001b[0m\u001b[0;34m)\u001b[0m\u001b[0;34m\u001b[0m\u001b[0m\n\u001b[0m\u001b[1;32m   3262\u001b[0m     \u001b[0;32mfinally\u001b[0m\u001b[0;34m:\u001b[0m\u001b[0;34m\u001b[0m\u001b[0m\n\u001b[1;32m   3263\u001b[0m         \u001b[0max\u001b[0m\u001b[0;34m.\u001b[0m\u001b[0m_hold\u001b[0m \u001b[0;34m=\u001b[0m \u001b[0mwashold\u001b[0m\u001b[0;34m\u001b[0m\u001b[0m\n",
      "\u001b[0;32m~/.pyenv/versions/3.5.2/lib/python3.5/site-packages/matplotlib/__init__.py\u001b[0m in \u001b[0;36minner\u001b[0;34m(ax, *args, **kwargs)\u001b[0m\n\u001b[1;32m   1715\u001b[0m                     warnings.warn(msg % (label_namer, func.__name__),\n\u001b[1;32m   1716\u001b[0m                                   RuntimeWarning, stacklevel=2)\n\u001b[0;32m-> 1717\u001b[0;31m             \u001b[0;32mreturn\u001b[0m \u001b[0mfunc\u001b[0m\u001b[0;34m(\u001b[0m\u001b[0max\u001b[0m\u001b[0;34m,\u001b[0m \u001b[0;34m*\u001b[0m\u001b[0margs\u001b[0m\u001b[0;34m,\u001b[0m \u001b[0;34m**\u001b[0m\u001b[0mkwargs\u001b[0m\u001b[0;34m)\u001b[0m\u001b[0;34m\u001b[0m\u001b[0m\n\u001b[0m\u001b[1;32m   1718\u001b[0m         \u001b[0mpre_doc\u001b[0m \u001b[0;34m=\u001b[0m \u001b[0minner\u001b[0m\u001b[0;34m.\u001b[0m\u001b[0m__doc__\u001b[0m\u001b[0;34m\u001b[0m\u001b[0m\n\u001b[1;32m   1719\u001b[0m         \u001b[0;32mif\u001b[0m \u001b[0mpre_doc\u001b[0m \u001b[0;32mis\u001b[0m \u001b[0;32mNone\u001b[0m\u001b[0;34m:\u001b[0m\u001b[0;34m\u001b[0m\u001b[0m\n",
      "\u001b[0;32m~/.pyenv/versions/3.5.2/lib/python3.5/site-packages/matplotlib/axes/_axes.py\u001b[0m in \u001b[0;36mplot\u001b[0;34m(self, *args, **kwargs)\u001b[0m\n\u001b[1;32m   1370\u001b[0m         \u001b[0mkwargs\u001b[0m \u001b[0;34m=\u001b[0m \u001b[0mcbook\u001b[0m\u001b[0;34m.\u001b[0m\u001b[0mnormalize_kwargs\u001b[0m\u001b[0;34m(\u001b[0m\u001b[0mkwargs\u001b[0m\u001b[0;34m,\u001b[0m \u001b[0m_alias_map\u001b[0m\u001b[0;34m)\u001b[0m\u001b[0;34m\u001b[0m\u001b[0m\n\u001b[1;32m   1371\u001b[0m \u001b[0;34m\u001b[0m\u001b[0m\n\u001b[0;32m-> 1372\u001b[0;31m         \u001b[0;32mfor\u001b[0m \u001b[0mline\u001b[0m \u001b[0;32min\u001b[0m \u001b[0mself\u001b[0m\u001b[0;34m.\u001b[0m\u001b[0m_get_lines\u001b[0m\u001b[0;34m(\u001b[0m\u001b[0;34m*\u001b[0m\u001b[0margs\u001b[0m\u001b[0;34m,\u001b[0m \u001b[0;34m**\u001b[0m\u001b[0mkwargs\u001b[0m\u001b[0;34m)\u001b[0m\u001b[0;34m:\u001b[0m\u001b[0;34m\u001b[0m\u001b[0m\n\u001b[0m\u001b[1;32m   1373\u001b[0m             \u001b[0mself\u001b[0m\u001b[0;34m.\u001b[0m\u001b[0madd_line\u001b[0m\u001b[0;34m(\u001b[0m\u001b[0mline\u001b[0m\u001b[0;34m)\u001b[0m\u001b[0;34m\u001b[0m\u001b[0m\n\u001b[1;32m   1374\u001b[0m             \u001b[0mlines\u001b[0m\u001b[0;34m.\u001b[0m\u001b[0mappend\u001b[0m\u001b[0;34m(\u001b[0m\u001b[0mline\u001b[0m\u001b[0;34m)\u001b[0m\u001b[0;34m\u001b[0m\u001b[0m\n",
      "\u001b[0;32m~/.pyenv/versions/3.5.2/lib/python3.5/site-packages/matplotlib/axes/_base.py\u001b[0m in \u001b[0;36m_grab_next_args\u001b[0;34m(self, *args, **kwargs)\u001b[0m\n\u001b[1;32m    402\u001b[0m                 \u001b[0mthis\u001b[0m \u001b[0;34m+=\u001b[0m \u001b[0margs\u001b[0m\u001b[0;34m[\u001b[0m\u001b[0;36m0\u001b[0m\u001b[0;34m]\u001b[0m\u001b[0;34m,\u001b[0m\u001b[0;34m\u001b[0m\u001b[0m\n\u001b[1;32m    403\u001b[0m                 \u001b[0margs\u001b[0m \u001b[0;34m=\u001b[0m \u001b[0margs\u001b[0m\u001b[0;34m[\u001b[0m\u001b[0;36m1\u001b[0m\u001b[0;34m:\u001b[0m\u001b[0;34m]\u001b[0m\u001b[0;34m\u001b[0m\u001b[0m\n\u001b[0;32m--> 404\u001b[0;31m             \u001b[0;32mfor\u001b[0m \u001b[0mseg\u001b[0m \u001b[0;32min\u001b[0m \u001b[0mself\u001b[0m\u001b[0;34m.\u001b[0m\u001b[0m_plot_args\u001b[0m\u001b[0;34m(\u001b[0m\u001b[0mthis\u001b[0m\u001b[0;34m,\u001b[0m \u001b[0mkwargs\u001b[0m\u001b[0;34m)\u001b[0m\u001b[0;34m:\u001b[0m\u001b[0;34m\u001b[0m\u001b[0m\n\u001b[0m\u001b[1;32m    405\u001b[0m                 \u001b[0;32myield\u001b[0m \u001b[0mseg\u001b[0m\u001b[0;34m\u001b[0m\u001b[0m\n\u001b[1;32m    406\u001b[0m \u001b[0;34m\u001b[0m\u001b[0m\n",
      "\u001b[0;32m~/.pyenv/versions/3.5.2/lib/python3.5/site-packages/matplotlib/axes/_base.py\u001b[0m in \u001b[0;36m_plot_args\u001b[0;34m(self, tup, kwargs)\u001b[0m\n\u001b[1;32m    382\u001b[0m             \u001b[0mx\u001b[0m\u001b[0;34m,\u001b[0m \u001b[0my\u001b[0m \u001b[0;34m=\u001b[0m \u001b[0mindex_of\u001b[0m\u001b[0;34m(\u001b[0m\u001b[0mtup\u001b[0m\u001b[0;34m[\u001b[0m\u001b[0;34m-\u001b[0m\u001b[0;36m1\u001b[0m\u001b[0;34m]\u001b[0m\u001b[0;34m)\u001b[0m\u001b[0;34m\u001b[0m\u001b[0m\n\u001b[1;32m    383\u001b[0m \u001b[0;34m\u001b[0m\u001b[0m\n\u001b[0;32m--> 384\u001b[0;31m         \u001b[0mx\u001b[0m\u001b[0;34m,\u001b[0m \u001b[0my\u001b[0m \u001b[0;34m=\u001b[0m \u001b[0mself\u001b[0m\u001b[0;34m.\u001b[0m\u001b[0m_xy_from_xy\u001b[0m\u001b[0;34m(\u001b[0m\u001b[0mx\u001b[0m\u001b[0;34m,\u001b[0m \u001b[0my\u001b[0m\u001b[0;34m)\u001b[0m\u001b[0;34m\u001b[0m\u001b[0m\n\u001b[0m\u001b[1;32m    385\u001b[0m \u001b[0;34m\u001b[0m\u001b[0m\n\u001b[1;32m    386\u001b[0m         \u001b[0;32mif\u001b[0m \u001b[0mself\u001b[0m\u001b[0;34m.\u001b[0m\u001b[0mcommand\u001b[0m \u001b[0;34m==\u001b[0m \u001b[0;34m'plot'\u001b[0m\u001b[0;34m:\u001b[0m\u001b[0;34m\u001b[0m\u001b[0m\n",
      "\u001b[0;32m~/.pyenv/versions/3.5.2/lib/python3.5/site-packages/matplotlib/axes/_base.py\u001b[0m in \u001b[0;36m_xy_from_xy\u001b[0;34m(self, x, y)\u001b[0m\n\u001b[1;32m    241\u001b[0m         \u001b[0;32mif\u001b[0m \u001b[0mx\u001b[0m\u001b[0;34m.\u001b[0m\u001b[0mshape\u001b[0m\u001b[0;34m[\u001b[0m\u001b[0;36m0\u001b[0m\u001b[0;34m]\u001b[0m \u001b[0;34m!=\u001b[0m \u001b[0my\u001b[0m\u001b[0;34m.\u001b[0m\u001b[0mshape\u001b[0m\u001b[0;34m[\u001b[0m\u001b[0;36m0\u001b[0m\u001b[0;34m]\u001b[0m\u001b[0;34m:\u001b[0m\u001b[0;34m\u001b[0m\u001b[0m\n\u001b[1;32m    242\u001b[0m             raise ValueError(\"x and y must have same first dimension, but \"\n\u001b[0;32m--> 243\u001b[0;31m                              \"have shapes {} and {}\".format(x.shape, y.shape))\n\u001b[0m\u001b[1;32m    244\u001b[0m         \u001b[0;32mif\u001b[0m \u001b[0mx\u001b[0m\u001b[0;34m.\u001b[0m\u001b[0mndim\u001b[0m \u001b[0;34m>\u001b[0m \u001b[0;36m2\u001b[0m \u001b[0;32mor\u001b[0m \u001b[0my\u001b[0m\u001b[0;34m.\u001b[0m\u001b[0mndim\u001b[0m \u001b[0;34m>\u001b[0m \u001b[0;36m2\u001b[0m\u001b[0;34m:\u001b[0m\u001b[0;34m\u001b[0m\u001b[0m\n\u001b[1;32m    245\u001b[0m             raise ValueError(\"x and y can be no greater than 2-D, but have \"\n",
      "\u001b[0;31mValueError\u001b[0m: x and y must have same first dimension, but have shapes (19,) and (0,)"
     ]
    },
    {
     "data": {
      "image/png": "[encoded data removed]",
      "text/plain": [
       "<matplotlib.figure.Figure at 0x10d16b5c0>"
      ]
     },
     "metadata": {},
     "output_type": "display_data"
    }
   ],
   "source": [
    "import matplotlib.pyplot as plt\n",
    "%matplotlib inline\n",
    "\n",
    "plt.plot(k_range,scores)\n",
    "plt.errorbar(k_range,scores,yerr=std)\n",
    "plt.ylabel(\"accuracy\")\n",
    "plt.xlim(0,20)"
   ]
  },
  {
   "cell_type": "markdown",
   "metadata": {},
   "source": [
    "# どの説明変数が聞いているのか"
   ]
  },
  {
   "cell_type": "code",
   "execution_count": null,
   "metadata": {},
   "outputs": [],
   "source": []
  }
 ],
 "metadata": {
  "kernelspec": {
   "display_name": "Python 3",
   "language": "python",
   "name": "python3"
  },
  "language_info": {
   "codemirror_mode": {
    "name": "ipython",
    "version": 3
   },
   "file_extension": ".py",
   "mimetype": "text/x-python",
   "name": "python",
   "nbconvert_exporter": "python",
   "pygments_lexer": "ipython3",
   "version": "3.5.2"
  }
 },
 "nbformat": 4,
 "nbformat_minor": 2
}
