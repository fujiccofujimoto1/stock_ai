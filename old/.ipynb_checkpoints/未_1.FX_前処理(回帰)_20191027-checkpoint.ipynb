{
 "cells": [
  {
   "cell_type": "markdown",
   "metadata": {},
   "source": [
    "# フロー\n",
    "1. 変数の定義\n",
    "1. 過去のCSVファイルからデータをロードする\n",
    "1. 前処理モジュールの定義（当日の上昇率、過去からの上昇率、下降率）\n",
    "1. CSVロードして、並び替え、必要な日付からにする\n",
    "1. 前処理部分(現在の値と、過去のからの上昇率、下降率を記したDFを作成)\n",
    "1. 前処理データの保存"
   ]
  },
  {
   "cell_type": "markdown",
   "metadata": {},
   "source": [
    "# 変数の定義\n"
   ]
  },
  {
   "cell_type": "code",
   "execution_count": 3,
   "metadata": {
    "collapsed": true
   },
   "outputs": [],
   "source": [
    "# 変数の定義\n",
    "\n",
    "import pandas as pd\n",
    "\n",
    "pram_predict_day=1                   # 1日後の予測をする\n",
    "#pram_predict_plus_percent=0.70            # 70%で上昇率、下降の設定\n",
    "#pram_predict_minus_percent=0.20           # 40%で上昇率、下降の設定\n",
    "pram_predict_plus_percent=0.40             # 40%で上昇率、下降の設定\n",
    "pram_predict_minus_percent=0.40            # 40%で上昇率、下降の設定\n",
    "\n",
    "\n",
    "YEAR=\"\"\n",
    "start_date='2000-01-29'             #元データを2000年からにする"
   ]
  },
  {
   "cell_type": "markdown",
   "metadata": {},
   "source": [
    "# 過去のCSVファイルからデータをロードする\n"
   ]
  },
  {
   "cell_type": "code",
   "execution_count": 4,
   "metadata": {
    "collapsed": true
   },
   "outputs": [],
   "source": [
    "# 過去のCSVファイルからデータをロードする\n",
    "\n",
    "class load_csv:\n",
    "    #CSVは右記サイトのからダウンロード https://stooq.com/q/d/?s=zarjpy\n",
    "    import pandas as pd\n",
    "    \n",
    "    def load(self):\n",
    "        #df_fx=pd.read_csv('data/zarjpy_d.csv')\n",
    "        df_fx=pd.read_csv('data/fx_latest.csv')\n",
    "        df_fx=df_fx.ix[:,['Date','Open','Close']]\n",
    "        \n",
    "        print (\"配列長さ:\",len(df_fx))\n",
    "        return df_fx"
   ]
  },
  {
   "cell_type": "markdown",
   "metadata": {},
   "source": [
    "# 前処理モジュールの定義（当日の上昇率、過去からの上昇率、下降率）\n"
   ]
  },
  {
   "cell_type": "code",
   "execution_count": 5,
   "metadata": {},
   "outputs": [],
   "source": [
    "# 前処理モジュールの定義（当日の上昇率、過去からの上昇率、下降率）\n",
    "\n",
    "\n",
    "def result(day0,xday):          #day0 当日の上昇率(close/open)の結果を返す\n",
    "    rate=0  #上昇率\n",
    "    if ((i-xday)>=0 and data_len>(i-xday)): \n",
    "        rate= ((df_fx.iloc[i,close_index]/df_fx.iloc[i,open_index])-1)*100\n",
    "    return rate\n",
    "\n",
    "def persent(day0,xday):         #　当日のopen価格と、過去のと比較して上昇率(当日open/過去open)を返す\n",
    "    rate=0  #上昇率\n",
    "    if ((i-xday)>=0 and data_len>(i-xday)):        \n",
    "        rate= ((df_fx.iloc[i,open_index]/df_fx.iloc[i-xday,open_index])-1)*100\n",
    "        if rate <0:\n",
    "            rate=0\n",
    "        #rate=np.log10(rate)\n",
    "    return rate\n",
    "\n",
    "def persent_minus(day0,xday):   #　当日のopen価格と、過去のと比較して下降率(-当日open/過去open)を返す\n",
    "    rate=0  #上昇率\n",
    "    if ((i-xday)>=0 and data_len>(i-xday)):        \n",
    "        rate= ((df_fx.iloc[i,open_index]/df_fx.iloc[i-xday,open_index])-1)*100\n",
    "        if rate>0:\n",
    "            rate=0\n",
    "        #rate=np.log10(rate)\n",
    "    return rate"
   ]
  },
  {
   "cell_type": "markdown",
   "metadata": {},
   "source": [
    "# CSVロードして、並び替え、必要な日付からにする\n"
   ]
  },
  {
   "cell_type": "code",
   "execution_count": 6,
   "metadata": {},
   "outputs": [
    {
     "name": "stdout",
     "output_type": "stream",
     "text": [
      "配列長さ: 4903\n"
     ]
    },
    {
     "name": "stderr",
     "output_type": "stream",
     "text": [
      "/Users/fujiccofujimoto/.pyenv/versions/3.5.2/lib/python3.5/site-packages/ipykernel_launcher.py:10: DeprecationWarning: \n",
      ".ix is deprecated. Please use\n",
      ".loc for label based indexing or\n",
      ".iloc for positional indexing\n",
      "\n",
      "See the documentation here:\n",
      "http://pandas.pydata.org/pandas-docs/stable/indexing.html#ix-indexer-is-deprecated\n",
      "  # Remove the CWD from sys.path while we load stuff.\n"
     ]
    },
    {
     "data": {
      "text/html": [
       "<div>\n",
       "<style scoped>\n",
       "    .dataframe tbody tr th:only-of-type {\n",
       "        vertical-align: middle;\n",
       "    }\n",
       "\n",
       "    .dataframe tbody tr th {\n",
       "        vertical-align: top;\n",
       "    }\n",
       "\n",
       "    .dataframe thead th {\n",
       "        text-align: right;\n",
       "    }\n",
       "</style>\n",
       "<table border=\"1\" class=\"dataframe\">\n",
       "  <thead>\n",
       "    <tr style=\"text-align: right;\">\n",
       "      <th></th>\n",
       "      <th>Date</th>\n",
       "      <th>Open</th>\n",
       "      <th>Close</th>\n",
       "    </tr>\n",
       "  </thead>\n",
       "  <tbody>\n",
       "    <tr>\n",
       "      <th>4893</th>\n",
       "      <td>2019-05-13</td>\n",
       "      <td>7.722</td>\n",
       "      <td>7.620</td>\n",
       "    </tr>\n",
       "    <tr>\n",
       "      <th>4894</th>\n",
       "      <td>2019-05-14</td>\n",
       "      <td>7.589</td>\n",
       "      <td>7.688</td>\n",
       "    </tr>\n",
       "    <tr>\n",
       "      <th>4895</th>\n",
       "      <td>2019-05-15</td>\n",
       "      <td>7.670</td>\n",
       "      <td>7.702</td>\n",
       "    </tr>\n",
       "    <tr>\n",
       "      <th>4896</th>\n",
       "      <td>2019-05-16</td>\n",
       "      <td>7.678</td>\n",
       "      <td>7.681</td>\n",
       "    </tr>\n",
       "    <tr>\n",
       "      <th>4897</th>\n",
       "      <td>2019-05-17</td>\n",
       "      <td>7.659</td>\n",
       "      <td>7.612</td>\n",
       "    </tr>\n",
       "    <tr>\n",
       "      <th>4898</th>\n",
       "      <td>2019-05-20</td>\n",
       "      <td>7.601</td>\n",
       "      <td>7.645</td>\n",
       "    </tr>\n",
       "    <tr>\n",
       "      <th>4899</th>\n",
       "      <td>2019-05-21</td>\n",
       "      <td>7.623</td>\n",
       "      <td>7.672</td>\n",
       "    </tr>\n",
       "    <tr>\n",
       "      <th>4900</th>\n",
       "      <td>2019-05-22</td>\n",
       "      <td>7.648</td>\n",
       "      <td>7.670</td>\n",
       "    </tr>\n",
       "    <tr>\n",
       "      <th>4901</th>\n",
       "      <td>2019-05-23</td>\n",
       "      <td>7.643</td>\n",
       "      <td>7.561</td>\n",
       "    </tr>\n",
       "    <tr>\n",
       "      <th>4902</th>\n",
       "      <td>2019-05-24</td>\n",
       "      <td>7.543</td>\n",
       "      <td>7.572</td>\n",
       "    </tr>\n",
       "  </tbody>\n",
       "</table>\n",
       "</div>"
      ],
      "text/plain": [
       "            Date   Open  Close\n",
       "4893  2019-05-13  7.722  7.620\n",
       "4894  2019-05-14  7.589  7.688\n",
       "4895  2019-05-15  7.670  7.702\n",
       "4896  2019-05-16  7.678  7.681\n",
       "4897  2019-05-17  7.659  7.612\n",
       "4898  2019-05-20  7.601  7.645\n",
       "4899  2019-05-21  7.623  7.672\n",
       "4900  2019-05-22  7.648  7.670\n",
       "4901  2019-05-23  7.643  7.561\n",
       "4902  2019-05-24  7.543  7.572"
      ]
     },
     "execution_count": 6,
     "metadata": {},
     "output_type": "execute_result"
    }
   ],
   "source": [
    "LOAD_CSV=load_csv()\n",
    "df_fx=LOAD_CSV.load()\n",
    "#df_fx=df_fx.sort_values(by='Date')\n",
    "\n",
    "df_fx=df_fx[(df_fx['Date']>=start_date )]\n",
    "df_fx = df_fx.reset_index(drop=True)\n",
    "data_len=len(df_fx)\n",
    "\n",
    "df_fx.tail(10)"
   ]
  },
  {
   "cell_type": "code",
   "execution_count": 7,
   "metadata": {},
   "outputs": [],
   "source": [
    "df=pd.DataFrame(data=None, index=None, columns=None, dtype=None, copy=False)\n",
    "df = pd.DataFrame(index=['Date'], columns=[\n",
    "\"Date\" ,\"Close\",\"Open\",\n",
    "\"day+1\" ,\"day+2\" ,\"day+3\",\n",
    "\"day+4\" ,\"day+5\" ,\"day+6\",\n",
    "\"day+7\" ,\"day+8\" ,\"day+9\",\n",
    "\"day+10\",\"day+11\",\"day+12\",\n",
    "\"day+13\",\"day+14\",\"day+15\",\n",
    "\"day+16\",\"day+17\",\"day+18\",\n",
    "\"day+19\",\"day+20\",\"day+21\",\n",
    "\"day+22\",\"day+23\",\"day+24\",\n",
    "\"day+25\",\"day+26\",\"day+27\",\n",
    "\"day+28\",\"day+29\",\"day+30\",\n",
    "\n",
    "\"day-1\" ,\"day-2\" ,\"day-3\",\n",
    "\"day-4\" ,\"day-5\" ,\"day-6\",\n",
    "\"day-7\" ,\"day-8\" ,\"day-9\",\n",
    "\"day-10\",\"day-11\",\"day-12\",\n",
    "\"day-13\",\"day-14\",\"day-15\",\n",
    "\"day-16\",\"day-17\",\"day-18\",\n",
    "\"day-19\",\"day-20\",\"day-21\",\n",
    "\"day-22\",\"day-23\",\"day-24\",\n",
    "\"day-25\",\"day-26\",\"day-27\",\n",
    "\"day-28\",\"day-29\",\"day-30\",\n",
    "\n",
    "\"label_up\",\"label_none\",\"label_down\",\n",
    "#\"label2_up\",\"label2_down\"\n",
    "])"
   ]
  },
  {
   "cell_type": "code",
   "execution_count": 8,
   "metadata": {},
   "outputs": [
    {
     "data": {
      "text/html": [
       "<div>\n",
       "<style scoped>\n",
       "    .dataframe tbody tr th:only-of-type {\n",
       "        vertical-align: middle;\n",
       "    }\n",
       "\n",
       "    .dataframe tbody tr th {\n",
       "        vertical-align: top;\n",
       "    }\n",
       "\n",
       "    .dataframe thead th {\n",
       "        text-align: right;\n",
       "    }\n",
       "</style>\n",
       "<table border=\"1\" class=\"dataframe\">\n",
       "  <thead>\n",
       "    <tr style=\"text-align: right;\">\n",
       "      <th></th>\n",
       "      <th>Date</th>\n",
       "      <th>Open</th>\n",
       "      <th>Close</th>\n",
       "    </tr>\n",
       "  </thead>\n",
       "  <tbody>\n",
       "    <tr>\n",
       "      <th>0</th>\n",
       "      <td>2000-08-29</td>\n",
       "      <td>15.31</td>\n",
       "      <td>15.2400</td>\n",
       "    </tr>\n",
       "    <tr>\n",
       "      <th>1</th>\n",
       "      <td>2000-08-30</td>\n",
       "      <td>15.19</td>\n",
       "      <td>15.3103</td>\n",
       "    </tr>\n",
       "    <tr>\n",
       "      <th>2</th>\n",
       "      <td>2000-08-31</td>\n",
       "      <td>15.28</td>\n",
       "      <td>15.2866</td>\n",
       "    </tr>\n",
       "    <tr>\n",
       "      <th>3</th>\n",
       "      <td>2000-09-01</td>\n",
       "      <td>15.28</td>\n",
       "      <td>15.2562</td>\n",
       "    </tr>\n",
       "    <tr>\n",
       "      <th>4</th>\n",
       "      <td>2000-09-04</td>\n",
       "      <td>15.22</td>\n",
       "      <td>15.1945</td>\n",
       "    </tr>\n",
       "    <tr>\n",
       "      <th>5</th>\n",
       "      <td>2000-09-05</td>\n",
       "      <td>15.19</td>\n",
       "      <td>15.0723</td>\n",
       "    </tr>\n",
       "    <tr>\n",
       "      <th>6</th>\n",
       "      <td>2000-09-06</td>\n",
       "      <td>15.06</td>\n",
       "      <td>14.9275</td>\n",
       "    </tr>\n",
       "    <tr>\n",
       "      <th>7</th>\n",
       "      <td>2000-09-07</td>\n",
       "      <td>14.91</td>\n",
       "      <td>14.8175</td>\n",
       "    </tr>\n",
       "  </tbody>\n",
       "</table>\n",
       "</div>"
      ],
      "text/plain": [
       "         Date   Open    Close\n",
       "0  2000-08-29  15.31  15.2400\n",
       "1  2000-08-30  15.19  15.3103\n",
       "2  2000-08-31  15.28  15.2866\n",
       "3  2000-09-01  15.28  15.2562\n",
       "4  2000-09-04  15.22  15.1945\n",
       "5  2000-09-05  15.19  15.0723\n",
       "6  2000-09-06  15.06  14.9275\n",
       "7  2000-09-07  14.91  14.8175"
      ]
     },
     "execution_count": 8,
     "metadata": {},
     "output_type": "execute_result"
    }
   ],
   "source": [
    "date_index=df_fx.columns.get_loc('Date')\n",
    "close_index=df_fx.columns.get_loc('Close')\n",
    "open_index=df_fx.columns.get_loc('Open')\n",
    "\n",
    "df_fx.head(8)"
   ]
  },
  {
   "cell_type": "markdown",
   "metadata": {},
   "source": [
    "# 前処理部分　（現在の値と、過去のからの上昇率、下降率を記したDFを作成）\n",
    "\n"
   ]
  },
  {
   "cell_type": "code",
   "execution_count": 9,
   "metadata": {
    "collapsed": true
   },
   "outputs": [
    {
     "name": "stdout",
     "output_type": "stream",
     "text": [
      "0.0% 2.0% 4.1% 6.1% 8.2% 10.2% 12.2% 14.3% 16.3% 18.4% 20.4% 22.4% 24.5% 26.5% 28.6% 30.6% 32.6% 34.7% 36.7% 38.8% 40.8% 42.8% 44.9% 46.9% 48.9% 51.0% 53.0% 55.1% 57.1% 59.1% 61.2% 63.2% 65.3% 67.3% 69.3% 71.4% 73.4% 75.5% 77.5% 79.5% 81.6% 83.6% 85.7% 87.7% 89.7% 91.8% 93.8% 95.9% 97.9% 99.9% "
     ]
    }
   ],
   "source": [
    "# 前処理部分　（現在の値と、過去のからの上昇率、下降率を記したDFを作成\n",
    "\n",
    "for i in range(data_len) :\n",
    "    Date_day=df_fx.iloc[i,date_index ]\n",
    "\n",
    "    if i%100==0:\n",
    "        print('{0:.1%}'.format(i/data_len),end=\" \")\n",
    "\n",
    "    #当日のOPENの株価\n",
    "    day0         =df_fx.iloc[i,open_index]\n",
    "    day0_open    =df_fx.iloc[i,open_index] \n",
    "    day0_close   =df_fx.iloc[i,close_index] \n",
    "\n",
    "    #その後の結果から正解ラベルを作成\n",
    "    label_up=0     #上昇\n",
    "    label_none=0   #変化少ない\n",
    "    label_down=0   #下降\n",
    "\n",
    "    #正解データの計算  (pram_predict_day) 日後に、(pram_predict_persent)％の前後がある\n",
    "    prediction=result(day0_open,pram_predict_day)    \n",
    "\n",
    "    # ３つのらべるの場合\n",
    "    if prediction>=      pram_predict_plus_percent:\n",
    "        label_up  =1        #上昇\n",
    "        label_none=0        #そのまま\n",
    "        label_down=0        #下降\n",
    "    elif prediction<=   -pram_predict_minus_percent:\n",
    "        label_up  =0        #上昇\n",
    "        label_none=0        #そのまま\n",
    "        label_down=1        #下降\n",
    "    else:\n",
    "        \n",
    "        label_up  =0        #上昇\n",
    "        label_none=1        #そのまま\n",
    "        label_down=0        #下降\n",
    "\n",
    "\n",
    "    series=pd.Series([Date_day,day0_close,day0_open,\n",
    "                      persent(day0,1),persent(day0,2),persent(day0,3),\n",
    "                      persent(day0,4),persent(day0,5),persent(day0,6),\n",
    "                      persent(day0,7),persent(day0,8),persent(day0,9),\n",
    "                      persent(day0,10),persent(day0,11),persent(day0,12),\n",
    "                      persent(day0,13),persent(day0,14),persent(day0,15),\n",
    "                      persent(day0,16),persent(day0,17),persent(day0,18),\n",
    "                      persent(day0,19),persent(day0,20),persent(day0,21),\n",
    "                      persent(day0,22),persent(day0,23),persent(day0,24),\n",
    "                      persent(day0,25),persent(day0,26),persent(day0,27),\n",
    "                      persent(day0,28),persent(day0,29),persent(day0,30),\n",
    "\n",
    "                      persent_minus(day0,1),persent_minus(day0,2),persent_minus(day0,3),\n",
    "                      persent_minus(day0,4),persent_minus(day0,5),persent_minus(day0,6),\n",
    "                      persent_minus(day0,7),persent_minus(day0,8),persent_minus(day0,9),\n",
    "                      persent_minus(day0,10),persent_minus(day0,11),persent_minus(day0,12),\n",
    "                      persent_minus(day0,13),persent_minus(day0,14),persent_minus(day0,15),\n",
    "                      persent_minus(day0,16),persent_minus(day0,17),persent_minus(day0,18),\n",
    "                      persent_minus(day0,19),persent_minus(day0,20),persent_minus(day0,21),\n",
    "                      persent_minus(day0,22),persent_minus(day0,23),persent_minus(day0,24),\n",
    "                      persent_minus(day0,25),persent_minus(day0,26),persent_minus(day0,27),\n",
    "                      persent_minus(day0,28),persent_minus(day0,29),persent_minus(day0,30),\n",
    "                      label_up,label_none,label_down,\n",
    "                     ]\n",
    "                      ,index=df.columns)\n",
    "    series.append\n",
    "    df=df.append(series,ignore_index = True)"
   ]
  },
  {
   "cell_type": "markdown",
   "metadata": {},
   "source": [
    "# 前処理データの保存"
   ]
  },
  {
   "cell_type": "code",
   "execution_count": 11,
   "metadata": {},
   "outputs": [],
   "source": [
    "df.to_csv('data/fx_preprocessing.csv',index=False)"
   ]
  },
  {
   "cell_type": "raw",
   "metadata": {},
   "source": [
    "# up 0.70の場合\n",
    "# down 0.20の場合\n",
    "'''\n",
    "print(df[df['label_up']==1].shape)\n",
    "print(df[df['label_none']==1].shape)\n",
    "print(df[df['label_down']==1].shape)\n",
    "\n",
    "(1533, 68)\n",
    "(1703, 68)\n",
    "(1565, 68)\n",
    "'''"
   ]
  },
  {
   "cell_type": "raw",
   "metadata": {},
   "source": [
    "# up 0.60の場合\n",
    "# down 0.25の場合\n",
    "'''\n",
    "print(df[df['label_up']==1].shape)\n",
    "print(df[df['label_none']==1].shape)\n",
    "print(df[df['label_down']==1].shape)\n",
    "\n",
    "(1717, 68)\n",
    "(1593, 68)\n",
    "(1491, 68)\n",
    "'''\n"
   ]
  },
  {
   "cell_type": "code",
   "execution_count": null,
   "metadata": {},
   "outputs": [],
   "source": []
  }
 ],
 "metadata": {
  "kernelspec": {
   "display_name": "Python 3",
   "language": "python",
   "name": "python3"
  },
  "language_info": {
   "codemirror_mode": {
    "name": "ipython",
    "version": 3
   },
   "file_extension": ".py",
   "mimetype": "text/x-python",
   "name": "python",
   "nbconvert_exporter": "python",
   "pygments_lexer": "ipython3",
   "version": "3.5.2"
  }
 },
 "nbformat": 4,
 "nbformat_minor": 2
}
