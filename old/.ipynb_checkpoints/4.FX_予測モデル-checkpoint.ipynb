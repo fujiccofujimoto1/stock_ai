{
 "cells": [
  {
   "cell_type": "markdown",
   "metadata": {},
   "source": [
    "\n",
    "1. データの取得場所\n",
    " 1.  https://currencylayer.com/signup/free\n",
    " 1.  https://info.finance.yahoo.co.jp/fx/detail/?code=ZARJPY=FX\n",
    " 1.  http://www.algo-fx-blog.com/fx-api-complete-guide-for-python-users/\n",
    " \n",
    " \n",
    " 1. 前処理のメモ\n",
    "  1. 当日の結果は、close/openの比率で判断する\n",
    "  1. 過去の結果は、過去のオープン/当日のオープンで計算する\n",
    " "
   ]
  },
  {
   "cell_type": "code",
   "execution_count": 40,
   "metadata": {
    "collapsed": true
   },
   "outputs": [],
   "source": [
    "import pandas as pd\n",
    "\n",
    "pram_predict_days=     [-5,-3,-2,-1]   #予想日(-1,-2,-3,-5日後)\n",
    "pram_predict_percents= [0.5,1,2,3]   #数日後の何パーセント上昇するかを当てる(+0.5,1,2,3%)\n",
    "pram_predict_day=1\n",
    "pram_predict_percent=0.5\n",
    "YEAR=\"\"\n",
    "open_index =2\n",
    "close_index=1\n",
    "date_index =0"
   ]
  },
  {
   "cell_type": "code",
   "execution_count": 41,
   "metadata": {
    "collapsed": true
   },
   "outputs": [],
   "source": [
    "class load_csv:\n",
    "    import pandas as pd\n",
    "    \n",
    "    def load(self):\n",
    "        df_fx=pd.read_csv('data/ZAR.csv')\n",
    "        \n",
    "        df_fx=df_fx.ix[:,['日付け','終値','始値']]\n",
    "        df_fx.rename(columns={'Date':'日付け','Open':'始値','Close':'終値'},inplace=True)\n",
    "\n",
    "        df_fx_len=len(df_fx)                #長さ\n",
    "        print (\"配列長さ:\",df_fx_len)\n",
    "        df_fx.head(1)\n",
    "        return df_fx\n"
   ]
  },
  {
   "cell_type": "code",
   "execution_count": 54,
   "metadata": {},
   "outputs": [],
   "source": [
    "def result(day0,xday):     #day0 当日の株価\n",
    "    rate=0  #上昇率\n",
    "    if ((i-xday)>=0 and data_len>(i-xday)): \n",
    "        \n",
    "        rate= ((df_fx.iloc[i,close_index]/df_fx.iloc[i,open_index])-1)*100\n",
    "        \n",
    "    return rate\n",
    "\n",
    "\n",
    "def persent(day0,xday):     #day0 当日の株価\n",
    "    rate=0  #上昇率\n",
    "    if ((i-xday)>=0 and data_len>(i-xday)):        \n",
    "        rate= ((df_fx.iloc[i,open_index]/df_fx.iloc[i-xday,open_index])-1)*100\n",
    "        if rate <0:\n",
    "            rate=0\n",
    "        #rate=np.log10(rate)\n",
    "    return rate\n",
    "\n",
    "def persent_minus(day0,xday):     #day0 当日の株価\n",
    "    rate=0  #上昇率\n",
    "    if ((i-xday)>=0 and data_len>(i-xday)):        \n",
    "        rate= ((df_fx.iloc[i,open_index]/df_fx.iloc[i-xday,open_index])-1)*100\n",
    "        if rate>0:\n",
    "            rate=0\n",
    "        #rate=np.log10(rate)\n",
    "    return rate"
   ]
  },
  {
   "cell_type": "code",
   "execution_count": 55,
   "metadata": {},
   "outputs": [
    {
     "name": "stdout",
     "output_type": "stream",
     "text": [
      "配列長さ: 4734\n"
     ]
    },
    {
     "name": "stderr",
     "output_type": "stream",
     "text": [
      "/Users/fujiccofujimoto/.pyenv/versions/3.5.2/lib/python3.5/site-packages/ipykernel_launcher.py:7: DeprecationWarning: \n",
      ".ix is deprecated. Please use\n",
      ".loc for label based indexing or\n",
      ".iloc for positional indexing\n",
      "\n",
      "See the documentation here:\n",
      "http://pandas.pydata.org/pandas-docs/stable/indexing.html#ix-indexer-is-deprecated\n",
      "  import sys\n"
     ]
    },
    {
     "data": {
      "text/html": [
       "<div>\n",
       "<style scoped>\n",
       "    .dataframe tbody tr th:only-of-type {\n",
       "        vertical-align: middle;\n",
       "    }\n",
       "\n",
       "    .dataframe tbody tr th {\n",
       "        vertical-align: top;\n",
       "    }\n",
       "\n",
       "    .dataframe thead th {\n",
       "        text-align: right;\n",
       "    }\n",
       "</style>\n",
       "<table border=\"1\" class=\"dataframe\">\n",
       "  <thead>\n",
       "    <tr style=\"text-align: right;\">\n",
       "      <th></th>\n",
       "      <th>日付け</th>\n",
       "      <th>終値</th>\n",
       "      <th>始値</th>\n",
       "    </tr>\n",
       "  </thead>\n",
       "  <tbody>\n",
       "    <tr>\n",
       "      <th>0</th>\n",
       "      <td>2000年08月29日</td>\n",
       "      <td>15.2400</td>\n",
       "      <td>15.31</td>\n",
       "    </tr>\n",
       "    <tr>\n",
       "      <th>1</th>\n",
       "      <td>2000年08月30日</td>\n",
       "      <td>15.3103</td>\n",
       "      <td>15.19</td>\n",
       "    </tr>\n",
       "    <tr>\n",
       "      <th>2</th>\n",
       "      <td>2000年08月31日</td>\n",
       "      <td>15.2866</td>\n",
       "      <td>15.28</td>\n",
       "    </tr>\n",
       "    <tr>\n",
       "      <th>3</th>\n",
       "      <td>2000年09月01日</td>\n",
       "      <td>15.2562</td>\n",
       "      <td>15.28</td>\n",
       "    </tr>\n",
       "    <tr>\n",
       "      <th>4</th>\n",
       "      <td>2000年09月04日</td>\n",
       "      <td>15.1945</td>\n",
       "      <td>15.22</td>\n",
       "    </tr>\n",
       "  </tbody>\n",
       "</table>\n",
       "</div>"
      ],
      "text/plain": [
       "           日付け       終値     始値\n",
       "0  2000年08月29日  15.2400  15.31\n",
       "1  2000年08月30日  15.3103  15.19\n",
       "2  2000年08月31日  15.2866  15.28\n",
       "3  2000年09月01日  15.2562  15.28\n",
       "4  2000年09月04日  15.1945  15.22"
      ]
     },
     "execution_count": 55,
     "metadata": {},
     "output_type": "execute_result"
    }
   ],
   "source": [
    "LOAD_CSV=load_csv()\n",
    "df_fx=LOAD_CSV.load()\n",
    "df_fx=df_fx.sort_values(by='日付け')\n",
    "df_fx = df_fx.reset_index(drop=True)\n",
    "data_len=len(df_fx)\n",
    "\n",
    "df_fx.head()"
   ]
  },
  {
   "cell_type": "code",
   "execution_count": 56,
   "metadata": {},
   "outputs": [
    {
     "data": {
      "text/html": [
       "<div>\n",
       "<style scoped>\n",
       "    .dataframe tbody tr th:only-of-type {\n",
       "        vertical-align: middle;\n",
       "    }\n",
       "\n",
       "    .dataframe tbody tr th {\n",
       "        vertical-align: top;\n",
       "    }\n",
       "\n",
       "    .dataframe thead th {\n",
       "        text-align: right;\n",
       "    }\n",
       "</style>\n",
       "<table border=\"1\" class=\"dataframe\">\n",
       "  <thead>\n",
       "    <tr style=\"text-align: right;\">\n",
       "      <th></th>\n",
       "      <th>日付け</th>\n",
       "      <th>終値</th>\n",
       "      <th>始値</th>\n",
       "    </tr>\n",
       "  </thead>\n",
       "  <tbody>\n",
       "    <tr>\n",
       "      <th>4683</th>\n",
       "      <td>2018年08月01日</td>\n",
       "      <td>8.4473</td>\n",
       "      <td>8.43</td>\n",
       "    </tr>\n",
       "  </tbody>\n",
       "</table>\n",
       "</div>"
      ],
      "text/plain": [
       "              日付け      終値    始値\n",
       "4683  2018年08月01日  8.4473  8.43"
      ]
     },
     "execution_count": 56,
     "metadata": {},
     "output_type": "execute_result"
    }
   ],
   "source": [
    "df_fx[df_fx['日付け']=='2018年08月01日']"
   ]
  },
  {
   "cell_type": "code",
   "execution_count": 57,
   "metadata": {},
   "outputs": [],
   "source": [
    "    df=pd.DataFrame(data=None, index=None, columns=None, dtype=None, copy=False)\n",
    "    df = pd.DataFrame(index=['Date'], columns=[\n",
    "    \"Date\" ,\"Close\",\"Open\",\n",
    "    \"day+1\" ,\"day+2\" ,\"day+3\",\n",
    "    \"day+4\" ,\"day+5\" ,\"day+6\",\n",
    "    \"day+7\" ,\"day+8\" ,\"day+9\",\n",
    "    \"day+10\",\"day+11\",\"day+12\",\n",
    "    \"day+13\",\"day+14\",\"day+15\",\n",
    "    \"day+16\",\"day+17\",\"day+18\",\n",
    "    \"day+19\",\"day+20\",\"day+21\",\n",
    "    \"day+22\",\"day+23\",\"day+24\",\n",
    "    \"day+25\",\"day+26\",\"day+27\",\n",
    "    \"day+28\",\"day+29\",\"day+30\",\n",
    "\n",
    "    \"day-1\" ,\"day-2\" ,\"day-3\",\n",
    "    \"day-4\" ,\"day-5\" ,\"day-6\",\n",
    "    \"day-7\" ,\"day-8\" ,\"day-9\",\n",
    "    \"day-10\",\"day-11\",\"day-12\",\n",
    "    \"day-13\",\"day-14\",\"day-15\",\n",
    "    \"day-16\",\"day-17\",\"day-18\",\n",
    "    \"day-19\",\"day-20\",\"day-21\",\n",
    "    \"day-22\",\"day-23\",\"day-24\",\n",
    "    \"day-25\",\"day-26\",\"day-27\",\n",
    "    \"day-28\",\"day-29\",\"day-30\",\n",
    "        \n",
    "    \"label_up\",\"label_none\",\"label_down\"])"
   ]
  },
  {
   "cell_type": "code",
   "execution_count": 58,
   "metadata": {
    "collapsed": true
   },
   "outputs": [
    {
     "name": "stdout",
     "output_type": "stream",
     "text": [
      "0.0% 2.1% 4.2% 6.3% 8.4% 10.6% 12.7% 14.8% 16.9% 19.0% 21.1% 23.2% 25.3% 27.5% 29.6% 31.7% 33.8% 35.9% 38.0% 40.1% 42.2% 44.4% 46.5% 48.6% 50.7% 52.8% 54.9% 57.0% 59.1% 61.3% 63.4% 65.5% 67.6% 69.7% 71.8% 73.9% 76.0% 78.2% 80.3% 82.4% 84.5% 86.6% 88.7% 90.8% 92.9% 95.1% 97.2% 99.3% "
     ]
    }
   ],
   "source": [
    "    for i in range(data_len) :\n",
    "        Date_day=df_fx.iloc[i,date_index ]\n",
    "        \n",
    "        if i%100==0:\n",
    "            print('{0:.1%}'.format(i/data_len),end=\" \")\n",
    "        \n",
    "        #当日のOPENの株価\n",
    "        day0         =df_fx.iloc[i,open_index]\n",
    "        day0_open    =df_fx.iloc[i,open_index] \n",
    "        day0_close   =df_fx.iloc[i,close_index] \n",
    "        \n",
    "        #その後の結果から正解ラベルを作成\n",
    "        label_up=0     #上昇\n",
    "        label_none=0   #変化少ない\n",
    "        label_down=0   #下降\n",
    "\n",
    "        #正解データの計算  (pram_predict_day) 日後に、(pram_predict_persent)％の前後がある\n",
    "        prediction=result(day0,pram_predict_day)    \n",
    "\n",
    "        if prediction>=pram_predict_percent:\n",
    "            label_up=1          #上昇\n",
    "            label_none=0        #そのまま\n",
    "            label_down=0        #下降\n",
    "        elif prediction<=(-1*pram_predict_percent):\n",
    "            label_up=0          #上昇\n",
    "            label_none=0        #そのまま\n",
    "            label_down=1        #下降\n",
    "        else:\n",
    "            label_up=0          #上昇\n",
    "            label_none=1        #そのまま\n",
    "            label_down=0        #下降\n",
    "            \n",
    "        series=pd.Series([Date_day,day0,day0_open,     \n",
    "                          \n",
    "                          persent(day0,1),persent(day0,2),persent(day0,3),\n",
    "                          persent(day0,4),persent(day0,5),persent(day0,6),\n",
    "                          persent(day0,7),persent(day0,8),persent(day0,9),\n",
    "                          persent(day0,10),persent(day0,11),persent(day0,12),\n",
    "                          persent(day0,13),persent(day0,14),persent(day0,15),\n",
    "                          persent(day0,16),persent(day0,17),persent(day0,18),\n",
    "                          persent(day0,19),persent(day0,20),persent(day0,21),\n",
    "                          persent(day0,22),persent(day0,23),persent(day0,24),\n",
    "                          persent(day0,25),persent(day0,26),persent(day0,27),\n",
    "                          persent(day0,28),persent(day0,29),persent(day0,30),\n",
    "\n",
    "                          persent_minus(day0,1),persent_minus(day0,2),persent_minus(day0,3),\n",
    "                          persent_minus(day0,4),persent_minus(day0,5),persent_minus(day0,6),\n",
    "                          persent_minus(day0,7),persent_minus(day0,8),persent_minus(day0,9),\n",
    "                          persent_minus(day0,10),persent_minus(day0,11),persent_minus(day0,12),\n",
    "                          persent_minus(day0,13),persent_minus(day0,14),persent_minus(day0,15),\n",
    "                          persent_minus(day0,16),persent_minus(day0,17),persent_minus(day0,18),\n",
    "                          persent_minus(day0,19),persent_minus(day0,20),persent_minus(day0,21),\n",
    "                          persent_minus(day0,22),persent_minus(day0,23),persent_minus(day0,24),\n",
    "                          persent_minus(day0,25),persent_minus(day0,26),persent_minus(day0,27),\n",
    "                          persent_minus(day0,28),persent_minus(day0,29),persent_minus(day0,30),\n",
    "                          \n",
    "                          label_up,label_none,label_down]\n",
    "                          ,index=df.columns)\n",
    "        series.append\n",
    "        df=df.append(series,ignore_index = True)\n",
    "\n",
    "#前処理データの保存\n",
    "df.to_csv('data/fx.csv',index=False)"
   ]
  },
  {
   "cell_type": "code",
   "execution_count": 59,
   "metadata": {},
   "outputs": [
    {
     "data": {
      "text/html": [
       "<div>\n",
       "<style scoped>\n",
       "    .dataframe tbody tr th:only-of-type {\n",
       "        vertical-align: middle;\n",
       "    }\n",
       "\n",
       "    .dataframe tbody tr th {\n",
       "        vertical-align: top;\n",
       "    }\n",
       "\n",
       "    .dataframe thead th {\n",
       "        text-align: right;\n",
       "    }\n",
       "</style>\n",
       "<table border=\"1\" class=\"dataframe\">\n",
       "  <thead>\n",
       "    <tr style=\"text-align: right;\">\n",
       "      <th></th>\n",
       "      <th>Date</th>\n",
       "      <th>Close</th>\n",
       "      <th>Open</th>\n",
       "      <th>day+1</th>\n",
       "      <th>day+2</th>\n",
       "      <th>day+3</th>\n",
       "      <th>day+4</th>\n",
       "      <th>day+5</th>\n",
       "      <th>day+6</th>\n",
       "      <th>day+7</th>\n",
       "      <th>...</th>\n",
       "      <th>day-24</th>\n",
       "      <th>day-25</th>\n",
       "      <th>day-26</th>\n",
       "      <th>day-27</th>\n",
       "      <th>day-28</th>\n",
       "      <th>day-29</th>\n",
       "      <th>day-30</th>\n",
       "      <th>label_up</th>\n",
       "      <th>label_none</th>\n",
       "      <th>label_down</th>\n",
       "    </tr>\n",
       "  </thead>\n",
       "  <tbody>\n",
       "    <tr>\n",
       "      <th>4710</th>\n",
       "      <td>2018年08月31日</td>\n",
       "      <td>7.5369</td>\n",
       "      <td>7.5369</td>\n",
       "      <td>0</td>\n",
       "      <td>0</td>\n",
       "      <td>0</td>\n",
       "      <td>0</td>\n",
       "      <td>0</td>\n",
       "      <td>0</td>\n",
       "      <td>0</td>\n",
       "      <td>...</td>\n",
       "      <td>-9.24209</td>\n",
       "      <td>-10.7246</td>\n",
       "      <td>-10.5943</td>\n",
       "      <td>-10.6505</td>\n",
       "      <td>-10.2269</td>\n",
       "      <td>-10.3817</td>\n",
       "      <td>-10.2632</td>\n",
       "      <td>0</td>\n",
       "      <td>1</td>\n",
       "      <td>0</td>\n",
       "    </tr>\n",
       "  </tbody>\n",
       "</table>\n",
       "<p>1 rows × 66 columns</p>\n",
       "</div>"
      ],
      "text/plain": [
       "             Date   Close    Open day+1 day+2 day+3 day+4 day+5 day+6 day+7  \\\n",
       "4710  2018年08月31日  7.5369  7.5369     0     0     0     0     0     0     0   \n",
       "\n",
       "        ...       day-24   day-25   day-26   day-27   day-28   day-29  \\\n",
       "4710    ...     -9.24209 -10.7246 -10.5943 -10.6505 -10.2269 -10.3817   \n",
       "\n",
       "       day-30 label_up label_none label_down  \n",
       "4710 -10.2632        0          1          0  \n",
       "\n",
       "[1 rows x 66 columns]"
      ]
     },
     "execution_count": 59,
     "metadata": {},
     "output_type": "execute_result"
    }
   ],
   "source": [
    "df[df['Date']=='2018年08月31日']"
   ]
  },
  {
   "cell_type": "code",
   "execution_count": null,
   "metadata": {},
   "outputs": [],
   "source": []
  },
  {
   "cell_type": "code",
   "execution_count": null,
   "metadata": {},
   "outputs": [],
   "source": []
  }
 ],
 "metadata": {
  "kernelspec": {
   "display_name": "Python 3",
   "language": "python",
   "name": "python3"
  },
  "language_info": {
   "codemirror_mode": {
    "name": "ipython",
    "version": 3
   },
   "file_extension": ".py",
   "mimetype": "text/x-python",
   "name": "python",
   "nbconvert_exporter": "python",
   "pygments_lexer": "ipython3",
   "version": "3.5.2"
  }
 },
 "nbformat": 4,
 "nbformat_minor": 2
}
