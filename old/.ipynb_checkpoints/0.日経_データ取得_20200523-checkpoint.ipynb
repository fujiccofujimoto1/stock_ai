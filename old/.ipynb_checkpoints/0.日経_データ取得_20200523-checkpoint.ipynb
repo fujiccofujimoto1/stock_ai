{
 "cells": [
  {
   "cell_type": "markdown",
   "metadata": {},
   "source": [
    "プログラムの流れ\n",
    "1. 2000年からの履歴を取得\n",
    "1. 最新のFX情報を取得して、Dataframeに保存\n",
    "1. データフレームの結合\n",
    "1. ファイルの保存"
   ]
  },
  {
   "cell_type": "code",
   "execution_count": 53,
   "metadata": {},
   "outputs": [],
   "source": [
    "import matplotlib.pyplot as plt\n",
    "import pandas as pd\n",
    "import pandas_datareader.data as web\n",
    "import datetime\n",
    "import pickle"
   ]
  },
  {
   "cell_type": "code",
   "execution_count": 54,
   "metadata": {},
   "outputs": [],
   "source": [
    "start = datetime.datetime(2000, 1, 1)\n",
    "end = datetime.datetime.now()"
   ]
  },
  {
   "cell_type": "markdown",
   "metadata": {},
   "source": [
    "# 日経平均の取得\n",
    "#### https://ntk-lab.com/import_stock_data/"
   ]
  },
  {
   "cell_type": "code",
   "execution_count": 29,
   "metadata": {},
   "outputs": [],
   "source": [
    "def nikkei_download():\n",
    "    # 日経平均\n",
    "    df_nikkei=web.DataReader('^N225', 'yahoo',start,end)\n",
    "    print (\"配列長さ:\",len(df_nikkei))\n",
    "    df_nikkei=df_nikkei[['Open','Close']]\n",
    "    df_nikkei = df_nikkei.reset_index()\n",
    "    return df_nikkei"
   ]
  },
  {
   "cell_type": "code",
   "execution_count": 30,
   "metadata": {},
   "outputs": [
    {
     "name": "stdout",
     "output_type": "stream",
     "text": [
      "配列長さ: 4995\n"
     ]
    },
    {
     "data": {
      "text/html": [
       "<div>\n",
       "<style scoped>\n",
       "    .dataframe tbody tr th:only-of-type {\n",
       "        vertical-align: middle;\n",
       "    }\n",
       "\n",
       "    .dataframe tbody tr th {\n",
       "        vertical-align: top;\n",
       "    }\n",
       "\n",
       "    .dataframe thead th {\n",
       "        text-align: right;\n",
       "    }\n",
       "</style>\n",
       "<table border=\"1\" class=\"dataframe\">\n",
       "  <thead>\n",
       "    <tr style=\"text-align: right;\">\n",
       "      <th></th>\n",
       "      <th>Date</th>\n",
       "      <th>Open</th>\n",
       "      <th>Close</th>\n",
       "    </tr>\n",
       "  </thead>\n",
       "  <tbody>\n",
       "    <tr>\n",
       "      <td>0</td>\n",
       "      <td>2000-01-04</td>\n",
       "      <td>18937.449219</td>\n",
       "      <td>19002.859375</td>\n",
       "    </tr>\n",
       "    <tr>\n",
       "      <td>1</td>\n",
       "      <td>2000-01-05</td>\n",
       "      <td>19003.509766</td>\n",
       "      <td>18542.550781</td>\n",
       "    </tr>\n",
       "    <tr>\n",
       "      <td>2</td>\n",
       "      <td>2000-01-06</td>\n",
       "      <td>18574.009766</td>\n",
       "      <td>18168.269531</td>\n",
       "    </tr>\n",
       "  </tbody>\n",
       "</table>\n",
       "</div>"
      ],
      "text/plain": [
       "        Date          Open         Close\n",
       "0 2000-01-04  18937.449219  19002.859375\n",
       "1 2000-01-05  19003.509766  18542.550781\n",
       "2 2000-01-06  18574.009766  18168.269531"
      ]
     },
     "metadata": {},
     "output_type": "display_data"
    },
    {
     "data": {
      "text/html": [
       "<div>\n",
       "<style scoped>\n",
       "    .dataframe tbody tr th:only-of-type {\n",
       "        vertical-align: middle;\n",
       "    }\n",
       "\n",
       "    .dataframe tbody tr th {\n",
       "        vertical-align: top;\n",
       "    }\n",
       "\n",
       "    .dataframe thead th {\n",
       "        text-align: right;\n",
       "    }\n",
       "</style>\n",
       "<table border=\"1\" class=\"dataframe\">\n",
       "  <thead>\n",
       "    <tr style=\"text-align: right;\">\n",
       "      <th></th>\n",
       "      <th>Date</th>\n",
       "      <th>Open</th>\n",
       "      <th>Close</th>\n",
       "    </tr>\n",
       "  </thead>\n",
       "  <tbody>\n",
       "    <tr>\n",
       "      <td>4992</td>\n",
       "      <td>2020-05-21</td>\n",
       "      <td>20692.589844</td>\n",
       "      <td>20552.310547</td>\n",
       "    </tr>\n",
       "    <tr>\n",
       "      <td>4993</td>\n",
       "      <td>2020-05-22</td>\n",
       "      <td>20583.949219</td>\n",
       "      <td>20388.160156</td>\n",
       "    </tr>\n",
       "    <tr>\n",
       "      <td>4994</td>\n",
       "      <td>2020-05-25</td>\n",
       "      <td>20653.410156</td>\n",
       "      <td>20741.650391</td>\n",
       "    </tr>\n",
       "  </tbody>\n",
       "</table>\n",
       "</div>"
      ],
      "text/plain": [
       "           Date          Open         Close\n",
       "4992 2020-05-21  20692.589844  20552.310547\n",
       "4993 2020-05-22  20583.949219  20388.160156\n",
       "4994 2020-05-25  20653.410156  20741.650391"
      ]
     },
     "metadata": {},
     "output_type": "display_data"
    }
   ],
   "source": [
    "df_nikkei=nikkei_download()\n",
    "display(df_nikkei.head(3))\n",
    "display(df_nikkei.tail(3))"
   ]
  },
  {
   "cell_type": "markdown",
   "metadata": {},
   "source": [
    "# ダウ平均の取得\n",
    "### https://jp.investing.com/indices/us-30-historical-data\n"
   ]
  },
  {
   "cell_type": "code",
   "execution_count": null,
   "metadata": {},
   "outputs": [],
   "source": []
  },
  {
   "cell_type": "code",
   "execution_count": 35,
   "metadata": {},
   "outputs": [
    {
     "name": "stdout",
     "output_type": "stream",
     "text": [
      "配列長さ: 5131\n"
     ]
    }
   ],
   "source": [
    "def dow_download():\n",
    "    # ダウ平均\n",
    "    df_dow = web.DataReader('^DJI', 'yahoo',start,end)\n",
    "    \n",
    "    df_dow['dow_compare']=df_dow['Close']/df_dow['Open']\n",
    "    df_dow=df_dow[['dow_compare']]\n",
    "    df_dow = df_dow.reset_index()\n",
    "    \n",
    "    print (\"配列長さ:\",len(df_dow))\n",
    "    \n",
    "    # ⭐️⭐️⭐️⭐️⭐️⭐️⭐️⭐️⭐️⭐️⭐️⭐️⭐️ここでダウ平均の時間を＋する\n",
    "    df_dow['Date']=df_dow['Date']+ datetime.timedelta(days=1)\n",
    "    return df_dow\n",
    "df_dow=dow_download()"
   ]
  },
  {
   "cell_type": "markdown",
   "metadata": {},
   "source": [
    "# 結合"
   ]
  },
  {
   "cell_type": "code",
   "execution_count": null,
   "metadata": {},
   "outputs": [],
   "source": [
    "# 曜日の追加\n",
    "df['weekday']=df['Date'].apply(lambda x: x.weekday())"
   ]
  },
  {
   "cell_type": "code",
   "execution_count": 39,
   "metadata": {},
   "outputs": [
    {
     "name": "stdout",
     "output_type": "stream",
     "text": [
      "<class 'pandas.core.frame.DataFrame'>\n",
      "Int64Index: 3939 entries, 0 to 3938\n",
      "Data columns (total 5 columns):\n",
      "Date           3939 non-null datetime64[ns]\n",
      "Open           3939 non-null float64\n",
      "Close          3939 non-null float64\n",
      "dow_compare    3939 non-null float64\n",
      "weekday        3939 non-null int64\n",
      "dtypes: datetime64[ns](1), float64(3), int64(1)\n",
      "memory usage: 184.6 KB\n"
     ]
    },
    {
     "data": {
      "text/html": [
       "<div>\n",
       "<style scoped>\n",
       "    .dataframe tbody tr th:only-of-type {\n",
       "        vertical-align: middle;\n",
       "    }\n",
       "\n",
       "    .dataframe tbody tr th {\n",
       "        vertical-align: top;\n",
       "    }\n",
       "\n",
       "    .dataframe thead th {\n",
       "        text-align: right;\n",
       "    }\n",
       "</style>\n",
       "<table border=\"1\" class=\"dataframe\">\n",
       "  <thead>\n",
       "    <tr style=\"text-align: right;\">\n",
       "      <th></th>\n",
       "      <th>Date</th>\n",
       "      <th>Open</th>\n",
       "      <th>Close</th>\n",
       "      <th>dow_compare</th>\n",
       "      <th>weekday</th>\n",
       "    </tr>\n",
       "  </thead>\n",
       "  <tbody>\n",
       "    <tr>\n",
       "      <td>3934</td>\n",
       "      <td>2020-05-15</td>\n",
       "      <td>20149.789062</td>\n",
       "      <td>20037.470703</td>\n",
       "      <td>1.025002</td>\n",
       "      <td>4</td>\n",
       "    </tr>\n",
       "    <tr>\n",
       "      <td>3935</td>\n",
       "      <td>2020-05-19</td>\n",
       "      <td>20469.519531</td>\n",
       "      <td>20433.449219</td>\n",
       "      <td>1.022335</td>\n",
       "      <td>1</td>\n",
       "    </tr>\n",
       "    <tr>\n",
       "      <td>3936</td>\n",
       "      <td>2020-05-20</td>\n",
       "      <td>20454.490234</td>\n",
       "      <td>20595.150391</td>\n",
       "      <td>0.984920</td>\n",
       "      <td>2</td>\n",
       "    </tr>\n",
       "    <tr>\n",
       "      <td>3937</td>\n",
       "      <td>2020-05-21</td>\n",
       "      <td>20692.589844</td>\n",
       "      <td>20552.310547</td>\n",
       "      <td>1.004905</td>\n",
       "      <td>3</td>\n",
       "    </tr>\n",
       "    <tr>\n",
       "      <td>3938</td>\n",
       "      <td>2020-05-22</td>\n",
       "      <td>20583.949219</td>\n",
       "      <td>20388.160156</td>\n",
       "      <td>0.996330</td>\n",
       "      <td>4</td>\n",
       "    </tr>\n",
       "  </tbody>\n",
       "</table>\n",
       "</div>"
      ],
      "text/plain": [
       "           Date          Open         Close  dow_compare  weekday\n",
       "3934 2020-05-15  20149.789062  20037.470703     1.025002        4\n",
       "3935 2020-05-19  20469.519531  20433.449219     1.022335        1\n",
       "3936 2020-05-20  20454.490234  20595.150391     0.984920        2\n",
       "3937 2020-05-21  20692.589844  20552.310547     1.004905        3\n",
       "3938 2020-05-22  20583.949219  20388.160156     0.996330        4"
      ]
     },
     "execution_count": 39,
     "metadata": {},
     "output_type": "execute_result"
    }
   ],
   "source": [
    "df=pd.merge(df_nikkei,df_dow,how='inner')\n",
    "df['Close']=df['Close'].astype('float')\n",
    "df['Open']=df['Open'].astype('float')\n",
    "df['weekday']=df['Date'].apply(lambda x: x.weekday())\n",
    "df.info()\n",
    "df.tail()"
   ]
  },
  {
   "cell_type": "markdown",
   "metadata": {},
   "source": [
    "# ファイルの保存 "
   ]
  },
  {
   "cell_type": "code",
   "execution_count": 33,
   "metadata": {},
   "outputs": [],
   "source": [
    "# ファイルの保存\n",
    "df.to_csv('data/stock.csv',index=False)\n",
    "df.to_pickle('data/stock.pkl')"
   ]
  },
  {
   "cell_type": "code",
   "execution_count": 34,
   "metadata": {},
   "outputs": [
    {
     "name": "stdout",
     "output_type": "stream",
     "text": [
      "<class 'pandas.core.frame.DataFrame'>\n",
      "Int64Index: 3939 entries, 0 to 3938\n",
      "Data columns (total 4 columns):\n",
      "Date           3939 non-null datetime64[ns]\n",
      "Open           3939 non-null float64\n",
      "Close          3939 non-null float64\n",
      "dow_compare    3939 non-null float64\n",
      "dtypes: datetime64[ns](1), float64(3)\n",
      "memory usage: 153.9 KB\n"
     ]
    }
   ],
   "source": [
    "df.info()"
   ]
  },
  {
   "cell_type": "code",
   "execution_count": null,
   "metadata": {},
   "outputs": [],
   "source": []
  },
  {
   "cell_type": "code",
   "execution_count": null,
   "metadata": {},
   "outputs": [],
   "source": []
  }
 ],
 "metadata": {
  "kernelspec": {
   "display_name": "Python 3",
   "language": "python",
   "name": "python3"
  },
  "language_info": {
   "codemirror_mode": {
    "name": "ipython",
    "version": 3
   },
   "file_extension": ".py",
   "mimetype": "text/x-python",
   "name": "python",
   "nbconvert_exporter": "python",
   "pygments_lexer": "ipython3",
   "version": "3.7.4"
  }
 },
 "nbformat": 4,
 "nbformat_minor": 4
}
