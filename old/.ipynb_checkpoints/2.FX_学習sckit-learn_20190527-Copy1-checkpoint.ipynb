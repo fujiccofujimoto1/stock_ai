{
 "cells": [
  {
   "cell_type": "markdown",
   "metadata": {},
   "source": [
    "## Program Flow\n",
    "\n",
    "1. モジュールインポート"
   ]
  },
  {
   "cell_type": "markdown",
   "metadata": {},
   "source": [
    "# モジュールインポート"
   ]
  },
  {
   "cell_type": "code",
   "execution_count": 1,
   "metadata": {},
   "outputs": [],
   "source": [
    "# scikitlearnのアルゴリズムのロード\n",
    "from sklearn.ensemble import RandomForestClassifier\n",
    "from sklearn.linear_model import LogisticRegression\n",
    "from sklearn.svm import SVC\n",
    "from sklearn.tree import DecisionTreeClassifier\n",
    "from sklearn.neural_network import MLPClassifier\n",
    "from sklearn.naive_bayes import GaussianNB\n",
    "from sklearn.ensemble import AdaBoostClassifier \n",
    "\n",
    "# scikit learnのテストデータの読み込み\n",
    "from sklearn.datasets import fetch_mldata\n",
    "from sklearn.model_selection import train_test_split\n",
    "\n",
    "# scikit learnの精度測定ツールの読み込み\n",
    "from sklearn.metrics import accuracy_score\n",
    "from sklearn.metrics import confusion_matrix \n",
    "\n",
    "#トレーニングデータと正解ラベルに分割\n",
    "from sklearn.preprocessing import StandardScaler\n",
    "from sklearn.preprocessing import MinMaxScaler\n",
    "\n",
    "# pandas(pd) とNumpy(np)のモジュール\n",
    "import numpy as np\n",
    "import pandas as pd\n",
    "import sys,os,random\n",
    "import warnings\n",
    "warnings.filterwarnings('ignore')"
   ]
  },
  {
   "cell_type": "markdown",
   "metadata": {},
   "source": [
    "# 変数定義"
   ]
  },
  {
   "cell_type": "code",
   "execution_count": 2,
   "metadata": {},
   "outputs": [],
   "source": [
    "# 0.97 は5000万ぐらい儲かった\n",
    "# pram_traing_rate=0.97   #トレーニングデータとテストデータの比率\n",
    "\n",
    "pram_traing_rate=0.7  #トレーニングデータとテストデータの比率\n",
    "\n"
   ]
  },
  {
   "cell_type": "markdown",
   "metadata": {},
   "source": [
    "# 前処理済みファイルのロード"
   ]
  },
  {
   "cell_type": "code",
   "execution_count": 3,
   "metadata": {},
   "outputs": [],
   "source": [
    "# 乱数のシード固定\n",
    "np.random.seed(0)\n",
    "random.seed(0)\n",
    "# データフレームの表示件数の設定\n",
    "pd.set_option('display.max_columns', 100)\n",
    "\n",
    "# データロード\n",
    "df = pd.read_csv('data/fx_preprocessing.csv', index_col=None)\n",
    "\n",
    "y_loc_s=df.columns.get_loc('label_up')\n",
    "y_loc_e=df.columns.get_loc('label_down')\n",
    "df.tail(3)\n",
    "\n",
    "\n",
    "# 前後のデータのカット\n",
    "df3=df.loc[30:(len(df)-30)]\n",
    "df2_num=df3.as_matrix()   #numpyへ変換\n",
    "\n",
    "fx_len=len(df3)"
   ]
  },
  {
   "cell_type": "code",
   "execution_count": 4,
   "metadata": {},
   "outputs": [],
   "source": [
    "\n",
    "def label_ratio(df_tmp):\n",
    "\n",
    "    # label数を揃える\n",
    "    min_labels=[df_tmp[df_tmp['label_up']==1].shape[0],\n",
    "         df_tmp[df_tmp['label_none']==1].shape[0],\n",
    "         df_tmp[df_tmp['label_down']==1].shape[0]]\n",
    "\n",
    "    min_sample=min(min_labels)\n",
    "\n",
    "\n",
    "    # サンプル後再度結合\n",
    "    df_tmp=pd.concat([\n",
    "        df_tmp[df3['label_up']==1].sample(n=min_sample)\n",
    "        ,df_tmp[df_tmp['label_down']==1].sample(n=min_sample)\n",
    "        ,df_tmp[df_tmp['label_none']==1].sample(n=min_sample)\n",
    "        ])\n",
    "\n",
    "    print(df_tmp[df_tmp['label_up']==1].shape)\n",
    "    print(df_tmp[df_tmp['label_none']==1].shape)\n",
    "    print(df_tmp[df_tmp['label_down']==1].shape)\n",
    "    \n",
    "    return df_tmp\n"
   ]
  },
  {
   "cell_type": "markdown",
   "metadata": {},
   "source": [
    "## データの分割\n"
   ]
  },
  {
   "cell_type": "code",
   "execution_count": 5,
   "metadata": {},
   "outputs": [
    {
     "name": "stdout",
     "output_type": "stream",
     "text": [
      "訓練データ  :2000-10-09〜2013-10-10\n",
      "テストデータ:2013-10-11〜2019-04-15\n"
     ]
    }
   ],
   "source": [
    "train, test = train_test_split(df3, train_size=pram_traing_rate,shuffle=False)\n",
    "\n",
    "print(\"訓練データ  :{}〜{}\".format(train.head(1)['Date'].values[0],train.tail(1)['Date'].values[0]))\n",
    "print(\"テストデータ:{}〜{}\".format(test.head(1)['Date'].values[0],test.tail(1)['Date'].values[0]))"
   ]
  },
  {
   "cell_type": "code",
   "execution_count": 6,
   "metadata": {},
   "outputs": [
    {
     "name": "stdout",
     "output_type": "stream",
     "text": [
      "(853, 69)\n",
      "(853, 69)\n",
      "(853, 69)\n",
      "トレーニングデータ (2559, 63)\n",
      "トレーニングデータ (2559, 3)\n",
      "　 　 テストデータ (1454, 63)\n",
      "　 　 テストデータ (1454, 3)\n"
     ]
    }
   ],
   "source": [
    "# labelの数を整える\n",
    "train=label_ratio(train)\n",
    "\n",
    "#トレーニングデータと正解ラベルに分割\n",
    "trainX,testX=train.iloc[:,3:y_loc_s],test.iloc[:,3:y_loc_s]\n",
    "trainY,testY=train.iloc[:,y_loc_s:y_loc_e+1],test.iloc[:,y_loc_s:y_loc_e+1]\n",
    "\n",
    "\n",
    "#Numpy形式に変換\n",
    "trainX,testX=trainX.as_matrix(),testX.as_matrix()\n",
    "trainY,testY=trainY.as_matrix(),testY.as_matrix()\n",
    "\n",
    "#データサンプル数の確認\n",
    "print(\"トレーニングデータ\",trainX.shape)\n",
    "print(\"トレーニングデータ\",trainY.shape)\n",
    "print(\"　 　 テストデータ\",testX.shape)\n",
    "print(\"　 　 テストデータ\",testY.shape)"
   ]
  },
  {
   "cell_type": "markdown",
   "metadata": {},
   "source": [
    "# sckit-learnの準備\n"
   ]
  },
  {
   "cell_type": "code",
   "execution_count": 7,
   "metadata": {},
   "outputs": [],
   "source": [
    "# ワンホットからカテゴリ変数へ\n",
    "testY2 =np.argmax(testY,axis=1)\n",
    "trainY2=np.argmax(trainY,axis=1)"
   ]
  },
  {
   "cell_type": "code",
   "execution_count": 8,
   "metadata": {},
   "outputs": [],
   "source": [
    "names = [\n",
    "         \"Random Forest\", \n",
    "        \"Logistic Regression\", \n",
    "         \"SVM\",\n",
    "         \"Decision Tree\", \n",
    "         \"Neural Net\", \n",
    "         \"Naive Bayes\",\n",
    "         \"AdaBoostClassifier\"\n",
    "        ]\n",
    "\n",
    "# Initializing Classifiers\n",
    "classifiers = [\n",
    "    RandomForestClassifier(random_state=1, n_estimators=100),\n",
    "    LogisticRegression(),\n",
    "    SVC(kernel=\"linear\"),\n",
    "    DecisionTreeClassifier(),\n",
    "    MLPClassifier(),\n",
    "    GaussianNB(),\n",
    "    AdaBoostClassifier()\n",
    "]"
   ]
  },
  {
   "cell_type": "code",
   "execution_count": 9,
   "metadata": {},
   "outputs": [
    {
     "name": "stdout",
     "output_type": "stream",
     "text": [
      "分類器:Random Forest , 精度:31.98%\n",
      "分類器:Logistic Regression , 精度:34.80%\n",
      "分類器:SVM , 精度:35.69%\n",
      "分類器:Decision Tree , 精度:35.76%\n",
      "分類器:Neural Net , 精度:35.56%\n",
      "分類器:Naive Bayes , 精度:37.00%\n",
      "分類器:AdaBoostClassifier , 精度:34.18%\n"
     ]
    }
   ],
   "source": [
    "columns=['name','accuracy']\n",
    "df_acc=pd.DataFrame(data=None,columns=columns)\n",
    "\n",
    "for classifier, name in zip(classifiers, names):\n",
    "    \n",
    "    #　該当分類器にて、学習\n",
    "    classifier.fit(trainX ,trainY2)\n",
    " \n",
    "    #　分類器の正答率を求める\n",
    "    pre=classifier.predict(testX)\n",
    "    ac_score=accuracy_score(testY2,pre)\n",
    "    print('分類器:{:} , 精度:{:.2%}'.format(name,ac_score))\n",
    "\n",
    "    # 結果をデータフレームに入れる\n",
    "    s=pd.Series(data=[name,ac_score],index=columns)\n",
    "    df_acc=df_acc.append(s,ignore_index=True)"
   ]
  },
  {
   "cell_type": "code",
   "execution_count": 15,
   "metadata": {},
   "outputs": [
    {
     "data": {
      "text/plain": [
       "<matplotlib.axes._subplots.AxesSubplot at 0x10c8c5a58>"
      ]
     },
     "execution_count": 15,
     "metadata": {},
     "output_type": "execute_result"
    },
    {
     "data": {
      "image/png": "[encoded data removed]",
      "text/plain": [
       "<matplotlib.figure.Figure at 0x10c867748>"
      ]
     },
     "metadata": {},
     "output_type": "display_data"
    }
   ],
   "source": [
    "%matplotlib inline\n",
    "# データフレームの順番を分類器の精度順に表示\n",
    "df_acc=df_acc.sort_values(by=['accuracy'],ascending=True)\n",
    "# データフレームのラッパAPIからmatplotのapiをコールして、グラフを作成\n",
    "df_acc.plot.barh(x='name',y='accuracy',legend=False)"
   ]
  },
  {
   "cell_type": "code",
   "execution_count": 11,
   "metadata": {},
   "outputs": [
    {
     "data": {
      "text/plain": [
       "GaussianNB(priors=None)"
      ]
     },
     "execution_count": 11,
     "metadata": {},
     "output_type": "execute_result"
    }
   ],
   "source": [
    "classifier=classifiers[\n",
    "df_acc[df_acc['accuracy']==df_acc['accuracy'].max()].index[0]\n",
    "]\n",
    "classifier.fit(trainX ,trainY2)\n",
    " "
   ]
  },
  {
   "cell_type": "markdown",
   "metadata": {},
   "source": [
    "# confusion_matrix"
   ]
  },
  {
   "cell_type": "code",
   "execution_count": 12,
   "metadata": {},
   "outputs": [
    {
     "name": "stdout",
     "output_type": "stream",
     "text": [
      "0.label_up   526\n",
      "1.label_none 514\n",
      "2.label_down 414\n",
      "confusion matrix:\n",
      "[[ 49 415  62]\n",
      " [ 24 428  62]\n",
      " [ 31 322  61]]\n",
      "\n",
      "classification report:\n",
      "             precision    recall  f1-score   support\n",
      "\n",
      "          0       0.47      0.09      0.16       526\n",
      "          1       0.37      0.83      0.51       514\n",
      "          2       0.33      0.15      0.20       414\n",
      "\n",
      "avg / total       0.39      0.37      0.29      1454\n",
      "\n"
     ]
    }
   ],
   "source": [
    "from sklearn import metrics\n",
    "print(\"0.label_up  \",test[test['label_up']==1].shape[0])\n",
    "print(\"1.label_none\",test[test['label_none']==1].shape[0])\n",
    "print(\"2.label_down\",test[test['label_down']==1].shape[0])\n",
    "\n",
    "predict_y=classifier.predict(testX)\n",
    "print(\"confusion matrix:\")\n",
    "print(metrics.confusion_matrix( testY2,predict_y))\n",
    "print()\n",
    "print(\"classification report:\")\n",
    "target_names = ['up','none','down']\n",
    "print(metrics.classification_report(testY2,predict_y))"
   ]
  },
  {
   "cell_type": "markdown",
   "metadata": {},
   "source": [
    "# シミュレーション"
   ]
  },
  {
   "cell_type": "code",
   "execution_count": 13,
   "metadata": {},
   "outputs": [
    {
     "name": "stdout",
     "output_type": "stream",
     "text": [
      "start: 2013-10-11 〜end: 2019-04-15\n"
     ]
    }
   ],
   "source": [
    "close_index=df.columns.get_loc('Close')\n",
    "open_index=df.columns.get_loc('Open')\n",
    "date_index=df.columns.get_loc('Date')\n",
    "\n",
    "MONEY=1000000\n",
    "LEN=len(df2_num)\n",
    "\n",
    "start=len(df2_num)-len(testX)\n",
    "end=len(df2_num)-1\n",
    "print(\"start:\",df2_num[start,0],\"〜end:\",df2_num[end,0])\n",
    "\n",
    "standard=1000000/df2_num[start,1]  \n",
    "DATE=\"\"\n",
    "result_out=\"\"\n",
    "df_sim = pd.DataFrame( columns=['Date', 'Open', 'Close', 'Up', 'money','基準価格','result','predict','正誤','利益率'] )"
   ]
  },
  {
   "cell_type": "code",
   "execution_count": null,
   "metadata": {},
   "outputs": [],
   "source": []
  },
  {
   "cell_type": "code",
   "execution_count": 14,
   "metadata": {},
   "outputs": [
    {
     "name": "stdout",
     "output_type": "stream",
     "text": [
      "\n",
      "2013-10-11:資金1,000,000(基準1,000,000)\n",
      "2013-11-01:資金1,000,000(基準972,077)\n",
      "2013-12-02:資金989,070(基準1,005,580)\n",
      "--------------------------------------------------------------------\n",
      "2014-01-01:資金989,070(基準1,005,560)\n",
      "2014-02-03:資金1,051,860(基準898,608)\n",
      "2014-03-03:資金1,059,299(基準934,520)\n",
      "2014-04-01:資金1,059,299(基準983,007)\n",
      "2014-05-01:資金1,059,299(基準979,575)\n",
      "2014-06-02:資金1,059,299(基準961,739)\n",
      "2014-07-01:資金1,059,299(基準955,005)\n",
      "2014-08-01:資金1,059,299(基準964,600)\n",
      "2014-09-01:資金1,059,299(基準981,151)\n",
      "2014-10-01:資金1,059,299(基準970,090)\n",
      "2014-11-03:資金1,059,299(基準1,033,482)\n",
      "2014-12-01:資金1,059,299(基準1,081,106)\n",
      "--------------------------------------------------------------------\n",
      "2015-01-01:資金1,109,033(基準1,041,170)\n",
      "2015-02-02:資金1,097,499(基準1,026,276)\n",
      "2015-03-02:資金1,097,499(基準1,024,178)\n",
      "2015-04-01:資金1,056,104(基準1,002,830)\n",
      "2015-05-01:資金1,056,104(基準1,000,090)\n",
      "2015-06-01:資金1,056,104(基準1,021,267)\n",
      "2015-07-01:資金1,056,104(基準1,009,414)\n",
      "2015-08-03:資金1,049,804(基準981,361)\n",
      "2015-09-01:資金1,142,848(基準890,980)\n",
      "2015-10-01:資金1,198,161(基準864,704)\n",
      "2015-11-02:資金1,184,973(基準879,328)\n",
      "2015-12-01:資金1,175,644(基準854,236)\n",
      "--------------------------------------------------------------------\n",
      "2016-01-01:資金1,214,198(基準780,596)\n",
      "2016-02-01:資金1,122,357(基準763,474)\n",
      "2016-03-01:資金1,185,592(基準734,036)\n",
      "2016-04-01:資金1,163,688(基準762,831)\n",
      "2016-05-02:資金1,148,857(基準748,047)\n",
      "2016-06-01:資金1,189,258(基準704,598)\n",
      "2016-07-01:資金1,189,963(基準706,736)\n",
      "2016-08-01:資金1,218,718(基準738,031)\n",
      "2016-09-01:資金1,220,913(基準709,998)\n",
      "2016-10-03:資金1,194,632(基準750,286)\n",
      "2016-11-01:資金1,215,207(基準768,231)\n",
      "2016-12-01:資金1,209,882(基準811,801)\n",
      "--------------------------------------------------------------------\n",
      "2017-01-02:資金1,209,882(基準858,180)\n",
      "2017-02-01:資金1,209,882(基準843,567)\n",
      "2017-03-01:資金1,209,882(基準876,357)\n",
      "2017-04-03:資金1,236,986(基準812,764)\n",
      "2017-05-01:資金1,177,297(基準836,993)\n",
      "2017-06-01:資金1,177,297(基準867,354)\n",
      "2017-07-03:資金1,177,297(基準860,419)\n",
      "2017-08-01:資金1,177,297(基準834,524)\n",
      "2017-09-01:資金1,146,647(基準855,139)\n",
      "2017-10-02:資金1,146,647(基準832,396)\n",
      "2017-11-01:資金1,155,123(基準815,033)\n",
      "2017-12-01:資金1,134,687(基準820,914)\n",
      "--------------------------------------------------------------------\n",
      "2018-01-01:資金1,150,332(基準913,874)\n",
      "2018-02-01:資金1,150,332(基準926,360)\n",
      "2018-03-01:資金1,150,332(基準899,763)\n",
      "2018-04-02:資金1,138,594(基準897,063)\n",
      "2018-05-01:資金1,138,594(基準870,656)\n",
      "2018-06-01:資金1,118,123(基準866,370)\n",
      "2018-07-01:資金1,183,819(基準809,964)\n",
      "2018-08-01:資金1,179,972(基準847,833)\n",
      "2018-09-02:資金1,207,475(基準757,773)\n",
      "2018-10-01:資金1,221,415(基準803,842)\n",
      "2018-11-01:資金1,252,050(基準784,471)\n",
      "2018-12-03:資金1,252,050(基準832,045)\n",
      "--------------------------------------------------------------------\n",
      "2019-01-02:資金1,299,360(基準754,662)\n",
      "2019-02-01:資金1,265,521(基準824,818)\n",
      "2019-03-01:資金1,265,521(基準788,987)\n",
      "2019-04-01:資金1,211,205(基準789,589)"
     ]
    }
   ],
   "source": [
    "for i in range(start,end): \n",
    "        PRE=df2_num[i,np.array([\n",
    "                               3,4,5,\n",
    "                               6,7,8,\n",
    "                               9,10,11,\n",
    "                               12,13,14,\n",
    "                               15,16,17,\n",
    "                               18,19,20,\n",
    "                               21,22,23,\n",
    "                               24,25,26,\n",
    "                               27,28,29,\n",
    "                               30,31,32,\n",
    "\n",
    "                               33,34,35,\n",
    "                               36,37,38,\n",
    "                               39,40,41,\n",
    "                               42,43,44,\n",
    "                               45,46,47,\n",
    "                               48,49,50,\n",
    "                               51,52,53,\n",
    "                               54,55,56,\n",
    "                               57,58,59,\n",
    "                               60,61,62,\n",
    "                                            63,64,65\n",
    "                               ])]\n",
    "        \n",
    "        #予測のコマンド\n",
    "        PRE2 = classifier.predict_proba(np.resize(PRE,(1,trainX.shape[1])))\n",
    "        PRE2=PRE2[0]\n",
    "        \n",
    "        profit_rate=0\n",
    "        DATE2=df2_num[i,date_index]\n",
    "        if DATE != DATE2[:7]:       #月初の定点観測\n",
    "            DATE=DATE2[:7]\n",
    "            print()\n",
    "            result_out=result_out+\"\\n\"\n",
    "            if DATE2[5:7]==\"01\":\n",
    "                print(\"--------------------------------------------------------------------\")\n",
    "                result_out=result_out+\"--------------------------------------------------------------------\"+\"\\n\"\n",
    "            STRING=df2_num[i,0]+\":資金\"+\"{:,}\".format(int(MONEY))+\"(基準\"+\"{:,}\".format(int(standard*df2_num[i,1])).strip()+\")\"\n",
    "            print(STRING.strip(),end=\"\")\n",
    "            result_out=result_out+STRING.strip()+\"\\n\"\n",
    "\n",
    "\n",
    "\n",
    "        PREDICT    =\"None\"\n",
    "        #  売り予測の場合\n",
    "        if PRE2[2]>0.5:\n",
    "            PREDICT=\"sell\"\n",
    "            #print(\"売:\",end=\" \")\n",
    "            profit_rate=df2_num[i,open_index]/df2_num[i, close_index]\n",
    "            MONEY=(profit_rate)*MONEY\n",
    "\n",
    "        #  買い予測の場合\n",
    "        if PRE2[0]>0.5:\n",
    "            PREDICT=\"buy\"\n",
    "            #print(\"買\",end=\" \")\n",
    "            profit_rate=df2_num[i,close_index]/df2_num[i,open_index]\n",
    "            MONEY=(profit_rate)*MONEY\n",
    "\n",
    "        if df2_num[i,63]==1:\n",
    "            Y_result=\"buy\"\n",
    "        elif df2_num[i,65]==1:\n",
    "            Y_result=\"sell\"\n",
    "        else:\n",
    "            Y_result=\"None\"\n",
    "            \n",
    "        seigo=\"×\"    \n",
    "        if Y_result==PREDICT:\n",
    "            seigo=\"●\"\n",
    "        \n",
    "        if profit_rate!=0:\n",
    "            profit_rate=100*(profit_rate-1)\n",
    "        \n",
    "        s1 = pd.Series([df2_num[i,0],                 #日付\n",
    "                        round(df2_num[i,open_index], 2),        #OPEN\n",
    "                        round(df2_num[i,close_index],2),        #Close\n",
    "                        round((df2_num[i,close_index]/df2_num[i,open_index]-1)*100,2),  #アップ率\n",
    "                        round(MONEY),\n",
    "                        int(standard*df2_num[i,1]),                 #基準価格\n",
    "                        Y_result,PREDICT,seigo,\n",
    "                        round(profit_rate,2)],                     #予測\n",
    "               index=df_sim.columns)\n",
    "        df_sim=df_sim.append(s1,ignore_index=True)\n",
    "        "
   ]
  },
  {
   "cell_type": "code",
   "execution_count": 78,
   "metadata": {},
   "outputs": [
    {
     "data": {
      "text/html": [
       "<div>\n",
       "<style scoped>\n",
       "    .dataframe tbody tr th:only-of-type {\n",
       "        vertical-align: middle;\n",
       "    }\n",
       "\n",
       "    .dataframe tbody tr th {\n",
       "        vertical-align: top;\n",
       "    }\n",
       "\n",
       "    .dataframe thead th {\n",
       "        text-align: right;\n",
       "    }\n",
       "</style>\n",
       "<table border=\"1\" class=\"dataframe\">\n",
       "  <thead>\n",
       "    <tr style=\"text-align: right;\">\n",
       "      <th></th>\n",
       "      <th>Date</th>\n",
       "      <th>Open</th>\n",
       "      <th>Close</th>\n",
       "      <th>Up</th>\n",
       "      <th>money</th>\n",
       "      <th>基準価格</th>\n",
       "      <th>result</th>\n",
       "      <th>predict</th>\n",
       "      <th>正誤</th>\n",
       "      <th>利益率</th>\n",
       "    </tr>\n",
       "  </thead>\n",
       "  <tbody>\n",
       "    <tr>\n",
       "      <th>58</th>\n",
       "      <td>2014-01-01</td>\n",
       "      <td>10.00</td>\n",
       "      <td>10.02</td>\n",
       "      <td>0.20</td>\n",
       "      <td>989071</td>\n",
       "      <td>1005560</td>\n",
       "      <td>None</td>\n",
       "      <td>None</td>\n",
       "      <td>●</td>\n",
       "      <td>0</td>\n",
       "    </tr>\n",
       "    <tr>\n",
       "      <th>122</th>\n",
       "      <td>2014-04-01</td>\n",
       "      <td>9.79</td>\n",
       "      <td>9.79</td>\n",
       "      <td>0.06</td>\n",
       "      <td>1059299</td>\n",
       "      <td>983007</td>\n",
       "      <td>None</td>\n",
       "      <td>None</td>\n",
       "      <td>●</td>\n",
       "      <td>0</td>\n",
       "    </tr>\n",
       "    <tr>\n",
       "      <th>187</th>\n",
       "      <td>2014-07-01</td>\n",
       "      <td>9.52</td>\n",
       "      <td>9.52</td>\n",
       "      <td>-0.06</td>\n",
       "      <td>1059299</td>\n",
       "      <td>955005</td>\n",
       "      <td>None</td>\n",
       "      <td>None</td>\n",
       "      <td>●</td>\n",
       "      <td>0</td>\n",
       "    </tr>\n",
       "    <tr>\n",
       "      <th>253</th>\n",
       "      <td>2014-10-01</td>\n",
       "      <td>9.71</td>\n",
       "      <td>9.67</td>\n",
       "      <td>-0.49</td>\n",
       "      <td>1059299</td>\n",
       "      <td>970090</td>\n",
       "      <td>None</td>\n",
       "      <td>None</td>\n",
       "      <td>●</td>\n",
       "      <td>0</td>\n",
       "    </tr>\n",
       "    <tr>\n",
       "      <th>319</th>\n",
       "      <td>2015-01-01</td>\n",
       "      <td>10.34</td>\n",
       "      <td>10.37</td>\n",
       "      <td>0.35</td>\n",
       "      <td>1109033</td>\n",
       "      <td>1041170</td>\n",
       "      <td>None</td>\n",
       "      <td>None</td>\n",
       "      <td>●</td>\n",
       "      <td>0</td>\n",
       "    </tr>\n",
       "    <tr>\n",
       "      <th>383</th>\n",
       "      <td>2015-04-01</td>\n",
       "      <td>9.90</td>\n",
       "      <td>9.99</td>\n",
       "      <td>0.96</td>\n",
       "      <td>1056104</td>\n",
       "      <td>1002830</td>\n",
       "      <td>None</td>\n",
       "      <td>None</td>\n",
       "      <td>●</td>\n",
       "      <td>0</td>\n",
       "    </tr>\n",
       "    <tr>\n",
       "      <th>448</th>\n",
       "      <td>2015-07-01</td>\n",
       "      <td>10.06</td>\n",
       "      <td>10.06</td>\n",
       "      <td>-0.05</td>\n",
       "      <td>1056104</td>\n",
       "      <td>1009414</td>\n",
       "      <td>None</td>\n",
       "      <td>None</td>\n",
       "      <td>●</td>\n",
       "      <td>0</td>\n",
       "    </tr>\n",
       "    <tr>\n",
       "      <th>514</th>\n",
       "      <td>2015-10-01</td>\n",
       "      <td>8.64</td>\n",
       "      <td>8.62</td>\n",
       "      <td>-0.28</td>\n",
       "      <td>1201569</td>\n",
       "      <td>864704</td>\n",
       "      <td>None</td>\n",
       "      <td>sell</td>\n",
       "      <td>×</td>\n",
       "      <td>0.28</td>\n",
       "    </tr>\n",
       "    <tr>\n",
       "      <th>580</th>\n",
       "      <td>2016-01-01</td>\n",
       "      <td>7.77</td>\n",
       "      <td>7.78</td>\n",
       "      <td>0.12</td>\n",
       "      <td>1212778</td>\n",
       "      <td>780596</td>\n",
       "      <td>None</td>\n",
       "      <td>sell</td>\n",
       "      <td>×</td>\n",
       "      <td>-0.12</td>\n",
       "    </tr>\n",
       "    <tr>\n",
       "      <th>645</th>\n",
       "      <td>2016-04-01</td>\n",
       "      <td>7.62</td>\n",
       "      <td>7.60</td>\n",
       "      <td>-0.24</td>\n",
       "      <td>1163688</td>\n",
       "      <td>762831</td>\n",
       "      <td>None</td>\n",
       "      <td>None</td>\n",
       "      <td>●</td>\n",
       "      <td>0</td>\n",
       "    </tr>\n",
       "    <tr>\n",
       "      <th>710</th>\n",
       "      <td>2016-07-01</td>\n",
       "      <td>7.01</td>\n",
       "      <td>7.04</td>\n",
       "      <td>0.39</td>\n",
       "      <td>1189963</td>\n",
       "      <td>706736</td>\n",
       "      <td>None</td>\n",
       "      <td>None</td>\n",
       "      <td>●</td>\n",
       "      <td>0</td>\n",
       "    </tr>\n",
       "    <tr>\n",
       "      <th>1101</th>\n",
       "      <td>2018-01-01</td>\n",
       "      <td>9.10</td>\n",
       "      <td>9.11</td>\n",
       "      <td>0.05</td>\n",
       "      <td>1150332</td>\n",
       "      <td>913874</td>\n",
       "      <td>None</td>\n",
       "      <td>None</td>\n",
       "      <td>●</td>\n",
       "      <td>0</td>\n",
       "    </tr>\n",
       "    <tr>\n",
       "      <th>1236</th>\n",
       "      <td>2018-07-01</td>\n",
       "      <td>8.06</td>\n",
       "      <td>8.07</td>\n",
       "      <td>0.06</td>\n",
       "      <td>1183086</td>\n",
       "      <td>809964</td>\n",
       "      <td>None</td>\n",
       "      <td>sell</td>\n",
       "      <td>×</td>\n",
       "      <td>-0.06</td>\n",
       "    </tr>\n",
       "    <tr>\n",
       "      <th>1314</th>\n",
       "      <td>2018-10-01</td>\n",
       "      <td>8.03</td>\n",
       "      <td>8.01</td>\n",
       "      <td>-0.22</td>\n",
       "      <td>1221415</td>\n",
       "      <td>803842</td>\n",
       "      <td>None</td>\n",
       "      <td>None</td>\n",
       "      <td>●</td>\n",
       "      <td>0</td>\n",
       "    </tr>\n",
       "    <tr>\n",
       "      <th>1443</th>\n",
       "      <td>2019-04-01</td>\n",
       "      <td>7.72</td>\n",
       "      <td>7.87</td>\n",
       "      <td>1.92</td>\n",
       "      <td>1211206</td>\n",
       "      <td>789589</td>\n",
       "      <td>None</td>\n",
       "      <td>None</td>\n",
       "      <td>●</td>\n",
       "      <td>0</td>\n",
       "    </tr>\n",
       "  </tbody>\n",
       "</table>\n",
       "</div>"
      ],
      "text/plain": [
       "            Date   Open  Close    Up    money     基準価格 result predict 正誤   利益率\n",
       "58    2014-01-01  10.00  10.02  0.20   989071  1005560   None    None  ●     0\n",
       "122   2014-04-01   9.79   9.79  0.06  1059299   983007   None    None  ●     0\n",
       "187   2014-07-01   9.52   9.52 -0.06  1059299   955005   None    None  ●     0\n",
       "253   2014-10-01   9.71   9.67 -0.49  1059299   970090   None    None  ●     0\n",
       "319   2015-01-01  10.34  10.37  0.35  1109033  1041170   None    None  ●     0\n",
       "383   2015-04-01   9.90   9.99  0.96  1056104  1002830   None    None  ●     0\n",
       "448   2015-07-01  10.06  10.06 -0.05  1056104  1009414   None    None  ●     0\n",
       "514   2015-10-01   8.64   8.62 -0.28  1201569   864704   None    sell  ×  0.28\n",
       "580   2016-01-01   7.77   7.78  0.12  1212778   780596   None    sell  × -0.12\n",
       "645   2016-04-01   7.62   7.60 -0.24  1163688   762831   None    None  ●     0\n",
       "710   2016-07-01   7.01   7.04  0.39  1189963   706736   None    None  ●     0\n",
       "1101  2018-01-01   9.10   9.11  0.05  1150332   913874   None    None  ●     0\n",
       "1236  2018-07-01   8.06   8.07  0.06  1183086   809964   None    sell  × -0.06\n",
       "1314  2018-10-01   8.03   8.01 -0.22  1221415   803842   None    None  ●     0\n",
       "1443  2019-04-01   7.72   7.87  1.92  1211206   789589   None    None  ●     0"
      ]
     },
     "execution_count": 78,
     "metadata": {},
     "output_type": "execute_result"
    }
   ],
   "source": [
    "df_sim[(\n",
    "    df_sim['Date'].str.contains('01-01') |\n",
    "    df_sim['Date'].str.contains('04-01') |\n",
    "    df_sim['Date'].str.contains('07-01') |\n",
    "    df_sim['Date'].str.contains('10-01') \n",
    ")]"
   ]
  },
  {
   "cell_type": "code",
   "execution_count": 73,
   "metadata": {},
   "outputs": [
    {
     "data": {
      "text/plain": [
       "<matplotlib.axes._subplots.AxesSubplot at 0x115762898>"
      ]
     },
     "execution_count": 73,
     "metadata": {},
     "output_type": "execute_result"
    },
    {
     "data": {
      "image/png": "[encoded data removed]",
      "text/plain": [
       "<matplotlib.figure.Figure at 0x114ce4240>"
      ]
     },
     "metadata": {},
     "output_type": "display_data"
    }
   ],
   "source": [
    "import matplotlib.pyplot as plt\n",
    "%matplotlib inline\n",
    "\n",
    "df_sim.plot(x='Date',y='money',title='Money/Date')"
   ]
  },
  {
   "cell_type": "code",
   "execution_count": 74,
   "metadata": {},
   "outputs": [
    {
     "name": "stdout",
     "output_type": "stream",
     "text": [
      "● (1177, 10)\n",
      "X (276, 10)\n",
      "2007年の利益率0.00%\n",
      "2008年の利益率0.00%\n",
      "2009年の利益率0.00%\n",
      "2010年の利益率0.00%\n",
      "2011年の利益率0.00%\n",
      "2012年の利益率0.00%\n",
      "2013年の利益率-1.10%\n",
      "2014年の利益率11.73%\n",
      "2015年の利益率9.75%\n",
      "2016年の利益率0.47%\n",
      "2017年の利益率-4.84%\n",
      "2018年の利益率12.61%\n"
     ]
    }
   ],
   "source": [
    "print(\"●\",df_sim[df_sim['正誤']==\"●\"].shape)\n",
    "print(\"X\",df_sim[df_sim['正誤']==\"×\"].shape)\n",
    "\n",
    "for i in range(7,19):\n",
    "    YEAR=str(i+2000)\n",
    "    start=YEAR+\"-01-01\"\n",
    "    end=YEAR+\"-12-31\"\n",
    "\n",
    "    tmp=df_sim.query(\"Date >= @start and Date <= @end \")\n",
    "    \n",
    "    print(\"{:}年の利益率{:.2f}%\".format(YEAR,tmp[['利益率']].sum()[0]))"
   ]
  },
  {
   "cell_type": "markdown",
   "metadata": {},
   "source": [
    "# 特徴選択"
   ]
  },
  {
   "cell_type": "code",
   "execution_count": 18,
   "metadata": {},
   "outputs": [
    {
     "ename": "ValueError",
     "evalue": "Input X must be non-negative.",
     "output_type": "error",
     "traceback": [
      "\u001b[0;31m---------------------------------------------------------------------------\u001b[0m",
      "\u001b[0;31mValueError\u001b[0m                                Traceback (most recent call last)",
      "\u001b[0;32m<ipython-input-18-c8d96b1385da>\u001b[0m in \u001b[0;36m<module>\u001b[0;34m()\u001b[0m\n\u001b[1;32m      4\u001b[0m \u001b[0mskb\u001b[0m\u001b[0;34m=\u001b[0m\u001b[0mSelectKBest\u001b[0m\u001b[0;34m(\u001b[0m\u001b[0mchi2\u001b[0m\u001b[0;34m,\u001b[0m\u001b[0mk\u001b[0m\u001b[0;34m=\u001b[0m\u001b[0;36m10\u001b[0m\u001b[0;34m)\u001b[0m\u001b[0;34m\u001b[0m\u001b[0m\n\u001b[1;32m      5\u001b[0m \u001b[0;34m\u001b[0m\u001b[0m\n\u001b[0;32m----> 6\u001b[0;31m \u001b[0mskb\u001b[0m\u001b[0;34m.\u001b[0m\u001b[0mfit\u001b[0m\u001b[0;34m(\u001b[0m\u001b[0mtrainX\u001b[0m\u001b[0;34m,\u001b[0m\u001b[0mtrainY2\u001b[0m\u001b[0;34m)\u001b[0m\u001b[0;34m\u001b[0m\u001b[0m\n\u001b[0m\u001b[1;32m      7\u001b[0m \u001b[0mtrainX_new\u001b[0m\u001b[0;34m=\u001b[0m\u001b[0mskb\u001b[0m\u001b[0;34m.\u001b[0m\u001b[0mtransform\u001b[0m\u001b[0;34m(\u001b[0m\u001b[0mtrainX\u001b[0m\u001b[0;34m)\u001b[0m\u001b[0;34m\u001b[0m\u001b[0m\n",
      "\u001b[0;32m~/.pyenv/versions/3.5.2/lib/python3.5/site-packages/sklearn/feature_selection/univariate_selection.py\u001b[0m in \u001b[0;36mfit\u001b[0;34m(self, X, y)\u001b[0m\n\u001b[1;32m    347\u001b[0m \u001b[0;34m\u001b[0m\u001b[0m\n\u001b[1;32m    348\u001b[0m         \u001b[0mself\u001b[0m\u001b[0;34m.\u001b[0m\u001b[0m_check_params\u001b[0m\u001b[0;34m(\u001b[0m\u001b[0mX\u001b[0m\u001b[0;34m,\u001b[0m \u001b[0my\u001b[0m\u001b[0;34m)\u001b[0m\u001b[0;34m\u001b[0m\u001b[0m\n\u001b[0;32m--> 349\u001b[0;31m         \u001b[0mscore_func_ret\u001b[0m \u001b[0;34m=\u001b[0m \u001b[0mself\u001b[0m\u001b[0;34m.\u001b[0m\u001b[0mscore_func\u001b[0m\u001b[0;34m(\u001b[0m\u001b[0mX\u001b[0m\u001b[0;34m,\u001b[0m \u001b[0my\u001b[0m\u001b[0;34m)\u001b[0m\u001b[0;34m\u001b[0m\u001b[0m\n\u001b[0m\u001b[1;32m    350\u001b[0m         \u001b[0;32mif\u001b[0m \u001b[0misinstance\u001b[0m\u001b[0;34m(\u001b[0m\u001b[0mscore_func_ret\u001b[0m\u001b[0;34m,\u001b[0m \u001b[0;34m(\u001b[0m\u001b[0mlist\u001b[0m\u001b[0;34m,\u001b[0m \u001b[0mtuple\u001b[0m\u001b[0;34m)\u001b[0m\u001b[0;34m)\u001b[0m\u001b[0;34m:\u001b[0m\u001b[0;34m\u001b[0m\u001b[0m\n\u001b[1;32m    351\u001b[0m             \u001b[0mself\u001b[0m\u001b[0;34m.\u001b[0m\u001b[0mscores_\u001b[0m\u001b[0;34m,\u001b[0m \u001b[0mself\u001b[0m\u001b[0;34m.\u001b[0m\u001b[0mpvalues_\u001b[0m \u001b[0;34m=\u001b[0m \u001b[0mscore_func_ret\u001b[0m\u001b[0;34m\u001b[0m\u001b[0m\n",
      "\u001b[0;32m~/.pyenv/versions/3.5.2/lib/python3.5/site-packages/sklearn/feature_selection/univariate_selection.py\u001b[0m in \u001b[0;36mchi2\u001b[0;34m(X, y)\u001b[0m\n\u001b[1;32m    213\u001b[0m     \u001b[0mX\u001b[0m \u001b[0;34m=\u001b[0m \u001b[0mcheck_array\u001b[0m\u001b[0;34m(\u001b[0m\u001b[0mX\u001b[0m\u001b[0;34m,\u001b[0m \u001b[0maccept_sparse\u001b[0m\u001b[0;34m=\u001b[0m\u001b[0;34m'csr'\u001b[0m\u001b[0;34m)\u001b[0m\u001b[0;34m\u001b[0m\u001b[0m\n\u001b[1;32m    214\u001b[0m     \u001b[0;32mif\u001b[0m \u001b[0mnp\u001b[0m\u001b[0;34m.\u001b[0m\u001b[0many\u001b[0m\u001b[0;34m(\u001b[0m\u001b[0;34m(\u001b[0m\u001b[0mX\u001b[0m\u001b[0;34m.\u001b[0m\u001b[0mdata\u001b[0m \u001b[0;32mif\u001b[0m \u001b[0missparse\u001b[0m\u001b[0;34m(\u001b[0m\u001b[0mX\u001b[0m\u001b[0;34m)\u001b[0m \u001b[0;32melse\u001b[0m \u001b[0mX\u001b[0m\u001b[0;34m)\u001b[0m \u001b[0;34m<\u001b[0m \u001b[0;36m0\u001b[0m\u001b[0;34m)\u001b[0m\u001b[0;34m:\u001b[0m\u001b[0;34m\u001b[0m\u001b[0m\n\u001b[0;32m--> 215\u001b[0;31m         \u001b[0;32mraise\u001b[0m \u001b[0mValueError\u001b[0m\u001b[0;34m(\u001b[0m\u001b[0;34m\"Input X must be non-negative.\"\u001b[0m\u001b[0;34m)\u001b[0m\u001b[0;34m\u001b[0m\u001b[0m\n\u001b[0m\u001b[1;32m    216\u001b[0m \u001b[0;34m\u001b[0m\u001b[0m\n\u001b[1;32m    217\u001b[0m     \u001b[0mY\u001b[0m \u001b[0;34m=\u001b[0m \u001b[0mLabelBinarizer\u001b[0m\u001b[0;34m(\u001b[0m\u001b[0;34m)\u001b[0m\u001b[0;34m.\u001b[0m\u001b[0mfit_transform\u001b[0m\u001b[0;34m(\u001b[0m\u001b[0my\u001b[0m\u001b[0;34m)\u001b[0m\u001b[0;34m\u001b[0m\u001b[0m\n",
      "\u001b[0;31mValueError\u001b[0m: Input X must be non-negative."
     ]
    }
   ],
   "source": [
    "from sklearn.feature_selection import SelectKBest\n",
    "from sklearn.feature_selection import chi2\n",
    "\n",
    "skb=SelectKBest(chi2,k=10)\n",
    "\n",
    "skb.fit(trainX,trainY2)\n",
    "trainX_new=skb.transform(trainX)"
   ]
  },
  {
   "cell_type": "code",
   "execution_count": null,
   "metadata": {},
   "outputs": [],
   "source": [
    "import warnings\n",
    "warnings.filterwarnings('ignore')\n",
    "\n",
    "from sklearn.model_selection import StratifiedKFold\n",
    "model = SVC(kernel='linear', random_state=None)\n",
    "k_range=np.arange(1,20)\n",
    "scores=[]\n",
    "std=[]\n",
    "\n",
    "#clf = XGBClassifier()\n",
    "classifier = SVC(kernel='linear', random_state=None)\n",
    "\n",
    "\n",
    "\n",
    "for k in k_range:\n",
    "    ss= StratifiedKFold(n_splits  =5,\n",
    "                       shuffle    =True,\n",
    "                      random_state=2)\n",
    "    score=[]\n",
    "    \n",
    "    for train_index, val_index in ss.split(trainX,trainY2):\n",
    "        \n",
    "        X_train2,X_val =trainX[train_index],trainX[val_index]\n",
    "        y_train2,y_val =trainY2[train_index],trainY2[val_index]\n",
    "        \n",
    "        skb=SelectKBest(chi2,k=k)\n",
    "        skb.fit(X_train2,y_train2)\n",
    "        \n",
    "        X_new_train2=skb.transform(X_train2)\n",
    "        X_new_val   =skb.transform(X_val)\n",
    "        \n",
    "        classifier.fit(X_new_train2,y_train2)\n",
    "        score.append(clf.score(X_new_val,y_val))\n",
    "    scores.append(np.array(score).mean())\n",
    "    std.append(np.array(score).std())"
   ]
  },
  {
   "cell_type": "code",
   "execution_count": null,
   "metadata": {},
   "outputs": [],
   "source": [
    "import matplotlib.pyplot as plt\n",
    "%matplotlib inline\n",
    "\n",
    "plt.plot(k_range,scores)\n",
    "plt.errorbar(k_range,scores,yerr=std)\n",
    "plt.ylabel(\"accuracy\")\n",
    "plt.xlim(0,20)"
   ]
  },
  {
   "cell_type": "markdown",
   "metadata": {},
   "source": [
    "# どの説明変数が聞いているのか"
   ]
  },
  {
   "cell_type": "code",
   "execution_count": null,
   "metadata": {},
   "outputs": [],
   "source": []
  }
 ],
 "metadata": {
  "kernelspec": {
   "display_name": "Python 3",
   "language": "python",
   "name": "python3"
  },
  "language_info": {
   "codemirror_mode": {
    "name": "ipython",
    "version": 3
   },
   "file_extension": ".py",
   "mimetype": "text/x-python",
   "name": "python",
   "nbconvert_exporter": "python",
   "pygments_lexer": "ipython3",
   "version": "3.5.2"
  }
 },
 "nbformat": 4,
 "nbformat_minor": 2
}
