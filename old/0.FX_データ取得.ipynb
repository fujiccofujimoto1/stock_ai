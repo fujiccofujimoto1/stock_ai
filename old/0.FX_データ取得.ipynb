{
 "cells": [
  {
   "cell_type": "markdown",
   "metadata": {},
   "source": [
    "プログラムの流れ\n",
    "1. 2000年からの履歴を取得\n",
    "1. 最新のFX情報を取得して、Dataframeに保存\n",
    "1. データフレームの結合\n",
    "1. ファイルの保存\n",
    "\n",
    "最新FXデータを取得することは可能\n",
    "https://www.central-tanshifx.com/market/finder/popn-csv-download.html\n"
   ]
  },
  {
   "cell_type": "markdown",
   "metadata": {},
   "source": [
    "# 2000年からの履歴を取得"
   ]
  },
  {
   "cell_type": "code",
   "execution_count": 1,
   "metadata": {},
   "outputs": [
    {
     "name": "stdout",
     "output_type": "stream",
     "text": [
      "配列長さ: 4734\n"
     ]
    },
    {
     "data": {
      "text/html": [
       "<div>\n",
       "<style scoped>\n",
       "    .dataframe tbody tr th:only-of-type {\n",
       "        vertical-align: middle;\n",
       "    }\n",
       "\n",
       "    .dataframe tbody tr th {\n",
       "        vertical-align: top;\n",
       "    }\n",
       "\n",
       "    .dataframe thead th {\n",
       "        text-align: right;\n",
       "    }\n",
       "</style>\n",
       "<table border=\"1\" class=\"dataframe\">\n",
       "  <thead>\n",
       "    <tr style=\"text-align: right;\">\n",
       "      <th></th>\n",
       "      <th>Date</th>\n",
       "      <th>Close</th>\n",
       "      <th>Open</th>\n",
       "    </tr>\n",
       "  </thead>\n",
       "  <tbody>\n",
       "    <tr>\n",
       "      <td>4731</td>\n",
       "      <td>2018-09-26</td>\n",
       "      <td>7.9752</td>\n",
       "      <td>7.8762</td>\n",
       "    </tr>\n",
       "    <tr>\n",
       "      <td>4732</td>\n",
       "      <td>2018-09-27</td>\n",
       "      <td>8.0266</td>\n",
       "      <td>7.9774</td>\n",
       "    </tr>\n",
       "    <tr>\n",
       "      <td>4733</td>\n",
       "      <td>2018-09-28</td>\n",
       "      <td>8.0365</td>\n",
       "      <td>8.0224</td>\n",
       "    </tr>\n",
       "  </tbody>\n",
       "</table>\n",
       "</div>"
      ],
      "text/plain": [
       "           Date   Close    Open\n",
       "4731 2018-09-26  7.9752  7.8762\n",
       "4732 2018-09-27  8.0266  7.9774\n",
       "4733 2018-09-28  8.0365  8.0224"
      ]
     },
     "execution_count": 1,
     "metadata": {},
     "output_type": "execute_result"
    }
   ],
   "source": [
    "import matplotlib.pyplot as plt\n",
    "import pandas as pd\n",
    "\n",
    "def history_csv():\n",
    "    df_history=pd.read_csv('data/ZAR.csv')\n",
    "    df_history=df_history[['日付け','終値','始値']]\n",
    "    df_history.rename(columns={'日付け':'Date','始値':'Open','終値':'Close'},inplace=True)\n",
    "\n",
    "    df_history = df_history.sort_values('Date')\n",
    "\n",
    "    print (\"配列長さ:\",len(df_history))\n",
    "    #df_history['Date'] = pd.to_datetime(df_history['Date'],format='%Y-%m-%d')\n",
    "    # 日付の変換　年月→\n",
    "    df_history['Date'] = pd.to_datetime(df_history['Date'], format = '%Y年%m月%d日')\n",
    "    df_history.reset_index(drop=True, inplace=True)\n",
    "    return df_history\n",
    "\n",
    "df_history=history_csv()\n",
    "df_history.tail(3)\n"
   ]
  },
  {
   "cell_type": "markdown",
   "metadata": {},
   "source": [
    "# 最新のFX情報を取得して、Dataframeに保存"
   ]
  },
  {
   "cell_type": "code",
   "execution_count": 2,
   "metadata": {},
   "outputs": [
    {
     "data": {
      "text/html": [
       "<div>\n",
       "<style scoped>\n",
       "    .dataframe tbody tr th:only-of-type {\n",
       "        vertical-align: middle;\n",
       "    }\n",
       "\n",
       "    .dataframe tbody tr th {\n",
       "        vertical-align: top;\n",
       "    }\n",
       "\n",
       "    .dataframe thead th {\n",
       "        text-align: right;\n",
       "    }\n",
       "</style>\n",
       "<table border=\"1\" class=\"dataframe\">\n",
       "  <thead>\n",
       "    <tr style=\"text-align: right;\">\n",
       "      <th></th>\n",
       "      <th>Date</th>\n",
       "      <th>Open</th>\n",
       "      <th>Close</th>\n",
       "    </tr>\n",
       "  </thead>\n",
       "  <tbody>\n",
       "    <tr>\n",
       "      <td>197</td>\n",
       "      <td>2020-04-29</td>\n",
       "      <td>5.714</td>\n",
       "      <td>5.875</td>\n",
       "    </tr>\n",
       "    <tr>\n",
       "      <td>198</td>\n",
       "      <td>2020-04-30</td>\n",
       "      <td>5.849</td>\n",
       "      <td>5.778</td>\n",
       "    </tr>\n",
       "    <tr>\n",
       "      <td>199</td>\n",
       "      <td>2020-05-01</td>\n",
       "      <td>5.754</td>\n",
       "      <td>5.679</td>\n",
       "    </tr>\n",
       "  </tbody>\n",
       "</table>\n",
       "</div>"
      ],
      "text/plain": [
       "          Date   Open  Close\n",
       "197 2020-04-29  5.714  5.875\n",
       "198 2020-04-30  5.849  5.778\n",
       "199 2020-05-01  5.754  5.679"
      ]
     },
     "execution_count": 2,
     "metadata": {},
     "output_type": "execute_result"
    }
   ],
   "source": [
    "def latest_csv():\n",
    "    url  = 'https://info.ctfx.jp/service/market/csv/16_ZARJPY_D.csv'\n",
    "    df_get = pd.read_csv(url,encoding='cp932',engine='python')\n",
    "    df_get = df_get.rename(columns={'日付':'Date','始値':'Open','終値':'Close'})\n",
    "    df_get = df_get.sort_values('Date')\n",
    "    df_get=df_get[[\n",
    "        'Date',\n",
    "        'Open',\n",
    "        'Close',\n",
    "        ]]\n",
    "    \n",
    "    df_get['Date'] = pd.to_datetime(df_get['Date'], format = '%Y/%m/%d')\n",
    "    df_get.reset_index(drop=True, inplace=True)\n",
    "\n",
    "    return df_get\n",
    "\n",
    "\n",
    "df_get=latest_csv()\n",
    "df_get.tail(3)"
   ]
  },
  {
   "cell_type": "markdown",
   "metadata": {},
   "source": [
    "# データフレームの結合"
   ]
  },
  {
   "cell_type": "code",
   "execution_count": 3,
   "metadata": {},
   "outputs": [
    {
     "name": "stderr",
     "output_type": "stream",
     "text": [
      "/Users/fujiccofujimoto/.pyenv/versions/Anaconda3-2019.10/lib/python3.7/site-packages/ipykernel_launcher.py:5: FutureWarning: Sorting because non-concatenation axis is not aligned. A future version\n",
      "of pandas will change to not sort by default.\n",
      "\n",
      "To accept the future behavior, pass 'sort=False'.\n",
      "\n",
      "To retain the current behavior and silence the warning, pass 'sort=True'.\n",
      "\n",
      "  \"\"\"\n"
     ]
    }
   ],
   "source": [
    "# 過去の最終日を取得。変数に入れる。\n",
    "max_date=df_history.iloc[df_history.shape[0]-1,0]\n",
    "\n",
    "# 過去の最終日と、最新の最終日のDFを結合する。\n",
    "df_all=pd.concat([df_history,df_get[df_get['Date']>max_date]],axis=0)"
   ]
  },
  {
   "cell_type": "markdown",
   "metadata": {},
   "source": [
    "# ファイルの保存 "
   ]
  },
  {
   "cell_type": "code",
   "execution_count": 4,
   "metadata": {},
   "outputs": [],
   "source": [
    "# ファイルの保存\n",
    "df_all.to_csv('data/fx_latest.csv',index=False)"
   ]
  },
  {
   "cell_type": "code",
   "execution_count": 5,
   "metadata": {},
   "outputs": [
    {
     "data": {
      "text/html": [
       "<div>\n",
       "<style scoped>\n",
       "    .dataframe tbody tr th:only-of-type {\n",
       "        vertical-align: middle;\n",
       "    }\n",
       "\n",
       "    .dataframe tbody tr th {\n",
       "        vertical-align: top;\n",
       "    }\n",
       "\n",
       "    .dataframe thead th {\n",
       "        text-align: right;\n",
       "    }\n",
       "</style>\n",
       "<table border=\"1\" class=\"dataframe\">\n",
       "  <thead>\n",
       "    <tr style=\"text-align: right;\">\n",
       "      <th></th>\n",
       "      <th>Close</th>\n",
       "      <th>Date</th>\n",
       "      <th>Open</th>\n",
       "    </tr>\n",
       "  </thead>\n",
       "  <tbody>\n",
       "    <tr>\n",
       "      <td>0</td>\n",
       "      <td>15.2400</td>\n",
       "      <td>2000-08-29</td>\n",
       "      <td>15.310</td>\n",
       "    </tr>\n",
       "    <tr>\n",
       "      <td>1</td>\n",
       "      <td>15.3103</td>\n",
       "      <td>2000-08-30</td>\n",
       "      <td>15.190</td>\n",
       "    </tr>\n",
       "    <tr>\n",
       "      <td>2</td>\n",
       "      <td>15.2866</td>\n",
       "      <td>2000-08-31</td>\n",
       "      <td>15.280</td>\n",
       "    </tr>\n",
       "    <tr>\n",
       "      <td>3</td>\n",
       "      <td>15.2562</td>\n",
       "      <td>2000-09-01</td>\n",
       "      <td>15.280</td>\n",
       "    </tr>\n",
       "    <tr>\n",
       "      <td>4</td>\n",
       "      <td>15.1945</td>\n",
       "      <td>2000-09-04</td>\n",
       "      <td>15.220</td>\n",
       "    </tr>\n",
       "    <tr>\n",
       "      <td>...</td>\n",
       "      <td>...</td>\n",
       "      <td>...</td>\n",
       "      <td>...</td>\n",
       "    </tr>\n",
       "    <tr>\n",
       "      <td>195</td>\n",
       "      <td>5.7030</td>\n",
       "      <td>2020-04-27</td>\n",
       "      <td>5.623</td>\n",
       "    </tr>\n",
       "    <tr>\n",
       "      <td>196</td>\n",
       "      <td>5.7150</td>\n",
       "      <td>2020-04-28</td>\n",
       "      <td>5.680</td>\n",
       "    </tr>\n",
       "    <tr>\n",
       "      <td>197</td>\n",
       "      <td>5.8750</td>\n",
       "      <td>2020-04-29</td>\n",
       "      <td>5.714</td>\n",
       "    </tr>\n",
       "    <tr>\n",
       "      <td>198</td>\n",
       "      <td>5.7780</td>\n",
       "      <td>2020-04-30</td>\n",
       "      <td>5.849</td>\n",
       "    </tr>\n",
       "    <tr>\n",
       "      <td>199</td>\n",
       "      <td>5.6790</td>\n",
       "      <td>2020-05-01</td>\n",
       "      <td>5.754</td>\n",
       "    </tr>\n",
       "  </tbody>\n",
       "</table>\n",
       "<p>4934 rows × 3 columns</p>\n",
       "</div>"
      ],
      "text/plain": [
       "       Close       Date    Open\n",
       "0    15.2400 2000-08-29  15.310\n",
       "1    15.3103 2000-08-30  15.190\n",
       "2    15.2866 2000-08-31  15.280\n",
       "3    15.2562 2000-09-01  15.280\n",
       "4    15.1945 2000-09-04  15.220\n",
       "..       ...        ...     ...\n",
       "195   5.7030 2020-04-27   5.623\n",
       "196   5.7150 2020-04-28   5.680\n",
       "197   5.8750 2020-04-29   5.714\n",
       "198   5.7780 2020-04-30   5.849\n",
       "199   5.6790 2020-05-01   5.754\n",
       "\n",
       "[4934 rows x 3 columns]"
      ]
     },
     "execution_count": 5,
     "metadata": {},
     "output_type": "execute_result"
    }
   ],
   "source": [
    "df_all"
   ]
  },
  {
   "cell_type": "code",
   "execution_count": null,
   "metadata": {},
   "outputs": [],
   "source": []
  }
 ],
 "metadata": {
  "kernelspec": {
   "display_name": "Python 3",
   "language": "python",
   "name": "python3"
  },
  "language_info": {
   "codemirror_mode": {
    "name": "ipython",
    "version": 3
   },
   "file_extension": ".py",
   "mimetype": "text/x-python",
   "name": "python",
   "nbconvert_exporter": "python",
   "pygments_lexer": "ipython3",
   "version": "3.7.4"
  }
 },
 "nbformat": 4,
 "nbformat_minor": 4
}
