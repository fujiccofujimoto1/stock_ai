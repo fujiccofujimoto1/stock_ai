{
 "cells": [
  {
   "cell_type": "markdown",
   "metadata": {},
   "source": [
    "# 時間に関する考え\n",
    "\n",
    "日本が土曜日\n",
    "\n",
    "5月26日（火）JST 9:30 初値が決定\n",
    "５月25日のUSAのアップ率を記録して、5月26日の\n",
    "\n",
    "\n"
   ]
  },
  {
   "cell_type": "markdown",
   "metadata": {},
   "source": [
    "# TODO\n",
    "1. ちょっとした変更/TODO\n",
    " 1. 新しいサイトからとったデータでのAIの調整\n",
    "1. 全体\n",
    " 1. スプレッド料金の計算\n",
    " 1. openとcloseの時間を調べる  \n",
    " 1. 変数表の作成　\n",
    " 1. 設計の作成:Googleドキュメント　\n",
    "1. AI\n",
    " 1. chie2 による特徴量を選択å\n",
    " 1. pipline にて比較\n",
    " 1. １０月分の前処理と、OANDA API v20\n",
    "1. UI\n",
    " 1. UIの検討\n",
    " \n",
    "\n",
    "API化\n",
    "http://www.algo-fx-blog.com/oanda-api-v20-open-account/"
   ]
  },
  {
   "cell_type": "markdown",
   "metadata": {},
   "source": [
    "# 済みのTODO\n",
    "1. 利益のプロット\n",
    "1. 済)Sckit-learn のmodelで比較\n",
    "1. 済)Confution matrix\n",
    "1. 過去CSVの取得場所URLの確認\n",
    "1. FX手数料の確認（南アフリカランド/円\t1.0銭）\n",
    "　　https://www.gaitame.com/products/nextneo/spread.html\n",
    "  \n",
    "\n",
    "\n"
   ]
  },
  {
   "cell_type": "code",
   "execution_count": null,
   "metadata": {},
   "outputs": [],
   "source": []
  }
 ],
 "metadata": {
  "kernelspec": {
   "display_name": "Python 3",
   "language": "python",
   "name": "python3"
  },
  "language_info": {
   "codemirror_mode": {
    "name": "ipython",
    "version": 3
   },
   "file_extension": ".py",
   "mimetype": "text/x-python",
   "name": "python",
   "nbconvert_exporter": "python",
   "pygments_lexer": "ipython3",
   "version": "3.7.4"
  }
 },
 "nbformat": 4,
 "nbformat_minor": 4
}
